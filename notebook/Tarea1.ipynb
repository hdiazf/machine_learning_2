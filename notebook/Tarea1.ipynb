{
 "cells": [
  {
   "cell_type": "markdown",
   "id": "a68c5a37c112af44",
   "metadata": {},
   "source": [
    "Autores:\n",
    "- Hernán Francisco Díaz Farías\n",
    "- María Angélica Parra Mendoza\n",
    "- Loreto Constanza Zavala Gaete"
   ]
  },
  {
   "cell_type": "markdown",
   "id": "c9f84ed3b2c8ad93",
   "metadata": {},
   "source": [
    "# Tarea 1\n",
    "### Realice una exploración de datos para ver que datos existen, cuales de ellos entregan información relevante para el problema y cuales no, eliminación (si corresponde) de datos nulos y duplicados, entre otros.\n",
    "\n",
    "#### Librerías a utilizar"
   ]
  },
  {
   "cell_type": "code",
   "execution_count": 2,
   "id": "de9b4b7ee2664230",
   "metadata": {
    "ExecuteTime": {
     "end_time": "2024-11-26T23:07:23.389582Z",
     "start_time": "2024-11-26T23:07:23.377047Z"
    }
   },
   "outputs": [],
   "source": [
    "import pandas as pd\n",
    "import numpy as np\n",
    "from sklearn.cluster import KMeans\n",
    "from sklearn import preprocessing\n",
    "import matplotlib.pyplot as plt\n",
    "from kmodes.kmodes import KModes\n",
    "from kmodes.kprototypes import KPrototypes\n",
    "from fcmeans import FCM"
   ]
  },
  {
   "cell_type": "markdown",
   "id": "884fc16032fca45a",
   "metadata": {},
   "source": [
    "#### Cargar el archivo csv"
   ]
  },
  {
   "cell_type": "code",
   "execution_count": 2,
   "id": "9e22f094af59b480",
   "metadata": {
    "ExecuteTime": {
     "end_time": "2024-11-26T23:07:24.462182Z",
     "start_time": "2024-11-26T23:07:23.394700Z"
    }
   },
   "outputs": [],
   "source": [
    "# Cargar el archivo csv\n",
    "df = (\n",
    "    pd.read_csv(\n",
    "        '../data/apartments_for_rent_classified_100K.csv',\n",
    "        encoding='ISO-8859-1',\n",
    "        sep=';',\n",
    "        low_memory=False # Para evitar warnings de dtype\n",
    "        )\n",
    "    )"
   ]
  },
  {
   "cell_type": "markdown",
   "id": "b027c12a4faf1020",
   "metadata": {},
   "source": [
    "#### Visualización de los datos"
   ]
  },
  {
   "cell_type": "code",
   "execution_count": 1,
   "id": "255178aa83bfbaab",
   "metadata": {
    "ExecuteTime": {
     "end_time": "2024-11-26T23:07:24.492869Z",
     "start_time": "2024-11-26T23:07:24.478864Z"
    }
   },
   "outputs": [
    {
     "ename": "NameError",
     "evalue": "name 'df' is not defined",
     "output_type": "error",
     "traceback": [
      "\u001b[1;31m---------------------------------------------------------------------------\u001b[0m",
      "\u001b[1;31mNameError\u001b[0m                                 Traceback (most recent call last)",
      "Cell \u001b[1;32mIn[1], line 1\u001b[0m\n\u001b[1;32m----> 1\u001b[0m \u001b[43mdf\u001b[49m\u001b[38;5;241m.\u001b[39mhead()\n",
      "\u001b[1;31mNameError\u001b[0m: name 'df' is not defined"
     ]
    }
   ],
   "source": [
    "df.head()"
   ]
  },
  {
   "cell_type": "code",
   "execution_count": 4,
   "id": "27b242aac89e4f2",
   "metadata": {
    "ExecuteTime": {
     "end_time": "2024-11-26T23:07:24.555449Z",
     "start_time": "2024-11-26T23:07:24.540429Z"
    }
   },
   "outputs": [
    {
     "data": {
      "text/plain": [
       "id                object\n",
       "category          object\n",
       "title             object\n",
       "body              object\n",
       "amenities         object\n",
       "bathrooms         object\n",
       "bedrooms          object\n",
       "currency          object\n",
       "fee               object\n",
       "has_photo         object\n",
       "pets_allowed      object\n",
       "price            float64\n",
       "price_display     object\n",
       "price_type        object\n",
       "square_feet       object\n",
       "address           object\n",
       "cityname          object\n",
       "state             object\n",
       "latitude         float64\n",
       "longitude         object\n",
       "source            object\n",
       "time             float64\n",
       "dtype: object"
      ]
     },
     "execution_count": 4,
     "metadata": {},
     "output_type": "execute_result"
    }
   ],
   "source": [
    "df.dtypes"
   ]
  },
  {
   "cell_type": "markdown",
   "id": "dc6d1252efae376d",
   "metadata": {},
   "source": [
    "Los campos tipo object representan campos que pueden contener registros nulos o errores de escritura. Se revisará el campo **id** para empezar.\n",
    "### ID"
   ]
  },
  {
   "cell_type": "code",
   "execution_count": 5,
   "id": "2c68a4e74146c50d",
   "metadata": {
    "ExecuteTime": {
     "end_time": "2024-11-26T23:07:24.649115Z",
     "start_time": "2024-11-26T23:07:24.635582Z"
    }
   },
   "outputs": [
    {
     "data": {
      "text/plain": [
       "0"
      ]
     },
     "execution_count": 5,
     "metadata": {},
     "output_type": "execute_result"
    }
   ],
   "source": [
    "df['id'].isnull().sum()"
   ]
  },
  {
   "cell_type": "markdown",
   "id": "8d6a2a2a1361038c",
   "metadata": {},
   "source": [
    "Creamos una función para revisar si el campo **id** puede ser numérico o no."
   ]
  },
  {
   "cell_type": "code",
   "execution_count": 6,
   "id": "c076fb956a8815a",
   "metadata": {
    "ExecuteTime": {
     "end_time": "2024-11-26T23:07:24.897611Z",
     "start_time": "2024-11-26T23:07:24.868049Z"
    }
   },
   "outputs": [
    {
     "name": "stdout",
     "output_type": "stream",
     "text": [
      "Numericos: 99823, No numéricos: 3\n"
     ]
    }
   ],
   "source": [
    "def check_id(id):\n",
    "    try:\n",
    "        int(id)\n",
    "        return True\n",
    "    except:\n",
    "        return False\n",
    "\n",
    "numericos = df['id'].apply(check_id).sum()\n",
    "no_numericos = df['id'].shape[0] - numericos\n",
    "print(f'Numericos: {numericos}, No numéricos: {no_numericos}')\n"
   ]
  },
  {
   "cell_type": "markdown",
   "id": "c734bd63417e88b8",
   "metadata": {},
   "source": [
    "Se observa que hay 3 registros que no son numéricos. Se revisarán estos registros."
   ]
  },
  {
   "cell_type": "code",
   "execution_count": 7,
   "id": "cc416c565413bc21",
   "metadata": {
    "ExecuteTime": {
     "end_time": "2024-11-26T23:07:24.975757Z",
     "start_time": "2024-11-26T23:07:24.940188Z"
    }
   },
   "outputs": [
    {
     "data": {
      "text/html": [
       "<div>\n",
       "<style scoped>\n",
       "    .dataframe tbody tr th:only-of-type {\n",
       "        vertical-align: middle;\n",
       "    }\n",
       "\n",
       "    .dataframe tbody tr th {\n",
       "        vertical-align: top;\n",
       "    }\n",
       "\n",
       "    .dataframe thead th {\n",
       "        text-align: right;\n",
       "    }\n",
       "</style>\n",
       "<table border=\"1\" class=\"dataframe\">\n",
       "  <thead>\n",
       "    <tr style=\"text-align: right;\">\n",
       "      <th></th>\n",
       "      <th>id</th>\n",
       "      <th>category</th>\n",
       "      <th>title</th>\n",
       "      <th>body</th>\n",
       "      <th>amenities</th>\n",
       "      <th>bathrooms</th>\n",
       "      <th>bedrooms</th>\n",
       "      <th>currency</th>\n",
       "      <th>fee</th>\n",
       "      <th>has_photo</th>\n",
       "      <th>...</th>\n",
       "      <th>price_display</th>\n",
       "      <th>price_type</th>\n",
       "      <th>square_feet</th>\n",
       "      <th>address</th>\n",
       "      <th>cityname</th>\n",
       "      <th>state</th>\n",
       "      <th>latitude</th>\n",
       "      <th>longitude</th>\n",
       "      <th>source</th>\n",
       "      <th>time</th>\n",
       "    </tr>\n",
       "  </thead>\n",
       "  <tbody>\n",
       "    <tr>\n",
       "      <th>8808</th>\n",
       "      <td>ange of on-site community amenities. Coming so...</td>\n",
       "      <td>Gym</td>\n",
       "      <td>1</td>\n",
       "      <td>1</td>\n",
       "      <td>USD</td>\n",
       "      <td>No</td>\n",
       "      <td>Thumbnail</td>\n",
       "      <td>Cats,Dogs</td>\n",
       "      <td>1380</td>\n",
       "      <td>$1,38</td>\n",
       "      <td>...</td>\n",
       "      <td>NaN</td>\n",
       "      <td>Lawrence</td>\n",
       "      <td>NJ</td>\n",
       "      <td>402.659</td>\n",
       "      <td>-746.959</td>\n",
       "      <td>RentDigs.com</td>\n",
       "      <td>1.568782e+09</td>\n",
       "      <td>NaN</td>\n",
       "      <td>NaN</td>\n",
       "      <td>NaN</td>\n",
       "    </tr>\n",
       "    <tr>\n",
       "      <th>33780</th>\n",
       "      <td>xpansive rooftop entertainment deck and many p...</td>\n",
       "      <td>Parking,Patio/Deck</td>\n",
       "      <td>1</td>\n",
       "      <td>1</td>\n",
       "      <td>USD</td>\n",
       "      <td>No</td>\n",
       "      <td>Thumbnail</td>\n",
       "      <td>NaN</td>\n",
       "      <td>2150</td>\n",
       "      <td>$2,15</td>\n",
       "      <td>...</td>\n",
       "      <td>NaN</td>\n",
       "      <td>Los Angeles</td>\n",
       "      <td>CA</td>\n",
       "      <td>340.432</td>\n",
       "      <td>-1.182.509</td>\n",
       "      <td>RentDigs.com</td>\n",
       "      <td>1.568745e+09</td>\n",
       "      <td>NaN</td>\n",
       "      <td>NaN</td>\n",
       "      <td>NaN</td>\n",
       "    </tr>\n",
       "    <tr>\n",
       "      <th>75947</th>\n",
       "      <td>ellite,Clubhouse,Dishwasher,Garbage Disposal,G...</td>\n",
       "      <td>2</td>\n",
       "      <td>2</td>\n",
       "      <td>USD</td>\n",
       "      <td>No</td>\n",
       "      <td>Thumbnail</td>\n",
       "      <td>Cats,Dogs</td>\n",
       "      <td>1019</td>\n",
       "      <td>$1,02</td>\n",
       "      <td>Monthly</td>\n",
       "      <td>...</td>\n",
       "      <td>Henrico</td>\n",
       "      <td>VA</td>\n",
       "      <td>376.249</td>\n",
       "      <td>-774.948</td>\n",
       "      <td>RentDigs.com</td>\n",
       "      <td>1550831790</td>\n",
       "      <td>NaN</td>\n",
       "      <td>NaN</td>\n",
       "      <td>NaN</td>\n",
       "      <td>NaN</td>\n",
       "    </tr>\n",
       "  </tbody>\n",
       "</table>\n",
       "<p>3 rows × 22 columns</p>\n",
       "</div>"
      ],
      "text/plain": [
       "                                                      id            category  \\\n",
       "8808   ange of on-site community amenities. Coming so...                 Gym   \n",
       "33780  xpansive rooftop entertainment deck and many p...  Parking,Patio/Deck   \n",
       "75947  ellite,Clubhouse,Dishwasher,Garbage Disposal,G...                   2   \n",
       "\n",
       "      title body amenities  bathrooms   bedrooms   currency    fee has_photo  \\\n",
       "8808      1    1       USD         No  Thumbnail  Cats,Dogs   1380     $1,38   \n",
       "33780     1    1       USD         No  Thumbnail        NaN   2150     $2,15   \n",
       "75947     2  USD        No  Thumbnail  Cats,Dogs       1019  $1,02   Monthly   \n",
       "\n",
       "       ... price_display   price_type square_feet   address      cityname  \\\n",
       "8808   ...           NaN     Lawrence          NJ   402.659      -746.959   \n",
       "33780  ...           NaN  Los Angeles          CA   340.432    -1.182.509   \n",
       "75947  ...       Henrico           VA     376.249  -774.948  RentDigs.com   \n",
       "\n",
       "              state      latitude longitude  source time  \n",
       "8808   RentDigs.com  1.568782e+09       NaN     NaN  NaN  \n",
       "33780  RentDigs.com  1.568745e+09       NaN     NaN  NaN  \n",
       "75947    1550831790           NaN       NaN     NaN  NaN  \n",
       "\n",
       "[3 rows x 22 columns]"
      ]
     },
     "execution_count": 7,
     "metadata": {},
     "output_type": "execute_result"
    }
   ],
   "source": [
    "df[~df['id'].apply(check_id)]"
   ]
  },
  {
   "cell_type": "markdown",
   "id": "44134d659d5b3b15",
   "metadata": {},
   "source": [
    "Se procederá a eliminar estos registros, ya que no aportan información relevante."
   ]
  },
  {
   "cell_type": "code",
   "execution_count": 8,
   "id": "c6b745e359f40ad9",
   "metadata": {
    "ExecuteTime": {
     "end_time": "2024-11-26T23:07:25.100453Z",
     "start_time": "2024-11-26T23:07:25.054373Z"
    }
   },
   "outputs": [],
   "source": [
    "df = df[df['id'].apply(check_id)]"
   ]
  },
  {
   "cell_type": "markdown",
   "id": "b5d3d51831d98de0",
   "metadata": {},
   "source": [
    "Se convierte el campo **id** a tipo numérico."
   ]
  },
  {
   "cell_type": "code",
   "execution_count": 9,
   "id": "2df64775851e160c",
   "metadata": {
    "ExecuteTime": {
     "end_time": "2024-11-26T23:07:25.162537Z",
     "start_time": "2024-11-26T23:07:25.148530Z"
    }
   },
   "outputs": [
    {
     "ename": "OverflowError",
     "evalue": "Python int too large to convert to C long",
     "output_type": "error",
     "traceback": [
      "\u001b[1;31m---------------------------------------------------------------------------\u001b[0m",
      "\u001b[1;31mOverflowError\u001b[0m                             Traceback (most recent call last)",
      "Cell \u001b[1;32mIn[9], line 1\u001b[0m\n\u001b[1;32m----> 1\u001b[0m df[\u001b[38;5;124m'\u001b[39m\u001b[38;5;124mid\u001b[39m\u001b[38;5;124m'\u001b[39m] \u001b[38;5;241m=\u001b[39m \u001b[43mdf\u001b[49m\u001b[43m[\u001b[49m\u001b[38;5;124;43m'\u001b[39;49m\u001b[38;5;124;43mid\u001b[39;49m\u001b[38;5;124;43m'\u001b[39;49m\u001b[43m]\u001b[49m\u001b[38;5;241;43m.\u001b[39;49m\u001b[43mastype\u001b[49m\u001b[43m(\u001b[49m\u001b[38;5;28;43mint\u001b[39;49m\u001b[43m)\u001b[49m\n",
      "File \u001b[1;32mc:\\Users\\MariaAngélicaParraMe\\Downloads\\UAI\\Machine_Learning_II\\machine_learning_2\\.venv\\lib\\site-packages\\pandas\\core\\generic.py:6643\u001b[0m, in \u001b[0;36mNDFrame.astype\u001b[1;34m(self, dtype, copy, errors)\u001b[0m\n\u001b[0;32m   6637\u001b[0m     results \u001b[38;5;241m=\u001b[39m [\n\u001b[0;32m   6638\u001b[0m         ser\u001b[38;5;241m.\u001b[39mastype(dtype, copy\u001b[38;5;241m=\u001b[39mcopy, errors\u001b[38;5;241m=\u001b[39merrors) \u001b[38;5;28;01mfor\u001b[39;00m _, ser \u001b[38;5;129;01min\u001b[39;00m \u001b[38;5;28mself\u001b[39m\u001b[38;5;241m.\u001b[39mitems()\n\u001b[0;32m   6639\u001b[0m     ]\n\u001b[0;32m   6641\u001b[0m \u001b[38;5;28;01melse\u001b[39;00m:\n\u001b[0;32m   6642\u001b[0m     \u001b[38;5;66;03m# else, only a single dtype is given\u001b[39;00m\n\u001b[1;32m-> 6643\u001b[0m     new_data \u001b[38;5;241m=\u001b[39m \u001b[38;5;28;43mself\u001b[39;49m\u001b[38;5;241;43m.\u001b[39;49m\u001b[43m_mgr\u001b[49m\u001b[38;5;241;43m.\u001b[39;49m\u001b[43mastype\u001b[49m\u001b[43m(\u001b[49m\u001b[43mdtype\u001b[49m\u001b[38;5;241;43m=\u001b[39;49m\u001b[43mdtype\u001b[49m\u001b[43m,\u001b[49m\u001b[43m \u001b[49m\u001b[43mcopy\u001b[49m\u001b[38;5;241;43m=\u001b[39;49m\u001b[43mcopy\u001b[49m\u001b[43m,\u001b[49m\u001b[43m \u001b[49m\u001b[43merrors\u001b[49m\u001b[38;5;241;43m=\u001b[39;49m\u001b[43merrors\u001b[49m\u001b[43m)\u001b[49m\n\u001b[0;32m   6644\u001b[0m     res \u001b[38;5;241m=\u001b[39m \u001b[38;5;28mself\u001b[39m\u001b[38;5;241m.\u001b[39m_constructor_from_mgr(new_data, axes\u001b[38;5;241m=\u001b[39mnew_data\u001b[38;5;241m.\u001b[39maxes)\n\u001b[0;32m   6645\u001b[0m     \u001b[38;5;28;01mreturn\u001b[39;00m res\u001b[38;5;241m.\u001b[39m__finalize__(\u001b[38;5;28mself\u001b[39m, method\u001b[38;5;241m=\u001b[39m\u001b[38;5;124m\"\u001b[39m\u001b[38;5;124mastype\u001b[39m\u001b[38;5;124m\"\u001b[39m)\n",
      "File \u001b[1;32mc:\\Users\\MariaAngélicaParraMe\\Downloads\\UAI\\Machine_Learning_II\\machine_learning_2\\.venv\\lib\\site-packages\\pandas\\core\\internals\\managers.py:430\u001b[0m, in \u001b[0;36mBaseBlockManager.astype\u001b[1;34m(self, dtype, copy, errors)\u001b[0m\n\u001b[0;32m    427\u001b[0m \u001b[38;5;28;01melif\u001b[39;00m using_copy_on_write():\n\u001b[0;32m    428\u001b[0m     copy \u001b[38;5;241m=\u001b[39m \u001b[38;5;28;01mFalse\u001b[39;00m\n\u001b[1;32m--> 430\u001b[0m \u001b[38;5;28;01mreturn\u001b[39;00m \u001b[38;5;28;43mself\u001b[39;49m\u001b[38;5;241;43m.\u001b[39;49m\u001b[43mapply\u001b[49m\u001b[43m(\u001b[49m\n\u001b[0;32m    431\u001b[0m \u001b[43m    \u001b[49m\u001b[38;5;124;43m\"\u001b[39;49m\u001b[38;5;124;43mastype\u001b[39;49m\u001b[38;5;124;43m\"\u001b[39;49m\u001b[43m,\u001b[49m\n\u001b[0;32m    432\u001b[0m \u001b[43m    \u001b[49m\u001b[43mdtype\u001b[49m\u001b[38;5;241;43m=\u001b[39;49m\u001b[43mdtype\u001b[49m\u001b[43m,\u001b[49m\n\u001b[0;32m    433\u001b[0m \u001b[43m    \u001b[49m\u001b[43mcopy\u001b[49m\u001b[38;5;241;43m=\u001b[39;49m\u001b[43mcopy\u001b[49m\u001b[43m,\u001b[49m\n\u001b[0;32m    434\u001b[0m \u001b[43m    \u001b[49m\u001b[43merrors\u001b[49m\u001b[38;5;241;43m=\u001b[39;49m\u001b[43merrors\u001b[49m\u001b[43m,\u001b[49m\n\u001b[0;32m    435\u001b[0m \u001b[43m    \u001b[49m\u001b[43musing_cow\u001b[49m\u001b[38;5;241;43m=\u001b[39;49m\u001b[43musing_copy_on_write\u001b[49m\u001b[43m(\u001b[49m\u001b[43m)\u001b[49m\u001b[43m,\u001b[49m\n\u001b[0;32m    436\u001b[0m \u001b[43m\u001b[49m\u001b[43m)\u001b[49m\n",
      "File \u001b[1;32mc:\\Users\\MariaAngélicaParraMe\\Downloads\\UAI\\Machine_Learning_II\\machine_learning_2\\.venv\\lib\\site-packages\\pandas\\core\\internals\\managers.py:363\u001b[0m, in \u001b[0;36mBaseBlockManager.apply\u001b[1;34m(self, f, align_keys, **kwargs)\u001b[0m\n\u001b[0;32m    361\u001b[0m         applied \u001b[38;5;241m=\u001b[39m b\u001b[38;5;241m.\u001b[39mapply(f, \u001b[38;5;241m*\u001b[39m\u001b[38;5;241m*\u001b[39mkwargs)\n\u001b[0;32m    362\u001b[0m     \u001b[38;5;28;01melse\u001b[39;00m:\n\u001b[1;32m--> 363\u001b[0m         applied \u001b[38;5;241m=\u001b[39m \u001b[38;5;28mgetattr\u001b[39m(b, f)(\u001b[38;5;241m*\u001b[39m\u001b[38;5;241m*\u001b[39mkwargs)\n\u001b[0;32m    364\u001b[0m     result_blocks \u001b[38;5;241m=\u001b[39m extend_blocks(applied, result_blocks)\n\u001b[0;32m    366\u001b[0m out \u001b[38;5;241m=\u001b[39m \u001b[38;5;28mtype\u001b[39m(\u001b[38;5;28mself\u001b[39m)\u001b[38;5;241m.\u001b[39mfrom_blocks(result_blocks, \u001b[38;5;28mself\u001b[39m\u001b[38;5;241m.\u001b[39maxes)\n",
      "File \u001b[1;32mc:\\Users\\MariaAngélicaParraMe\\Downloads\\UAI\\Machine_Learning_II\\machine_learning_2\\.venv\\lib\\site-packages\\pandas\\core\\internals\\blocks.py:758\u001b[0m, in \u001b[0;36mBlock.astype\u001b[1;34m(self, dtype, copy, errors, using_cow, squeeze)\u001b[0m\n\u001b[0;32m    755\u001b[0m         \u001b[38;5;28;01mraise\u001b[39;00m \u001b[38;5;167;01mValueError\u001b[39;00m(\u001b[38;5;124m\"\u001b[39m\u001b[38;5;124mCan not squeeze with more than one column.\u001b[39m\u001b[38;5;124m\"\u001b[39m)\n\u001b[0;32m    756\u001b[0m     values \u001b[38;5;241m=\u001b[39m values[\u001b[38;5;241m0\u001b[39m, :]  \u001b[38;5;66;03m# type: ignore[call-overload]\u001b[39;00m\n\u001b[1;32m--> 758\u001b[0m new_values \u001b[38;5;241m=\u001b[39m \u001b[43mastype_array_safe\u001b[49m\u001b[43m(\u001b[49m\u001b[43mvalues\u001b[49m\u001b[43m,\u001b[49m\u001b[43m \u001b[49m\u001b[43mdtype\u001b[49m\u001b[43m,\u001b[49m\u001b[43m \u001b[49m\u001b[43mcopy\u001b[49m\u001b[38;5;241;43m=\u001b[39;49m\u001b[43mcopy\u001b[49m\u001b[43m,\u001b[49m\u001b[43m \u001b[49m\u001b[43merrors\u001b[49m\u001b[38;5;241;43m=\u001b[39;49m\u001b[43merrors\u001b[49m\u001b[43m)\u001b[49m\n\u001b[0;32m    760\u001b[0m new_values \u001b[38;5;241m=\u001b[39m maybe_coerce_values(new_values)\n\u001b[0;32m    762\u001b[0m refs \u001b[38;5;241m=\u001b[39m \u001b[38;5;28;01mNone\u001b[39;00m\n",
      "File \u001b[1;32mc:\\Users\\MariaAngélicaParraMe\\Downloads\\UAI\\Machine_Learning_II\\machine_learning_2\\.venv\\lib\\site-packages\\pandas\\core\\dtypes\\astype.py:237\u001b[0m, in \u001b[0;36mastype_array_safe\u001b[1;34m(values, dtype, copy, errors)\u001b[0m\n\u001b[0;32m    234\u001b[0m     dtype \u001b[38;5;241m=\u001b[39m dtype\u001b[38;5;241m.\u001b[39mnumpy_dtype\n\u001b[0;32m    236\u001b[0m \u001b[38;5;28;01mtry\u001b[39;00m:\n\u001b[1;32m--> 237\u001b[0m     new_values \u001b[38;5;241m=\u001b[39m \u001b[43mastype_array\u001b[49m\u001b[43m(\u001b[49m\u001b[43mvalues\u001b[49m\u001b[43m,\u001b[49m\u001b[43m \u001b[49m\u001b[43mdtype\u001b[49m\u001b[43m,\u001b[49m\u001b[43m \u001b[49m\u001b[43mcopy\u001b[49m\u001b[38;5;241;43m=\u001b[39;49m\u001b[43mcopy\u001b[49m\u001b[43m)\u001b[49m\n\u001b[0;32m    238\u001b[0m \u001b[38;5;28;01mexcept\u001b[39;00m (\u001b[38;5;167;01mValueError\u001b[39;00m, \u001b[38;5;167;01mTypeError\u001b[39;00m):\n\u001b[0;32m    239\u001b[0m     \u001b[38;5;66;03m# e.g. _astype_nansafe can fail on object-dtype of strings\u001b[39;00m\n\u001b[0;32m    240\u001b[0m     \u001b[38;5;66;03m#  trying to convert to float\u001b[39;00m\n\u001b[0;32m    241\u001b[0m     \u001b[38;5;28;01mif\u001b[39;00m errors \u001b[38;5;241m==\u001b[39m \u001b[38;5;124m\"\u001b[39m\u001b[38;5;124mignore\u001b[39m\u001b[38;5;124m\"\u001b[39m:\n",
      "File \u001b[1;32mc:\\Users\\MariaAngélicaParraMe\\Downloads\\UAI\\Machine_Learning_II\\machine_learning_2\\.venv\\lib\\site-packages\\pandas\\core\\dtypes\\astype.py:182\u001b[0m, in \u001b[0;36mastype_array\u001b[1;34m(values, dtype, copy)\u001b[0m\n\u001b[0;32m    179\u001b[0m     values \u001b[38;5;241m=\u001b[39m values\u001b[38;5;241m.\u001b[39mastype(dtype, copy\u001b[38;5;241m=\u001b[39mcopy)\n\u001b[0;32m    181\u001b[0m \u001b[38;5;28;01melse\u001b[39;00m:\n\u001b[1;32m--> 182\u001b[0m     values \u001b[38;5;241m=\u001b[39m \u001b[43m_astype_nansafe\u001b[49m\u001b[43m(\u001b[49m\u001b[43mvalues\u001b[49m\u001b[43m,\u001b[49m\u001b[43m \u001b[49m\u001b[43mdtype\u001b[49m\u001b[43m,\u001b[49m\u001b[43m \u001b[49m\u001b[43mcopy\u001b[49m\u001b[38;5;241;43m=\u001b[39;49m\u001b[43mcopy\u001b[49m\u001b[43m)\u001b[49m\n\u001b[0;32m    184\u001b[0m \u001b[38;5;66;03m# in pandas we don't store numpy str dtypes, so convert to object\u001b[39;00m\n\u001b[0;32m    185\u001b[0m \u001b[38;5;28;01mif\u001b[39;00m \u001b[38;5;28misinstance\u001b[39m(dtype, np\u001b[38;5;241m.\u001b[39mdtype) \u001b[38;5;129;01mand\u001b[39;00m \u001b[38;5;28missubclass\u001b[39m(values\u001b[38;5;241m.\u001b[39mdtype\u001b[38;5;241m.\u001b[39mtype, \u001b[38;5;28mstr\u001b[39m):\n",
      "File \u001b[1;32mc:\\Users\\MariaAngélicaParraMe\\Downloads\\UAI\\Machine_Learning_II\\machine_learning_2\\.venv\\lib\\site-packages\\pandas\\core\\dtypes\\astype.py:133\u001b[0m, in \u001b[0;36m_astype_nansafe\u001b[1;34m(arr, dtype, copy, skipna)\u001b[0m\n\u001b[0;32m    129\u001b[0m     \u001b[38;5;28;01mraise\u001b[39;00m \u001b[38;5;167;01mValueError\u001b[39;00m(msg)\n\u001b[0;32m    131\u001b[0m \u001b[38;5;28;01mif\u001b[39;00m copy \u001b[38;5;129;01mor\u001b[39;00m arr\u001b[38;5;241m.\u001b[39mdtype \u001b[38;5;241m==\u001b[39m \u001b[38;5;28mobject\u001b[39m \u001b[38;5;129;01mor\u001b[39;00m dtype \u001b[38;5;241m==\u001b[39m \u001b[38;5;28mobject\u001b[39m:\n\u001b[0;32m    132\u001b[0m     \u001b[38;5;66;03m# Explicit copy, or required since NumPy can't view from / to object.\u001b[39;00m\n\u001b[1;32m--> 133\u001b[0m     \u001b[38;5;28;01mreturn\u001b[39;00m \u001b[43marr\u001b[49m\u001b[38;5;241;43m.\u001b[39;49m\u001b[43mastype\u001b[49m\u001b[43m(\u001b[49m\u001b[43mdtype\u001b[49m\u001b[43m,\u001b[49m\u001b[43m \u001b[49m\u001b[43mcopy\u001b[49m\u001b[38;5;241;43m=\u001b[39;49m\u001b[38;5;28;43;01mTrue\u001b[39;49;00m\u001b[43m)\u001b[49m\n\u001b[0;32m    135\u001b[0m \u001b[38;5;28;01mreturn\u001b[39;00m arr\u001b[38;5;241m.\u001b[39mastype(dtype, copy\u001b[38;5;241m=\u001b[39mcopy)\n",
      "\u001b[1;31mOverflowError\u001b[0m: Python int too large to convert to C long"
     ]
    }
   ],
   "source": [
    "df['id'] = df['id'].astype(int)"
   ]
  },
  {
   "cell_type": "markdown",
   "id": "ad9a45c361428999",
   "metadata": {},
   "source": [
    "### Revisar campos nulos"
   ]
  },
  {
   "cell_type": "code",
   "execution_count": null,
   "id": "d90024be9b70639e",
   "metadata": {
    "ExecuteTime": {
     "end_time": "2024-11-26T23:07:25.255712Z",
     "start_time": "2024-11-26T23:07:25.191572Z"
    }
   },
   "outputs": [
    {
     "data": {
      "text/plain": [
       "id                   0\n",
       "category             0\n",
       "title                0\n",
       "body                 0\n",
       "amenities        16077\n",
       "bathrooms           66\n",
       "bedrooms           127\n",
       "currency             3\n",
       "fee                  3\n",
       "has_photo            3\n",
       "pets_allowed     60634\n",
       "price                4\n",
       "price_display        4\n",
       "price_type           3\n",
       "square_feet          3\n",
       "address          91880\n",
       "cityname           305\n",
       "state              305\n",
       "latitude            28\n",
       "longitude           28\n",
       "source               3\n",
       "time                 3\n",
       "dtype: int64"
      ]
     },
     "execution_count": 10,
     "metadata": {},
     "output_type": "execute_result"
    }
   ],
   "source": [
    "df.isnull().sum()"
   ]
  },
  {
   "cell_type": "code",
   "execution_count": null,
   "id": "6f7804a913763081",
   "metadata": {
    "ExecuteTime": {
     "end_time": "2024-11-26T23:07:25.348661Z",
     "start_time": "2024-11-26T23:07:25.303586Z"
    }
   },
   "outputs": [
    {
     "data": {
      "text/html": [
       "<div>\n",
       "<style scoped>\n",
       "    .dataframe tbody tr th:only-of-type {\n",
       "        vertical-align: middle;\n",
       "    }\n",
       "\n",
       "    .dataframe tbody tr th {\n",
       "        vertical-align: top;\n",
       "    }\n",
       "\n",
       "    .dataframe thead th {\n",
       "        text-align: right;\n",
       "    }\n",
       "</style>\n",
       "<table border=\"1\" class=\"dataframe\">\n",
       "  <thead>\n",
       "    <tr style=\"text-align: right;\">\n",
       "      <th></th>\n",
       "      <th>id</th>\n",
       "      <th>category</th>\n",
       "      <th>title</th>\n",
       "      <th>body</th>\n",
       "      <th>amenities</th>\n",
       "      <th>bathrooms</th>\n",
       "      <th>bedrooms</th>\n",
       "      <th>currency</th>\n",
       "      <th>fee</th>\n",
       "      <th>has_photo</th>\n",
       "      <th>...</th>\n",
       "      <th>price_display</th>\n",
       "      <th>price_type</th>\n",
       "      <th>square_feet</th>\n",
       "      <th>address</th>\n",
       "      <th>cityname</th>\n",
       "      <th>state</th>\n",
       "      <th>latitude</th>\n",
       "      <th>longitude</th>\n",
       "      <th>source</th>\n",
       "      <th>time</th>\n",
       "    </tr>\n",
       "  </thead>\n",
       "  <tbody>\n",
       "    <tr>\n",
       "      <th>0</th>\n",
       "      <td>5668640009</td>\n",
       "      <td>housing/rent/apartment</td>\n",
       "      <td>One BR 507 &amp; 509 Esplanade</td>\n",
       "      <td>This unit is located at 507 &amp; 509 Esplanade, R...</td>\n",
       "      <td>NaN</td>\n",
       "      <td>1</td>\n",
       "      <td>1</td>\n",
       "      <td>USD</td>\n",
       "      <td>No</td>\n",
       "      <td>Thumbnail</td>\n",
       "      <td>...</td>\n",
       "      <td>$2,20</td>\n",
       "      <td>Monthly</td>\n",
       "      <td>542</td>\n",
       "      <td>507  509 Esplanade</td>\n",
       "      <td>Redondo Beach</td>\n",
       "      <td>CA</td>\n",
       "      <td>338.520</td>\n",
       "      <td>-1.183.759</td>\n",
       "      <td>RentLingo</td>\n",
       "      <td>1.577360e+09</td>\n",
       "    </tr>\n",
       "    <tr>\n",
       "      <th>1</th>\n",
       "      <td>5668639818</td>\n",
       "      <td>housing/rent/apartment</td>\n",
       "      <td>Three BR 146 Lochview Drive</td>\n",
       "      <td>This unit is located at 146 Lochview Drive, Ne...</td>\n",
       "      <td>NaN</td>\n",
       "      <td>1.5</td>\n",
       "      <td>3</td>\n",
       "      <td>USD</td>\n",
       "      <td>No</td>\n",
       "      <td>Thumbnail</td>\n",
       "      <td>...</td>\n",
       "      <td>$1,25</td>\n",
       "      <td>Monthly</td>\n",
       "      <td>1500</td>\n",
       "      <td>146 Lochview Dr</td>\n",
       "      <td>Newport News</td>\n",
       "      <td>VA</td>\n",
       "      <td>370.867</td>\n",
       "      <td>-764.941</td>\n",
       "      <td>RentLingo</td>\n",
       "      <td>1.577360e+09</td>\n",
       "    </tr>\n",
       "    <tr>\n",
       "      <th>2</th>\n",
       "      <td>5668639686</td>\n",
       "      <td>housing/rent/apartment</td>\n",
       "      <td>Three BR 3101 Morningside Drive</td>\n",
       "      <td>This unit is located at 3101 Morningside Drive...</td>\n",
       "      <td>NaN</td>\n",
       "      <td>2</td>\n",
       "      <td>3</td>\n",
       "      <td>USD</td>\n",
       "      <td>No</td>\n",
       "      <td>Thumbnail</td>\n",
       "      <td>...</td>\n",
       "      <td>$1,40</td>\n",
       "      <td>Monthly</td>\n",
       "      <td>1650</td>\n",
       "      <td>3101 Morningside Dr</td>\n",
       "      <td>Raleigh</td>\n",
       "      <td>NC</td>\n",
       "      <td>358.230</td>\n",
       "      <td>-786.438</td>\n",
       "      <td>RentLingo</td>\n",
       "      <td>1.577360e+09</td>\n",
       "    </tr>\n",
       "    <tr>\n",
       "      <th>3</th>\n",
       "      <td>5668639659</td>\n",
       "      <td>housing/rent/apartment</td>\n",
       "      <td>Two BR 209 Aegean Way</td>\n",
       "      <td>This unit is located at 209 Aegean Way, Vacavi...</td>\n",
       "      <td>NaN</td>\n",
       "      <td>1</td>\n",
       "      <td>2</td>\n",
       "      <td>USD</td>\n",
       "      <td>No</td>\n",
       "      <td>Thumbnail</td>\n",
       "      <td>...</td>\n",
       "      <td>$1,60</td>\n",
       "      <td>Monthly</td>\n",
       "      <td>820</td>\n",
       "      <td>209 Aegean Way</td>\n",
       "      <td>Vacaville</td>\n",
       "      <td>CA</td>\n",
       "      <td>383.622</td>\n",
       "      <td>-1.219.712</td>\n",
       "      <td>RentLingo</td>\n",
       "      <td>1.577360e+09</td>\n",
       "    </tr>\n",
       "    <tr>\n",
       "      <th>4</th>\n",
       "      <td>5668639374</td>\n",
       "      <td>housing/rent/apartment</td>\n",
       "      <td>One BR 4805 Marquette NE</td>\n",
       "      <td>This unit is located at 4805 Marquette NE, Alb...</td>\n",
       "      <td>NaN</td>\n",
       "      <td>1</td>\n",
       "      <td>1</td>\n",
       "      <td>USD</td>\n",
       "      <td>No</td>\n",
       "      <td>Thumbnail</td>\n",
       "      <td>...</td>\n",
       "      <td>$975</td>\n",
       "      <td>Monthly</td>\n",
       "      <td>624</td>\n",
       "      <td>4805 Marquette NE</td>\n",
       "      <td>Albuquerque</td>\n",
       "      <td>NM</td>\n",
       "      <td>351.038</td>\n",
       "      <td>-1.066.110</td>\n",
       "      <td>RentLingo</td>\n",
       "      <td>1.577360e+09</td>\n",
       "    </tr>\n",
       "    <tr>\n",
       "      <th>...</th>\n",
       "      <td>...</td>\n",
       "      <td>...</td>\n",
       "      <td>...</td>\n",
       "      <td>...</td>\n",
       "      <td>...</td>\n",
       "      <td>...</td>\n",
       "      <td>...</td>\n",
       "      <td>...</td>\n",
       "      <td>...</td>\n",
       "      <td>...</td>\n",
       "      <td>...</td>\n",
       "      <td>...</td>\n",
       "      <td>...</td>\n",
       "      <td>...</td>\n",
       "      <td>...</td>\n",
       "      <td>...</td>\n",
       "      <td>...</td>\n",
       "      <td>...</td>\n",
       "      <td>...</td>\n",
       "      <td>...</td>\n",
       "      <td>...</td>\n",
       "    </tr>\n",
       "    <tr>\n",
       "      <th>99796</th>\n",
       "      <td>5121227775</td>\n",
       "      <td>housing/rent/apartment</td>\n",
       "      <td>Indian Trail, 3,980 sq. ft. - in a great area.</td>\n",
       "      <td>If you re looking to rent a new home in the Br...</td>\n",
       "      <td>NaN</td>\n",
       "      <td>3.5</td>\n",
       "      <td>6</td>\n",
       "      <td>USD</td>\n",
       "      <td>No</td>\n",
       "      <td>Yes</td>\n",
       "      <td>...</td>\n",
       "      <td>$2,20</td>\n",
       "      <td>Monthly</td>\n",
       "      <td>3980</td>\n",
       "      <td>NaN</td>\n",
       "      <td>Indian Trail</td>\n",
       "      <td>NC</td>\n",
       "      <td>350.978</td>\n",
       "      <td>-806.294</td>\n",
       "      <td>RentDigs.com</td>\n",
       "      <td>1.544186e+09</td>\n",
       "    </tr>\n",
       "    <tr>\n",
       "      <th>99797</th>\n",
       "      <td>5121227723</td>\n",
       "      <td>housing/rent/apartment</td>\n",
       "      <td>Apartment in quiet area, spacious with big kit...</td>\n",
       "      <td>If you re looking to rent a new home in the Ri...</td>\n",
       "      <td>NaN</td>\n",
       "      <td>2.5</td>\n",
       "      <td>4</td>\n",
       "      <td>USD</td>\n",
       "      <td>No</td>\n",
       "      <td>Yes</td>\n",
       "      <td>...</td>\n",
       "      <td>$1,85</td>\n",
       "      <td>Monthly</td>\n",
       "      <td>2932</td>\n",
       "      <td>NaN</td>\n",
       "      <td>Indian Trail</td>\n",
       "      <td>NC</td>\n",
       "      <td>350.978</td>\n",
       "      <td>-806.294</td>\n",
       "      <td>RentDigs.com</td>\n",
       "      <td>1.544186e+09</td>\n",
       "    </tr>\n",
       "    <tr>\n",
       "      <th>99811</th>\n",
       "      <td>5121223692</td>\n",
       "      <td>housing/rent/apartment</td>\n",
       "      <td>Live the you've always wanted without compromi...</td>\n",
       "      <td>At Apartments, our apartment residences are de...</td>\n",
       "      <td>NaN</td>\n",
       "      <td>1</td>\n",
       "      <td>1</td>\n",
       "      <td>USD</td>\n",
       "      <td>No</td>\n",
       "      <td>Yes</td>\n",
       "      <td>...</td>\n",
       "      <td>$685</td>\n",
       "      <td>Monthly</td>\n",
       "      <td>625</td>\n",
       "      <td>NaN</td>\n",
       "      <td>Houston</td>\n",
       "      <td>TX</td>\n",
       "      <td>296.151</td>\n",
       "      <td>-951.998</td>\n",
       "      <td>RentDigs.com</td>\n",
       "      <td>1.544186e+09</td>\n",
       "    </tr>\n",
       "    <tr>\n",
       "      <th>99813</th>\n",
       "      <td>5121223111</td>\n",
       "      <td>housing/rent/apartment</td>\n",
       "      <td>Live the you've always wanted without compromi...</td>\n",
       "      <td>At Apartments, our apartment residences are de...</td>\n",
       "      <td>NaN</td>\n",
       "      <td>1</td>\n",
       "      <td>2</td>\n",
       "      <td>USD</td>\n",
       "      <td>No</td>\n",
       "      <td>Yes</td>\n",
       "      <td>...</td>\n",
       "      <td>$870</td>\n",
       "      <td>Monthly</td>\n",
       "      <td>798</td>\n",
       "      <td>NaN</td>\n",
       "      <td>Houston</td>\n",
       "      <td>TX</td>\n",
       "      <td>296.151</td>\n",
       "      <td>-951.998</td>\n",
       "      <td>RentDigs.com</td>\n",
       "      <td>1.544186e+09</td>\n",
       "    </tr>\n",
       "    <tr>\n",
       "      <th>99815</th>\n",
       "      <td>5121222653</td>\n",
       "      <td>housing/rent/apartment</td>\n",
       "      <td>Live the you've always wanted without compromi...</td>\n",
       "      <td>At Apartments, our apartment residences are de...</td>\n",
       "      <td>NaN</td>\n",
       "      <td>2</td>\n",
       "      <td>2</td>\n",
       "      <td>USD</td>\n",
       "      <td>No</td>\n",
       "      <td>Yes</td>\n",
       "      <td>...</td>\n",
       "      <td>$945</td>\n",
       "      <td>Monthly</td>\n",
       "      <td>1000</td>\n",
       "      <td>NaN</td>\n",
       "      <td>Houston</td>\n",
       "      <td>TX</td>\n",
       "      <td>296.151</td>\n",
       "      <td>-951.998</td>\n",
       "      <td>RentDigs.com</td>\n",
       "      <td>1.544186e+09</td>\n",
       "    </tr>\n",
       "  </tbody>\n",
       "</table>\n",
       "<p>16077 rows × 22 columns</p>\n",
       "</div>"
      ],
      "text/plain": [
       "               id                category  \\\n",
       "0      5668640009  housing/rent/apartment   \n",
       "1      5668639818  housing/rent/apartment   \n",
       "2      5668639686  housing/rent/apartment   \n",
       "3      5668639659  housing/rent/apartment   \n",
       "4      5668639374  housing/rent/apartment   \n",
       "...           ...                     ...   \n",
       "99796  5121227775  housing/rent/apartment   \n",
       "99797  5121227723  housing/rent/apartment   \n",
       "99811  5121223692  housing/rent/apartment   \n",
       "99813  5121223111  housing/rent/apartment   \n",
       "99815  5121222653  housing/rent/apartment   \n",
       "\n",
       "                                                   title  \\\n",
       "0                             One BR 507 & 509 Esplanade   \n",
       "1                            Three BR 146 Lochview Drive   \n",
       "2                        Three BR 3101 Morningside Drive   \n",
       "3                                  Two BR 209 Aegean Way   \n",
       "4                               One BR 4805 Marquette NE   \n",
       "...                                                  ...   \n",
       "99796     Indian Trail, 3,980 sq. ft. - in a great area.   \n",
       "99797  Apartment in quiet area, spacious with big kit...   \n",
       "99811  Live the you've always wanted without compromi...   \n",
       "99813  Live the you've always wanted without compromi...   \n",
       "99815  Live the you've always wanted without compromi...   \n",
       "\n",
       "                                                    body amenities bathrooms  \\\n",
       "0      This unit is located at 507 & 509 Esplanade, R...       NaN         1   \n",
       "1      This unit is located at 146 Lochview Drive, Ne...       NaN       1.5   \n",
       "2      This unit is located at 3101 Morningside Drive...       NaN         2   \n",
       "3      This unit is located at 209 Aegean Way, Vacavi...       NaN         1   \n",
       "4      This unit is located at 4805 Marquette NE, Alb...       NaN         1   \n",
       "...                                                  ...       ...       ...   \n",
       "99796  If you re looking to rent a new home in the Br...       NaN       3.5   \n",
       "99797  If you re looking to rent a new home in the Ri...       NaN       2.5   \n",
       "99811  At Apartments, our apartment residences are de...       NaN         1   \n",
       "99813  At Apartments, our apartment residences are de...       NaN         1   \n",
       "99815  At Apartments, our apartment residences are de...       NaN         2   \n",
       "\n",
       "      bedrooms currency fee  has_photo  ... price_display  price_type  \\\n",
       "0            1      USD  No  Thumbnail  ...         $2,20     Monthly   \n",
       "1            3      USD  No  Thumbnail  ...         $1,25     Monthly   \n",
       "2            3      USD  No  Thumbnail  ...         $1,40     Monthly   \n",
       "3            2      USD  No  Thumbnail  ...         $1,60     Monthly   \n",
       "4            1      USD  No  Thumbnail  ...          $975     Monthly   \n",
       "...        ...      ...  ..        ...  ...           ...         ...   \n",
       "99796        6      USD  No        Yes  ...         $2,20     Monthly   \n",
       "99797        4      USD  No        Yes  ...         $1,85     Monthly   \n",
       "99811        1      USD  No        Yes  ...          $685     Monthly   \n",
       "99813        2      USD  No        Yes  ...          $870     Monthly   \n",
       "99815        2      USD  No        Yes  ...          $945     Monthly   \n",
       "\n",
       "      square_feet              address       cityname state latitude  \\\n",
       "0             542   507  509 Esplanade  Redondo Beach    CA  338.520   \n",
       "1            1500      146 Lochview Dr   Newport News    VA  370.867   \n",
       "2            1650  3101 Morningside Dr        Raleigh    NC  358.230   \n",
       "3             820       209 Aegean Way      Vacaville    CA  383.622   \n",
       "4             624    4805 Marquette NE    Albuquerque    NM  351.038   \n",
       "...           ...                  ...            ...   ...      ...   \n",
       "99796        3980                  NaN   Indian Trail    NC  350.978   \n",
       "99797        2932                  NaN   Indian Trail    NC  350.978   \n",
       "99811         625                  NaN        Houston    TX  296.151   \n",
       "99813         798                  NaN        Houston    TX  296.151   \n",
       "99815        1000                  NaN        Houston    TX  296.151   \n",
       "\n",
       "        longitude        source          time  \n",
       "0      -1.183.759     RentLingo  1.577360e+09  \n",
       "1        -764.941     RentLingo  1.577360e+09  \n",
       "2        -786.438     RentLingo  1.577360e+09  \n",
       "3      -1.219.712     RentLingo  1.577360e+09  \n",
       "4      -1.066.110     RentLingo  1.577360e+09  \n",
       "...           ...           ...           ...  \n",
       "99796    -806.294  RentDigs.com  1.544186e+09  \n",
       "99797    -806.294  RentDigs.com  1.544186e+09  \n",
       "99811    -951.998  RentDigs.com  1.544186e+09  \n",
       "99813    -951.998  RentDigs.com  1.544186e+09  \n",
       "99815    -951.998  RentDigs.com  1.544186e+09  \n",
       "\n",
       "[16077 rows x 22 columns]"
      ]
     },
     "execution_count": 10,
     "metadata": {},
     "output_type": "execute_result"
    }
   ],
   "source": [
    "df[df['amenities'].isnull()]"
   ]
  },
  {
   "cell_type": "markdown",
   "id": "bb6eeaea3b330703",
   "metadata": {},
   "source": [
    "### Revisar duplicados"
   ]
  },
  {
   "cell_type": "code",
   "execution_count": null,
   "id": "10fa36810d2565ea",
   "metadata": {
    "ExecuteTime": {
     "end_time": "2024-11-26T23:07:29.326451Z",
     "start_time": "2024-11-26T23:07:29.039139Z"
    }
   },
   "outputs": [
    {
     "data": {
      "text/plain": [
       "84"
      ]
     },
     "execution_count": 11,
     "metadata": {},
     "output_type": "execute_result"
    }
   ],
   "source": [
    "# Revisar si hay valores duplicados\n",
    "df.duplicated().sum()"
   ]
  },
  {
   "cell_type": "markdown",
   "id": "ed45037db502072b",
   "metadata": {},
   "source": [
    "Se remueven los registros duplicados."
   ]
  },
  {
   "cell_type": "code",
   "execution_count": null,
   "id": "f3a583d408d05ce6",
   "metadata": {
    "ExecuteTime": {
     "end_time": "2024-11-26T23:07:41.072792Z",
     "start_time": "2024-11-26T23:07:40.773652Z"
    }
   },
   "outputs": [
    {
     "data": {
      "text/plain": [
       "(99739, 22)"
      ]
     },
     "execution_count": 12,
     "metadata": {},
     "output_type": "execute_result"
    }
   ],
   "source": [
    "df = df.drop_duplicates()\n",
    "df.shape"
   ]
  },
  {
   "cell_type": "code",
   "execution_count": null,
   "id": "c496bbf0",
   "metadata": {},
   "outputs": [
    {
     "data": {
      "text/plain": [
       "array(['housing/rent/apartment', 'housing/rent/home',\n",
       "       'housing/rent/short_term', 'housing/rent', 'housing/rent/condo',\n",
       "       'housing/rent/other', 'housing/rent/commercial/retail'],\n",
       "      dtype=object)"
      ]
     },
     "execution_count": 13,
     "metadata": {},
     "output_type": "execute_result"
    }
   ],
   "source": [
    "df['category'].unique()"
   ]
  },
  {
   "cell_type": "markdown",
   "id": "b53473c05ac170fb",
   "metadata": {},
   "source": []
  },
  {
   "cell_type": "code",
   "execution_count": null,
   "id": "d9963aa8",
   "metadata": {},
   "outputs": [],
   "source": [
    "df_apt = df[df['category'] == 'housing/rent/apartment']"
   ]
  },
  {
   "cell_type": "code",
   "execution_count": null,
   "id": "5ea74b51",
   "metadata": {},
   "outputs": [
    {
     "data": {
      "text/plain": [
       "id               99739\n",
       "category         99739\n",
       "title            99739\n",
       "body             99739\n",
       "amenities        83672\n",
       "bathrooms        99673\n",
       "bedrooms         99612\n",
       "currency         99736\n",
       "fee              99736\n",
       "has_photo        99736\n",
       "pets_allowed     39155\n",
       "price            99735\n",
       "price_display    99735\n",
       "price_type       99736\n",
       "square_feet      99736\n",
       "address           7942\n",
       "cityname         99434\n",
       "state            99434\n",
       "latitude         99711\n",
       "longitude        99711\n",
       "source           99736\n",
       "time             99736\n",
       "dtype: int64"
      ]
     },
     "execution_count": 15,
     "metadata": {},
     "output_type": "execute_result"
    }
   ],
   "source": [
    "df.count()"
   ]
  },
  {
   "cell_type": "code",
   "execution_count": null,
   "id": "e56f1400",
   "metadata": {},
   "outputs": [
    {
     "data": {
      "text/plain": [
       "id               99678\n",
       "category         99678\n",
       "title            99678\n",
       "body             99678\n",
       "amenities        83613\n",
       "bathrooms        99613\n",
       "bedrooms         99551\n",
       "currency         99675\n",
       "fee              99675\n",
       "has_photo        99675\n",
       "pets_allowed     39149\n",
       "price            99674\n",
       "price_display    99674\n",
       "price_type       99675\n",
       "square_feet      99675\n",
       "address           7939\n",
       "cityname         99373\n",
       "state            99373\n",
       "latitude         99650\n",
       "longitude        99650\n",
       "source           99675\n",
       "time             99675\n",
       "dtype: int64"
      ]
     },
     "execution_count": 16,
     "metadata": {},
     "output_type": "execute_result"
    }
   ],
   "source": [
    "df_apt.count()"
   ]
  },
  {
   "cell_type": "code",
   "execution_count": null,
   "id": "7d6a6dab",
   "metadata": {},
   "outputs": [
    {
     "data": {
      "text/plain": [
       "id                   0\n",
       "category             0\n",
       "title                0\n",
       "body                 0\n",
       "amenities        16067\n",
       "bathrooms           66\n",
       "bedrooms           127\n",
       "currency             3\n",
       "fee                  3\n",
       "has_photo            3\n",
       "pets_allowed     60584\n",
       "price                4\n",
       "price_display        4\n",
       "price_type           3\n",
       "square_feet          3\n",
       "address          91797\n",
       "cityname           305\n",
       "state              305\n",
       "latitude            28\n",
       "longitude           28\n",
       "source               3\n",
       "time                 3\n",
       "dtype: int64"
      ]
     },
     "execution_count": 17,
     "metadata": {},
     "output_type": "execute_result"
    }
   ],
   "source": [
    "df.isnull().sum()"
   ]
  },
  {
   "cell_type": "code",
   "execution_count": null,
   "id": "31c48491",
   "metadata": {},
   "outputs": [
    {
     "data": {
      "text/plain": [
       "id                   0\n",
       "category             0\n",
       "title                0\n",
       "body                 0\n",
       "amenities        16065\n",
       "bathrooms           65\n",
       "bedrooms           127\n",
       "currency             3\n",
       "fee                  3\n",
       "has_photo            3\n",
       "pets_allowed     60529\n",
       "price                4\n",
       "price_display        4\n",
       "price_type           3\n",
       "square_feet          3\n",
       "address          91739\n",
       "cityname           305\n",
       "state              305\n",
       "latitude            28\n",
       "longitude           28\n",
       "source               3\n",
       "time                 3\n",
       "dtype: int64"
      ]
     },
     "execution_count": 18,
     "metadata": {},
     "output_type": "execute_result"
    }
   ],
   "source": [
    "df_apt.isnull().sum()"
   ]
  },
  {
   "cell_type": "code",
   "execution_count": null,
   "id": "221a3ba8",
   "metadata": {},
   "outputs": [],
   "source": [
    "df = df.filter(items=['bathrooms','bedrooms', 'pets_allowed', 'price', 'price_type', 'square_feet', 'cityname'], axis=1)"
   ]
  },
  {
   "cell_type": "code",
   "execution_count": null,
   "id": "a6fd0cf8",
   "metadata": {},
   "outputs": [
    {
     "data": {
      "text/plain": [
       "bathrooms       99673\n",
       "bedrooms        99612\n",
       "pets_allowed    39155\n",
       "price           99735\n",
       "price_type      99736\n",
       "square_feet     99736\n",
       "cityname        99434\n",
       "dtype: int64"
      ]
     },
     "execution_count": 20,
     "metadata": {},
     "output_type": "execute_result"
    }
   ],
   "source": [
    "df.count()"
   ]
  },
  {
   "cell_type": "code",
   "execution_count": null,
   "id": "c2d75e9d",
   "metadata": {},
   "outputs": [
    {
     "data": {
      "text/plain": [
       "bathrooms          66\n",
       "bedrooms          127\n",
       "pets_allowed    60584\n",
       "price               4\n",
       "price_type          3\n",
       "square_feet         3\n",
       "cityname          305\n",
       "dtype: int64"
      ]
     },
     "execution_count": 21,
     "metadata": {},
     "output_type": "execute_result"
    }
   ],
   "source": [
    "df.isnull().sum()"
   ]
  },
  {
   "cell_type": "code",
   "execution_count": null,
   "id": "9b58eeab",
   "metadata": {},
   "outputs": [
    {
     "data": {
      "text/plain": [
       "bathrooms           0\n",
       "bedrooms            0\n",
       "pets_allowed    60271\n",
       "price               0\n",
       "price_type          0\n",
       "square_feet         0\n",
       "cityname            0\n",
       "dtype: int64"
      ]
     },
     "execution_count": 22,
     "metadata": {},
     "output_type": "execute_result"
    }
   ],
   "source": [
    "df = df.dropna(subset=['bathrooms', 'bedrooms','price', 'cityname'])\n",
    "df.isnull().sum()"
   ]
  },
  {
   "cell_type": "code",
   "execution_count": null,
   "id": "f17138a1",
   "metadata": {},
   "outputs": [],
   "source": [
    "#df['pets_allowed'] = df['pets_allowed'].fillna(value=None)\n",
    "df['pets_allowed'] = df['pets_allowed'].apply(lambda x:None if pd.isnull(x) else x)"
   ]
  },
  {
   "cell_type": "code",
   "execution_count": null,
   "id": "2e335221",
   "metadata": {},
   "outputs": [],
   "source": [
    "if df['pets_allowed'].isin(['Cats' or 'Dogs' or 'Cats,Dogs']).any():\n",
    "    df['pets_allowed'] = 1\n",
    "else: df['pets_allowed'] = 0"
   ]
  },
  {
   "cell_type": "code",
   "execution_count": null,
   "id": "b2891f72",
   "metadata": {},
   "outputs": [
    {
     "data": {
      "text/plain": [
       "bathrooms       0\n",
       "bedrooms        0\n",
       "pets_allowed    0\n",
       "price           0\n",
       "price_type      0\n",
       "square_feet     0\n",
       "cityname        0\n",
       "dtype: int64"
      ]
     },
     "execution_count": 25,
     "metadata": {},
     "output_type": "execute_result"
    }
   ],
   "source": [
    "df.isnull().sum()"
   ]
  },
  {
   "cell_type": "code",
   "execution_count": 26,
   "id": "3979f676",
   "metadata": {},
   "outputs": [
    {
     "data": {
      "text/plain": [
       "bathrooms       99251\n",
       "bedrooms        99251\n",
       "pets_allowed    99251\n",
       "price           99251\n",
       "price_type      99251\n",
       "square_feet     99251\n",
       "cityname        99251\n",
       "dtype: int64"
      ]
     },
     "execution_count": 26,
     "metadata": {},
     "output_type": "execute_result"
    }
   ],
   "source": [
    "df.count()"
   ]
  }
 ],
 "metadata": {
  "kernelspec": {
   "display_name": ".venv",
   "language": "python",
   "name": "python3"
  },
  "language_info": {
   "codemirror_mode": {
    "name": "ipython",
    "version": 3
   },
   "file_extension": ".py",
   "mimetype": "text/x-python",
   "name": "python",
   "nbconvert_exporter": "python",
   "pygments_lexer": "ipython3",
   "version": "3.9.12"
  }
 },
 "nbformat": 4,
 "nbformat_minor": 5
}
