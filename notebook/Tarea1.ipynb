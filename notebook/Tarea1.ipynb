{
 "cells": [
  {
   "cell_type": "markdown",
   "id": "a68c5a37c112af44",
   "metadata": {},
   "source": [
    "Autores:\n",
    "- Hernán Francisco Díaz Farías\n",
    "- María Angélica Parra Mendoza\n",
    "- Loreto Constanza Zavala Gaete"
   ]
  },
  {
   "cell_type": "markdown",
   "id": "c9f84ed3b2c8ad93",
   "metadata": {},
   "source": [
    "# Tarea 1\n",
    "### Realice una exploración de datos para ver que datos existen, cuales de ellos entregan información relevante para el problema y cuales no, eliminación (si corresponde) de datos nulos y duplicados, entre otros.\n",
    "\n",
    "#### Librerías a utilizar"
   ]
  },
  {
   "cell_type": "code",
   "id": "de9b4b7ee2664230",
   "metadata": {
    "ExecuteTime": {
     "end_time": "2024-11-27T23:00:27.663255Z",
     "start_time": "2024-11-27T23:00:27.649755Z"
    }
   },
   "source": [
    "import pandas as pd\n"
   ],
   "outputs": [],
   "execution_count": 112
  },
  {
   "cell_type": "markdown",
   "id": "884fc16032fca45a",
   "metadata": {},
   "source": [
    "#### Cargar el archivo csv"
   ]
  },
  {
   "cell_type": "code",
   "id": "9e22f094af59b480",
   "metadata": {
    "ExecuteTime": {
     "end_time": "2024-11-27T23:00:28.732730Z",
     "start_time": "2024-11-27T23:00:27.695756Z"
    }
   },
   "source": [
    "# Cargar el archivo csv\n",
    "df = (\n",
    "    pd.read_csv(\n",
    "        '../data/apartments_for_rent_classified_100K.csv',\n",
    "        encoding='ISO-8859-1',\n",
    "        sep=';',\n",
    "        low_memory=False # Para evitar warnings de dtype\n",
    "        )\n",
    "    )"
   ],
   "outputs": [],
   "execution_count": 113
  },
  {
   "cell_type": "markdown",
   "id": "b027c12a4faf1020",
   "metadata": {},
   "source": [
    "#### Visualización de los datos"
   ]
  },
  {
   "cell_type": "code",
   "id": "255178aa83bfbaab",
   "metadata": {
    "ExecuteTime": {
     "end_time": "2024-11-27T23:00:28.763553Z",
     "start_time": "2024-11-27T23:00:28.746052Z"
    }
   },
   "source": [
    "df.head()"
   ],
   "outputs": [
    {
     "data": {
      "text/plain": [
       "           id                category                            title  \\\n",
       "0  5668640009  housing/rent/apartment       One BR 507 & 509 Esplanade   \n",
       "1  5668639818  housing/rent/apartment      Three BR 146 Lochview Drive   \n",
       "2  5668639686  housing/rent/apartment  Three BR 3101 Morningside Drive   \n",
       "3  5668639659  housing/rent/apartment            Two BR 209 Aegean Way   \n",
       "4  5668639374  housing/rent/apartment         One BR 4805 Marquette NE   \n",
       "\n",
       "                                                body amenities bathrooms  \\\n",
       "0  This unit is located at 507 & 509 Esplanade, R...       NaN         1   \n",
       "1  This unit is located at 146 Lochview Drive, Ne...       NaN       1.5   \n",
       "2  This unit is located at 3101 Morningside Drive...       NaN         2   \n",
       "3  This unit is located at 209 Aegean Way, Vacavi...       NaN         1   \n",
       "4  This unit is located at 4805 Marquette NE, Alb...       NaN         1   \n",
       "\n",
       "  bedrooms currency fee  has_photo  ... price_display  price_type square_feet  \\\n",
       "0        1      USD  No  Thumbnail  ...         $2,20     Monthly         542   \n",
       "1        3      USD  No  Thumbnail  ...         $1,25     Monthly        1500   \n",
       "2        3      USD  No  Thumbnail  ...         $1,40     Monthly        1650   \n",
       "3        2      USD  No  Thumbnail  ...         $1,60     Monthly         820   \n",
       "4        1      USD  No  Thumbnail  ...          $975     Monthly         624   \n",
       "\n",
       "               address       cityname state latitude   longitude     source  \\\n",
       "0   507  509 Esplanade  Redondo Beach    CA  338.520  -1.183.759  RentLingo   \n",
       "1      146 Lochview Dr   Newport News    VA  370.867    -764.941  RentLingo   \n",
       "2  3101 Morningside Dr        Raleigh    NC  358.230    -786.438  RentLingo   \n",
       "3       209 Aegean Way      Vacaville    CA  383.622  -1.219.712  RentLingo   \n",
       "4    4805 Marquette NE    Albuquerque    NM  351.038  -1.066.110  RentLingo   \n",
       "\n",
       "           time  \n",
       "0  1.577360e+09  \n",
       "1  1.577360e+09  \n",
       "2  1.577360e+09  \n",
       "3  1.577360e+09  \n",
       "4  1.577360e+09  \n",
       "\n",
       "[5 rows x 22 columns]"
      ],
      "text/html": [
       "<div>\n",
       "<style scoped>\n",
       "    .dataframe tbody tr th:only-of-type {\n",
       "        vertical-align: middle;\n",
       "    }\n",
       "\n",
       "    .dataframe tbody tr th {\n",
       "        vertical-align: top;\n",
       "    }\n",
       "\n",
       "    .dataframe thead th {\n",
       "        text-align: right;\n",
       "    }\n",
       "</style>\n",
       "<table border=\"1\" class=\"dataframe\">\n",
       "  <thead>\n",
       "    <tr style=\"text-align: right;\">\n",
       "      <th></th>\n",
       "      <th>id</th>\n",
       "      <th>category</th>\n",
       "      <th>title</th>\n",
       "      <th>body</th>\n",
       "      <th>amenities</th>\n",
       "      <th>bathrooms</th>\n",
       "      <th>bedrooms</th>\n",
       "      <th>currency</th>\n",
       "      <th>fee</th>\n",
       "      <th>has_photo</th>\n",
       "      <th>...</th>\n",
       "      <th>price_display</th>\n",
       "      <th>price_type</th>\n",
       "      <th>square_feet</th>\n",
       "      <th>address</th>\n",
       "      <th>cityname</th>\n",
       "      <th>state</th>\n",
       "      <th>latitude</th>\n",
       "      <th>longitude</th>\n",
       "      <th>source</th>\n",
       "      <th>time</th>\n",
       "    </tr>\n",
       "  </thead>\n",
       "  <tbody>\n",
       "    <tr>\n",
       "      <th>0</th>\n",
       "      <td>5668640009</td>\n",
       "      <td>housing/rent/apartment</td>\n",
       "      <td>One BR 507 &amp; 509 Esplanade</td>\n",
       "      <td>This unit is located at 507 &amp; 509 Esplanade, R...</td>\n",
       "      <td>NaN</td>\n",
       "      <td>1</td>\n",
       "      <td>1</td>\n",
       "      <td>USD</td>\n",
       "      <td>No</td>\n",
       "      <td>Thumbnail</td>\n",
       "      <td>...</td>\n",
       "      <td>$2,20</td>\n",
       "      <td>Monthly</td>\n",
       "      <td>542</td>\n",
       "      <td>507  509 Esplanade</td>\n",
       "      <td>Redondo Beach</td>\n",
       "      <td>CA</td>\n",
       "      <td>338.520</td>\n",
       "      <td>-1.183.759</td>\n",
       "      <td>RentLingo</td>\n",
       "      <td>1.577360e+09</td>\n",
       "    </tr>\n",
       "    <tr>\n",
       "      <th>1</th>\n",
       "      <td>5668639818</td>\n",
       "      <td>housing/rent/apartment</td>\n",
       "      <td>Three BR 146 Lochview Drive</td>\n",
       "      <td>This unit is located at 146 Lochview Drive, Ne...</td>\n",
       "      <td>NaN</td>\n",
       "      <td>1.5</td>\n",
       "      <td>3</td>\n",
       "      <td>USD</td>\n",
       "      <td>No</td>\n",
       "      <td>Thumbnail</td>\n",
       "      <td>...</td>\n",
       "      <td>$1,25</td>\n",
       "      <td>Monthly</td>\n",
       "      <td>1500</td>\n",
       "      <td>146 Lochview Dr</td>\n",
       "      <td>Newport News</td>\n",
       "      <td>VA</td>\n",
       "      <td>370.867</td>\n",
       "      <td>-764.941</td>\n",
       "      <td>RentLingo</td>\n",
       "      <td>1.577360e+09</td>\n",
       "    </tr>\n",
       "    <tr>\n",
       "      <th>2</th>\n",
       "      <td>5668639686</td>\n",
       "      <td>housing/rent/apartment</td>\n",
       "      <td>Three BR 3101 Morningside Drive</td>\n",
       "      <td>This unit is located at 3101 Morningside Drive...</td>\n",
       "      <td>NaN</td>\n",
       "      <td>2</td>\n",
       "      <td>3</td>\n",
       "      <td>USD</td>\n",
       "      <td>No</td>\n",
       "      <td>Thumbnail</td>\n",
       "      <td>...</td>\n",
       "      <td>$1,40</td>\n",
       "      <td>Monthly</td>\n",
       "      <td>1650</td>\n",
       "      <td>3101 Morningside Dr</td>\n",
       "      <td>Raleigh</td>\n",
       "      <td>NC</td>\n",
       "      <td>358.230</td>\n",
       "      <td>-786.438</td>\n",
       "      <td>RentLingo</td>\n",
       "      <td>1.577360e+09</td>\n",
       "    </tr>\n",
       "    <tr>\n",
       "      <th>3</th>\n",
       "      <td>5668639659</td>\n",
       "      <td>housing/rent/apartment</td>\n",
       "      <td>Two BR 209 Aegean Way</td>\n",
       "      <td>This unit is located at 209 Aegean Way, Vacavi...</td>\n",
       "      <td>NaN</td>\n",
       "      <td>1</td>\n",
       "      <td>2</td>\n",
       "      <td>USD</td>\n",
       "      <td>No</td>\n",
       "      <td>Thumbnail</td>\n",
       "      <td>...</td>\n",
       "      <td>$1,60</td>\n",
       "      <td>Monthly</td>\n",
       "      <td>820</td>\n",
       "      <td>209 Aegean Way</td>\n",
       "      <td>Vacaville</td>\n",
       "      <td>CA</td>\n",
       "      <td>383.622</td>\n",
       "      <td>-1.219.712</td>\n",
       "      <td>RentLingo</td>\n",
       "      <td>1.577360e+09</td>\n",
       "    </tr>\n",
       "    <tr>\n",
       "      <th>4</th>\n",
       "      <td>5668639374</td>\n",
       "      <td>housing/rent/apartment</td>\n",
       "      <td>One BR 4805 Marquette NE</td>\n",
       "      <td>This unit is located at 4805 Marquette NE, Alb...</td>\n",
       "      <td>NaN</td>\n",
       "      <td>1</td>\n",
       "      <td>1</td>\n",
       "      <td>USD</td>\n",
       "      <td>No</td>\n",
       "      <td>Thumbnail</td>\n",
       "      <td>...</td>\n",
       "      <td>$975</td>\n",
       "      <td>Monthly</td>\n",
       "      <td>624</td>\n",
       "      <td>4805 Marquette NE</td>\n",
       "      <td>Albuquerque</td>\n",
       "      <td>NM</td>\n",
       "      <td>351.038</td>\n",
       "      <td>-1.066.110</td>\n",
       "      <td>RentLingo</td>\n",
       "      <td>1.577360e+09</td>\n",
       "    </tr>\n",
       "  </tbody>\n",
       "</table>\n",
       "<p>5 rows × 22 columns</p>\n",
       "</div>"
      ]
     },
     "execution_count": 114,
     "metadata": {},
     "output_type": "execute_result"
    }
   ],
   "execution_count": 114
  },
  {
   "cell_type": "code",
   "id": "27b242aac89e4f2",
   "metadata": {
    "ExecuteTime": {
     "end_time": "2024-11-27T23:00:28.825009Z",
     "start_time": "2024-11-27T23:00:28.812010Z"
    }
   },
   "source": [
    "df.dtypes"
   ],
   "outputs": [
    {
     "data": {
      "text/plain": [
       "id                object\n",
       "category          object\n",
       "title             object\n",
       "body              object\n",
       "amenities         object\n",
       "bathrooms         object\n",
       "bedrooms          object\n",
       "currency          object\n",
       "fee               object\n",
       "has_photo         object\n",
       "pets_allowed      object\n",
       "price            float64\n",
       "price_display     object\n",
       "price_type        object\n",
       "square_feet       object\n",
       "address           object\n",
       "cityname          object\n",
       "state             object\n",
       "latitude         float64\n",
       "longitude         object\n",
       "source            object\n",
       "time             float64\n",
       "dtype: object"
      ]
     },
     "execution_count": 115,
     "metadata": {},
     "output_type": "execute_result"
    }
   ],
   "execution_count": 115
  },
  {
   "cell_type": "markdown",
   "id": "dc6d1252efae376d",
   "metadata": {},
   "source": [
    "Los campos tipo object representan campos que pueden contener registros nulos o errores de escritura. Se revisará el campo **id** para empezar.\n",
    "### ID"
   ]
  },
  {
   "cell_type": "code",
   "id": "2c68a4e74146c50d",
   "metadata": {
    "ExecuteTime": {
     "end_time": "2024-11-27T23:00:28.917799Z",
     "start_time": "2024-11-27T23:00:28.903294Z"
    }
   },
   "source": [
    "df['id'].isnull().sum()"
   ],
   "outputs": [
    {
     "data": {
      "text/plain": [
       "np.int64(0)"
      ]
     },
     "execution_count": 116,
     "metadata": {},
     "output_type": "execute_result"
    }
   ],
   "execution_count": 116
  },
  {
   "cell_type": "markdown",
   "id": "8d6a2a2a1361038c",
   "metadata": {},
   "source": [
    "Creamos una función para revisar si el campo **id** puede ser numérico o no."
   ]
  },
  {
   "cell_type": "code",
   "id": "c076fb956a8815a",
   "metadata": {
    "ExecuteTime": {
     "end_time": "2024-11-27T23:00:29.010566Z",
     "start_time": "2024-11-27T23:00:28.986032Z"
    }
   },
   "source": [
    "def check_id(id):\n",
    "    try:\n",
    "        int(id)\n",
    "        return True\n",
    "    except:\n",
    "        return False\n",
    "\n",
    "numericos = df['id'].apply(check_id).sum()\n",
    "no_numericos = df['id'].shape[0] - numericos\n",
    "print(f'Numericos: {numericos}, No numéricos: {no_numericos}')\n"
   ],
   "outputs": [
    {
     "name": "stdout",
     "output_type": "stream",
     "text": [
      "Numericos: 99823, No numéricos: 3\n"
     ]
    }
   ],
   "execution_count": 117
  },
  {
   "cell_type": "markdown",
   "id": "c734bd63417e88b8",
   "metadata": {},
   "source": [
    "Se observa que hay 3 registros que no son numéricos. Se revisarán estos registros."
   ]
  },
  {
   "cell_type": "code",
   "id": "cc416c565413bc21",
   "metadata": {
    "ExecuteTime": {
     "end_time": "2024-11-27T23:00:29.087650Z",
     "start_time": "2024-11-27T23:00:29.051152Z"
    }
   },
   "source": [
    "df[~df['id'].apply(check_id)]"
   ],
   "outputs": [
    {
     "data": {
      "text/plain": [
       "                                                      id            category  \\\n",
       "8808   ange of on-site community amenities. Coming so...                 Gym   \n",
       "33780  xpansive rooftop entertainment deck and many p...  Parking,Patio/Deck   \n",
       "75947  ellite,Clubhouse,Dishwasher,Garbage Disposal,G...                   2   \n",
       "\n",
       "      title body amenities  bathrooms   bedrooms   currency    fee has_photo  \\\n",
       "8808      1    1       USD         No  Thumbnail  Cats,Dogs   1380     $1,38   \n",
       "33780     1    1       USD         No  Thumbnail        NaN   2150     $2,15   \n",
       "75947     2  USD        No  Thumbnail  Cats,Dogs       1019  $1,02   Monthly   \n",
       "\n",
       "       ... price_display   price_type square_feet   address      cityname  \\\n",
       "8808   ...           NaN     Lawrence          NJ   402.659      -746.959   \n",
       "33780  ...           NaN  Los Angeles          CA   340.432    -1.182.509   \n",
       "75947  ...       Henrico           VA     376.249  -774.948  RentDigs.com   \n",
       "\n",
       "              state      latitude longitude  source time  \n",
       "8808   RentDigs.com  1.568782e+09       NaN     NaN  NaN  \n",
       "33780  RentDigs.com  1.568745e+09       NaN     NaN  NaN  \n",
       "75947    1550831790           NaN       NaN     NaN  NaN  \n",
       "\n",
       "[3 rows x 22 columns]"
      ],
      "text/html": [
       "<div>\n",
       "<style scoped>\n",
       "    .dataframe tbody tr th:only-of-type {\n",
       "        vertical-align: middle;\n",
       "    }\n",
       "\n",
       "    .dataframe tbody tr th {\n",
       "        vertical-align: top;\n",
       "    }\n",
       "\n",
       "    .dataframe thead th {\n",
       "        text-align: right;\n",
       "    }\n",
       "</style>\n",
       "<table border=\"1\" class=\"dataframe\">\n",
       "  <thead>\n",
       "    <tr style=\"text-align: right;\">\n",
       "      <th></th>\n",
       "      <th>id</th>\n",
       "      <th>category</th>\n",
       "      <th>title</th>\n",
       "      <th>body</th>\n",
       "      <th>amenities</th>\n",
       "      <th>bathrooms</th>\n",
       "      <th>bedrooms</th>\n",
       "      <th>currency</th>\n",
       "      <th>fee</th>\n",
       "      <th>has_photo</th>\n",
       "      <th>...</th>\n",
       "      <th>price_display</th>\n",
       "      <th>price_type</th>\n",
       "      <th>square_feet</th>\n",
       "      <th>address</th>\n",
       "      <th>cityname</th>\n",
       "      <th>state</th>\n",
       "      <th>latitude</th>\n",
       "      <th>longitude</th>\n",
       "      <th>source</th>\n",
       "      <th>time</th>\n",
       "    </tr>\n",
       "  </thead>\n",
       "  <tbody>\n",
       "    <tr>\n",
       "      <th>8808</th>\n",
       "      <td>ange of on-site community amenities. Coming so...</td>\n",
       "      <td>Gym</td>\n",
       "      <td>1</td>\n",
       "      <td>1</td>\n",
       "      <td>USD</td>\n",
       "      <td>No</td>\n",
       "      <td>Thumbnail</td>\n",
       "      <td>Cats,Dogs</td>\n",
       "      <td>1380</td>\n",
       "      <td>$1,38</td>\n",
       "      <td>...</td>\n",
       "      <td>NaN</td>\n",
       "      <td>Lawrence</td>\n",
       "      <td>NJ</td>\n",
       "      <td>402.659</td>\n",
       "      <td>-746.959</td>\n",
       "      <td>RentDigs.com</td>\n",
       "      <td>1.568782e+09</td>\n",
       "      <td>NaN</td>\n",
       "      <td>NaN</td>\n",
       "      <td>NaN</td>\n",
       "    </tr>\n",
       "    <tr>\n",
       "      <th>33780</th>\n",
       "      <td>xpansive rooftop entertainment deck and many p...</td>\n",
       "      <td>Parking,Patio/Deck</td>\n",
       "      <td>1</td>\n",
       "      <td>1</td>\n",
       "      <td>USD</td>\n",
       "      <td>No</td>\n",
       "      <td>Thumbnail</td>\n",
       "      <td>NaN</td>\n",
       "      <td>2150</td>\n",
       "      <td>$2,15</td>\n",
       "      <td>...</td>\n",
       "      <td>NaN</td>\n",
       "      <td>Los Angeles</td>\n",
       "      <td>CA</td>\n",
       "      <td>340.432</td>\n",
       "      <td>-1.182.509</td>\n",
       "      <td>RentDigs.com</td>\n",
       "      <td>1.568745e+09</td>\n",
       "      <td>NaN</td>\n",
       "      <td>NaN</td>\n",
       "      <td>NaN</td>\n",
       "    </tr>\n",
       "    <tr>\n",
       "      <th>75947</th>\n",
       "      <td>ellite,Clubhouse,Dishwasher,Garbage Disposal,G...</td>\n",
       "      <td>2</td>\n",
       "      <td>2</td>\n",
       "      <td>USD</td>\n",
       "      <td>No</td>\n",
       "      <td>Thumbnail</td>\n",
       "      <td>Cats,Dogs</td>\n",
       "      <td>1019</td>\n",
       "      <td>$1,02</td>\n",
       "      <td>Monthly</td>\n",
       "      <td>...</td>\n",
       "      <td>Henrico</td>\n",
       "      <td>VA</td>\n",
       "      <td>376.249</td>\n",
       "      <td>-774.948</td>\n",
       "      <td>RentDigs.com</td>\n",
       "      <td>1550831790</td>\n",
       "      <td>NaN</td>\n",
       "      <td>NaN</td>\n",
       "      <td>NaN</td>\n",
       "      <td>NaN</td>\n",
       "    </tr>\n",
       "  </tbody>\n",
       "</table>\n",
       "<p>3 rows × 22 columns</p>\n",
       "</div>"
      ]
     },
     "execution_count": 118,
     "metadata": {},
     "output_type": "execute_result"
    }
   ],
   "execution_count": 118
  },
  {
   "cell_type": "markdown",
   "id": "44134d659d5b3b15",
   "metadata": {},
   "source": [
    "Se procederá a eliminar estos registros, ya que no aportan información relevante."
   ]
  },
  {
   "cell_type": "code",
   "id": "c6b745e359f40ad9",
   "metadata": {
    "ExecuteTime": {
     "end_time": "2024-11-27T23:00:29.195664Z",
     "start_time": "2024-11-27T23:00:29.140225Z"
    }
   },
   "source": [
    "df = df[df['id'].apply(check_id)]"
   ],
   "outputs": [],
   "execution_count": 119
  },
  {
   "cell_type": "markdown",
   "id": "b5d3d51831d98de0",
   "metadata": {},
   "source": [
    "Se convierte el campo **id** a tipo numérico."
   ]
  },
  {
   "cell_type": "code",
   "id": "2df64775851e160c",
   "metadata": {
    "ExecuteTime": {
     "end_time": "2024-11-27T23:00:29.257325Z",
     "start_time": "2024-11-27T23:00:29.243326Z"
    }
   },
   "source": [
    "df['id'] = df['id'].astype(int)"
   ],
   "outputs": [],
   "execution_count": 120
  },
  {
   "cell_type": "markdown",
   "id": "ad9a45c361428999",
   "metadata": {},
   "source": [
    "### Revisar campos nulos"
   ]
  },
  {
   "cell_type": "code",
   "id": "d90024be9b70639e",
   "metadata": {
    "ExecuteTime": {
     "end_time": "2024-11-27T23:00:29.350334Z",
     "start_time": "2024-11-27T23:00:29.286325Z"
    }
   },
   "source": [
    "df.isnull().sum()"
   ],
   "outputs": [
    {
     "data": {
      "text/plain": [
       "id                   0\n",
       "category             0\n",
       "title                0\n",
       "body                 0\n",
       "amenities        16077\n",
       "bathrooms           66\n",
       "bedrooms           127\n",
       "currency             3\n",
       "fee                  3\n",
       "has_photo            3\n",
       "pets_allowed     60634\n",
       "price                4\n",
       "price_display        4\n",
       "price_type           3\n",
       "square_feet          3\n",
       "address          91880\n",
       "cityname           305\n",
       "state              305\n",
       "latitude            28\n",
       "longitude           28\n",
       "source               3\n",
       "time                 3\n",
       "dtype: int64"
      ]
     },
     "execution_count": 121,
     "metadata": {},
     "output_type": "execute_result"
    }
   ],
   "execution_count": 121
  },
  {
   "metadata": {},
   "cell_type": "markdown",
   "source": "#### Amenities",
   "id": "f5b9bfe4186d81b4"
  },
  {
   "cell_type": "code",
   "id": "6f7804a913763081",
   "metadata": {
    "ExecuteTime": {
     "end_time": "2024-11-27T23:00:29.412438Z",
     "start_time": "2024-11-27T23:00:29.398438Z"
    }
   },
   "source": "df['amenities'].value_counts()",
   "outputs": [
    {
     "data": {
      "text/plain": [
       "amenities\n",
       "Parking                                                                       6204\n",
       "Parking,Storage                                                               2117\n",
       "Gym,Pool                                                                      1875\n",
       "Pool                                                                          1487\n",
       "Gym,Parking,Pool                                                              1191\n",
       "                                                                              ... \n",
       "AC,Dishwasher,Gated,Gym,Patio/Deck,Refrigerator,View                             1\n",
       "Clubhouse,Internet Access,Parking,Pool,Storage                                   1\n",
       "Gym,Parking,Playground,Storage,Washer Dryer                                      1\n",
       "Basketball,Fireplace,Gym,Patio/Deck,Pool,Washer Dryer                            1\n",
       "Fireplace,Gym,Parking,Patio/Deck,Playground,Pool,Refrigerator,Washer Dryer       1\n",
       "Name: count, Length: 9841, dtype: int64"
      ]
     },
     "execution_count": 122,
     "metadata": {},
     "output_type": "execute_result"
    }
   ],
   "execution_count": 122
  },
  {
   "metadata": {},
   "cell_type": "markdown",
   "source": "El campo **amenities** tiene una lista de valores separados por coma. Se asume que los valores nulos son aquellos que no tienen amenities. Se reemplazarán estos valores por **sin_amenities**.",
   "id": "5f7d9826a9cbdfd8"
  },
  {
   "metadata": {
    "ExecuteTime": {
     "end_time": "2024-11-27T23:00:29.490452Z",
     "start_time": "2024-11-27T23:00:29.476451Z"
    }
   },
   "cell_type": "code",
   "source": "df['amenities'] = df['amenities'].fillna('sin_amenities')",
   "id": "500a9dc6c553bc19",
   "outputs": [],
   "execution_count": 123
  },
  {
   "metadata": {},
   "cell_type": "markdown",
   "source": "Dado que el campo **amenities** tiene valores separados por coma, se procederá a separar estos valores en columnas.",
   "id": "df003d926bcef4e9"
  },
  {
   "metadata": {
    "ExecuteTime": {
     "end_time": "2024-11-27T23:00:30.683506Z",
     "start_time": "2024-11-27T23:00:29.544757Z"
    }
   },
   "cell_type": "code",
   "source": [
    "def split_amenities(df):\n",
    "    # Convertir la columna 'amenities' en listas\n",
    "    df['amenities'] = df['amenities'].str.split(',')\n",
    "\n",
    "    # Crear variables dummy\n",
    "    amenities_dummies = df['amenities'].str.join('|').str.get_dummies()\n",
    "\n",
    "    # Unir las variables dummy con el DataFrame original\n",
    "    df = df.drop('amenities', axis=1).join(amenities_dummies)\n",
    "    return df\n",
    "\n",
    "\n",
    "df = split_amenities(df)\n",
    "df.head()\n"
   ],
   "id": "f73b2fcb5b00a834",
   "outputs": [
    {
     "data": {
      "text/plain": [
       "           id                category                            title  \\\n",
       "0  5668640009  housing/rent/apartment       One BR 507 & 509 Esplanade   \n",
       "1  5668639818  housing/rent/apartment      Three BR 146 Lochview Drive   \n",
       "2  5668639686  housing/rent/apartment  Three BR 3101 Morningside Drive   \n",
       "3  5668639659  housing/rent/apartment            Two BR 209 Aegean Way   \n",
       "4  5668639374  housing/rent/apartment         One BR 4805 Marquette NE   \n",
       "\n",
       "                                                body bathrooms bedrooms  \\\n",
       "0  This unit is located at 507 & 509 Esplanade, R...         1        1   \n",
       "1  This unit is located at 146 Lochview Drive, Ne...       1.5        3   \n",
       "2  This unit is located at 3101 Morningside Drive...         2        3   \n",
       "3  This unit is located at 209 Aegean Way, Vacavi...         1        2   \n",
       "4  This unit is located at 4805 Marquette NE, Alb...         1        1   \n",
       "\n",
       "  currency fee  has_photo pets_allowed  ...  Playground Pool Refrigerator  \\\n",
       "0      USD  No  Thumbnail         Cats  ...           0    0            0   \n",
       "1      USD  No  Thumbnail    Cats,Dogs  ...           0    0            0   \n",
       "2      USD  No  Thumbnail          NaN  ...           0    0            0   \n",
       "3      USD  No  Thumbnail    Cats,Dogs  ...           0    0            0   \n",
       "4      USD  No  Thumbnail    Cats,Dogs  ...           0    0            0   \n",
       "\n",
       "  Storage TV Tennis View  Washer Dryer Wood Floors sin_amenities  \n",
       "0       0  0      0    0             0           0             1  \n",
       "1       0  0      0    0             0           0             1  \n",
       "2       0  0      0    0             0           0             1  \n",
       "3       0  0      0    0             0           0             1  \n",
       "4       0  0      0    0             0           0             1  \n",
       "\n",
       "[5 rows x 49 columns]"
      ],
      "text/html": [
       "<div>\n",
       "<style scoped>\n",
       "    .dataframe tbody tr th:only-of-type {\n",
       "        vertical-align: middle;\n",
       "    }\n",
       "\n",
       "    .dataframe tbody tr th {\n",
       "        vertical-align: top;\n",
       "    }\n",
       "\n",
       "    .dataframe thead th {\n",
       "        text-align: right;\n",
       "    }\n",
       "</style>\n",
       "<table border=\"1\" class=\"dataframe\">\n",
       "  <thead>\n",
       "    <tr style=\"text-align: right;\">\n",
       "      <th></th>\n",
       "      <th>id</th>\n",
       "      <th>category</th>\n",
       "      <th>title</th>\n",
       "      <th>body</th>\n",
       "      <th>bathrooms</th>\n",
       "      <th>bedrooms</th>\n",
       "      <th>currency</th>\n",
       "      <th>fee</th>\n",
       "      <th>has_photo</th>\n",
       "      <th>pets_allowed</th>\n",
       "      <th>...</th>\n",
       "      <th>Playground</th>\n",
       "      <th>Pool</th>\n",
       "      <th>Refrigerator</th>\n",
       "      <th>Storage</th>\n",
       "      <th>TV</th>\n",
       "      <th>Tennis</th>\n",
       "      <th>View</th>\n",
       "      <th>Washer Dryer</th>\n",
       "      <th>Wood Floors</th>\n",
       "      <th>sin_amenities</th>\n",
       "    </tr>\n",
       "  </thead>\n",
       "  <tbody>\n",
       "    <tr>\n",
       "      <th>0</th>\n",
       "      <td>5668640009</td>\n",
       "      <td>housing/rent/apartment</td>\n",
       "      <td>One BR 507 &amp; 509 Esplanade</td>\n",
       "      <td>This unit is located at 507 &amp; 509 Esplanade, R...</td>\n",
       "      <td>1</td>\n",
       "      <td>1</td>\n",
       "      <td>USD</td>\n",
       "      <td>No</td>\n",
       "      <td>Thumbnail</td>\n",
       "      <td>Cats</td>\n",
       "      <td>...</td>\n",
       "      <td>0</td>\n",
       "      <td>0</td>\n",
       "      <td>0</td>\n",
       "      <td>0</td>\n",
       "      <td>0</td>\n",
       "      <td>0</td>\n",
       "      <td>0</td>\n",
       "      <td>0</td>\n",
       "      <td>0</td>\n",
       "      <td>1</td>\n",
       "    </tr>\n",
       "    <tr>\n",
       "      <th>1</th>\n",
       "      <td>5668639818</td>\n",
       "      <td>housing/rent/apartment</td>\n",
       "      <td>Three BR 146 Lochview Drive</td>\n",
       "      <td>This unit is located at 146 Lochview Drive, Ne...</td>\n",
       "      <td>1.5</td>\n",
       "      <td>3</td>\n",
       "      <td>USD</td>\n",
       "      <td>No</td>\n",
       "      <td>Thumbnail</td>\n",
       "      <td>Cats,Dogs</td>\n",
       "      <td>...</td>\n",
       "      <td>0</td>\n",
       "      <td>0</td>\n",
       "      <td>0</td>\n",
       "      <td>0</td>\n",
       "      <td>0</td>\n",
       "      <td>0</td>\n",
       "      <td>0</td>\n",
       "      <td>0</td>\n",
       "      <td>0</td>\n",
       "      <td>1</td>\n",
       "    </tr>\n",
       "    <tr>\n",
       "      <th>2</th>\n",
       "      <td>5668639686</td>\n",
       "      <td>housing/rent/apartment</td>\n",
       "      <td>Three BR 3101 Morningside Drive</td>\n",
       "      <td>This unit is located at 3101 Morningside Drive...</td>\n",
       "      <td>2</td>\n",
       "      <td>3</td>\n",
       "      <td>USD</td>\n",
       "      <td>No</td>\n",
       "      <td>Thumbnail</td>\n",
       "      <td>NaN</td>\n",
       "      <td>...</td>\n",
       "      <td>0</td>\n",
       "      <td>0</td>\n",
       "      <td>0</td>\n",
       "      <td>0</td>\n",
       "      <td>0</td>\n",
       "      <td>0</td>\n",
       "      <td>0</td>\n",
       "      <td>0</td>\n",
       "      <td>0</td>\n",
       "      <td>1</td>\n",
       "    </tr>\n",
       "    <tr>\n",
       "      <th>3</th>\n",
       "      <td>5668639659</td>\n",
       "      <td>housing/rent/apartment</td>\n",
       "      <td>Two BR 209 Aegean Way</td>\n",
       "      <td>This unit is located at 209 Aegean Way, Vacavi...</td>\n",
       "      <td>1</td>\n",
       "      <td>2</td>\n",
       "      <td>USD</td>\n",
       "      <td>No</td>\n",
       "      <td>Thumbnail</td>\n",
       "      <td>Cats,Dogs</td>\n",
       "      <td>...</td>\n",
       "      <td>0</td>\n",
       "      <td>0</td>\n",
       "      <td>0</td>\n",
       "      <td>0</td>\n",
       "      <td>0</td>\n",
       "      <td>0</td>\n",
       "      <td>0</td>\n",
       "      <td>0</td>\n",
       "      <td>0</td>\n",
       "      <td>1</td>\n",
       "    </tr>\n",
       "    <tr>\n",
       "      <th>4</th>\n",
       "      <td>5668639374</td>\n",
       "      <td>housing/rent/apartment</td>\n",
       "      <td>One BR 4805 Marquette NE</td>\n",
       "      <td>This unit is located at 4805 Marquette NE, Alb...</td>\n",
       "      <td>1</td>\n",
       "      <td>1</td>\n",
       "      <td>USD</td>\n",
       "      <td>No</td>\n",
       "      <td>Thumbnail</td>\n",
       "      <td>Cats,Dogs</td>\n",
       "      <td>...</td>\n",
       "      <td>0</td>\n",
       "      <td>0</td>\n",
       "      <td>0</td>\n",
       "      <td>0</td>\n",
       "      <td>0</td>\n",
       "      <td>0</td>\n",
       "      <td>0</td>\n",
       "      <td>0</td>\n",
       "      <td>0</td>\n",
       "      <td>1</td>\n",
       "    </tr>\n",
       "  </tbody>\n",
       "</table>\n",
       "<p>5 rows × 49 columns</p>\n",
       "</div>"
      ]
     },
     "execution_count": 124,
     "metadata": {},
     "output_type": "execute_result"
    }
   ],
   "execution_count": 124
  },
  {
   "metadata": {},
   "cell_type": "markdown",
   "source": "#### bathrooms",
   "id": "6f36dc5e002b8ad7"
  },
  {
   "metadata": {
    "ExecuteTime": {
     "end_time": "2024-11-27T23:00:30.729826Z",
     "start_time": "2024-11-27T23:00:30.715308Z"
    }
   },
   "cell_type": "code",
   "source": "df['bathrooms'].value_counts()",
   "id": "fee1bf7917c2ccff",
   "outputs": [
    {
     "data": {
      "text/plain": [
       "bathrooms\n",
       "1      56482\n",
       "2      36704\n",
       "1.5     3186\n",
       "2.5     2083\n",
       "3        891\n",
       "3.5      209\n",
       "4        120\n",
       "4.5       42\n",
       "5         20\n",
       "6          8\n",
       "5.5        4\n",
       "7          3\n",
       "8          2\n",
       "8.5        1\n",
       "9          1\n",
       "7.5        1\n",
       "Name: count, dtype: int64"
      ]
     },
     "execution_count": 125,
     "metadata": {},
     "output_type": "execute_result"
    }
   ],
   "execution_count": 125
  },
  {
   "metadata": {},
   "cell_type": "markdown",
   "source": "Se reemplazarán los valores nulos por 0, ya que se asume que estos registros no tienen baños.",
   "id": "2ef58f191db82a21"
  },
  {
   "metadata": {
    "ExecuteTime": {
     "end_time": "2024-11-27T23:00:30.822693Z",
     "start_time": "2024-11-27T23:00:30.808658Z"
    }
   },
   "cell_type": "code",
   "source": [
    "df['bathrooms'] = df['bathrooms'].fillna(0)\n",
    "df.value_counts('bathrooms')"
   ],
   "id": "cacd1ec3f42306f6",
   "outputs": [
    {
     "data": {
      "text/plain": [
       "bathrooms\n",
       "1      56482\n",
       "2      36704\n",
       "1.5     3186\n",
       "2.5     2083\n",
       "3        891\n",
       "3.5      209\n",
       "4        120\n",
       "0         66\n",
       "4.5       42\n",
       "5         20\n",
       "6          8\n",
       "5.5        4\n",
       "7          3\n",
       "8          2\n",
       "7.5        1\n",
       "8.5        1\n",
       "9          1\n",
       "Name: count, dtype: int64"
      ]
     },
     "execution_count": 126,
     "metadata": {},
     "output_type": "execute_result"
    }
   ],
   "execution_count": 126
  },
  {
   "metadata": {},
   "cell_type": "markdown",
   "source": "#### bedrooms",
   "id": "230ac34d1d0c6913"
  },
  {
   "metadata": {
    "ExecuteTime": {
     "end_time": "2024-11-27T23:00:30.962133Z",
     "start_time": "2024-11-27T23:00:30.932310Z"
    }
   },
   "cell_type": "code",
   "source": "df[df['bedrooms'].isnull()]",
   "id": "475c38fa6bdeb28c",
   "outputs": [
    {
     "data": {
      "text/plain": [
       "               id                category  \\\n",
       "790    5668638940  housing/rent/apartment   \n",
       "1653   5668627195  housing/rent/apartment   \n",
       "5024   5668640431  housing/rent/apartment   \n",
       "7212   5668272551  housing/rent/apartment   \n",
       "7245   5625835116  housing/rent/apartment   \n",
       "...           ...                     ...   \n",
       "97166  5121384474  housing/rent/apartment   \n",
       "97185  5121336668  housing/rent/apartment   \n",
       "98277  5121167377  housing/rent/apartment   \n",
       "99037  5121444937  housing/rent/apartment   \n",
       "99750  5121528395  housing/rent/apartment   \n",
       "\n",
       "                                                   title  \\\n",
       "790                      Studio apartment 606 Spokane Ct   \n",
       "1653                  Studio apartment 11 Calle de Arena   \n",
       "5024              Studio apartment 303-319 Market Street   \n",
       "7212                         bedroom in Medford MA 02155   \n",
       "7245   A-P-T Suites Lakeland - Low Weekly & Monthly R...   \n",
       "...                                                  ...   \n",
       "97166  Commuter's Dream in highly desirable Conshohoc...   \n",
       "97185               Apartment in great location. Cat OK!   \n",
       "98277                     Apartment for rent in Houston.   \n",
       "99037               Apartment in prime location. Pet OK!   \n",
       "99750                LOCATION LOCATION LOCATION. Pet OK!   \n",
       "\n",
       "                                                    body bathrooms bedrooms  \\\n",
       "790    This unit is located at 606 Spokane Ct, Frankl...       2.5      NaN   \n",
       "1653   This unit is located at eleven Calle de Arena,...         3      NaN   \n",
       "5024   This unit is located at 303-319 Market Street,...         2      NaN   \n",
       "7212   Medford Walk-In Store Front Commercial Retail ...         1      NaN   \n",
       "7245   A-P-T Suites is your next Extended Stay! We ha...         0      NaN   \n",
       "...                                                  ...       ...      ...   \n",
       "97166  Two minutes to 76, 476, turnpike and train. An...         1      NaN   \n",
       "97185  Forest Downs Apartments in Fitchburg feature a...         1      NaN   \n",
       "98277  Rent $475. Discount given for good credit scor...         1      NaN   \n",
       "99037  Oxford apartments is located in the heart of K...         1      NaN   \n",
       "99750  Store Frontage right on Rt 611 just above the ...         1      NaN   \n",
       "\n",
       "      currency fee  has_photo pets_allowed  ...  Playground Pool Refrigerator  \\\n",
       "790        USD  No  Thumbnail          NaN  ...           0    0            0   \n",
       "1653       USD  No  Thumbnail          NaN  ...           0    0            0   \n",
       "5024       USD  No  Thumbnail          NaN  ...           0    0            0   \n",
       "7212       USD  No  Thumbnail          NaN  ...           0    0            0   \n",
       "7245       USD  No  Thumbnail    Cats,Dogs  ...           0    1            1   \n",
       "...        ...  ..        ...          ...  ...         ...  ...          ...   \n",
       "97166      USD  No        Yes          NaN  ...           0    0            0   \n",
       "97185      USD  No        Yes         Cats  ...           0    0            0   \n",
       "98277      USD  No        Yes    Cats,Dogs  ...           0    0            1   \n",
       "99037      USD  No        Yes    Cats,Dogs  ...           0    0            0   \n",
       "99750      USD  No        Yes    Cats,Dogs  ...           0    0            0   \n",
       "\n",
       "      Storage TV Tennis View  Washer Dryer Wood Floors sin_amenities  \n",
       "790         0  0      0    0             0           0             1  \n",
       "1653        0  0      0    0             0           0             1  \n",
       "5024        0  0      0    0             0           0             1  \n",
       "7212        0  0      0    0             0           0             1  \n",
       "7245        1  1      0    0             0           0             0  \n",
       "...       ... ..    ...  ...           ...         ...           ...  \n",
       "97166       0  0      0    0             0           0             0  \n",
       "97185       0  0      0    0             1           0             0  \n",
       "98277       0  0      0    0             0           0             0  \n",
       "99037       0  0      0    0             0           0             1  \n",
       "99750       0  0      0    0             0           0             1  \n",
       "\n",
       "[127 rows x 49 columns]"
      ],
      "text/html": [
       "<div>\n",
       "<style scoped>\n",
       "    .dataframe tbody tr th:only-of-type {\n",
       "        vertical-align: middle;\n",
       "    }\n",
       "\n",
       "    .dataframe tbody tr th {\n",
       "        vertical-align: top;\n",
       "    }\n",
       "\n",
       "    .dataframe thead th {\n",
       "        text-align: right;\n",
       "    }\n",
       "</style>\n",
       "<table border=\"1\" class=\"dataframe\">\n",
       "  <thead>\n",
       "    <tr style=\"text-align: right;\">\n",
       "      <th></th>\n",
       "      <th>id</th>\n",
       "      <th>category</th>\n",
       "      <th>title</th>\n",
       "      <th>body</th>\n",
       "      <th>bathrooms</th>\n",
       "      <th>bedrooms</th>\n",
       "      <th>currency</th>\n",
       "      <th>fee</th>\n",
       "      <th>has_photo</th>\n",
       "      <th>pets_allowed</th>\n",
       "      <th>...</th>\n",
       "      <th>Playground</th>\n",
       "      <th>Pool</th>\n",
       "      <th>Refrigerator</th>\n",
       "      <th>Storage</th>\n",
       "      <th>TV</th>\n",
       "      <th>Tennis</th>\n",
       "      <th>View</th>\n",
       "      <th>Washer Dryer</th>\n",
       "      <th>Wood Floors</th>\n",
       "      <th>sin_amenities</th>\n",
       "    </tr>\n",
       "  </thead>\n",
       "  <tbody>\n",
       "    <tr>\n",
       "      <th>790</th>\n",
       "      <td>5668638940</td>\n",
       "      <td>housing/rent/apartment</td>\n",
       "      <td>Studio apartment 606 Spokane Ct</td>\n",
       "      <td>This unit is located at 606 Spokane Ct, Frankl...</td>\n",
       "      <td>2.5</td>\n",
       "      <td>NaN</td>\n",
       "      <td>USD</td>\n",
       "      <td>No</td>\n",
       "      <td>Thumbnail</td>\n",
       "      <td>NaN</td>\n",
       "      <td>...</td>\n",
       "      <td>0</td>\n",
       "      <td>0</td>\n",
       "      <td>0</td>\n",
       "      <td>0</td>\n",
       "      <td>0</td>\n",
       "      <td>0</td>\n",
       "      <td>0</td>\n",
       "      <td>0</td>\n",
       "      <td>0</td>\n",
       "      <td>1</td>\n",
       "    </tr>\n",
       "    <tr>\n",
       "      <th>1653</th>\n",
       "      <td>5668627195</td>\n",
       "      <td>housing/rent/apartment</td>\n",
       "      <td>Studio apartment 11 Calle de Arena</td>\n",
       "      <td>This unit is located at eleven Calle de Arena,...</td>\n",
       "      <td>3</td>\n",
       "      <td>NaN</td>\n",
       "      <td>USD</td>\n",
       "      <td>No</td>\n",
       "      <td>Thumbnail</td>\n",
       "      <td>NaN</td>\n",
       "      <td>...</td>\n",
       "      <td>0</td>\n",
       "      <td>0</td>\n",
       "      <td>0</td>\n",
       "      <td>0</td>\n",
       "      <td>0</td>\n",
       "      <td>0</td>\n",
       "      <td>0</td>\n",
       "      <td>0</td>\n",
       "      <td>0</td>\n",
       "      <td>1</td>\n",
       "    </tr>\n",
       "    <tr>\n",
       "      <th>5024</th>\n",
       "      <td>5668640431</td>\n",
       "      <td>housing/rent/apartment</td>\n",
       "      <td>Studio apartment 303-319 Market Street</td>\n",
       "      <td>This unit is located at 303-319 Market Street,...</td>\n",
       "      <td>2</td>\n",
       "      <td>NaN</td>\n",
       "      <td>USD</td>\n",
       "      <td>No</td>\n",
       "      <td>Thumbnail</td>\n",
       "      <td>NaN</td>\n",
       "      <td>...</td>\n",
       "      <td>0</td>\n",
       "      <td>0</td>\n",
       "      <td>0</td>\n",
       "      <td>0</td>\n",
       "      <td>0</td>\n",
       "      <td>0</td>\n",
       "      <td>0</td>\n",
       "      <td>0</td>\n",
       "      <td>0</td>\n",
       "      <td>1</td>\n",
       "    </tr>\n",
       "    <tr>\n",
       "      <th>7212</th>\n",
       "      <td>5668272551</td>\n",
       "      <td>housing/rent/apartment</td>\n",
       "      <td>bedroom in Medford MA 02155</td>\n",
       "      <td>Medford Walk-In Store Front Commercial Retail ...</td>\n",
       "      <td>1</td>\n",
       "      <td>NaN</td>\n",
       "      <td>USD</td>\n",
       "      <td>No</td>\n",
       "      <td>Thumbnail</td>\n",
       "      <td>NaN</td>\n",
       "      <td>...</td>\n",
       "      <td>0</td>\n",
       "      <td>0</td>\n",
       "      <td>0</td>\n",
       "      <td>0</td>\n",
       "      <td>0</td>\n",
       "      <td>0</td>\n",
       "      <td>0</td>\n",
       "      <td>0</td>\n",
       "      <td>0</td>\n",
       "      <td>1</td>\n",
       "    </tr>\n",
       "    <tr>\n",
       "      <th>7245</th>\n",
       "      <td>5625835116</td>\n",
       "      <td>housing/rent/apartment</td>\n",
       "      <td>A-P-T Suites Lakeland - Low Weekly &amp; Monthly R...</td>\n",
       "      <td>A-P-T Suites is your next Extended Stay! We ha...</td>\n",
       "      <td>0</td>\n",
       "      <td>NaN</td>\n",
       "      <td>USD</td>\n",
       "      <td>No</td>\n",
       "      <td>Thumbnail</td>\n",
       "      <td>Cats,Dogs</td>\n",
       "      <td>...</td>\n",
       "      <td>0</td>\n",
       "      <td>1</td>\n",
       "      <td>1</td>\n",
       "      <td>1</td>\n",
       "      <td>1</td>\n",
       "      <td>0</td>\n",
       "      <td>0</td>\n",
       "      <td>0</td>\n",
       "      <td>0</td>\n",
       "      <td>0</td>\n",
       "    </tr>\n",
       "    <tr>\n",
       "      <th>...</th>\n",
       "      <td>...</td>\n",
       "      <td>...</td>\n",
       "      <td>...</td>\n",
       "      <td>...</td>\n",
       "      <td>...</td>\n",
       "      <td>...</td>\n",
       "      <td>...</td>\n",
       "      <td>...</td>\n",
       "      <td>...</td>\n",
       "      <td>...</td>\n",
       "      <td>...</td>\n",
       "      <td>...</td>\n",
       "      <td>...</td>\n",
       "      <td>...</td>\n",
       "      <td>...</td>\n",
       "      <td>...</td>\n",
       "      <td>...</td>\n",
       "      <td>...</td>\n",
       "      <td>...</td>\n",
       "      <td>...</td>\n",
       "      <td>...</td>\n",
       "    </tr>\n",
       "    <tr>\n",
       "      <th>97166</th>\n",
       "      <td>5121384474</td>\n",
       "      <td>housing/rent/apartment</td>\n",
       "      <td>Commuter's Dream in highly desirable Conshohoc...</td>\n",
       "      <td>Two minutes to 76, 476, turnpike and train. An...</td>\n",
       "      <td>1</td>\n",
       "      <td>NaN</td>\n",
       "      <td>USD</td>\n",
       "      <td>No</td>\n",
       "      <td>Yes</td>\n",
       "      <td>NaN</td>\n",
       "      <td>...</td>\n",
       "      <td>0</td>\n",
       "      <td>0</td>\n",
       "      <td>0</td>\n",
       "      <td>0</td>\n",
       "      <td>0</td>\n",
       "      <td>0</td>\n",
       "      <td>0</td>\n",
       "      <td>0</td>\n",
       "      <td>0</td>\n",
       "      <td>0</td>\n",
       "    </tr>\n",
       "    <tr>\n",
       "      <th>97185</th>\n",
       "      <td>5121336668</td>\n",
       "      <td>housing/rent/apartment</td>\n",
       "      <td>Apartment in great location. Cat OK!</td>\n",
       "      <td>Forest Downs Apartments in Fitchburg feature a...</td>\n",
       "      <td>1</td>\n",
       "      <td>NaN</td>\n",
       "      <td>USD</td>\n",
       "      <td>No</td>\n",
       "      <td>Yes</td>\n",
       "      <td>Cats</td>\n",
       "      <td>...</td>\n",
       "      <td>0</td>\n",
       "      <td>0</td>\n",
       "      <td>0</td>\n",
       "      <td>0</td>\n",
       "      <td>0</td>\n",
       "      <td>0</td>\n",
       "      <td>0</td>\n",
       "      <td>1</td>\n",
       "      <td>0</td>\n",
       "      <td>0</td>\n",
       "    </tr>\n",
       "    <tr>\n",
       "      <th>98277</th>\n",
       "      <td>5121167377</td>\n",
       "      <td>housing/rent/apartment</td>\n",
       "      <td>Apartment for rent in Houston.</td>\n",
       "      <td>Rent $475. Discount given for good credit scor...</td>\n",
       "      <td>1</td>\n",
       "      <td>NaN</td>\n",
       "      <td>USD</td>\n",
       "      <td>No</td>\n",
       "      <td>Yes</td>\n",
       "      <td>Cats,Dogs</td>\n",
       "      <td>...</td>\n",
       "      <td>0</td>\n",
       "      <td>0</td>\n",
       "      <td>1</td>\n",
       "      <td>0</td>\n",
       "      <td>0</td>\n",
       "      <td>0</td>\n",
       "      <td>0</td>\n",
       "      <td>0</td>\n",
       "      <td>0</td>\n",
       "      <td>0</td>\n",
       "    </tr>\n",
       "    <tr>\n",
       "      <th>99037</th>\n",
       "      <td>5121444937</td>\n",
       "      <td>housing/rent/apartment</td>\n",
       "      <td>Apartment in prime location. Pet OK!</td>\n",
       "      <td>Oxford apartments is located in the heart of K...</td>\n",
       "      <td>1</td>\n",
       "      <td>NaN</td>\n",
       "      <td>USD</td>\n",
       "      <td>No</td>\n",
       "      <td>Yes</td>\n",
       "      <td>Cats,Dogs</td>\n",
       "      <td>...</td>\n",
       "      <td>0</td>\n",
       "      <td>0</td>\n",
       "      <td>0</td>\n",
       "      <td>0</td>\n",
       "      <td>0</td>\n",
       "      <td>0</td>\n",
       "      <td>0</td>\n",
       "      <td>0</td>\n",
       "      <td>0</td>\n",
       "      <td>1</td>\n",
       "    </tr>\n",
       "    <tr>\n",
       "      <th>99750</th>\n",
       "      <td>5121528395</td>\n",
       "      <td>housing/rent/apartment</td>\n",
       "      <td>LOCATION LOCATION LOCATION. Pet OK!</td>\n",
       "      <td>Store Frontage right on Rt 611 just above the ...</td>\n",
       "      <td>1</td>\n",
       "      <td>NaN</td>\n",
       "      <td>USD</td>\n",
       "      <td>No</td>\n",
       "      <td>Yes</td>\n",
       "      <td>Cats,Dogs</td>\n",
       "      <td>...</td>\n",
       "      <td>0</td>\n",
       "      <td>0</td>\n",
       "      <td>0</td>\n",
       "      <td>0</td>\n",
       "      <td>0</td>\n",
       "      <td>0</td>\n",
       "      <td>0</td>\n",
       "      <td>0</td>\n",
       "      <td>0</td>\n",
       "      <td>1</td>\n",
       "    </tr>\n",
       "  </tbody>\n",
       "</table>\n",
       "<p>127 rows × 49 columns</p>\n",
       "</div>"
      ]
     },
     "execution_count": 127,
     "metadata": {},
     "output_type": "execute_result"
    }
   ],
   "execution_count": 127
  },
  {
   "metadata": {},
   "cell_type": "markdown",
   "source": "Por una razón desconocida, hay registros que tienen **bedrooms** nulos. Se eliminarán estos registros, ya que por una razón lógica, no se puede arrendar un departamento sin dormitorios.",
   "id": "db1e633857db474f"
  },
  {
   "metadata": {
    "ExecuteTime": {
     "end_time": "2024-11-27T23:00:31.086112Z",
     "start_time": "2024-11-27T23:00:31.056617Z"
    }
   },
   "cell_type": "code",
   "source": [
    "df = df.dropna(subset=['bedrooms'])\n",
    "df['bedrooms'].isnull().sum()"
   ],
   "id": "c66d71884e923dd1",
   "outputs": [
    {
     "data": {
      "text/plain": [
       "np.int64(0)"
      ]
     },
     "execution_count": 128,
     "metadata": {},
     "output_type": "execute_result"
    }
   ],
   "execution_count": 128
  },
  {
   "metadata": {},
   "cell_type": "markdown",
   "source": "#### pets_allowed",
   "id": "84bb013c9f70c2be"
  },
  {
   "metadata": {
    "ExecuteTime": {
     "end_time": "2024-11-27T23:00:31.163624Z",
     "start_time": "2024-11-27T23:00:31.146123Z"
    }
   },
   "cell_type": "code",
   "source": "df['pets_allowed'].value_counts()",
   "id": "52fef3c3823ac9ab",
   "outputs": [
    {
     "data": {
      "text/plain": [
       "pets_allowed\n",
       "Cats,Dogs         37187\n",
       "Cats               1844\n",
       "Dogs                127\n",
       "Cats,Dogs,None        1\n",
       "Name: count, dtype: int64"
      ]
     },
     "execution_count": 129,
     "metadata": {},
     "output_type": "execute_result"
    }
   ],
   "execution_count": 129
  },
  {
   "metadata": {},
   "cell_type": "markdown",
   "source": "Se observa que no existen registros que no permitan mascotas. Se reemplazarán los valores nulos por **no**. Adicionalmente se observa que un registro tiene un valor None, el cual se corregirá.",
   "id": "949a7acc55be729a"
  },
  {
   "metadata": {
    "ExecuteTime": {
     "end_time": "2024-11-27T23:00:31.303008Z",
     "start_time": "2024-11-27T23:00:31.289003Z"
    }
   },
   "cell_type": "code",
   "source": [
    "df.loc[df['pets_allowed'].isnull(), 'pets_allowed'] = 'no'\n",
    "df.loc[df['pets_allowed'] == 'Cats,Dogs,None', 'pets_allowed'] = 'Cats,Dogs'"
   ],
   "id": "eff26c8b2a843d50",
   "outputs": [],
   "execution_count": 130
  },
  {
   "cell_type": "markdown",
   "id": "bb6eeaea3b330703",
   "metadata": {},
   "source": [
    "### Revisar duplicados"
   ]
  },
  {
   "cell_type": "code",
   "id": "10fa36810d2565ea",
   "metadata": {
    "ExecuteTime": {
     "end_time": "2024-11-27T23:00:31.720794Z",
     "start_time": "2024-11-27T23:00:31.363448Z"
    }
   },
   "source": [
    "# Revisar si hay valores duplicados\n",
    "df.duplicated().sum()"
   ],
   "outputs": [
    {
     "data": {
      "text/plain": [
       "np.int64(84)"
      ]
     },
     "execution_count": 131,
     "metadata": {},
     "output_type": "execute_result"
    }
   ],
   "execution_count": 131
  },
  {
   "cell_type": "markdown",
   "id": "ed45037db502072b",
   "metadata": {},
   "source": [
    "Se remueven los registros duplicados."
   ]
  },
  {
   "cell_type": "code",
   "id": "f3a583d408d05ce6",
   "metadata": {
    "ExecuteTime": {
     "end_time": "2024-11-27T23:00:32.092918Z",
     "start_time": "2024-11-27T23:00:31.772824Z"
    }
   },
   "source": [
    "df = df.drop_duplicates()\n",
    "df.shape"
   ],
   "outputs": [
    {
     "data": {
      "text/plain": [
       "(99612, 49)"
      ]
     },
     "execution_count": 132,
     "metadata": {},
     "output_type": "execute_result"
    }
   ],
   "execution_count": 132
  },
  {
   "cell_type": "markdown",
   "id": "b53473c05ac170fb",
   "metadata": {},
   "source": []
  }
 ],
 "metadata": {
  "kernelspec": {
   "display_name": "Python 3",
   "language": "python",
   "name": "python3"
  },
  "language_info": {
   "codemirror_mode": {
    "name": "ipython",
    "version": 2
   },
   "file_extension": ".py",
   "mimetype": "text/x-python",
   "name": "python",
   "nbconvert_exporter": "python",
   "pygments_lexer": "ipython2",
   "version": "2.7.6"
  }
 },
 "nbformat": 4,
 "nbformat_minor": 5
}
