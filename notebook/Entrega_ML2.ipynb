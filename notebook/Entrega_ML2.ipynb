{
 "cells": [
  {
   "metadata": {},
   "cell_type": "markdown",
   "source": [
    "Autores:\n",
    "- Hernán Francisco Díaz Farías\n",
    "- María Angélica Parra Mendoza\n",
    "- Loreto Constanza Zavala Gaete"
   ],
   "id": "2be8b7681cd8cd9b"
  },
  {
   "metadata": {},
   "cell_type": "markdown",
   "source": [
    "# Tarea 1\n",
    "### Realice una exploración de datos para ver que datos existen, cuales de ellos entregan información relevante para el problema y cuales no, eliminación (si corresponde) de datos nulos y duplicados, entre otros.\n",
    "\n",
    "#### Librerías a utilizar"
   ],
   "id": "324ed88372e65c36"
  },
  {
   "metadata": {
    "ExecuteTime": {
     "end_time": "2024-11-29T23:14:49.546874Z",
     "start_time": "2024-11-29T23:14:49.533358Z"
    }
   },
   "cell_type": "code",
   "source": [
    "import pandas as pd\n",
    "import numpy as np\n",
    "from sklearn.cluster import KMeans\n",
    "from sklearn import preprocessing\n",
    "import matplotlib.pyplot as plt\n",
    "#from kmodes.kmodes import KModes\n",
    "from kmodes.kprototypes import KPrototypes"
   ],
   "id": "6d006a13529ebfe8",
   "outputs": [],
   "execution_count": 29
  },
  {
   "metadata": {},
   "cell_type": "markdown",
   "source": "#### Cargar el archivo csv",
   "id": "571c535c85fc0251"
  },
  {
   "metadata": {
    "ExecuteTime": {
     "end_time": "2024-11-29T23:14:50.618697Z",
     "start_time": "2024-11-29T23:14:49.562910Z"
    }
   },
   "cell_type": "code",
   "source": [
    "# Cargar el archivo csv\n",
    "df = (\n",
    "    pd.read_csv(\n",
    "        '../data/apartments_for_rent_classified_100K.csv',\n",
    "        encoding='ISO-8859-1',\n",
    "        sep=';',\n",
    "        low_memory=False # Para evitar warnings de dtype\n",
    "        )\n",
    "    )"
   ],
   "id": "516eda467c7c2cac",
   "outputs": [],
   "execution_count": 30
  },
  {
   "metadata": {},
   "cell_type": "markdown",
   "source": "#### Visualización de los datos",
   "id": "c8773545f3d2cf2f"
  },
  {
   "metadata": {
    "ExecuteTime": {
     "end_time": "2024-11-29T23:14:50.649788Z",
     "start_time": "2024-11-29T23:14:50.635694Z"
    }
   },
   "cell_type": "code",
   "source": "df.head()",
   "id": "31e4d4b93782661b",
   "outputs": [
    {
     "data": {
      "text/plain": [
       "           id                category                            title  \\\n",
       "0  5668640009  housing/rent/apartment       One BR 507 & 509 Esplanade   \n",
       "1  5668639818  housing/rent/apartment      Three BR 146 Lochview Drive   \n",
       "2  5668639686  housing/rent/apartment  Three BR 3101 Morningside Drive   \n",
       "3  5668639659  housing/rent/apartment            Two BR 209 Aegean Way   \n",
       "4  5668639374  housing/rent/apartment         One BR 4805 Marquette NE   \n",
       "\n",
       "                                                body amenities bathrooms  \\\n",
       "0  This unit is located at 507 & 509 Esplanade, R...       NaN         1   \n",
       "1  This unit is located at 146 Lochview Drive, Ne...       NaN       1.5   \n",
       "2  This unit is located at 3101 Morningside Drive...       NaN         2   \n",
       "3  This unit is located at 209 Aegean Way, Vacavi...       NaN         1   \n",
       "4  This unit is located at 4805 Marquette NE, Alb...       NaN         1   \n",
       "\n",
       "  bedrooms currency fee  has_photo  ... price_display  price_type square_feet  \\\n",
       "0        1      USD  No  Thumbnail  ...         $2,20     Monthly         542   \n",
       "1        3      USD  No  Thumbnail  ...         $1,25     Monthly        1500   \n",
       "2        3      USD  No  Thumbnail  ...         $1,40     Monthly        1650   \n",
       "3        2      USD  No  Thumbnail  ...         $1,60     Monthly         820   \n",
       "4        1      USD  No  Thumbnail  ...          $975     Monthly         624   \n",
       "\n",
       "               address       cityname state latitude   longitude     source  \\\n",
       "0   507  509 Esplanade  Redondo Beach    CA  338.520  -1.183.759  RentLingo   \n",
       "1      146 Lochview Dr   Newport News    VA  370.867    -764.941  RentLingo   \n",
       "2  3101 Morningside Dr        Raleigh    NC  358.230    -786.438  RentLingo   \n",
       "3       209 Aegean Way      Vacaville    CA  383.622  -1.219.712  RentLingo   \n",
       "4    4805 Marquette NE    Albuquerque    NM  351.038  -1.066.110  RentLingo   \n",
       "\n",
       "           time  \n",
       "0  1.577360e+09  \n",
       "1  1.577360e+09  \n",
       "2  1.577360e+09  \n",
       "3  1.577360e+09  \n",
       "4  1.577360e+09  \n",
       "\n",
       "[5 rows x 22 columns]"
      ],
      "text/html": [
       "<div>\n",
       "<style scoped>\n",
       "    .dataframe tbody tr th:only-of-type {\n",
       "        vertical-align: middle;\n",
       "    }\n",
       "\n",
       "    .dataframe tbody tr th {\n",
       "        vertical-align: top;\n",
       "    }\n",
       "\n",
       "    .dataframe thead th {\n",
       "        text-align: right;\n",
       "    }\n",
       "</style>\n",
       "<table border=\"1\" class=\"dataframe\">\n",
       "  <thead>\n",
       "    <tr style=\"text-align: right;\">\n",
       "      <th></th>\n",
       "      <th>id</th>\n",
       "      <th>category</th>\n",
       "      <th>title</th>\n",
       "      <th>body</th>\n",
       "      <th>amenities</th>\n",
       "      <th>bathrooms</th>\n",
       "      <th>bedrooms</th>\n",
       "      <th>currency</th>\n",
       "      <th>fee</th>\n",
       "      <th>has_photo</th>\n",
       "      <th>...</th>\n",
       "      <th>price_display</th>\n",
       "      <th>price_type</th>\n",
       "      <th>square_feet</th>\n",
       "      <th>address</th>\n",
       "      <th>cityname</th>\n",
       "      <th>state</th>\n",
       "      <th>latitude</th>\n",
       "      <th>longitude</th>\n",
       "      <th>source</th>\n",
       "      <th>time</th>\n",
       "    </tr>\n",
       "  </thead>\n",
       "  <tbody>\n",
       "    <tr>\n",
       "      <th>0</th>\n",
       "      <td>5668640009</td>\n",
       "      <td>housing/rent/apartment</td>\n",
       "      <td>One BR 507 &amp; 509 Esplanade</td>\n",
       "      <td>This unit is located at 507 &amp; 509 Esplanade, R...</td>\n",
       "      <td>NaN</td>\n",
       "      <td>1</td>\n",
       "      <td>1</td>\n",
       "      <td>USD</td>\n",
       "      <td>No</td>\n",
       "      <td>Thumbnail</td>\n",
       "      <td>...</td>\n",
       "      <td>$2,20</td>\n",
       "      <td>Monthly</td>\n",
       "      <td>542</td>\n",
       "      <td>507  509 Esplanade</td>\n",
       "      <td>Redondo Beach</td>\n",
       "      <td>CA</td>\n",
       "      <td>338.520</td>\n",
       "      <td>-1.183.759</td>\n",
       "      <td>RentLingo</td>\n",
       "      <td>1.577360e+09</td>\n",
       "    </tr>\n",
       "    <tr>\n",
       "      <th>1</th>\n",
       "      <td>5668639818</td>\n",
       "      <td>housing/rent/apartment</td>\n",
       "      <td>Three BR 146 Lochview Drive</td>\n",
       "      <td>This unit is located at 146 Lochview Drive, Ne...</td>\n",
       "      <td>NaN</td>\n",
       "      <td>1.5</td>\n",
       "      <td>3</td>\n",
       "      <td>USD</td>\n",
       "      <td>No</td>\n",
       "      <td>Thumbnail</td>\n",
       "      <td>...</td>\n",
       "      <td>$1,25</td>\n",
       "      <td>Monthly</td>\n",
       "      <td>1500</td>\n",
       "      <td>146 Lochview Dr</td>\n",
       "      <td>Newport News</td>\n",
       "      <td>VA</td>\n",
       "      <td>370.867</td>\n",
       "      <td>-764.941</td>\n",
       "      <td>RentLingo</td>\n",
       "      <td>1.577360e+09</td>\n",
       "    </tr>\n",
       "    <tr>\n",
       "      <th>2</th>\n",
       "      <td>5668639686</td>\n",
       "      <td>housing/rent/apartment</td>\n",
       "      <td>Three BR 3101 Morningside Drive</td>\n",
       "      <td>This unit is located at 3101 Morningside Drive...</td>\n",
       "      <td>NaN</td>\n",
       "      <td>2</td>\n",
       "      <td>3</td>\n",
       "      <td>USD</td>\n",
       "      <td>No</td>\n",
       "      <td>Thumbnail</td>\n",
       "      <td>...</td>\n",
       "      <td>$1,40</td>\n",
       "      <td>Monthly</td>\n",
       "      <td>1650</td>\n",
       "      <td>3101 Morningside Dr</td>\n",
       "      <td>Raleigh</td>\n",
       "      <td>NC</td>\n",
       "      <td>358.230</td>\n",
       "      <td>-786.438</td>\n",
       "      <td>RentLingo</td>\n",
       "      <td>1.577360e+09</td>\n",
       "    </tr>\n",
       "    <tr>\n",
       "      <th>3</th>\n",
       "      <td>5668639659</td>\n",
       "      <td>housing/rent/apartment</td>\n",
       "      <td>Two BR 209 Aegean Way</td>\n",
       "      <td>This unit is located at 209 Aegean Way, Vacavi...</td>\n",
       "      <td>NaN</td>\n",
       "      <td>1</td>\n",
       "      <td>2</td>\n",
       "      <td>USD</td>\n",
       "      <td>No</td>\n",
       "      <td>Thumbnail</td>\n",
       "      <td>...</td>\n",
       "      <td>$1,60</td>\n",
       "      <td>Monthly</td>\n",
       "      <td>820</td>\n",
       "      <td>209 Aegean Way</td>\n",
       "      <td>Vacaville</td>\n",
       "      <td>CA</td>\n",
       "      <td>383.622</td>\n",
       "      <td>-1.219.712</td>\n",
       "      <td>RentLingo</td>\n",
       "      <td>1.577360e+09</td>\n",
       "    </tr>\n",
       "    <tr>\n",
       "      <th>4</th>\n",
       "      <td>5668639374</td>\n",
       "      <td>housing/rent/apartment</td>\n",
       "      <td>One BR 4805 Marquette NE</td>\n",
       "      <td>This unit is located at 4805 Marquette NE, Alb...</td>\n",
       "      <td>NaN</td>\n",
       "      <td>1</td>\n",
       "      <td>1</td>\n",
       "      <td>USD</td>\n",
       "      <td>No</td>\n",
       "      <td>Thumbnail</td>\n",
       "      <td>...</td>\n",
       "      <td>$975</td>\n",
       "      <td>Monthly</td>\n",
       "      <td>624</td>\n",
       "      <td>4805 Marquette NE</td>\n",
       "      <td>Albuquerque</td>\n",
       "      <td>NM</td>\n",
       "      <td>351.038</td>\n",
       "      <td>-1.066.110</td>\n",
       "      <td>RentLingo</td>\n",
       "      <td>1.577360e+09</td>\n",
       "    </tr>\n",
       "  </tbody>\n",
       "</table>\n",
       "<p>5 rows × 22 columns</p>\n",
       "</div>"
      ]
     },
     "execution_count": 31,
     "metadata": {},
     "output_type": "execute_result"
    }
   ],
   "execution_count": 31
  },
  {
   "metadata": {
    "ExecuteTime": {
     "end_time": "2024-11-29T23:14:50.712243Z",
     "start_time": "2024-11-29T23:14:50.697726Z"
    }
   },
   "cell_type": "code",
   "source": "df.dtypes",
   "id": "239a04b24b3f01d9",
   "outputs": [
    {
     "data": {
      "text/plain": [
       "id                object\n",
       "category          object\n",
       "title             object\n",
       "body              object\n",
       "amenities         object\n",
       "bathrooms         object\n",
       "bedrooms          object\n",
       "currency          object\n",
       "fee               object\n",
       "has_photo         object\n",
       "pets_allowed      object\n",
       "price            float64\n",
       "price_display     object\n",
       "price_type        object\n",
       "square_feet       object\n",
       "address           object\n",
       "cityname          object\n",
       "state             object\n",
       "latitude         float64\n",
       "longitude         object\n",
       "source            object\n",
       "time             float64\n",
       "dtype: object"
      ]
     },
     "execution_count": 32,
     "metadata": {},
     "output_type": "execute_result"
    }
   ],
   "execution_count": 32
  },
  {
   "metadata": {},
   "cell_type": "markdown",
   "source": [
    "Los campos tipo object representan campos que pueden contener registros nulos o errores de escritura. Se revisará el campo **id** para empezar.\n",
    "Creamos una función para revisar si el campo **id** es numérico o no."
   ],
   "id": "dc7a1f149374a8ab"
  },
  {
   "metadata": {
    "ExecuteTime": {
     "end_time": "2024-11-29T23:14:50.821449Z",
     "start_time": "2024-11-29T23:14:50.791398Z"
    }
   },
   "cell_type": "code",
   "source": [
    "def check_id(id):\n",
    "    try:\n",
    "        int(id)\n",
    "        return True\n",
    "    except:\n",
    "        return False\n",
    "\n",
    "numericos = df['id'].apply(check_id).sum()\n",
    "no_numericos = df['id'].shape[0] - numericos\n",
    "print(f'Numericos: {numericos}, No numéricos: {no_numericos}')"
   ],
   "id": "bc6553fda27ab371",
   "outputs": [
    {
     "name": "stdout",
     "output_type": "stream",
     "text": [
      "Numericos: 99823, No numéricos: 3\n"
     ]
    }
   ],
   "execution_count": 33
  },
  {
   "metadata": {},
   "cell_type": "markdown",
   "source": "Se observa que hay 3 registros que no son numéricos. Se revisarán estos registros.",
   "id": "e968105f30721ba"
  },
  {
   "metadata": {
    "ExecuteTime": {
     "end_time": "2024-11-29T23:14:50.945601Z",
     "start_time": "2024-11-29T23:14:50.912626Z"
    }
   },
   "cell_type": "code",
   "source": "df[~df['id'].apply(check_id)]",
   "id": "c3c5002476fda5eb",
   "outputs": [
    {
     "data": {
      "text/plain": [
       "                                                      id            category  \\\n",
       "8808   ange of on-site community amenities. Coming so...                 Gym   \n",
       "33780  xpansive rooftop entertainment deck and many p...  Parking,Patio/Deck   \n",
       "75947  ellite,Clubhouse,Dishwasher,Garbage Disposal,G...                   2   \n",
       "\n",
       "      title body amenities  bathrooms   bedrooms   currency    fee has_photo  \\\n",
       "8808      1    1       USD         No  Thumbnail  Cats,Dogs   1380     $1,38   \n",
       "33780     1    1       USD         No  Thumbnail        NaN   2150     $2,15   \n",
       "75947     2  USD        No  Thumbnail  Cats,Dogs       1019  $1,02   Monthly   \n",
       "\n",
       "       ... price_display   price_type square_feet   address      cityname  \\\n",
       "8808   ...           NaN     Lawrence          NJ   402.659      -746.959   \n",
       "33780  ...           NaN  Los Angeles          CA   340.432    -1.182.509   \n",
       "75947  ...       Henrico           VA     376.249  -774.948  RentDigs.com   \n",
       "\n",
       "              state      latitude longitude  source time  \n",
       "8808   RentDigs.com  1.568782e+09       NaN     NaN  NaN  \n",
       "33780  RentDigs.com  1.568745e+09       NaN     NaN  NaN  \n",
       "75947    1550831790           NaN       NaN     NaN  NaN  \n",
       "\n",
       "[3 rows x 22 columns]"
      ],
      "text/html": [
       "<div>\n",
       "<style scoped>\n",
       "    .dataframe tbody tr th:only-of-type {\n",
       "        vertical-align: middle;\n",
       "    }\n",
       "\n",
       "    .dataframe tbody tr th {\n",
       "        vertical-align: top;\n",
       "    }\n",
       "\n",
       "    .dataframe thead th {\n",
       "        text-align: right;\n",
       "    }\n",
       "</style>\n",
       "<table border=\"1\" class=\"dataframe\">\n",
       "  <thead>\n",
       "    <tr style=\"text-align: right;\">\n",
       "      <th></th>\n",
       "      <th>id</th>\n",
       "      <th>category</th>\n",
       "      <th>title</th>\n",
       "      <th>body</th>\n",
       "      <th>amenities</th>\n",
       "      <th>bathrooms</th>\n",
       "      <th>bedrooms</th>\n",
       "      <th>currency</th>\n",
       "      <th>fee</th>\n",
       "      <th>has_photo</th>\n",
       "      <th>...</th>\n",
       "      <th>price_display</th>\n",
       "      <th>price_type</th>\n",
       "      <th>square_feet</th>\n",
       "      <th>address</th>\n",
       "      <th>cityname</th>\n",
       "      <th>state</th>\n",
       "      <th>latitude</th>\n",
       "      <th>longitude</th>\n",
       "      <th>source</th>\n",
       "      <th>time</th>\n",
       "    </tr>\n",
       "  </thead>\n",
       "  <tbody>\n",
       "    <tr>\n",
       "      <th>8808</th>\n",
       "      <td>ange of on-site community amenities. Coming so...</td>\n",
       "      <td>Gym</td>\n",
       "      <td>1</td>\n",
       "      <td>1</td>\n",
       "      <td>USD</td>\n",
       "      <td>No</td>\n",
       "      <td>Thumbnail</td>\n",
       "      <td>Cats,Dogs</td>\n",
       "      <td>1380</td>\n",
       "      <td>$1,38</td>\n",
       "      <td>...</td>\n",
       "      <td>NaN</td>\n",
       "      <td>Lawrence</td>\n",
       "      <td>NJ</td>\n",
       "      <td>402.659</td>\n",
       "      <td>-746.959</td>\n",
       "      <td>RentDigs.com</td>\n",
       "      <td>1.568782e+09</td>\n",
       "      <td>NaN</td>\n",
       "      <td>NaN</td>\n",
       "      <td>NaN</td>\n",
       "    </tr>\n",
       "    <tr>\n",
       "      <th>33780</th>\n",
       "      <td>xpansive rooftop entertainment deck and many p...</td>\n",
       "      <td>Parking,Patio/Deck</td>\n",
       "      <td>1</td>\n",
       "      <td>1</td>\n",
       "      <td>USD</td>\n",
       "      <td>No</td>\n",
       "      <td>Thumbnail</td>\n",
       "      <td>NaN</td>\n",
       "      <td>2150</td>\n",
       "      <td>$2,15</td>\n",
       "      <td>...</td>\n",
       "      <td>NaN</td>\n",
       "      <td>Los Angeles</td>\n",
       "      <td>CA</td>\n",
       "      <td>340.432</td>\n",
       "      <td>-1.182.509</td>\n",
       "      <td>RentDigs.com</td>\n",
       "      <td>1.568745e+09</td>\n",
       "      <td>NaN</td>\n",
       "      <td>NaN</td>\n",
       "      <td>NaN</td>\n",
       "    </tr>\n",
       "    <tr>\n",
       "      <th>75947</th>\n",
       "      <td>ellite,Clubhouse,Dishwasher,Garbage Disposal,G...</td>\n",
       "      <td>2</td>\n",
       "      <td>2</td>\n",
       "      <td>USD</td>\n",
       "      <td>No</td>\n",
       "      <td>Thumbnail</td>\n",
       "      <td>Cats,Dogs</td>\n",
       "      <td>1019</td>\n",
       "      <td>$1,02</td>\n",
       "      <td>Monthly</td>\n",
       "      <td>...</td>\n",
       "      <td>Henrico</td>\n",
       "      <td>VA</td>\n",
       "      <td>376.249</td>\n",
       "      <td>-774.948</td>\n",
       "      <td>RentDigs.com</td>\n",
       "      <td>1550831790</td>\n",
       "      <td>NaN</td>\n",
       "      <td>NaN</td>\n",
       "      <td>NaN</td>\n",
       "      <td>NaN</td>\n",
       "    </tr>\n",
       "  </tbody>\n",
       "</table>\n",
       "<p>3 rows × 22 columns</p>\n",
       "</div>"
      ]
     },
     "execution_count": 34,
     "metadata": {},
     "output_type": "execute_result"
    }
   ],
   "execution_count": 34
  },
  {
   "metadata": {},
   "cell_type": "markdown",
   "source": "Se procederá a eliminar estos registros.",
   "id": "bb549631dd59106a"
  },
  {
   "metadata": {
    "ExecuteTime": {
     "end_time": "2024-11-29T23:14:51.069647Z",
     "start_time": "2024-11-29T23:14:51.024571Z"
    }
   },
   "cell_type": "code",
   "source": "df = df[df['id'].apply(check_id)]",
   "id": "31e75d55cf9ba0a2",
   "outputs": [],
   "execution_count": 35
  },
  {
   "metadata": {},
   "cell_type": "markdown",
   "source": "Se revisan registros duplicados.",
   "id": "c511cb6a76dc1ffc"
  },
  {
   "metadata": {
    "ExecuteTime": {
     "end_time": "2024-11-29T23:14:51.428256Z",
     "start_time": "2024-11-29T23:14:51.118705Z"
    }
   },
   "cell_type": "code",
   "source": "df[df.duplicated()]",
   "id": "3da032a029f25d06",
   "outputs": [
    {
     "data": {
      "text/plain": [
       "               id                category  \\\n",
       "42261  5508806580  housing/rent/apartment   \n",
       "42262  5508806428  housing/rent/apartment   \n",
       "42263  5508806391  housing/rent/apartment   \n",
       "42264  5508806299  housing/rent/apartment   \n",
       "42265  5508806233  housing/rent/apartment   \n",
       "...           ...                     ...   \n",
       "83577  5197839500  housing/rent/apartment   \n",
       "83578  5197836604  housing/rent/apartment   \n",
       "83579  5197834189  housing/rent/apartment   \n",
       "83580  5197828852  housing/rent/apartment   \n",
       "83581  5197828778  housing/rent/apartment   \n",
       "\n",
       "                                                   title  \\\n",
       "42261  Las Vegas, prime location Two BR, Apartment. P...   \n",
       "42262                          Northglenn Value. Pet OK!   \n",
       "42263  Apartment in move in condition in District Hei...   \n",
       "42264  District Heights, prime location Two BR, Apart...   \n",
       "42265                            Spacious One BR, One BA   \n",
       "...                                                  ...   \n",
       "83577  Apartment, Studio, 400 sq. ft. - in a great area.   \n",
       "83578  offers the lifestyle you deserve in the center...   \n",
       "83579                 Attractive Two BR, Two BA. Pet OK!   \n",
       "83580  The Best of the Best in the City of Tempe! Sav...   \n",
       "83581  Two BA - $1,862/mo - Apartment - in a great ar...   \n",
       "\n",
       "                                                    body  \\\n",
       "42261  Live in the middle of it all! South is a pet f...   \n",
       "42262  Square footage: 738 square ft, unit number: 06...   \n",
       "42263  Capital Courts has something for everyone. Loc...   \n",
       "42264  Income Requirement: Must have 2. 5x the rent i...   \n",
       "42265  Square footage: 680 sq-ft, unit number: 122. P...   \n",
       "...                                                  ...   \n",
       "83577  Apartment for rent in Ruckersville. Dogs Dogs ...   \n",
       "83578  Our pet friendly one, 2 and 3 beds apartment h...   \n",
       "83579  Square footage: 1055 square feet, unit number:...   \n",
       "83580  In the heart of vibrant Tempe near Arizona Sta...   \n",
       "83581  In the heart of vibrant Tempe near Arizona Sta...   \n",
       "\n",
       "                                       amenities bathrooms bedrooms currency  \\\n",
       "42261                           Gym,Parking,Pool         2        2      USD   \n",
       "42262                   Gym,Parking,Pool,Storage         1        1      USD   \n",
       "42263                 AC,Parking,Playground,Pool       1.5        3      USD   \n",
       "42264                                    Parking         1        2      USD   \n",
       "42265  Basketball,Gym,Patio/Deck,Playground,Pool         1        1      USD   \n",
       "...                                          ...       ...      ...      ...   \n",
       "83577                                        NaN         1        0      USD   \n",
       "83578                                        NaN         2        2      USD   \n",
       "83579                           Gym,Parking,Pool         2        2      USD   \n",
       "83580                           Gym,Parking,Pool         2        3      USD   \n",
       "83581                           Gym,Parking,Pool         2        3      USD   \n",
       "\n",
       "      fee has_photo  ... price_display  price_type square_feet address  \\\n",
       "42261  No       Yes  ...         $1,34     Monthly        1084     NaN   \n",
       "42262  No       Yes  ...         $1,33     Monthly         738     NaN   \n",
       "42263  No       Yes  ...         $1,32     Monthly         943     NaN   \n",
       "42264  No       Yes  ...         $1,35     Monthly         931     NaN   \n",
       "42265  No       Yes  ...         $1,26     Monthly         680     NaN   \n",
       "...    ..       ...  ...           ...         ...         ...     ...   \n",
       "83577  No        No  ...          $725     Monthly         400     NaN   \n",
       "83578  No       Yes  ...         $1,24     Monthly        1051     NaN   \n",
       "83579  No       Yes  ...         $1,48     Monthly        1055     NaN   \n",
       "83580  No       Yes  ...         $1,88     Monthly        1261     NaN   \n",
       "83581  No       Yes  ...         $1,86     Monthly        1261     NaN   \n",
       "\n",
       "               cityname state latitude   longitude        source          time  \n",
       "42261         Las Vegas    NV  361.536  -1.151.965  RentDigs.com  1.568754e+09  \n",
       "42262        Northglenn    CO  398.999  -1.049.442  RentDigs.com  1.568754e+09  \n",
       "42263  District Heights    MD  388.516    -768.871  RentDigs.com  1.568754e+09  \n",
       "42264  District Heights    MD  388.516    -768.871  RentDigs.com  1.568754e+09  \n",
       "42265            Denver    CO  398.999  -1.049.442  RentDigs.com  1.568754e+09  \n",
       "...                 ...   ...      ...         ...           ...           ...  \n",
       "83577      Ruckersville    VA  382.203    -783.844  RentDigs.com  1.550824e+09  \n",
       "83578         Charlotte    NC  353.201    -807.409  RentDigs.com  1.550824e+09  \n",
       "83579             Tempe    AZ  333.924  -1.119.265  RentDigs.com  1.550824e+09  \n",
       "83580             Tempe    AZ  333.924  -1.119.265  RentDigs.com  1.550823e+09  \n",
       "83581             Tempe    AZ  333.924  -1.119.265  RentDigs.com  1.550823e+09  \n",
       "\n",
       "[84 rows x 22 columns]"
      ],
      "text/html": [
       "<div>\n",
       "<style scoped>\n",
       "    .dataframe tbody tr th:only-of-type {\n",
       "        vertical-align: middle;\n",
       "    }\n",
       "\n",
       "    .dataframe tbody tr th {\n",
       "        vertical-align: top;\n",
       "    }\n",
       "\n",
       "    .dataframe thead th {\n",
       "        text-align: right;\n",
       "    }\n",
       "</style>\n",
       "<table border=\"1\" class=\"dataframe\">\n",
       "  <thead>\n",
       "    <tr style=\"text-align: right;\">\n",
       "      <th></th>\n",
       "      <th>id</th>\n",
       "      <th>category</th>\n",
       "      <th>title</th>\n",
       "      <th>body</th>\n",
       "      <th>amenities</th>\n",
       "      <th>bathrooms</th>\n",
       "      <th>bedrooms</th>\n",
       "      <th>currency</th>\n",
       "      <th>fee</th>\n",
       "      <th>has_photo</th>\n",
       "      <th>...</th>\n",
       "      <th>price_display</th>\n",
       "      <th>price_type</th>\n",
       "      <th>square_feet</th>\n",
       "      <th>address</th>\n",
       "      <th>cityname</th>\n",
       "      <th>state</th>\n",
       "      <th>latitude</th>\n",
       "      <th>longitude</th>\n",
       "      <th>source</th>\n",
       "      <th>time</th>\n",
       "    </tr>\n",
       "  </thead>\n",
       "  <tbody>\n",
       "    <tr>\n",
       "      <th>42261</th>\n",
       "      <td>5508806580</td>\n",
       "      <td>housing/rent/apartment</td>\n",
       "      <td>Las Vegas, prime location Two BR, Apartment. P...</td>\n",
       "      <td>Live in the middle of it all! South is a pet f...</td>\n",
       "      <td>Gym,Parking,Pool</td>\n",
       "      <td>2</td>\n",
       "      <td>2</td>\n",
       "      <td>USD</td>\n",
       "      <td>No</td>\n",
       "      <td>Yes</td>\n",
       "      <td>...</td>\n",
       "      <td>$1,34</td>\n",
       "      <td>Monthly</td>\n",
       "      <td>1084</td>\n",
       "      <td>NaN</td>\n",
       "      <td>Las Vegas</td>\n",
       "      <td>NV</td>\n",
       "      <td>361.536</td>\n",
       "      <td>-1.151.965</td>\n",
       "      <td>RentDigs.com</td>\n",
       "      <td>1.568754e+09</td>\n",
       "    </tr>\n",
       "    <tr>\n",
       "      <th>42262</th>\n",
       "      <td>5508806428</td>\n",
       "      <td>housing/rent/apartment</td>\n",
       "      <td>Northglenn Value. Pet OK!</td>\n",
       "      <td>Square footage: 738 square ft, unit number: 06...</td>\n",
       "      <td>Gym,Parking,Pool,Storage</td>\n",
       "      <td>1</td>\n",
       "      <td>1</td>\n",
       "      <td>USD</td>\n",
       "      <td>No</td>\n",
       "      <td>Yes</td>\n",
       "      <td>...</td>\n",
       "      <td>$1,33</td>\n",
       "      <td>Monthly</td>\n",
       "      <td>738</td>\n",
       "      <td>NaN</td>\n",
       "      <td>Northglenn</td>\n",
       "      <td>CO</td>\n",
       "      <td>398.999</td>\n",
       "      <td>-1.049.442</td>\n",
       "      <td>RentDigs.com</td>\n",
       "      <td>1.568754e+09</td>\n",
       "    </tr>\n",
       "    <tr>\n",
       "      <th>42263</th>\n",
       "      <td>5508806391</td>\n",
       "      <td>housing/rent/apartment</td>\n",
       "      <td>Apartment in move in condition in District Hei...</td>\n",
       "      <td>Capital Courts has something for everyone. Loc...</td>\n",
       "      <td>AC,Parking,Playground,Pool</td>\n",
       "      <td>1.5</td>\n",
       "      <td>3</td>\n",
       "      <td>USD</td>\n",
       "      <td>No</td>\n",
       "      <td>Yes</td>\n",
       "      <td>...</td>\n",
       "      <td>$1,32</td>\n",
       "      <td>Monthly</td>\n",
       "      <td>943</td>\n",
       "      <td>NaN</td>\n",
       "      <td>District Heights</td>\n",
       "      <td>MD</td>\n",
       "      <td>388.516</td>\n",
       "      <td>-768.871</td>\n",
       "      <td>RentDigs.com</td>\n",
       "      <td>1.568754e+09</td>\n",
       "    </tr>\n",
       "    <tr>\n",
       "      <th>42264</th>\n",
       "      <td>5508806299</td>\n",
       "      <td>housing/rent/apartment</td>\n",
       "      <td>District Heights, prime location Two BR, Apart...</td>\n",
       "      <td>Income Requirement: Must have 2. 5x the rent i...</td>\n",
       "      <td>Parking</td>\n",
       "      <td>1</td>\n",
       "      <td>2</td>\n",
       "      <td>USD</td>\n",
       "      <td>No</td>\n",
       "      <td>Yes</td>\n",
       "      <td>...</td>\n",
       "      <td>$1,35</td>\n",
       "      <td>Monthly</td>\n",
       "      <td>931</td>\n",
       "      <td>NaN</td>\n",
       "      <td>District Heights</td>\n",
       "      <td>MD</td>\n",
       "      <td>388.516</td>\n",
       "      <td>-768.871</td>\n",
       "      <td>RentDigs.com</td>\n",
       "      <td>1.568754e+09</td>\n",
       "    </tr>\n",
       "    <tr>\n",
       "      <th>42265</th>\n",
       "      <td>5508806233</td>\n",
       "      <td>housing/rent/apartment</td>\n",
       "      <td>Spacious One BR, One BA</td>\n",
       "      <td>Square footage: 680 sq-ft, unit number: 122. P...</td>\n",
       "      <td>Basketball,Gym,Patio/Deck,Playground,Pool</td>\n",
       "      <td>1</td>\n",
       "      <td>1</td>\n",
       "      <td>USD</td>\n",
       "      <td>No</td>\n",
       "      <td>Yes</td>\n",
       "      <td>...</td>\n",
       "      <td>$1,26</td>\n",
       "      <td>Monthly</td>\n",
       "      <td>680</td>\n",
       "      <td>NaN</td>\n",
       "      <td>Denver</td>\n",
       "      <td>CO</td>\n",
       "      <td>398.999</td>\n",
       "      <td>-1.049.442</td>\n",
       "      <td>RentDigs.com</td>\n",
       "      <td>1.568754e+09</td>\n",
       "    </tr>\n",
       "    <tr>\n",
       "      <th>...</th>\n",
       "      <td>...</td>\n",
       "      <td>...</td>\n",
       "      <td>...</td>\n",
       "      <td>...</td>\n",
       "      <td>...</td>\n",
       "      <td>...</td>\n",
       "      <td>...</td>\n",
       "      <td>...</td>\n",
       "      <td>...</td>\n",
       "      <td>...</td>\n",
       "      <td>...</td>\n",
       "      <td>...</td>\n",
       "      <td>...</td>\n",
       "      <td>...</td>\n",
       "      <td>...</td>\n",
       "      <td>...</td>\n",
       "      <td>...</td>\n",
       "      <td>...</td>\n",
       "      <td>...</td>\n",
       "      <td>...</td>\n",
       "      <td>...</td>\n",
       "    </tr>\n",
       "    <tr>\n",
       "      <th>83577</th>\n",
       "      <td>5197839500</td>\n",
       "      <td>housing/rent/apartment</td>\n",
       "      <td>Apartment, Studio, 400 sq. ft. - in a great area.</td>\n",
       "      <td>Apartment for rent in Ruckersville. Dogs Dogs ...</td>\n",
       "      <td>NaN</td>\n",
       "      <td>1</td>\n",
       "      <td>0</td>\n",
       "      <td>USD</td>\n",
       "      <td>No</td>\n",
       "      <td>No</td>\n",
       "      <td>...</td>\n",
       "      <td>$725</td>\n",
       "      <td>Monthly</td>\n",
       "      <td>400</td>\n",
       "      <td>NaN</td>\n",
       "      <td>Ruckersville</td>\n",
       "      <td>VA</td>\n",
       "      <td>382.203</td>\n",
       "      <td>-783.844</td>\n",
       "      <td>RentDigs.com</td>\n",
       "      <td>1.550824e+09</td>\n",
       "    </tr>\n",
       "    <tr>\n",
       "      <th>83578</th>\n",
       "      <td>5197836604</td>\n",
       "      <td>housing/rent/apartment</td>\n",
       "      <td>offers the lifestyle you deserve in the center...</td>\n",
       "      <td>Our pet friendly one, 2 and 3 beds apartment h...</td>\n",
       "      <td>NaN</td>\n",
       "      <td>2</td>\n",
       "      <td>2</td>\n",
       "      <td>USD</td>\n",
       "      <td>No</td>\n",
       "      <td>Yes</td>\n",
       "      <td>...</td>\n",
       "      <td>$1,24</td>\n",
       "      <td>Monthly</td>\n",
       "      <td>1051</td>\n",
       "      <td>NaN</td>\n",
       "      <td>Charlotte</td>\n",
       "      <td>NC</td>\n",
       "      <td>353.201</td>\n",
       "      <td>-807.409</td>\n",
       "      <td>RentDigs.com</td>\n",
       "      <td>1.550824e+09</td>\n",
       "    </tr>\n",
       "    <tr>\n",
       "      <th>83579</th>\n",
       "      <td>5197834189</td>\n",
       "      <td>housing/rent/apartment</td>\n",
       "      <td>Attractive Two BR, Two BA. Pet OK!</td>\n",
       "      <td>Square footage: 1055 square feet, unit number:...</td>\n",
       "      <td>Gym,Parking,Pool</td>\n",
       "      <td>2</td>\n",
       "      <td>2</td>\n",
       "      <td>USD</td>\n",
       "      <td>No</td>\n",
       "      <td>Yes</td>\n",
       "      <td>...</td>\n",
       "      <td>$1,48</td>\n",
       "      <td>Monthly</td>\n",
       "      <td>1055</td>\n",
       "      <td>NaN</td>\n",
       "      <td>Tempe</td>\n",
       "      <td>AZ</td>\n",
       "      <td>333.924</td>\n",
       "      <td>-1.119.265</td>\n",
       "      <td>RentDigs.com</td>\n",
       "      <td>1.550824e+09</td>\n",
       "    </tr>\n",
       "    <tr>\n",
       "      <th>83580</th>\n",
       "      <td>5197828852</td>\n",
       "      <td>housing/rent/apartment</td>\n",
       "      <td>The Best of the Best in the City of Tempe! Sav...</td>\n",
       "      <td>In the heart of vibrant Tempe near Arizona Sta...</td>\n",
       "      <td>Gym,Parking,Pool</td>\n",
       "      <td>2</td>\n",
       "      <td>3</td>\n",
       "      <td>USD</td>\n",
       "      <td>No</td>\n",
       "      <td>Yes</td>\n",
       "      <td>...</td>\n",
       "      <td>$1,88</td>\n",
       "      <td>Monthly</td>\n",
       "      <td>1261</td>\n",
       "      <td>NaN</td>\n",
       "      <td>Tempe</td>\n",
       "      <td>AZ</td>\n",
       "      <td>333.924</td>\n",
       "      <td>-1.119.265</td>\n",
       "      <td>RentDigs.com</td>\n",
       "      <td>1.550823e+09</td>\n",
       "    </tr>\n",
       "    <tr>\n",
       "      <th>83581</th>\n",
       "      <td>5197828778</td>\n",
       "      <td>housing/rent/apartment</td>\n",
       "      <td>Two BA - $1,862/mo - Apartment - in a great ar...</td>\n",
       "      <td>In the heart of vibrant Tempe near Arizona Sta...</td>\n",
       "      <td>Gym,Parking,Pool</td>\n",
       "      <td>2</td>\n",
       "      <td>3</td>\n",
       "      <td>USD</td>\n",
       "      <td>No</td>\n",
       "      <td>Yes</td>\n",
       "      <td>...</td>\n",
       "      <td>$1,86</td>\n",
       "      <td>Monthly</td>\n",
       "      <td>1261</td>\n",
       "      <td>NaN</td>\n",
       "      <td>Tempe</td>\n",
       "      <td>AZ</td>\n",
       "      <td>333.924</td>\n",
       "      <td>-1.119.265</td>\n",
       "      <td>RentDigs.com</td>\n",
       "      <td>1.550823e+09</td>\n",
       "    </tr>\n",
       "  </tbody>\n",
       "</table>\n",
       "<p>84 rows × 22 columns</p>\n",
       "</div>"
      ]
     },
     "execution_count": 36,
     "metadata": {},
     "output_type": "execute_result"
    }
   ],
   "execution_count": 36
  },
  {
   "metadata": {},
   "cell_type": "markdown",
   "source": "Se eliminan los registros duplicados.",
   "id": "11b1d313e6b3b116"
  },
  {
   "metadata": {
    "ExecuteTime": {
     "end_time": "2024-11-29T23:14:52.035679Z",
     "start_time": "2024-11-29T23:14:51.460289Z"
    }
   },
   "cell_type": "code",
   "source": [
    "df = df.drop_duplicates()\n",
    "df.duplicated().sum()"
   ],
   "id": "8c28452a88ce1e69",
   "outputs": [
    {
     "data": {
      "text/plain": [
       "np.int64(0)"
      ]
     },
     "execution_count": 37,
     "metadata": {},
     "output_type": "execute_result"
    }
   ],
   "execution_count": 37
  },
  {
   "metadata": {},
   "cell_type": "markdown",
   "source": "Se revisa la columna **category**.",
   "id": "ee627d74142d2445"
  },
  {
   "metadata": {
    "ExecuteTime": {
     "end_time": "2024-11-29T23:14:52.097807Z",
     "start_time": "2024-11-29T23:14:52.083793Z"
    }
   },
   "cell_type": "code",
   "source": "df['category'].value_counts()",
   "id": "a72872baaa59abfa",
   "outputs": [
    {
     "data": {
      "text/plain": [
       "category\n",
       "housing/rent/apartment            99678\n",
       "housing/rent/commercial/retail       42\n",
       "housing/rent                          7\n",
       "housing/rent/short_term               4\n",
       "housing/rent/home                     4\n",
       "housing/rent/condo                    3\n",
       "housing/rent/other                    1\n",
       "Name: count, dtype: int64"
      ]
     },
     "execution_count": 38,
     "metadata": {},
     "output_type": "execute_result"
    }
   ],
   "execution_count": 38
  },
  {
   "metadata": {},
   "cell_type": "markdown",
   "source": "Dado que la mayoría de los registros son de la categoría **Apartments**, se elegirá esta categoría para el análisis.",
   "id": "704ad3c0969a0625"
  },
  {
   "metadata": {
    "ExecuteTime": {
     "end_time": "2024-11-29T23:14:52.207021Z",
     "start_time": "2024-11-29T23:14:52.161396Z"
    }
   },
   "cell_type": "code",
   "source": "df = df[df['category'] == 'housing/rent/apartment']",
   "id": "5912bd5cbe6da281",
   "outputs": [],
   "execution_count": 39
  },
  {
   "metadata": {},
   "cell_type": "markdown",
   "source": "Revisamos la variable **price_type**.",
   "id": "18967e0b6760a1c9"
  },
  {
   "metadata": {
    "ExecuteTime": {
     "end_time": "2024-11-29T23:14:52.284785Z",
     "start_time": "2024-11-29T23:14:52.275276Z"
    }
   },
   "cell_type": "code",
   "source": "df['price_type'].value_counts()",
   "id": "ec5088020f2f4357",
   "outputs": [
    {
     "data": {
      "text/plain": [
       "price_type\n",
       "Monthly           99671\n",
       "Weekly                3\n",
       "Monthly|Weekly        1\n",
       "Name: count, dtype: int64"
      ]
     },
     "execution_count": 40,
     "metadata": {},
     "output_type": "execute_result"
    }
   ],
   "execution_count": 40
  },
  {
   "metadata": {},
   "cell_type": "markdown",
   "source": "Dado que la mayoría de los registros son de tipo **monthly**, se elegirá esta categoría para el análisis.",
   "id": "468b928cb1103c9e"
  },
  {
   "metadata": {
    "ExecuteTime": {
     "end_time": "2024-11-29T23:14:52.377943Z",
     "start_time": "2024-11-29T23:14:52.348367Z"
    }
   },
   "cell_type": "code",
   "source": "df = df[df['price_type'] == 'Monthly']",
   "id": "b23cabf0cac6eea8",
   "outputs": [],
   "execution_count": 41
  },
  {
   "metadata": {},
   "cell_type": "markdown",
   "source": "Se analiza la variable **cityname**.",
   "id": "c96be3fe4f21edca"
  },
  {
   "metadata": {
    "ExecuteTime": {
     "end_time": "2024-11-29T23:14:52.455704Z",
     "start_time": "2024-11-29T23:14:52.444678Z"
    }
   },
   "cell_type": "code",
   "source": "df['cityname'].value_counts()",
   "id": "5671c85f495fcba1",
   "outputs": [
    {
     "data": {
      "text/plain": [
       "cityname\n",
       "Dallas               2860\n",
       "Denver               2754\n",
       "Los Angeles          2430\n",
       "Las Vegas            1849\n",
       "Arlington            1577\n",
       "                     ... \n",
       "Ponte Vedra Beach       1\n",
       "Elkins                  1\n",
       "Keaau                   1\n",
       "Narberth                1\n",
       "Clawson                 1\n",
       "Name: count, Length: 2979, dtype: int64"
      ]
     },
     "execution_count": 42,
     "metadata": {},
     "output_type": "execute_result"
    }
   ],
   "execution_count": 42
  },
  {
   "metadata": {},
   "cell_type": "markdown",
   "source": "Dado que la variable **cityname** tiene muchos valores, se omitirá para el análisis de clustering, ya que no se puede considerar como una variable categórica.",
   "id": "d268a97fb471f504"
  },
  {
   "metadata": {
    "ExecuteTime": {
     "end_time": "2024-11-29T23:14:52.533293Z",
     "start_time": "2024-11-29T23:14:52.503754Z"
    }
   },
   "cell_type": "code",
   "source": "df = df.drop(columns=['cityname'])",
   "id": "a3aa24b764143a36",
   "outputs": [],
   "execution_count": 43
  },
  {
   "metadata": {},
   "cell_type": "markdown",
   "source": "Se revisa la variable **pets_allowed**.",
   "id": "d2caa9713c0a92a5"
  },
  {
   "metadata": {
    "ExecuteTime": {
     "end_time": "2024-11-29T23:15:00.407211Z",
     "start_time": "2024-11-29T23:15:00.385078Z"
    }
   },
   "cell_type": "code",
   "source": "df['pets_allowed'].value_counts()",
   "id": "355d07ffbcc3bc04",
   "outputs": [
    {
     "data": {
      "text/plain": [
       "pets_allowed\n",
       "Cats,Dogs         37174\n",
       "Cats               1845\n",
       "Dogs                127\n",
       "Cats,Dogs,None        1\n",
       "Name: count, dtype: int64"
      ]
     },
     "execution_count": 45,
     "metadata": {},
     "output_type": "execute_result"
    }
   ],
   "execution_count": 45
  },
  {
   "metadata": {},
   "cell_type": "markdown",
   "source": "Se convierte la variable **pets_allowed_cat** a tipo categórica.",
   "id": "bd031d1906b96bab"
  },
  {
   "metadata": {
    "ExecuteTime": {
     "end_time": "2024-11-29T23:15:01.614609Z",
     "start_time": "2024-11-29T23:15:01.588617Z"
    }
   },
   "cell_type": "code",
   "source": [
    "df['pets_allowed_cat'] = df['pets_allowed'].fillna('No').map({'Cats,Dogs': 'Si', 'Cats': 'Si', 'Dogs': 'Si', 'Cats,Dogs,None': 'Si', 'No': 'No'})\n",
    "df['pets_allowed_cat'].value_counts()"
   ],
   "id": "e99b3b5fba29fd8b",
   "outputs": [
    {
     "data": {
      "text/plain": [
       "pets_allowed_cat\n",
       "No    60524\n",
       "Si    39147\n",
       "Name: count, dtype: int64"
      ]
     },
     "execution_count": 46,
     "metadata": {},
     "output_type": "execute_result"
    }
   ],
   "execution_count": 46
  },
  {
   "metadata": {
    "ExecuteTime": {
     "end_time": "2024-11-29T23:22:44.860902Z",
     "start_time": "2024-11-29T23:22:44.842381Z"
    }
   },
   "cell_type": "code",
   "source": [
    "labelencoder = preprocessing.LabelEncoder()\n",
    "df['pets_allowed_cat'] = labelencoder.fit_transform(df['pets_allowed_cat'])\n",
    "df['pets_allowed_cat'].value_counts()"
   ],
   "id": "3b888f29ddfb6f33",
   "outputs": [
    {
     "data": {
      "text/plain": [
       "pets_allowed_cat\n",
       "0    60524\n",
       "1    39147\n",
       "Name: count, dtype: int64"
      ]
     },
     "execution_count": 57,
     "metadata": {},
     "output_type": "execute_result"
    }
   ],
   "execution_count": 57
  },
  {
   "metadata": {},
   "cell_type": "markdown",
   "source": "",
   "id": "12a934888b140e3"
  },
  {
   "metadata": {},
   "cell_type": "markdown",
   "source": [
    "### 2. De acuerdo con lo anterior, seleccione las variables que utilizará para realizar la segmentación, y con ello determine el modelo a utilizar.\n",
    "Se seleccionarán las variables **bathrooms**, **bedrooms**, **pets_allowed_cat**, **price**, **square_feet**, **latitude** y **longitude**.\n",
    "Se utilizará el modelo K-Prototypes, ya que se tienen variables numéricas y categóricas.\n",
    "#TODO Falta especificar por que se descartan las variables."
   ],
   "id": "389a481f57dd6d6b"
  },
  {
   "metadata": {
    "ExecuteTime": {
     "end_time": "2024-11-29T23:17:52.687571Z",
     "start_time": "2024-11-29T23:17:52.675320Z"
    }
   },
   "cell_type": "code",
   "source": "df_vals = df.filter(items=['bathrooms','bedrooms', 'pets_allowed_cat', 'price', 'square_feet', 'latitude', 'longitude'], axis=1)",
   "id": "5d425849cfbf17a2",
   "outputs": [],
   "execution_count": 51
  },
  {
   "metadata": {},
   "cell_type": "markdown",
   "source": "Revisamos si hay valores nulos.",
   "id": "74537a446af41b01"
  },
  {
   "metadata": {
    "ExecuteTime": {
     "end_time": "2024-11-29T23:20:04.641638Z",
     "start_time": "2024-11-29T23:20:04.623554Z"
    }
   },
   "cell_type": "code",
   "source": "df_vals.isnull().sum()",
   "id": "9265b062f39f1fb4",
   "outputs": [
    {
     "data": {
      "text/plain": [
       "bathrooms            61\n",
       "bedrooms            123\n",
       "pets_allowed_cat      0\n",
       "price                 1\n",
       "square_feet           0\n",
       "latitude             25\n",
       "longitude            25\n",
       "dtype: int64"
      ]
     },
     "execution_count": 54,
     "metadata": {},
     "output_type": "execute_result"
    }
   ],
   "execution_count": 54
  },
  {
   "metadata": {},
   "cell_type": "markdown",
   "source": "Se eliminan los registros nulos ya que la cantidad es baja.",
   "id": "e1523db59b7ec0e3"
  },
  {
   "metadata": {
    "ExecuteTime": {
     "end_time": "2024-11-29T23:20:42.163355Z",
     "start_time": "2024-11-29T23:20:42.129263Z"
    }
   },
   "cell_type": "code",
   "source": [
    "df_vals = df_vals.dropna()\n",
    "df_vals.isnull().sum()"
   ],
   "id": "323d538f1ef5f77d",
   "outputs": [
    {
     "data": {
      "text/plain": [
       "bathrooms           0\n",
       "bedrooms            0\n",
       "pets_allowed_cat    0\n",
       "price               0\n",
       "square_feet         0\n",
       "latitude            0\n",
       "longitude           0\n",
       "dtype: int64"
      ]
     },
     "execution_count": 55,
     "metadata": {},
     "output_type": "execute_result"
    }
   ],
   "execution_count": 55
  },
  {
   "metadata": {
    "ExecuteTime": {
     "end_time": "2024-11-29T23:21:07.284300Z",
     "start_time": "2024-11-29T23:21:07.263276Z"
    }
   },
   "cell_type": "code",
   "source": "",
   "id": "e3b08f1cfac62329",
   "outputs": [
    {
     "data": {
      "text/plain": [
       "bathrooms           0\n",
       "bedrooms            0\n",
       "pets_allowed_cat    0\n",
       "price               0\n",
       "square_feet         0\n",
       "latitude            0\n",
       "longitude           0\n",
       "dtype: int64"
      ]
     },
     "execution_count": 56,
     "metadata": {},
     "output_type": "execute_result"
    }
   ],
   "execution_count": 56
  }
 ],
 "metadata": {
  "kernelspec": {
   "display_name": "Python 3",
   "language": "python",
   "name": "python3"
  },
  "language_info": {
   "codemirror_mode": {
    "name": "ipython",
    "version": 2
   },
   "file_extension": ".py",
   "mimetype": "text/x-python",
   "name": "python",
   "nbconvert_exporter": "python",
   "pygments_lexer": "ipython2",
   "version": "2.7.6"
  }
 },
 "nbformat": 4,
 "nbformat_minor": 5
}
