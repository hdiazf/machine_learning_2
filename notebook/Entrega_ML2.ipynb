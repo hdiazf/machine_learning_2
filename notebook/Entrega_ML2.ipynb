{
 "cells": [
  {
   "metadata": {},
   "cell_type": "markdown",
   "source": [
    "Autores:\n",
    "- Hernán Francisco Díaz Farías\n",
    "- María Angélica Parra Mendoza\n",
    "- Loreto Constanza Zavala Gaete"
   ],
   "id": "2be8b7681cd8cd9b"
  },
  {
   "metadata": {},
   "cell_type": "markdown",
   "source": [
    "# Tarea 1\n",
    "### Realice una exploración de datos para ver que datos existen, cuales de ellos entregan información relevante para el problema y cuales no, eliminación (si corresponde) de datos nulos y duplicados, entre otros.\n",
    "\n",
    "#### Librerías a utilizar"
   ],
   "id": "324ed88372e65c36"
  },
  {
   "metadata": {
    "ExecuteTime": {
     "end_time": "2024-11-30T00:23:28.130481Z",
     "start_time": "2024-11-30T00:23:28.119967Z"
    }
   },
   "cell_type": "code",
   "source": [
    "import pandas as pd\n",
    "import numpy as np\n",
    "from sklearn.cluster import KMeans\n",
    "from sklearn import preprocessing\n",
    "import matplotlib.pyplot as plt\n",
    "#from kmodes.kmodes import KModes\n",
    "from kmodes.kprototypes import KPrototypes"
   ],
   "id": "6d006a13529ebfe8",
   "outputs": [],
   "execution_count": 208
  },
  {
   "metadata": {},
   "cell_type": "markdown",
   "source": "#### Cargar el archivo csv",
   "id": "571c535c85fc0251"
  },
  {
   "metadata": {
    "ExecuteTime": {
     "end_time": "2024-11-30T00:23:29.156104Z",
     "start_time": "2024-11-30T00:23:28.150283Z"
    }
   },
   "cell_type": "code",
   "source": [
    "# Cargar el archivo csv\n",
    "df = (\n",
    "    pd.read_csv(\n",
    "        '../data/apartments_for_rent_classified_100K.csv',\n",
    "        encoding='ISO-8859-1',\n",
    "        sep=';',\n",
    "        low_memory=False # Para evitar warnings de dtype\n",
    "        )\n",
    "    )"
   ],
   "id": "516eda467c7c2cac",
   "outputs": [],
   "execution_count": 209
  },
  {
   "metadata": {},
   "cell_type": "markdown",
   "source": "#### Visualización de los datos",
   "id": "c8773545f3d2cf2f"
  },
  {
   "metadata": {
    "ExecuteTime": {
     "end_time": "2024-11-30T00:23:29.203103Z",
     "start_time": "2024-11-30T00:23:29.189097Z"
    }
   },
   "cell_type": "code",
   "source": "df.head()",
   "id": "31e4d4b93782661b",
   "outputs": [
    {
     "data": {
      "text/plain": [
       "           id                category                            title  \\\n",
       "0  5668640009  housing/rent/apartment       One BR 507 & 509 Esplanade   \n",
       "1  5668639818  housing/rent/apartment      Three BR 146 Lochview Drive   \n",
       "2  5668639686  housing/rent/apartment  Three BR 3101 Morningside Drive   \n",
       "3  5668639659  housing/rent/apartment            Two BR 209 Aegean Way   \n",
       "4  5668639374  housing/rent/apartment         One BR 4805 Marquette NE   \n",
       "\n",
       "                                                body amenities  bathrooms  \\\n",
       "0  This unit is located at 507 & 509 Esplanade, R...       NaN        1.0   \n",
       "1  This unit is located at 146 Lochview Drive, Ne...       NaN        1.5   \n",
       "2  This unit is located at 3101 Morningside Drive...       NaN        2.0   \n",
       "3  This unit is located at 209 Aegean Way, Vacavi...       NaN        1.0   \n",
       "4  This unit is located at 4805 Marquette NE, Alb...       NaN        1.0   \n",
       "\n",
       "   bedrooms currency fee  has_photo  ... price_display  price_type  \\\n",
       "0       1.0      USD  No  Thumbnail  ...        $2,195     Monthly   \n",
       "1       3.0      USD  No  Thumbnail  ...        $1,250     Monthly   \n",
       "2       3.0      USD  No  Thumbnail  ...        $1,395     Monthly   \n",
       "3       2.0      USD  No  Thumbnail  ...        $1,600     Monthly   \n",
       "4       1.0      USD  No  Thumbnail  ...          $975     Monthly   \n",
       "\n",
       "  square_feet              address       cityname state latitude longitude  \\\n",
       "0         542   507  509 Esplanade  Redondo Beach    CA  33.8520 -118.3759   \n",
       "1        1500      146 Lochview Dr   Newport News    VA  37.0867  -76.4941   \n",
       "2        1650  3101 Morningside Dr        Raleigh    NC  35.8230  -78.6438   \n",
       "3         820       209 Aegean Way      Vacaville    CA  38.3622 -121.9712   \n",
       "4         624    4805 Marquette NE    Albuquerque    NM  35.1038 -106.6110   \n",
       "\n",
       "      source        time  \n",
       "0  RentLingo  1577360355  \n",
       "1  RentLingo  1577360340  \n",
       "2  RentLingo  1577360332  \n",
       "3  RentLingo  1577360330  \n",
       "4  RentLingo  1577360308  \n",
       "\n",
       "[5 rows x 22 columns]"
      ],
      "text/html": [
       "<div>\n",
       "<style scoped>\n",
       "    .dataframe tbody tr th:only-of-type {\n",
       "        vertical-align: middle;\n",
       "    }\n",
       "\n",
       "    .dataframe tbody tr th {\n",
       "        vertical-align: top;\n",
       "    }\n",
       "\n",
       "    .dataframe thead th {\n",
       "        text-align: right;\n",
       "    }\n",
       "</style>\n",
       "<table border=\"1\" class=\"dataframe\">\n",
       "  <thead>\n",
       "    <tr style=\"text-align: right;\">\n",
       "      <th></th>\n",
       "      <th>id</th>\n",
       "      <th>category</th>\n",
       "      <th>title</th>\n",
       "      <th>body</th>\n",
       "      <th>amenities</th>\n",
       "      <th>bathrooms</th>\n",
       "      <th>bedrooms</th>\n",
       "      <th>currency</th>\n",
       "      <th>fee</th>\n",
       "      <th>has_photo</th>\n",
       "      <th>...</th>\n",
       "      <th>price_display</th>\n",
       "      <th>price_type</th>\n",
       "      <th>square_feet</th>\n",
       "      <th>address</th>\n",
       "      <th>cityname</th>\n",
       "      <th>state</th>\n",
       "      <th>latitude</th>\n",
       "      <th>longitude</th>\n",
       "      <th>source</th>\n",
       "      <th>time</th>\n",
       "    </tr>\n",
       "  </thead>\n",
       "  <tbody>\n",
       "    <tr>\n",
       "      <th>0</th>\n",
       "      <td>5668640009</td>\n",
       "      <td>housing/rent/apartment</td>\n",
       "      <td>One BR 507 &amp; 509 Esplanade</td>\n",
       "      <td>This unit is located at 507 &amp; 509 Esplanade, R...</td>\n",
       "      <td>NaN</td>\n",
       "      <td>1.0</td>\n",
       "      <td>1.0</td>\n",
       "      <td>USD</td>\n",
       "      <td>No</td>\n",
       "      <td>Thumbnail</td>\n",
       "      <td>...</td>\n",
       "      <td>$2,195</td>\n",
       "      <td>Monthly</td>\n",
       "      <td>542</td>\n",
       "      <td>507  509 Esplanade</td>\n",
       "      <td>Redondo Beach</td>\n",
       "      <td>CA</td>\n",
       "      <td>33.8520</td>\n",
       "      <td>-118.3759</td>\n",
       "      <td>RentLingo</td>\n",
       "      <td>1577360355</td>\n",
       "    </tr>\n",
       "    <tr>\n",
       "      <th>1</th>\n",
       "      <td>5668639818</td>\n",
       "      <td>housing/rent/apartment</td>\n",
       "      <td>Three BR 146 Lochview Drive</td>\n",
       "      <td>This unit is located at 146 Lochview Drive, Ne...</td>\n",
       "      <td>NaN</td>\n",
       "      <td>1.5</td>\n",
       "      <td>3.0</td>\n",
       "      <td>USD</td>\n",
       "      <td>No</td>\n",
       "      <td>Thumbnail</td>\n",
       "      <td>...</td>\n",
       "      <td>$1,250</td>\n",
       "      <td>Monthly</td>\n",
       "      <td>1500</td>\n",
       "      <td>146 Lochview Dr</td>\n",
       "      <td>Newport News</td>\n",
       "      <td>VA</td>\n",
       "      <td>37.0867</td>\n",
       "      <td>-76.4941</td>\n",
       "      <td>RentLingo</td>\n",
       "      <td>1577360340</td>\n",
       "    </tr>\n",
       "    <tr>\n",
       "      <th>2</th>\n",
       "      <td>5668639686</td>\n",
       "      <td>housing/rent/apartment</td>\n",
       "      <td>Three BR 3101 Morningside Drive</td>\n",
       "      <td>This unit is located at 3101 Morningside Drive...</td>\n",
       "      <td>NaN</td>\n",
       "      <td>2.0</td>\n",
       "      <td>3.0</td>\n",
       "      <td>USD</td>\n",
       "      <td>No</td>\n",
       "      <td>Thumbnail</td>\n",
       "      <td>...</td>\n",
       "      <td>$1,395</td>\n",
       "      <td>Monthly</td>\n",
       "      <td>1650</td>\n",
       "      <td>3101 Morningside Dr</td>\n",
       "      <td>Raleigh</td>\n",
       "      <td>NC</td>\n",
       "      <td>35.8230</td>\n",
       "      <td>-78.6438</td>\n",
       "      <td>RentLingo</td>\n",
       "      <td>1577360332</td>\n",
       "    </tr>\n",
       "    <tr>\n",
       "      <th>3</th>\n",
       "      <td>5668639659</td>\n",
       "      <td>housing/rent/apartment</td>\n",
       "      <td>Two BR 209 Aegean Way</td>\n",
       "      <td>This unit is located at 209 Aegean Way, Vacavi...</td>\n",
       "      <td>NaN</td>\n",
       "      <td>1.0</td>\n",
       "      <td>2.0</td>\n",
       "      <td>USD</td>\n",
       "      <td>No</td>\n",
       "      <td>Thumbnail</td>\n",
       "      <td>...</td>\n",
       "      <td>$1,600</td>\n",
       "      <td>Monthly</td>\n",
       "      <td>820</td>\n",
       "      <td>209 Aegean Way</td>\n",
       "      <td>Vacaville</td>\n",
       "      <td>CA</td>\n",
       "      <td>38.3622</td>\n",
       "      <td>-121.9712</td>\n",
       "      <td>RentLingo</td>\n",
       "      <td>1577360330</td>\n",
       "    </tr>\n",
       "    <tr>\n",
       "      <th>4</th>\n",
       "      <td>5668639374</td>\n",
       "      <td>housing/rent/apartment</td>\n",
       "      <td>One BR 4805 Marquette NE</td>\n",
       "      <td>This unit is located at 4805 Marquette NE, Alb...</td>\n",
       "      <td>NaN</td>\n",
       "      <td>1.0</td>\n",
       "      <td>1.0</td>\n",
       "      <td>USD</td>\n",
       "      <td>No</td>\n",
       "      <td>Thumbnail</td>\n",
       "      <td>...</td>\n",
       "      <td>$975</td>\n",
       "      <td>Monthly</td>\n",
       "      <td>624</td>\n",
       "      <td>4805 Marquette NE</td>\n",
       "      <td>Albuquerque</td>\n",
       "      <td>NM</td>\n",
       "      <td>35.1038</td>\n",
       "      <td>-106.6110</td>\n",
       "      <td>RentLingo</td>\n",
       "      <td>1577360308</td>\n",
       "    </tr>\n",
       "  </tbody>\n",
       "</table>\n",
       "<p>5 rows × 22 columns</p>\n",
       "</div>"
      ]
     },
     "execution_count": 210,
     "metadata": {},
     "output_type": "execute_result"
    }
   ],
   "execution_count": 210
  },
  {
   "metadata": {
    "ExecuteTime": {
     "end_time": "2024-11-30T00:23:29.265209Z",
     "start_time": "2024-11-30T00:23:29.250689Z"
    }
   },
   "cell_type": "code",
   "source": "df.dtypes",
   "id": "239a04b24b3f01d9",
   "outputs": [
    {
     "data": {
      "text/plain": [
       "id                 int64\n",
       "category          object\n",
       "title             object\n",
       "body              object\n",
       "amenities         object\n",
       "bathrooms        float64\n",
       "bedrooms         float64\n",
       "currency          object\n",
       "fee               object\n",
       "has_photo         object\n",
       "pets_allowed      object\n",
       "price            float64\n",
       "price_display     object\n",
       "price_type        object\n",
       "square_feet        int64\n",
       "address           object\n",
       "cityname          object\n",
       "state             object\n",
       "latitude         float64\n",
       "longitude        float64\n",
       "source            object\n",
       "time               int64\n",
       "dtype: object"
      ]
     },
     "execution_count": 211,
     "metadata": {},
     "output_type": "execute_result"
    }
   ],
   "execution_count": 211
  },
  {
   "metadata": {},
   "cell_type": "markdown",
   "source": [
    "Los campos tipo object representan campos que pueden contener registros nulos o errores de escritura. Se revisará el campo **id** para empezar.\n",
    "Creamos una función para revisar si el campo **id** es numérico o no."
   ],
   "id": "dc7a1f149374a8ab"
  },
  {
   "metadata": {
    "ExecuteTime": {
     "end_time": "2024-11-30T00:23:29.374370Z",
     "start_time": "2024-11-30T00:23:29.344831Z"
    }
   },
   "cell_type": "code",
   "source": [
    "def check_id(id):\n",
    "    try:\n",
    "        int(id)\n",
    "        return True\n",
    "    except:\n",
    "        return False\n",
    "\n",
    "numericos = df['id'].apply(check_id).sum()\n",
    "no_numericos = df['id'].shape[0] - numericos\n",
    "print(f'Numericos: {numericos}, No numéricos: {no_numericos}')"
   ],
   "id": "bc6553fda27ab371",
   "outputs": [
    {
     "name": "stdout",
     "output_type": "stream",
     "text": [
      "Numericos: 99492, No numéricos: 0\n"
     ]
    }
   ],
   "execution_count": 212
  },
  {
   "metadata": {},
   "cell_type": "markdown",
   "source": "Se observa que hay 3 registros que no son numéricos. Se revisarán estos registros.",
   "id": "e968105f30721ba"
  },
  {
   "metadata": {
    "ExecuteTime": {
     "end_time": "2024-11-30T00:23:29.544302Z",
     "start_time": "2024-11-30T00:23:29.516631Z"
    }
   },
   "cell_type": "code",
   "source": "df[~df['id'].apply(check_id)]",
   "id": "c3c5002476fda5eb",
   "outputs": [
    {
     "data": {
      "text/plain": [
       "Empty DataFrame\n",
       "Columns: [id, category, title, body, amenities, bathrooms, bedrooms, currency, fee, has_photo, pets_allowed, price, price_display, price_type, square_feet, address, cityname, state, latitude, longitude, source, time]\n",
       "Index: []\n",
       "\n",
       "[0 rows x 22 columns]"
      ],
      "text/html": [
       "<div>\n",
       "<style scoped>\n",
       "    .dataframe tbody tr th:only-of-type {\n",
       "        vertical-align: middle;\n",
       "    }\n",
       "\n",
       "    .dataframe tbody tr th {\n",
       "        vertical-align: top;\n",
       "    }\n",
       "\n",
       "    .dataframe thead th {\n",
       "        text-align: right;\n",
       "    }\n",
       "</style>\n",
       "<table border=\"1\" class=\"dataframe\">\n",
       "  <thead>\n",
       "    <tr style=\"text-align: right;\">\n",
       "      <th></th>\n",
       "      <th>id</th>\n",
       "      <th>category</th>\n",
       "      <th>title</th>\n",
       "      <th>body</th>\n",
       "      <th>amenities</th>\n",
       "      <th>bathrooms</th>\n",
       "      <th>bedrooms</th>\n",
       "      <th>currency</th>\n",
       "      <th>fee</th>\n",
       "      <th>has_photo</th>\n",
       "      <th>...</th>\n",
       "      <th>price_display</th>\n",
       "      <th>price_type</th>\n",
       "      <th>square_feet</th>\n",
       "      <th>address</th>\n",
       "      <th>cityname</th>\n",
       "      <th>state</th>\n",
       "      <th>latitude</th>\n",
       "      <th>longitude</th>\n",
       "      <th>source</th>\n",
       "      <th>time</th>\n",
       "    </tr>\n",
       "  </thead>\n",
       "  <tbody>\n",
       "  </tbody>\n",
       "</table>\n",
       "<p>0 rows × 22 columns</p>\n",
       "</div>"
      ]
     },
     "execution_count": 213,
     "metadata": {},
     "output_type": "execute_result"
    }
   ],
   "execution_count": 213
  },
  {
   "metadata": {},
   "cell_type": "markdown",
   "source": "Se procederá a eliminar estos registros.",
   "id": "bb549631dd59106a"
  },
  {
   "metadata": {
    "ExecuteTime": {
     "end_time": "2024-11-30T00:23:29.746258Z",
     "start_time": "2024-11-30T00:23:29.701670Z"
    }
   },
   "cell_type": "code",
   "source": "df = df[df['id'].apply(check_id)]",
   "id": "31e75d55cf9ba0a2",
   "outputs": [],
   "execution_count": 214
  },
  {
   "metadata": {},
   "cell_type": "markdown",
   "source": "Se revisan registros duplicados.",
   "id": "c511cb6a76dc1ffc"
  },
  {
   "metadata": {
    "ExecuteTime": {
     "end_time": "2024-11-30T00:23:30.135142Z",
     "start_time": "2024-11-30T00:23:29.845687Z"
    }
   },
   "cell_type": "code",
   "source": "df[df.duplicated()]",
   "id": "3da032a029f25d06",
   "outputs": [
    {
     "data": {
      "text/plain": [
       "               id                category  \\\n",
       "41958  5508806580  housing/rent/apartment   \n",
       "41959  5508806428  housing/rent/apartment   \n",
       "41960  5508806391  housing/rent/apartment   \n",
       "41961  5508806299  housing/rent/apartment   \n",
       "41962  5508806233  housing/rent/apartment   \n",
       "...           ...                     ...   \n",
       "83243  5197839500  housing/rent/apartment   \n",
       "83244  5197836604  housing/rent/apartment   \n",
       "83245  5197834189  housing/rent/apartment   \n",
       "83246  5197828852  housing/rent/apartment   \n",
       "83247  5197828778  housing/rent/apartment   \n",
       "\n",
       "                                                   title  \\\n",
       "41958  Las Vegas, prime location Two BR, Apartment. P...   \n",
       "41959                          Northglenn Value. Pet OK!   \n",
       "41960  Apartment in move in condition in District Hei...   \n",
       "41961  District Heights, prime location Two BR, Apart...   \n",
       "41962                            Spacious One BR, One BA   \n",
       "...                                                  ...   \n",
       "83243  Apartment, Studio, 400 sq. ft. - in a great area.   \n",
       "83244  offers the lifestyle you deserve in the center...   \n",
       "83245                 Attractive Two BR, Two BA. Pet OK!   \n",
       "83246  The Best of the Best in the City of Tempe! Sav...   \n",
       "83247  Two BA - $1,862/mo - Apartment - in a great ar...   \n",
       "\n",
       "                                                    body  \\\n",
       "41958  Live in the middle of it all! South is a pet f...   \n",
       "41959  Square footage: 738 square ft, unit number: 06...   \n",
       "41960  Capital Courts has something for everyone. Loc...   \n",
       "41961  Income Requirement: Must have 2. 5x the rent i...   \n",
       "41962  Square footage: 680 sq-ft, unit number: 122. P...   \n",
       "...                                                  ...   \n",
       "83243  Apartment for rent in Ruckersville. Dogs Dogs ...   \n",
       "83244  Our pet friendly one, 2 and 3 beds apartment h...   \n",
       "83245  Square footage: 1055 square feet, unit number:...   \n",
       "83246  In the heart of vibrant Tempe near Arizona Sta...   \n",
       "83247  In the heart of vibrant Tempe near Arizona Sta...   \n",
       "\n",
       "                                       amenities  bathrooms  bedrooms  \\\n",
       "41958                           Gym,Parking,Pool        2.0       2.0   \n",
       "41959                   Gym,Parking,Pool,Storage        1.0       1.0   \n",
       "41960                 AC,Parking,Playground,Pool        1.5       3.0   \n",
       "41961                                    Parking        1.0       2.0   \n",
       "41962  Basketball,Gym,Patio/Deck,Playground,Pool        1.0       1.0   \n",
       "...                                          ...        ...       ...   \n",
       "83243                                        NaN        1.0       0.0   \n",
       "83244                                        NaN        2.0       2.0   \n",
       "83245                           Gym,Parking,Pool        2.0       2.0   \n",
       "83246                           Gym,Parking,Pool        2.0       3.0   \n",
       "83247                           Gym,Parking,Pool        2.0       3.0   \n",
       "\n",
       "      currency fee has_photo  ... price_display  price_type square_feet  \\\n",
       "41958      USD  No       Yes  ...        $1,335     Monthly        1084   \n",
       "41959      USD  No       Yes  ...        $1,331     Monthly         738   \n",
       "41960      USD  No       Yes  ...        $1,320     Monthly         943   \n",
       "41961      USD  No       Yes  ...        $1,349     Monthly         931   \n",
       "41962      USD  No       Yes  ...        $1,260     Monthly         680   \n",
       "...        ...  ..       ...  ...           ...         ...         ...   \n",
       "83243      USD  No        No  ...          $725     Monthly         400   \n",
       "83244      USD  No       Yes  ...        $1,237     Monthly        1051   \n",
       "83245      USD  No       Yes  ...        $1,476     Monthly        1055   \n",
       "83246      USD  No       Yes  ...        $1,877     Monthly        1261   \n",
       "83247      USD  No       Yes  ...        $1,862     Monthly        1261   \n",
       "\n",
       "      address          cityname state latitude longitude        source  \\\n",
       "41958     NaN         Las Vegas    NV  36.1536 -115.1965  RentDigs.com   \n",
       "41959     NaN        Northglenn    CO  39.8999 -104.9442  RentDigs.com   \n",
       "41960     NaN  District Heights    MD  38.8516  -76.8871  RentDigs.com   \n",
       "41961     NaN  District Heights    MD  38.8516  -76.8871  RentDigs.com   \n",
       "41962     NaN            Denver    CO  39.8999 -104.9442  RentDigs.com   \n",
       "...       ...               ...   ...      ...       ...           ...   \n",
       "83243     NaN      Ruckersville    VA  38.2203  -78.3844  RentDigs.com   \n",
       "83244     NaN         Charlotte    NC  35.3201  -80.7409  RentDigs.com   \n",
       "83245     NaN             Tempe    AZ  33.3924 -111.9265  RentDigs.com   \n",
       "83246     NaN             Tempe    AZ  33.3924 -111.9265  RentDigs.com   \n",
       "83247     NaN             Tempe    AZ  33.3924 -111.9265  RentDigs.com   \n",
       "\n",
       "             time  \n",
       "41958  1568754086  \n",
       "41959  1568754072  \n",
       "41960  1568754069  \n",
       "41961  1568754061  \n",
       "41962  1568754056  \n",
       "...           ...  \n",
       "83243  1550823878  \n",
       "83244  1550823780  \n",
       "83245  1550823679  \n",
       "83246  1550823091  \n",
       "83247  1550823077  \n",
       "\n",
       "[84 rows x 22 columns]"
      ],
      "text/html": [
       "<div>\n",
       "<style scoped>\n",
       "    .dataframe tbody tr th:only-of-type {\n",
       "        vertical-align: middle;\n",
       "    }\n",
       "\n",
       "    .dataframe tbody tr th {\n",
       "        vertical-align: top;\n",
       "    }\n",
       "\n",
       "    .dataframe thead th {\n",
       "        text-align: right;\n",
       "    }\n",
       "</style>\n",
       "<table border=\"1\" class=\"dataframe\">\n",
       "  <thead>\n",
       "    <tr style=\"text-align: right;\">\n",
       "      <th></th>\n",
       "      <th>id</th>\n",
       "      <th>category</th>\n",
       "      <th>title</th>\n",
       "      <th>body</th>\n",
       "      <th>amenities</th>\n",
       "      <th>bathrooms</th>\n",
       "      <th>bedrooms</th>\n",
       "      <th>currency</th>\n",
       "      <th>fee</th>\n",
       "      <th>has_photo</th>\n",
       "      <th>...</th>\n",
       "      <th>price_display</th>\n",
       "      <th>price_type</th>\n",
       "      <th>square_feet</th>\n",
       "      <th>address</th>\n",
       "      <th>cityname</th>\n",
       "      <th>state</th>\n",
       "      <th>latitude</th>\n",
       "      <th>longitude</th>\n",
       "      <th>source</th>\n",
       "      <th>time</th>\n",
       "    </tr>\n",
       "  </thead>\n",
       "  <tbody>\n",
       "    <tr>\n",
       "      <th>41958</th>\n",
       "      <td>5508806580</td>\n",
       "      <td>housing/rent/apartment</td>\n",
       "      <td>Las Vegas, prime location Two BR, Apartment. P...</td>\n",
       "      <td>Live in the middle of it all! South is a pet f...</td>\n",
       "      <td>Gym,Parking,Pool</td>\n",
       "      <td>2.0</td>\n",
       "      <td>2.0</td>\n",
       "      <td>USD</td>\n",
       "      <td>No</td>\n",
       "      <td>Yes</td>\n",
       "      <td>...</td>\n",
       "      <td>$1,335</td>\n",
       "      <td>Monthly</td>\n",
       "      <td>1084</td>\n",
       "      <td>NaN</td>\n",
       "      <td>Las Vegas</td>\n",
       "      <td>NV</td>\n",
       "      <td>36.1536</td>\n",
       "      <td>-115.1965</td>\n",
       "      <td>RentDigs.com</td>\n",
       "      <td>1568754086</td>\n",
       "    </tr>\n",
       "    <tr>\n",
       "      <th>41959</th>\n",
       "      <td>5508806428</td>\n",
       "      <td>housing/rent/apartment</td>\n",
       "      <td>Northglenn Value. Pet OK!</td>\n",
       "      <td>Square footage: 738 square ft, unit number: 06...</td>\n",
       "      <td>Gym,Parking,Pool,Storage</td>\n",
       "      <td>1.0</td>\n",
       "      <td>1.0</td>\n",
       "      <td>USD</td>\n",
       "      <td>No</td>\n",
       "      <td>Yes</td>\n",
       "      <td>...</td>\n",
       "      <td>$1,331</td>\n",
       "      <td>Monthly</td>\n",
       "      <td>738</td>\n",
       "      <td>NaN</td>\n",
       "      <td>Northglenn</td>\n",
       "      <td>CO</td>\n",
       "      <td>39.8999</td>\n",
       "      <td>-104.9442</td>\n",
       "      <td>RentDigs.com</td>\n",
       "      <td>1568754072</td>\n",
       "    </tr>\n",
       "    <tr>\n",
       "      <th>41960</th>\n",
       "      <td>5508806391</td>\n",
       "      <td>housing/rent/apartment</td>\n",
       "      <td>Apartment in move in condition in District Hei...</td>\n",
       "      <td>Capital Courts has something for everyone. Loc...</td>\n",
       "      <td>AC,Parking,Playground,Pool</td>\n",
       "      <td>1.5</td>\n",
       "      <td>3.0</td>\n",
       "      <td>USD</td>\n",
       "      <td>No</td>\n",
       "      <td>Yes</td>\n",
       "      <td>...</td>\n",
       "      <td>$1,320</td>\n",
       "      <td>Monthly</td>\n",
       "      <td>943</td>\n",
       "      <td>NaN</td>\n",
       "      <td>District Heights</td>\n",
       "      <td>MD</td>\n",
       "      <td>38.8516</td>\n",
       "      <td>-76.8871</td>\n",
       "      <td>RentDigs.com</td>\n",
       "      <td>1568754069</td>\n",
       "    </tr>\n",
       "    <tr>\n",
       "      <th>41961</th>\n",
       "      <td>5508806299</td>\n",
       "      <td>housing/rent/apartment</td>\n",
       "      <td>District Heights, prime location Two BR, Apart...</td>\n",
       "      <td>Income Requirement: Must have 2. 5x the rent i...</td>\n",
       "      <td>Parking</td>\n",
       "      <td>1.0</td>\n",
       "      <td>2.0</td>\n",
       "      <td>USD</td>\n",
       "      <td>No</td>\n",
       "      <td>Yes</td>\n",
       "      <td>...</td>\n",
       "      <td>$1,349</td>\n",
       "      <td>Monthly</td>\n",
       "      <td>931</td>\n",
       "      <td>NaN</td>\n",
       "      <td>District Heights</td>\n",
       "      <td>MD</td>\n",
       "      <td>38.8516</td>\n",
       "      <td>-76.8871</td>\n",
       "      <td>RentDigs.com</td>\n",
       "      <td>1568754061</td>\n",
       "    </tr>\n",
       "    <tr>\n",
       "      <th>41962</th>\n",
       "      <td>5508806233</td>\n",
       "      <td>housing/rent/apartment</td>\n",
       "      <td>Spacious One BR, One BA</td>\n",
       "      <td>Square footage: 680 sq-ft, unit number: 122. P...</td>\n",
       "      <td>Basketball,Gym,Patio/Deck,Playground,Pool</td>\n",
       "      <td>1.0</td>\n",
       "      <td>1.0</td>\n",
       "      <td>USD</td>\n",
       "      <td>No</td>\n",
       "      <td>Yes</td>\n",
       "      <td>...</td>\n",
       "      <td>$1,260</td>\n",
       "      <td>Monthly</td>\n",
       "      <td>680</td>\n",
       "      <td>NaN</td>\n",
       "      <td>Denver</td>\n",
       "      <td>CO</td>\n",
       "      <td>39.8999</td>\n",
       "      <td>-104.9442</td>\n",
       "      <td>RentDigs.com</td>\n",
       "      <td>1568754056</td>\n",
       "    </tr>\n",
       "    <tr>\n",
       "      <th>...</th>\n",
       "      <td>...</td>\n",
       "      <td>...</td>\n",
       "      <td>...</td>\n",
       "      <td>...</td>\n",
       "      <td>...</td>\n",
       "      <td>...</td>\n",
       "      <td>...</td>\n",
       "      <td>...</td>\n",
       "      <td>...</td>\n",
       "      <td>...</td>\n",
       "      <td>...</td>\n",
       "      <td>...</td>\n",
       "      <td>...</td>\n",
       "      <td>...</td>\n",
       "      <td>...</td>\n",
       "      <td>...</td>\n",
       "      <td>...</td>\n",
       "      <td>...</td>\n",
       "      <td>...</td>\n",
       "      <td>...</td>\n",
       "      <td>...</td>\n",
       "    </tr>\n",
       "    <tr>\n",
       "      <th>83243</th>\n",
       "      <td>5197839500</td>\n",
       "      <td>housing/rent/apartment</td>\n",
       "      <td>Apartment, Studio, 400 sq. ft. - in a great area.</td>\n",
       "      <td>Apartment for rent in Ruckersville. Dogs Dogs ...</td>\n",
       "      <td>NaN</td>\n",
       "      <td>1.0</td>\n",
       "      <td>0.0</td>\n",
       "      <td>USD</td>\n",
       "      <td>No</td>\n",
       "      <td>No</td>\n",
       "      <td>...</td>\n",
       "      <td>$725</td>\n",
       "      <td>Monthly</td>\n",
       "      <td>400</td>\n",
       "      <td>NaN</td>\n",
       "      <td>Ruckersville</td>\n",
       "      <td>VA</td>\n",
       "      <td>38.2203</td>\n",
       "      <td>-78.3844</td>\n",
       "      <td>RentDigs.com</td>\n",
       "      <td>1550823878</td>\n",
       "    </tr>\n",
       "    <tr>\n",
       "      <th>83244</th>\n",
       "      <td>5197836604</td>\n",
       "      <td>housing/rent/apartment</td>\n",
       "      <td>offers the lifestyle you deserve in the center...</td>\n",
       "      <td>Our pet friendly one, 2 and 3 beds apartment h...</td>\n",
       "      <td>NaN</td>\n",
       "      <td>2.0</td>\n",
       "      <td>2.0</td>\n",
       "      <td>USD</td>\n",
       "      <td>No</td>\n",
       "      <td>Yes</td>\n",
       "      <td>...</td>\n",
       "      <td>$1,237</td>\n",
       "      <td>Monthly</td>\n",
       "      <td>1051</td>\n",
       "      <td>NaN</td>\n",
       "      <td>Charlotte</td>\n",
       "      <td>NC</td>\n",
       "      <td>35.3201</td>\n",
       "      <td>-80.7409</td>\n",
       "      <td>RentDigs.com</td>\n",
       "      <td>1550823780</td>\n",
       "    </tr>\n",
       "    <tr>\n",
       "      <th>83245</th>\n",
       "      <td>5197834189</td>\n",
       "      <td>housing/rent/apartment</td>\n",
       "      <td>Attractive Two BR, Two BA. Pet OK!</td>\n",
       "      <td>Square footage: 1055 square feet, unit number:...</td>\n",
       "      <td>Gym,Parking,Pool</td>\n",
       "      <td>2.0</td>\n",
       "      <td>2.0</td>\n",
       "      <td>USD</td>\n",
       "      <td>No</td>\n",
       "      <td>Yes</td>\n",
       "      <td>...</td>\n",
       "      <td>$1,476</td>\n",
       "      <td>Monthly</td>\n",
       "      <td>1055</td>\n",
       "      <td>NaN</td>\n",
       "      <td>Tempe</td>\n",
       "      <td>AZ</td>\n",
       "      <td>33.3924</td>\n",
       "      <td>-111.9265</td>\n",
       "      <td>RentDigs.com</td>\n",
       "      <td>1550823679</td>\n",
       "    </tr>\n",
       "    <tr>\n",
       "      <th>83246</th>\n",
       "      <td>5197828852</td>\n",
       "      <td>housing/rent/apartment</td>\n",
       "      <td>The Best of the Best in the City of Tempe! Sav...</td>\n",
       "      <td>In the heart of vibrant Tempe near Arizona Sta...</td>\n",
       "      <td>Gym,Parking,Pool</td>\n",
       "      <td>2.0</td>\n",
       "      <td>3.0</td>\n",
       "      <td>USD</td>\n",
       "      <td>No</td>\n",
       "      <td>Yes</td>\n",
       "      <td>...</td>\n",
       "      <td>$1,877</td>\n",
       "      <td>Monthly</td>\n",
       "      <td>1261</td>\n",
       "      <td>NaN</td>\n",
       "      <td>Tempe</td>\n",
       "      <td>AZ</td>\n",
       "      <td>33.3924</td>\n",
       "      <td>-111.9265</td>\n",
       "      <td>RentDigs.com</td>\n",
       "      <td>1550823091</td>\n",
       "    </tr>\n",
       "    <tr>\n",
       "      <th>83247</th>\n",
       "      <td>5197828778</td>\n",
       "      <td>housing/rent/apartment</td>\n",
       "      <td>Two BA - $1,862/mo - Apartment - in a great ar...</td>\n",
       "      <td>In the heart of vibrant Tempe near Arizona Sta...</td>\n",
       "      <td>Gym,Parking,Pool</td>\n",
       "      <td>2.0</td>\n",
       "      <td>3.0</td>\n",
       "      <td>USD</td>\n",
       "      <td>No</td>\n",
       "      <td>Yes</td>\n",
       "      <td>...</td>\n",
       "      <td>$1,862</td>\n",
       "      <td>Monthly</td>\n",
       "      <td>1261</td>\n",
       "      <td>NaN</td>\n",
       "      <td>Tempe</td>\n",
       "      <td>AZ</td>\n",
       "      <td>33.3924</td>\n",
       "      <td>-111.9265</td>\n",
       "      <td>RentDigs.com</td>\n",
       "      <td>1550823077</td>\n",
       "    </tr>\n",
       "  </tbody>\n",
       "</table>\n",
       "<p>84 rows × 22 columns</p>\n",
       "</div>"
      ]
     },
     "execution_count": 215,
     "metadata": {},
     "output_type": "execute_result"
    }
   ],
   "execution_count": 215
  },
  {
   "metadata": {},
   "cell_type": "markdown",
   "source": "Se eliminan los registros duplicados.",
   "id": "11b1d313e6b3b116"
  },
  {
   "metadata": {
    "ExecuteTime": {
     "end_time": "2024-11-30T00:23:30.741412Z",
     "start_time": "2024-11-30T00:23:30.199291Z"
    }
   },
   "cell_type": "code",
   "source": [
    "df = df.drop_duplicates()\n",
    "df.duplicated().sum()"
   ],
   "id": "8c28452a88ce1e69",
   "outputs": [
    {
     "data": {
      "text/plain": [
       "np.int64(0)"
      ]
     },
     "execution_count": 216,
     "metadata": {},
     "output_type": "execute_result"
    }
   ],
   "execution_count": 216
  },
  {
   "metadata": {},
   "cell_type": "markdown",
   "source": "Se revisa la columna **category**.",
   "id": "ee627d74142d2445"
  },
  {
   "metadata": {
    "ExecuteTime": {
     "end_time": "2024-11-30T00:23:30.804155Z",
     "start_time": "2024-11-30T00:23:30.790116Z"
    }
   },
   "cell_type": "code",
   "source": "df['category'].value_counts()",
   "id": "a72872baaa59abfa",
   "outputs": [
    {
     "data": {
      "text/plain": [
       "category\n",
       "housing/rent/apartment            99347\n",
       "housing/rent/commercial/retail       42\n",
       "housing/rent                          7\n",
       "housing/rent/short_term               4\n",
       "housing/rent/home                     4\n",
       "housing/rent/condo                    3\n",
       "housing/rent/other                    1\n",
       "Name: count, dtype: int64"
      ]
     },
     "execution_count": 217,
     "metadata": {},
     "output_type": "execute_result"
    }
   ],
   "execution_count": 217
  },
  {
   "metadata": {},
   "cell_type": "markdown",
   "source": "Dado que la mayoría de los registros son de la categoría **Apartments**, se elegirá esta categoría para el análisis.",
   "id": "704ad3c0969a0625"
  },
  {
   "metadata": {
    "ExecuteTime": {
     "end_time": "2024-11-30T00:23:30.897775Z",
     "start_time": "2024-11-30T00:23:30.867738Z"
    }
   },
   "cell_type": "code",
   "source": "df = df[df['category'] == 'housing/rent/apartment']",
   "id": "5912bd5cbe6da281",
   "outputs": [],
   "execution_count": 218
  },
  {
   "metadata": {},
   "cell_type": "markdown",
   "source": "Revisamos la variable **price_type**.",
   "id": "18967e0b6760a1c9"
  },
  {
   "metadata": {
    "ExecuteTime": {
     "end_time": "2024-11-30T00:23:30.990891Z",
     "start_time": "2024-11-30T00:23:30.968364Z"
    }
   },
   "cell_type": "code",
   "source": "df['price_type'].value_counts()",
   "id": "ec5088020f2f4357",
   "outputs": [
    {
     "data": {
      "text/plain": [
       "price_type\n",
       "Monthly           99343\n",
       "Weekly                3\n",
       "Monthly|Weekly        1\n",
       "Name: count, dtype: int64"
      ]
     },
     "execution_count": 219,
     "metadata": {},
     "output_type": "execute_result"
    }
   ],
   "execution_count": 219
  },
  {
   "metadata": {},
   "cell_type": "markdown",
   "source": "Dado que la mayoría de los registros son de tipo **monthly**, se elegirá esta categoría para el análisis.",
   "id": "468b928cb1103c9e"
  },
  {
   "metadata": {
    "ExecuteTime": {
     "end_time": "2024-11-30T00:23:31.083690Z",
     "start_time": "2024-11-30T00:23:31.054192Z"
    }
   },
   "cell_type": "code",
   "source": "df = df[df['price_type'] == 'Monthly']",
   "id": "b23cabf0cac6eea8",
   "outputs": [],
   "execution_count": 220
  },
  {
   "metadata": {},
   "cell_type": "markdown",
   "source": "Se analiza la variable **cityname**.",
   "id": "c96be3fe4f21edca"
  },
  {
   "metadata": {
    "ExecuteTime": {
     "end_time": "2024-11-30T00:23:31.192151Z",
     "start_time": "2024-11-30T00:23:31.173374Z"
    }
   },
   "cell_type": "code",
   "source": "df['cityname'].value_counts()",
   "id": "5671c85f495fcba1",
   "outputs": [
    {
     "data": {
      "text/plain": [
       "cityname\n",
       "Dallas           2856\n",
       "Denver           2749\n",
       "Los Angeles      2429\n",
       "Las Vegas        1846\n",
       "Arlington        1577\n",
       "                 ... \n",
       "La Grange           1\n",
       "Columbia City       1\n",
       "Pomona              1\n",
       "High Ridge          1\n",
       "Waunakee            1\n",
       "Name: count, Length: 2977, dtype: int64"
      ]
     },
     "execution_count": 221,
     "metadata": {},
     "output_type": "execute_result"
    }
   ],
   "execution_count": 221
  },
  {
   "metadata": {},
   "cell_type": "markdown",
   "source": "Dado que la variable **cityname** tiene muchos valores, se omitirá para el análisis de clustering, ya que no se puede considerar como una variable categórica.",
   "id": "d268a97fb471f504"
  },
  {
   "metadata": {
    "ExecuteTime": {
     "end_time": "2024-11-30T00:23:31.285314Z",
     "start_time": "2024-11-30T00:23:31.255771Z"
    }
   },
   "cell_type": "code",
   "source": "df = df.drop(columns=['cityname'])",
   "id": "a3aa24b764143a36",
   "outputs": [],
   "execution_count": 222
  },
  {
   "metadata": {},
   "cell_type": "markdown",
   "source": "Se revisa la variable **pets_allowed**.",
   "id": "d2caa9713c0a92a5"
  },
  {
   "metadata": {
    "ExecuteTime": {
     "end_time": "2024-11-30T00:23:31.379009Z",
     "start_time": "2024-11-30T00:23:31.361983Z"
    }
   },
   "cell_type": "code",
   "source": "df['pets_allowed'].value_counts()",
   "id": "355d07ffbcc3bc04",
   "outputs": [
    {
     "data": {
      "text/plain": [
       "pets_allowed\n",
       "Cats,Dogs         37058\n",
       "Cats               1840\n",
       "Dogs                127\n",
       "Cats,Dogs,None        1\n",
       "Name: count, dtype: int64"
      ]
     },
     "execution_count": 223,
     "metadata": {},
     "output_type": "execute_result"
    }
   ],
   "execution_count": 223
  },
  {
   "metadata": {},
   "cell_type": "markdown",
   "source": "Se convierte la variable **pets_allowed_cat** a tipo categórica.",
   "id": "bd031d1906b96bab"
  },
  {
   "metadata": {
    "ExecuteTime": {
     "end_time": "2024-11-30T00:23:31.487617Z",
     "start_time": "2024-11-30T00:23:31.458577Z"
    }
   },
   "cell_type": "code",
   "source": [
    "df['pets_allowed_cat'] = df['pets_allowed'].fillna('No').map({'Cats,Dogs': 'Si', 'Cats': 'Si', 'Dogs': 'Si', 'Cats,Dogs,None': 'Si', 'No': 'No'})\n",
    "df['pets_allowed_cat'].value_counts()"
   ],
   "id": "e99b3b5fba29fd8b",
   "outputs": [
    {
     "data": {
      "text/plain": [
       "pets_allowed_cat\n",
       "No    60317\n",
       "Si    39026\n",
       "Name: count, dtype: int64"
      ]
     },
     "execution_count": 224,
     "metadata": {},
     "output_type": "execute_result"
    }
   ],
   "execution_count": 224
  },
  {
   "metadata": {
    "ExecuteTime": {
     "end_time": "2024-11-30T00:23:31.627780Z",
     "start_time": "2024-11-30T00:23:31.597596Z"
    }
   },
   "cell_type": "code",
   "source": [
    "labelencoder = preprocessing.LabelEncoder()\n",
    "df['pets_allowed_cat'] = labelencoder.fit_transform(df['pets_allowed_cat'])\n",
    "df['pets_allowed_cat'].value_counts()"
   ],
   "id": "3b888f29ddfb6f33",
   "outputs": [
    {
     "data": {
      "text/plain": [
       "pets_allowed_cat\n",
       "0    60317\n",
       "1    39026\n",
       "Name: count, dtype: int64"
      ]
     },
     "execution_count": 225,
     "metadata": {},
     "output_type": "execute_result"
    }
   ],
   "execution_count": 225
  },
  {
   "metadata": {},
   "cell_type": "markdown",
   "source": "Se revisa la **latitud** y **longitud**.",
   "id": "f9ed74edaa11def9"
  },
  {
   "metadata": {
    "ExecuteTime": {
     "end_time": "2024-11-30T00:23:31.736516Z",
     "start_time": "2024-11-30T00:23:31.725918Z"
    }
   },
   "cell_type": "code",
   "source": "df[['latitude', 'longitude']]",
   "id": "7e0a3bd4096427e5",
   "outputs": [
    {
     "data": {
      "text/plain": [
       "       latitude  longitude\n",
       "0       33.8520  -118.3759\n",
       "1       37.0867   -76.4941\n",
       "2       35.8230   -78.6438\n",
       "3       38.3622  -121.9712\n",
       "4       35.1038  -106.6110\n",
       "...         ...        ...\n",
       "99487   29.6151   -95.1998\n",
       "99488   30.2254   -81.7579\n",
       "99489   32.7379  -117.0914\n",
       "99490   35.4158   -80.8451\n",
       "99491   32.7379  -117.0914\n",
       "\n",
       "[99343 rows x 2 columns]"
      ],
      "text/html": [
       "<div>\n",
       "<style scoped>\n",
       "    .dataframe tbody tr th:only-of-type {\n",
       "        vertical-align: middle;\n",
       "    }\n",
       "\n",
       "    .dataframe tbody tr th {\n",
       "        vertical-align: top;\n",
       "    }\n",
       "\n",
       "    .dataframe thead th {\n",
       "        text-align: right;\n",
       "    }\n",
       "</style>\n",
       "<table border=\"1\" class=\"dataframe\">\n",
       "  <thead>\n",
       "    <tr style=\"text-align: right;\">\n",
       "      <th></th>\n",
       "      <th>latitude</th>\n",
       "      <th>longitude</th>\n",
       "    </tr>\n",
       "  </thead>\n",
       "  <tbody>\n",
       "    <tr>\n",
       "      <th>0</th>\n",
       "      <td>33.8520</td>\n",
       "      <td>-118.3759</td>\n",
       "    </tr>\n",
       "    <tr>\n",
       "      <th>1</th>\n",
       "      <td>37.0867</td>\n",
       "      <td>-76.4941</td>\n",
       "    </tr>\n",
       "    <tr>\n",
       "      <th>2</th>\n",
       "      <td>35.8230</td>\n",
       "      <td>-78.6438</td>\n",
       "    </tr>\n",
       "    <tr>\n",
       "      <th>3</th>\n",
       "      <td>38.3622</td>\n",
       "      <td>-121.9712</td>\n",
       "    </tr>\n",
       "    <tr>\n",
       "      <th>4</th>\n",
       "      <td>35.1038</td>\n",
       "      <td>-106.6110</td>\n",
       "    </tr>\n",
       "    <tr>\n",
       "      <th>...</th>\n",
       "      <td>...</td>\n",
       "      <td>...</td>\n",
       "    </tr>\n",
       "    <tr>\n",
       "      <th>99487</th>\n",
       "      <td>29.6151</td>\n",
       "      <td>-95.1998</td>\n",
       "    </tr>\n",
       "    <tr>\n",
       "      <th>99488</th>\n",
       "      <td>30.2254</td>\n",
       "      <td>-81.7579</td>\n",
       "    </tr>\n",
       "    <tr>\n",
       "      <th>99489</th>\n",
       "      <td>32.7379</td>\n",
       "      <td>-117.0914</td>\n",
       "    </tr>\n",
       "    <tr>\n",
       "      <th>99490</th>\n",
       "      <td>35.4158</td>\n",
       "      <td>-80.8451</td>\n",
       "    </tr>\n",
       "    <tr>\n",
       "      <th>99491</th>\n",
       "      <td>32.7379</td>\n",
       "      <td>-117.0914</td>\n",
       "    </tr>\n",
       "  </tbody>\n",
       "</table>\n",
       "<p>99343 rows × 2 columns</p>\n",
       "</div>"
      ]
     },
     "execution_count": 226,
     "metadata": {},
     "output_type": "execute_result"
    }
   ],
   "execution_count": 226
  },
  {
   "metadata": {},
   "cell_type": "markdown",
   "source": "Se revisa **bathrooms** y **bedrooms**.",
   "id": "911279108a171db5"
  },
  {
   "metadata": {
    "ExecuteTime": {
     "end_time": "2024-11-30T00:23:31.860297Z",
     "start_time": "2024-11-30T00:23:31.846274Z"
    }
   },
   "cell_type": "code",
   "source": [
    "nulos_bath = df['bathrooms'].isnull().sum()\n",
    "null_bed = df['bedrooms'].isnull().sum()\n",
    "print(f'Nulos en bathrooms: {nulos_bath}, nulos en bedrooms: {null_bed}')"
   ],
   "id": "ca072ad5d59cc655",
   "outputs": [
    {
     "name": "stdout",
     "output_type": "stream",
     "text": [
      "Nulos en bathrooms: 61, nulos en bedrooms: 123\n"
     ]
    }
   ],
   "execution_count": 227
  },
  {
   "metadata": {},
   "cell_type": "markdown",
   "source": "Se eliminan los registros nulos.",
   "id": "23171dcc299d883f"
  },
  {
   "metadata": {
    "ExecuteTime": {
     "end_time": "2024-11-30T00:23:32.031071Z",
     "start_time": "2024-11-30T00:23:31.958476Z"
    }
   },
   "cell_type": "code",
   "source": [
    "df = df.dropna(subset=['bathrooms', 'bedrooms'])\n",
    "df.isnull().sum()"
   ],
   "id": "5e4ce096382c5dfe",
   "outputs": [
    {
     "data": {
      "text/plain": [
       "id                      0\n",
       "category                0\n",
       "title                   0\n",
       "body                    0\n",
       "amenities           15962\n",
       "bathrooms               0\n",
       "bedrooms                0\n",
       "currency                0\n",
       "fee                     0\n",
       "has_photo               0\n",
       "pets_allowed        60176\n",
       "price                   1\n",
       "price_display           1\n",
       "price_type              0\n",
       "square_feet             0\n",
       "address             91268\n",
       "state                 298\n",
       "latitude               25\n",
       "longitude              25\n",
       "source                  0\n",
       "time                    0\n",
       "pets_allowed_cat        0\n",
       "dtype: int64"
      ]
     },
     "execution_count": 228,
     "metadata": {},
     "output_type": "execute_result"
    }
   ],
   "execution_count": 228
  },
  {
   "metadata": {},
   "cell_type": "markdown",
   "source": "Los registros de **bathrooms** y **bedrooms** no son continuos, por lo que se considerarán categóricos.",
   "id": "8c7def8e4e3abc9d"
  },
  {
   "metadata": {
    "ExecuteTime": {
     "end_time": "2024-11-30T00:23:32.109031Z",
     "start_time": "2024-11-30T00:23:32.094707Z"
    }
   },
   "cell_type": "code",
   "source": [
    "df['bathrooms'] = labelencoder.fit_transform(df['bathrooms'])\n",
    "df['bedrooms'] = labelencoder.fit_transform(df['bedrooms'])"
   ],
   "id": "76a5a389a99710a4",
   "outputs": [],
   "execution_count": 229
  },
  {
   "metadata": {
    "ExecuteTime": {
     "end_time": "2024-11-30T00:23:32.186382Z",
     "start_time": "2024-11-30T00:23:32.173616Z"
    }
   },
   "cell_type": "code",
   "source": "",
   "id": "3b7395159a86463e",
   "outputs": [],
   "execution_count": null
  },
  {
   "metadata": {},
   "cell_type": "markdown",
   "source": "",
   "id": "12a934888b140e3"
  },
  {
   "metadata": {},
   "cell_type": "markdown",
   "source": [
    "### 2. De acuerdo con lo anterior, seleccione las variables que utilizará para realizar la segmentación, y con ello determine el modelo a utilizar.\n",
    "Se seleccionarán las variables **bathrooms**, **bedrooms**, **pets_allowed_cat**, **price**, **square_feet**, **latitude** y **longitude**.\n",
    "Se utilizará el modelo K-Prototypes, ya que se tienen variables numéricas y categóricas.\n",
    "#TODO Falta especificar por que se descartan las variables."
   ],
   "id": "389a481f57dd6d6b"
  },
  {
   "metadata": {
    "ExecuteTime": {
     "end_time": "2024-11-30T00:23:32.248521Z",
     "start_time": "2024-11-30T00:23:32.235487Z"
    }
   },
   "cell_type": "code",
   "source": "df_vals = df.filter(items=['bathrooms','bedrooms', 'pets_allowed_cat', 'price', 'square_feet', 'latitude', 'longitude'], axis=1)",
   "id": "5d425849cfbf17a2",
   "outputs": [],
   "execution_count": 230
  },
  {
   "metadata": {},
   "cell_type": "markdown",
   "source": "Revisamos si hay valores nulos.",
   "id": "74537a446af41b01"
  },
  {
   "metadata": {
    "ExecuteTime": {
     "end_time": "2024-11-30T00:23:32.310623Z",
     "start_time": "2024-11-30T00:23:32.299608Z"
    }
   },
   "cell_type": "code",
   "source": "df_vals.isnull().sum()",
   "id": "9265b062f39f1fb4",
   "outputs": [
    {
     "data": {
      "text/plain": [
       "bathrooms            0\n",
       "bedrooms             0\n",
       "pets_allowed_cat     0\n",
       "price                1\n",
       "square_feet          0\n",
       "latitude            25\n",
       "longitude           25\n",
       "dtype: int64"
      ]
     },
     "execution_count": 231,
     "metadata": {},
     "output_type": "execute_result"
    }
   ],
   "execution_count": 231
  },
  {
   "metadata": {},
   "cell_type": "markdown",
   "source": "Se eliminan los registros nulos ya que la cantidad es baja.",
   "id": "e1523db59b7ec0e3"
  },
  {
   "metadata": {
    "ExecuteTime": {
     "end_time": "2024-11-30T00:23:32.388748Z",
     "start_time": "2024-11-30T00:23:32.374721Z"
    }
   },
   "cell_type": "code",
   "source": [
    "df_vals = df_vals.dropna().reset_index(drop=True)\n",
    "df_vals.isnull().sum()"
   ],
   "id": "323d538f1ef5f77d",
   "outputs": [
    {
     "data": {
      "text/plain": [
       "bathrooms           0\n",
       "bedrooms            0\n",
       "pets_allowed_cat    0\n",
       "price               0\n",
       "square_feet         0\n",
       "latitude            0\n",
       "longitude           0\n",
       "dtype: int64"
      ]
     },
     "execution_count": 232,
     "metadata": {},
     "output_type": "execute_result"
    }
   ],
   "execution_count": 232
  },
  {
   "metadata": {},
   "cell_type": "markdown",
   "source": [
    "Separamos el dataframe en variables numéricas y categóricas.\n",
    "**Bathrooms**, **bedrooms**, **pets_allowed_cat** son categóricas, las dos primeras no son continuas, por lo que se consideran categóricas."
   ],
   "id": "a27c85bc92dff4ef"
  },
  {
   "metadata": {
    "ExecuteTime": {
     "end_time": "2024-11-30T00:23:32.575256Z",
     "start_time": "2024-11-30T00:23:32.560750Z"
    }
   },
   "cell_type": "code",
   "source": [
    "df_vals_num = df_vals[['price','square_feet','latitude','longitude']]\n",
    "df_vals_cat = df_vals[['bathrooms','bedrooms','pets_allowed_cat']]"
   ],
   "id": "d0085ada097db87e",
   "outputs": [],
   "execution_count": 233
  },
  {
   "metadata": {},
   "cell_type": "markdown",
   "source": "Se estandardizan las variables numéricas y se unen con las categóricas.",
   "id": "ab26726616f468d2"
  },
  {
   "metadata": {
    "ExecuteTime": {
     "end_time": "2024-11-30T00:23:32.668491Z",
     "start_time": "2024-11-30T00:23:32.650936Z"
    }
   },
   "cell_type": "code",
   "source": [
    "scaler = preprocessing.StandardScaler()\n",
    "df_vals_num = pd.DataFrame(scaler.fit_transform(df_vals_num), columns=df_vals_num.columns)\n",
    "df_scaled = df_vals_num.join(df_vals_cat)\n",
    "df_scaled.head()\n"
   ],
   "id": "e3b08f1cfac62329",
   "outputs": [
    {
     "data": {
      "text/plain": [
       "      price  square_feet  latitude  longitude  bathrooms  bedrooms  \\\n",
       "0  0.742234    -1.133344 -0.672541  -1.696039          0         1   \n",
       "1 -0.308033     1.489302  0.030499   0.952877          1         3   \n",
       "2 -0.146881     1.899946 -0.244157   0.816914          2         3   \n",
       "3  0.080955    -0.372284  0.307720  -1.923433          0         2   \n",
       "4 -0.613666    -0.908858 -0.400471  -0.951939          0         1   \n",
       "\n",
       "   pets_allowed_cat  \n",
       "0                 1  \n",
       "1                 1  \n",
       "2                 0  \n",
       "3                 1  \n",
       "4                 1  "
      ],
      "text/html": [
       "<div>\n",
       "<style scoped>\n",
       "    .dataframe tbody tr th:only-of-type {\n",
       "        vertical-align: middle;\n",
       "    }\n",
       "\n",
       "    .dataframe tbody tr th {\n",
       "        vertical-align: top;\n",
       "    }\n",
       "\n",
       "    .dataframe thead th {\n",
       "        text-align: right;\n",
       "    }\n",
       "</style>\n",
       "<table border=\"1\" class=\"dataframe\">\n",
       "  <thead>\n",
       "    <tr style=\"text-align: right;\">\n",
       "      <th></th>\n",
       "      <th>price</th>\n",
       "      <th>square_feet</th>\n",
       "      <th>latitude</th>\n",
       "      <th>longitude</th>\n",
       "      <th>bathrooms</th>\n",
       "      <th>bedrooms</th>\n",
       "      <th>pets_allowed_cat</th>\n",
       "    </tr>\n",
       "  </thead>\n",
       "  <tbody>\n",
       "    <tr>\n",
       "      <th>0</th>\n",
       "      <td>0.742234</td>\n",
       "      <td>-1.133344</td>\n",
       "      <td>-0.672541</td>\n",
       "      <td>-1.696039</td>\n",
       "      <td>0</td>\n",
       "      <td>1</td>\n",
       "      <td>1</td>\n",
       "    </tr>\n",
       "    <tr>\n",
       "      <th>1</th>\n",
       "      <td>-0.308033</td>\n",
       "      <td>1.489302</td>\n",
       "      <td>0.030499</td>\n",
       "      <td>0.952877</td>\n",
       "      <td>1</td>\n",
       "      <td>3</td>\n",
       "      <td>1</td>\n",
       "    </tr>\n",
       "    <tr>\n",
       "      <th>2</th>\n",
       "      <td>-0.146881</td>\n",
       "      <td>1.899946</td>\n",
       "      <td>-0.244157</td>\n",
       "      <td>0.816914</td>\n",
       "      <td>2</td>\n",
       "      <td>3</td>\n",
       "      <td>0</td>\n",
       "    </tr>\n",
       "    <tr>\n",
       "      <th>3</th>\n",
       "      <td>0.080955</td>\n",
       "      <td>-0.372284</td>\n",
       "      <td>0.307720</td>\n",
       "      <td>-1.923433</td>\n",
       "      <td>0</td>\n",
       "      <td>2</td>\n",
       "      <td>1</td>\n",
       "    </tr>\n",
       "    <tr>\n",
       "      <th>4</th>\n",
       "      <td>-0.613666</td>\n",
       "      <td>-0.908858</td>\n",
       "      <td>-0.400471</td>\n",
       "      <td>-0.951939</td>\n",
       "      <td>0</td>\n",
       "      <td>1</td>\n",
       "      <td>1</td>\n",
       "    </tr>\n",
       "  </tbody>\n",
       "</table>\n",
       "</div>"
      ]
     },
     "execution_count": 234,
     "metadata": {},
     "output_type": "execute_result"
    }
   ],
   "execution_count": 234
  },
  {
   "metadata": {},
   "cell_type": "markdown",
   "source": "",
   "id": "c80f73ad6b4a2cf0"
  },
  {
   "metadata": {},
   "cell_type": "markdown",
   "source": "### 3. Realice la segmentación con el modelo escogido, seleccionando correctamente el número de clusters.",
   "id": "60b61e1056406a9"
  },
  {
   "metadata": {
    "ExecuteTime": {
     "end_time": "2024-11-30T00:47:58.389664Z",
     "start_time": "2024-11-30T00:23:41.533354Z"
    }
   },
   "cell_type": "code",
   "source": [
    "# Se obtiene el número de clusters óptimo\n",
    "cost = []\n",
    "K = range(1,7)\n",
    "for num_clusters in K:\n",
    "    print(f'Calculando para {num_clusters} clusters')\n",
    "    kproto = KPrototypes(n_clusters=num_clusters, n_jobs=-1, random_state=2024)\n",
    "    kproto.fit(df_scaled, categorical=[4,5,6])\n",
    "    cost.append(kproto.cost_)\n"
   ],
   "id": "69e5cd5ab04b9fa0",
   "outputs": [
    {
     "name": "stdout",
     "output_type": "stream",
     "text": [
      "Calculando para 1 clusters\n",
      "Calculando para 2 clusters\n",
      "Calculando para 3 clusters\n",
      "Calculando para 4 clusters\n",
      "Calculando para 5 clusters\n",
      "Calculando para 6 clusters\n"
     ]
    }
   ],
   "execution_count": 235
  },
  {
   "metadata": {},
   "cell_type": "markdown",
   "source": "Graficamos el codo.",
   "id": "1bc048164fcc3269"
  },
  {
   "metadata": {
    "ExecuteTime": {
     "end_time": "2024-11-30T00:57:46.383842Z",
     "start_time": "2024-11-30T00:57:46.234707Z"
    }
   },
   "cell_type": "code",
   "source": [
    "plt.figure(figsize=(16,8))\n",
    "plt.plot(K, cost, 'bx-')\n",
    "plt.xlabel('k')\n",
    "plt.ylabel('WSS Error')\n",
    "plt.title('The Elbow Method showing the optimal k')\n",
    "plt.show()"
   ],
   "id": "8d88e940f713fdb0",
   "outputs": [
    {
     "data": {
      "text/plain": [
       "<Figure size 1600x800 with 1 Axes>"
      ],
      "image/png": "[encoded data removed]"
     },
     "metadata": {},
     "output_type": "display_data"
    }
   ],
   "execution_count": 236
  },
  {
   "metadata": {},
   "cell_type": "markdown",
   "source": "Metodo silhouette",
   "id": "57db3d8e26b59a7f"
  },
  {
   "metadata": {
    "jupyter": {
     "is_executing": true
    },
    "ExecuteTime": {
     "start_time": "2024-11-30T01:03:10.513763Z"
    }
   },
   "cell_type": "code",
   "source": [
    "from sklearn.metrics import silhouette_score\n",
    "distortions = [0]\n",
    "K = range(2,4)\n",
    "for k in K:\n",
    "    print(f'Calculando para {k} clusters')\n",
    "    kproto = KPrototypes(n_clusters=k, n_jobs=-1, random_state=2024)\n",
    "    kproto.fit_predict(df_scaled, categorical=[4,5,6])\n",
    "    silhouette_avg = silhouette_score(df_scaled, kproto.labels_)\n",
    "    distortions.append(silhouette_avg)\n"
   ],
   "id": "6e98d9af962ef34a",
   "outputs": [
    {
     "name": "stdout",
     "output_type": "stream",
     "text": [
      "Calculando para 2 clusters\n"
     ]
    }
   ],
   "execution_count": null
  }
 ],
 "metadata": {
  "kernelspec": {
   "display_name": "Python 3",
   "language": "python",
   "name": "python3"
  },
  "language_info": {
   "codemirror_mode": {
    "name": "ipython",
    "version": 2
   },
   "file_extension": ".py",
   "mimetype": "text/x-python",
   "name": "python",
   "nbconvert_exporter": "python",
   "pygments_lexer": "ipython2",
   "version": "2.7.6"
  }
 },
 "nbformat": 4,
 "nbformat_minor": 5
}
