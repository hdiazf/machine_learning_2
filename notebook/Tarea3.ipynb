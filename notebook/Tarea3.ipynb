{
 "cells": [
  {
   "metadata": {},
   "cell_type": "markdown",
   "source": [
    "# Tarea 3\n",
    "Autores:\n",
    "- Hernán Francisco Díaz Farías\n",
    "- María Angélica Parra Mendoza\n",
    "- Loreto Constanza Zavala Gaete\n",
    "\n",
    "\n",
    "En el dataset incluido en el sitio web, usted encontrará unas variables asociadas a distintas medidas correspondientes a dos tipos de arroces de Turquía, especie Osmacik y especie Cammeo. Dentro de las variables encontrará las siguientes variables:\n",
    "- Area: Corresponde al número de pixeles dentro del grano de arroz\n",
    "- Perimeter: Corresponde a la distancia recorrida por los pixeles del contorno del grano de arroz\n",
    "- Major_Axis_Length: Corresponde al eje mayor de la elipse (el grano es una elipse en si)\n",
    "- Minor_Axis_Length: Corresponde al eje menor de la elipse o grano.\n",
    "- Eccentricity: Corresponde a una medida de qué tan redondo es el grano\n",
    "- Convex_Area: Conteo de pixeles de la envoltura convexa mínima del grano\n",
    "- Extent: Corresponde a la relación de la región formada por el grano y el bounding box asociado en la imagen.\n",
    "- Class: Cammeo u Osmancik.\n",
    "\n",
    "Con lo anterior, realice lo siguiente:\n",
    "## 1. Realice una exploración de datos para ver qué datos existen, cuales de ellos entregan información relevante para el problema y cuales no, eliminación (si corresponde) de datos nulos y duplicados, entre otros.\n",
    "### 1.1 Importar librerías"
   ],
   "id": "512c0740871e4681"
  },
  {
   "metadata": {
    "ExecuteTime": {
     "end_time": "2024-12-14T19:59:32.407576Z",
     "start_time": "2024-12-14T19:59:32.398076Z"
    }
   },
   "cell_type": "code",
   "source": [
    "from scipy.io.arff import loadarff\n",
    "import pandas as pd\n",
    "from skimpy import skim\n",
    "from sklearn.preprocessing import LabelEncoder\n",
    "from sklearn.feature_selection import f_classif\n",
    "from sklearn.model_selection import train_test_split\n",
    "from sklearn.metrics import classification_report\n",
    "from sklearn.ensemble import RandomForestClassifier\n",
    "from sklearn.tree import DecisionTreeClassifier\n",
    "from sklearn.linear_model import LogisticRegression\n",
    "from sklearn.svm import SVC\n",
    "from sklearn.neighbors import KNeighborsClassifier\n",
    "from sklearn.naive_bayes import GaussianNB\n",
    "# from sklearn.neural_network import MLPClassifier\n",
    "from sklearn.ensemble import GradientBoostingClassifier, AdaBoostClassifier\n",
    "from xgboost import XGBClassifier\n",
    "## from lightgbm import LGBMClassifier\n",
    "## from catboost import CatBoostClassifier\n",
    "from sklearn.preprocessing import StandardScaler\n",
    "RANDOM_STATE = 2024"
   ],
   "id": "4093a64edfba318",
   "outputs": [],
   "execution_count": 41
  },
  {
   "metadata": {},
   "cell_type": "markdown",
   "source": "### 1.2 Cargar datos",
   "id": "c9ba1e0806fd52a2"
  },
  {
   "metadata": {
    "ExecuteTime": {
     "end_time": "2024-12-14T19:23:44.549473Z",
     "start_time": "2024-12-14T19:23:44.470463Z"
    }
   },
   "cell_type": "code",
   "source": [
    "data = loadarff('../data/Rice_Cammeo_Osmancik.arff')\n",
    "df = pd.DataFrame(data[0])\n",
    "df.head()"
   ],
   "id": "7bd81ac95849c35b",
   "outputs": [
    {
     "data": {
      "text/plain": [
       "      Area   Perimeter  Major_Axis_Length  Minor_Axis_Length  Eccentricity  \\\n",
       "0  15231.0  525.578979         229.749878          85.093788      0.928882   \n",
       "1  14656.0  494.311005         206.020065          91.730972      0.895405   \n",
       "2  14634.0  501.122009         214.106781          87.768288      0.912118   \n",
       "3  13176.0  458.342987         193.337387          87.448395      0.891861   \n",
       "4  14688.0  507.166992         211.743378          89.312454      0.906691   \n",
       "\n",
       "   Convex_Area    Extent      Class  \n",
       "0      15617.0  0.572896  b'Cammeo'  \n",
       "1      15072.0  0.615436  b'Cammeo'  \n",
       "2      14954.0  0.693259  b'Cammeo'  \n",
       "3      13368.0  0.640669  b'Cammeo'  \n",
       "4      15262.0  0.646024  b'Cammeo'  "
      ],
      "text/html": [
       "<div>\n",
       "<style scoped>\n",
       "    .dataframe tbody tr th:only-of-type {\n",
       "        vertical-align: middle;\n",
       "    }\n",
       "\n",
       "    .dataframe tbody tr th {\n",
       "        vertical-align: top;\n",
       "    }\n",
       "\n",
       "    .dataframe thead th {\n",
       "        text-align: right;\n",
       "    }\n",
       "</style>\n",
       "<table border=\"1\" class=\"dataframe\">\n",
       "  <thead>\n",
       "    <tr style=\"text-align: right;\">\n",
       "      <th></th>\n",
       "      <th>Area</th>\n",
       "      <th>Perimeter</th>\n",
       "      <th>Major_Axis_Length</th>\n",
       "      <th>Minor_Axis_Length</th>\n",
       "      <th>Eccentricity</th>\n",
       "      <th>Convex_Area</th>\n",
       "      <th>Extent</th>\n",
       "      <th>Class</th>\n",
       "    </tr>\n",
       "  </thead>\n",
       "  <tbody>\n",
       "    <tr>\n",
       "      <th>0</th>\n",
       "      <td>15231.0</td>\n",
       "      <td>525.578979</td>\n",
       "      <td>229.749878</td>\n",
       "      <td>85.093788</td>\n",
       "      <td>0.928882</td>\n",
       "      <td>15617.0</td>\n",
       "      <td>0.572896</td>\n",
       "      <td>b'Cammeo'</td>\n",
       "    </tr>\n",
       "    <tr>\n",
       "      <th>1</th>\n",
       "      <td>14656.0</td>\n",
       "      <td>494.311005</td>\n",
       "      <td>206.020065</td>\n",
       "      <td>91.730972</td>\n",
       "      <td>0.895405</td>\n",
       "      <td>15072.0</td>\n",
       "      <td>0.615436</td>\n",
       "      <td>b'Cammeo'</td>\n",
       "    </tr>\n",
       "    <tr>\n",
       "      <th>2</th>\n",
       "      <td>14634.0</td>\n",
       "      <td>501.122009</td>\n",
       "      <td>214.106781</td>\n",
       "      <td>87.768288</td>\n",
       "      <td>0.912118</td>\n",
       "      <td>14954.0</td>\n",
       "      <td>0.693259</td>\n",
       "      <td>b'Cammeo'</td>\n",
       "    </tr>\n",
       "    <tr>\n",
       "      <th>3</th>\n",
       "      <td>13176.0</td>\n",
       "      <td>458.342987</td>\n",
       "      <td>193.337387</td>\n",
       "      <td>87.448395</td>\n",
       "      <td>0.891861</td>\n",
       "      <td>13368.0</td>\n",
       "      <td>0.640669</td>\n",
       "      <td>b'Cammeo'</td>\n",
       "    </tr>\n",
       "    <tr>\n",
       "      <th>4</th>\n",
       "      <td>14688.0</td>\n",
       "      <td>507.166992</td>\n",
       "      <td>211.743378</td>\n",
       "      <td>89.312454</td>\n",
       "      <td>0.906691</td>\n",
       "      <td>15262.0</td>\n",
       "      <td>0.646024</td>\n",
       "      <td>b'Cammeo'</td>\n",
       "    </tr>\n",
       "  </tbody>\n",
       "</table>\n",
       "</div>"
      ]
     },
     "execution_count": 14,
     "metadata": {},
     "output_type": "execute_result"
    }
   ],
   "execution_count": 14
  },
  {
   "metadata": {},
   "cell_type": "markdown",
   "source": [
    "### 1.3 Exploración de datos\n",
    "Podemos observar que el dataset contiene 7 variables y una variable de clase.\n",
    "Revisaremos y limpiaremos la variable clase.\n"
   ],
   "id": "2a2520b0cdd07fef"
  },
  {
   "metadata": {
    "ExecuteTime": {
     "end_time": "2024-12-14T19:27:43.720789Z",
     "start_time": "2024-12-14T19:27:43.620439Z"
    }
   },
   "cell_type": "code",
   "source": "df['Class'].value_counts().plot(kind='bar')",
   "id": "f5b5c163b738398",
   "outputs": [
    {
     "data": {
      "text/plain": [
       "<Axes: xlabel='Class'>"
      ]
     },
     "execution_count": 18,
     "metadata": {},
     "output_type": "execute_result"
    },
    {
     "data": {
      "text/plain": [
       "<Figure size 640x480 with 1 Axes>"
      ],
      "image/png": "[encoded data removed]"
     },
     "metadata": {},
     "output_type": "display_data"
    }
   ],
   "execution_count": 18
  },
  {
   "metadata": {},
   "cell_type": "markdown",
   "source": "La variable clase sufre de un leve desbalance, aunque no es significativo. Se convertirá con **labelencoder**.",
   "id": "a213673153b6ddcf"
  },
  {
   "metadata": {
    "ExecuteTime": {
     "end_time": "2024-12-14T19:29:54.252232Z",
     "start_time": "2024-12-14T19:29:54.240229Z"
    }
   },
   "cell_type": "code",
   "source": [
    "le = LabelEncoder()\n",
    "df['Class'] = le.fit_transform(df['Class'])\n",
    "df.head()"
   ],
   "id": "73a990e4e289d9b9",
   "outputs": [
    {
     "data": {
      "text/plain": [
       "      Area   Perimeter  Major_Axis_Length  Minor_Axis_Length  Eccentricity  \\\n",
       "0  15231.0  525.578979         229.749878          85.093788      0.928882   \n",
       "1  14656.0  494.311005         206.020065          91.730972      0.895405   \n",
       "2  14634.0  501.122009         214.106781          87.768288      0.912118   \n",
       "3  13176.0  458.342987         193.337387          87.448395      0.891861   \n",
       "4  14688.0  507.166992         211.743378          89.312454      0.906691   \n",
       "\n",
       "   Convex_Area    Extent  Class  \n",
       "0      15617.0  0.572896      0  \n",
       "1      15072.0  0.615436      0  \n",
       "2      14954.0  0.693259      0  \n",
       "3      13368.0  0.640669      0  \n",
       "4      15262.0  0.646024      0  "
      ],
      "text/html": [
       "<div>\n",
       "<style scoped>\n",
       "    .dataframe tbody tr th:only-of-type {\n",
       "        vertical-align: middle;\n",
       "    }\n",
       "\n",
       "    .dataframe tbody tr th {\n",
       "        vertical-align: top;\n",
       "    }\n",
       "\n",
       "    .dataframe thead th {\n",
       "        text-align: right;\n",
       "    }\n",
       "</style>\n",
       "<table border=\"1\" class=\"dataframe\">\n",
       "  <thead>\n",
       "    <tr style=\"text-align: right;\">\n",
       "      <th></th>\n",
       "      <th>Area</th>\n",
       "      <th>Perimeter</th>\n",
       "      <th>Major_Axis_Length</th>\n",
       "      <th>Minor_Axis_Length</th>\n",
       "      <th>Eccentricity</th>\n",
       "      <th>Convex_Area</th>\n",
       "      <th>Extent</th>\n",
       "      <th>Class</th>\n",
       "    </tr>\n",
       "  </thead>\n",
       "  <tbody>\n",
       "    <tr>\n",
       "      <th>0</th>\n",
       "      <td>15231.0</td>\n",
       "      <td>525.578979</td>\n",
       "      <td>229.749878</td>\n",
       "      <td>85.093788</td>\n",
       "      <td>0.928882</td>\n",
       "      <td>15617.0</td>\n",
       "      <td>0.572896</td>\n",
       "      <td>0</td>\n",
       "    </tr>\n",
       "    <tr>\n",
       "      <th>1</th>\n",
       "      <td>14656.0</td>\n",
       "      <td>494.311005</td>\n",
       "      <td>206.020065</td>\n",
       "      <td>91.730972</td>\n",
       "      <td>0.895405</td>\n",
       "      <td>15072.0</td>\n",
       "      <td>0.615436</td>\n",
       "      <td>0</td>\n",
       "    </tr>\n",
       "    <tr>\n",
       "      <th>2</th>\n",
       "      <td>14634.0</td>\n",
       "      <td>501.122009</td>\n",
       "      <td>214.106781</td>\n",
       "      <td>87.768288</td>\n",
       "      <td>0.912118</td>\n",
       "      <td>14954.0</td>\n",
       "      <td>0.693259</td>\n",
       "      <td>0</td>\n",
       "    </tr>\n",
       "    <tr>\n",
       "      <th>3</th>\n",
       "      <td>13176.0</td>\n",
       "      <td>458.342987</td>\n",
       "      <td>193.337387</td>\n",
       "      <td>87.448395</td>\n",
       "      <td>0.891861</td>\n",
       "      <td>13368.0</td>\n",
       "      <td>0.640669</td>\n",
       "      <td>0</td>\n",
       "    </tr>\n",
       "    <tr>\n",
       "      <th>4</th>\n",
       "      <td>14688.0</td>\n",
       "      <td>507.166992</td>\n",
       "      <td>211.743378</td>\n",
       "      <td>89.312454</td>\n",
       "      <td>0.906691</td>\n",
       "      <td>15262.0</td>\n",
       "      <td>0.646024</td>\n",
       "      <td>0</td>\n",
       "    </tr>\n",
       "  </tbody>\n",
       "</table>\n",
       "</div>"
      ]
     },
     "execution_count": 21,
     "metadata": {},
     "output_type": "execute_result"
    }
   ],
   "execution_count": 21
  },
  {
   "metadata": {
    "ExecuteTime": {
     "end_time": "2024-12-14T19:30:19.875585Z",
     "start_time": "2024-12-14T19:30:19.856723Z"
    }
   },
   "cell_type": "code",
   "source": "le.classes_",
   "id": "df85177a600fbbac",
   "outputs": [
    {
     "data": {
      "text/plain": [
       "array([b'Cammeo', b'Osmancik'], dtype=object)"
      ]
     },
     "execution_count": 22,
     "metadata": {},
     "output_type": "execute_result"
    }
   ],
   "execution_count": 22
  },
  {
   "metadata": {},
   "cell_type": "markdown",
   "source": "La variable clase ha sido convertida a valores numéricos, donde 0 corresponde a Cammeo y 1 a Osmancik.",
   "id": "126ea4a671e7c5a8"
  },
  {
   "metadata": {
    "ExecuteTime": {
     "end_time": "2024-12-14T19:31:02.966350Z",
     "start_time": "2024-12-14T19:31:02.347945Z"
    }
   },
   "cell_type": "code",
   "source": "skim(df)",
   "id": "952a8e7e069d7536",
   "outputs": [
    {
     "data": {
      "text/plain": [
       "╭──────────────────────────────────────────────── skimpy summary ─────────────────────────────────────────────────╮\n",
       "│ \u001B[3m         Data Summary         \u001B[0m \u001B[3m      Data Types       \u001B[0m                                                          │\n",
       "│ ┏━━━━━━━━━━━━━━━━━━━┳━━━━━━━━┓ ┏━━━━━━━━━━━━━┳━━━━━━━┓                                                          │\n",
       "│ ┃\u001B[1;36m \u001B[0m\u001B[1;36mdataframe        \u001B[0m\u001B[1;36m \u001B[0m┃\u001B[1;36m \u001B[0m\u001B[1;36mValues\u001B[0m\u001B[1;36m \u001B[0m┃ ┃\u001B[1;36m \u001B[0m\u001B[1;36mColumn Type\u001B[0m\u001B[1;36m \u001B[0m┃\u001B[1;36m \u001B[0m\u001B[1;36mCount\u001B[0m\u001B[1;36m \u001B[0m┃                                                          │\n",
       "│ ┡━━━━━━━━━━━━━━━━━━━╇━━━━━━━━┩ ┡━━━━━━━━━━━━━╇━━━━━━━┩                                                          │\n",
       "│ │ Number of rows    │ 3810   │ │ float64     │ 7     │                                                          │\n",
       "│ │ Number of columns │ 8      │ │ int32       │ 1     │                                                          │\n",
       "│ └───────────────────┴────────┘ └─────────────┴───────┘                                                          │\n",
       "│ \u001B[3m                                                    number                                                    \u001B[0m  │\n",
       "│ ┏━━━━━━━━━━━━━━━━━━━━━┳━━━━━┳━━━━━━━┳━━━━━━━━━┳━━━━━━━━━┳━━━━━━━━┳━━━━━━━━┳━━━━━━━━┳━━━━━━━━┳━━━━━━━┳━━━━━━━━┓  │\n",
       "│ ┃\u001B[1m \u001B[0m\u001B[1mcolumn_name        \u001B[0m\u001B[1m \u001B[0m┃\u001B[1m \u001B[0m\u001B[1mNA \u001B[0m\u001B[1m \u001B[0m┃\u001B[1m \u001B[0m\u001B[1mNA % \u001B[0m\u001B[1m \u001B[0m┃\u001B[1m \u001B[0m\u001B[1mmean   \u001B[0m\u001B[1m \u001B[0m┃\u001B[1m \u001B[0m\u001B[1msd     \u001B[0m\u001B[1m \u001B[0m┃\u001B[1m \u001B[0m\u001B[1mp0    \u001B[0m\u001B[1m \u001B[0m┃\u001B[1m \u001B[0m\u001B[1mp25   \u001B[0m\u001B[1m \u001B[0m┃\u001B[1m \u001B[0m\u001B[1mp50   \u001B[0m\u001B[1m \u001B[0m┃\u001B[1m \u001B[0m\u001B[1mp75   \u001B[0m\u001B[1m \u001B[0m┃\u001B[1m \u001B[0m\u001B[1mp100 \u001B[0m\u001B[1m \u001B[0m┃\u001B[1m \u001B[0m\u001B[1mhist  \u001B[0m\u001B[1m \u001B[0m┃  │\n",
       "│ ┡━━━━━━━━━━━━━━━━━━━━━╇━━━━━╇━━━━━━━╇━━━━━━━━━╇━━━━━━━━━╇━━━━━━━━╇━━━━━━━━╇━━━━━━━━╇━━━━━━━━╇━━━━━━━╇━━━━━━━━┩  │\n",
       "│ │ \u001B[38;5;141mArea               \u001B[0m │ \u001B[36m  0\u001B[0m │ \u001B[36m    0\u001B[0m │ \u001B[36m  12670\u001B[0m │ \u001B[36m   1732\u001B[0m │ \u001B[36m  7551\u001B[0m │ \u001B[36m 11370\u001B[0m │ \u001B[36m 12420\u001B[0m │ \u001B[36m 13950\u001B[0m │ \u001B[36m18910\u001B[0m │ \u001B[32m ▅▇▅▂ \u001B[0m │  │\n",
       "│ │ \u001B[38;5;141mPerimeter          \u001B[0m │ \u001B[36m  0\u001B[0m │ \u001B[36m    0\u001B[0m │ \u001B[36m  454.2\u001B[0m │ \u001B[36m   35.6\u001B[0m │ \u001B[36m 359.1\u001B[0m │ \u001B[36m 426.1\u001B[0m │ \u001B[36m 448.9\u001B[0m │ \u001B[36m 483.7\u001B[0m │ \u001B[36m548.4\u001B[0m │ \u001B[32m ▅▇▅▅▁\u001B[0m │  │\n",
       "│ │ \u001B[38;5;141mMajor_Axis_Length  \u001B[0m │ \u001B[36m  0\u001B[0m │ \u001B[36m    0\u001B[0m │ \u001B[36m  188.8\u001B[0m │ \u001B[36m  17.45\u001B[0m │ \u001B[36m 145.3\u001B[0m │ \u001B[36m 174.4\u001B[0m │ \u001B[36m 185.8\u001B[0m │ \u001B[36m 203.6\u001B[0m │ \u001B[36m  239\u001B[0m │ \u001B[32m▁▇▇▇▅ \u001B[0m │  │\n",
       "│ │ \u001B[38;5;141mMinor_Axis_Length  \u001B[0m │ \u001B[36m  0\u001B[0m │ \u001B[36m    0\u001B[0m │ \u001B[36m  86.31\u001B[0m │ \u001B[36m   5.73\u001B[0m │ \u001B[36m 59.53\u001B[0m │ \u001B[36m 82.73\u001B[0m │ \u001B[36m 86.43\u001B[0m │ \u001B[36m 90.14\u001B[0m │ \u001B[36m107.5\u001B[0m │ \u001B[32m ▁▃▇▂ \u001B[0m │  │\n",
       "│ │ \u001B[38;5;141mEccentricity       \u001B[0m │ \u001B[36m  0\u001B[0m │ \u001B[36m    0\u001B[0m │ \u001B[36m 0.8869\u001B[0m │ \u001B[36m0.02082\u001B[0m │ \u001B[36m0.7772\u001B[0m │ \u001B[36m0.8724\u001B[0m │ \u001B[36m0.8891\u001B[0m │ \u001B[36m0.9026\u001B[0m │ \u001B[36m0.948\u001B[0m │ \u001B[32m  ▂▇▇▁\u001B[0m │  │\n",
       "│ │ \u001B[38;5;141mConvex_Area        \u001B[0m │ \u001B[36m  0\u001B[0m │ \u001B[36m    0\u001B[0m │ \u001B[36m  12950\u001B[0m │ \u001B[36m   1777\u001B[0m │ \u001B[36m  7723\u001B[0m │ \u001B[36m 11630\u001B[0m │ \u001B[36m 12710\u001B[0m │ \u001B[36m 14280\u001B[0m │ \u001B[36m19100\u001B[0m │ \u001B[32m ▅▇▅▂ \u001B[0m │  │\n",
       "│ │ \u001B[38;5;141mExtent             \u001B[0m │ \u001B[36m  0\u001B[0m │ \u001B[36m    0\u001B[0m │ \u001B[36m 0.6619\u001B[0m │ \u001B[36m0.07724\u001B[0m │ \u001B[36m0.4974\u001B[0m │ \u001B[36m0.5989\u001B[0m │ \u001B[36m0.6454\u001B[0m │ \u001B[36m0.7266\u001B[0m │ \u001B[36m0.861\u001B[0m │ \u001B[32m▁▇▆▅▅▁\u001B[0m │  │\n",
       "│ │ \u001B[38;5;141mClass              \u001B[0m │ \u001B[36m  0\u001B[0m │ \u001B[36m    0\u001B[0m │ \u001B[36m 0.5722\u001B[0m │ \u001B[36m 0.4948\u001B[0m │ \u001B[36m     0\u001B[0m │ \u001B[36m     0\u001B[0m │ \u001B[36m     1\u001B[0m │ \u001B[36m     1\u001B[0m │ \u001B[36m    1\u001B[0m │ \u001B[32m▆    ▇\u001B[0m │  │\n",
       "│ └─────────────────────┴─────┴───────┴─────────┴─────────┴────────┴────────┴────────┴────────┴───────┴────────┘  │\n",
       "╰────────────────────────────────────────────────────── End ──────────────────────────────────────────────────────╯\n"
      ],
      "text/html": [
       "<pre style=\"white-space:pre;overflow-x:auto;line-height:normal;font-family:Menlo,'DejaVu Sans Mono',consolas,'Courier New',monospace\">╭──────────────────────────────────────────────── skimpy summary ─────────────────────────────────────────────────╮\n",
       "│ <span style=\"font-style: italic\">         Data Summary         </span> <span style=\"font-style: italic\">      Data Types       </span>                                                          │\n",
       "│ ┏━━━━━━━━━━━━━━━━━━━┳━━━━━━━━┓ ┏━━━━━━━━━━━━━┳━━━━━━━┓                                                          │\n",
       "│ ┃<span style=\"color: #008080; text-decoration-color: #008080; font-weight: bold\"> dataframe         </span>┃<span style=\"color: #008080; text-decoration-color: #008080; font-weight: bold\"> Values </span>┃ ┃<span style=\"color: #008080; text-decoration-color: #008080; font-weight: bold\"> Column Type </span>┃<span style=\"color: #008080; text-decoration-color: #008080; font-weight: bold\"> Count </span>┃                                                          │\n",
       "│ ┡━━━━━━━━━━━━━━━━━━━╇━━━━━━━━┩ ┡━━━━━━━━━━━━━╇━━━━━━━┩                                                          │\n",
       "│ │ Number of rows    │ 3810   │ │ float64     │ 7     │                                                          │\n",
       "│ │ Number of columns │ 8      │ │ int32       │ 1     │                                                          │\n",
       "│ └───────────────────┴────────┘ └─────────────┴───────┘                                                          │\n",
       "│ <span style=\"font-style: italic\">                                                    number                                                    </span>  │\n",
       "│ ┏━━━━━━━━━━━━━━━━━━━━━┳━━━━━┳━━━━━━━┳━━━━━━━━━┳━━━━━━━━━┳━━━━━━━━┳━━━━━━━━┳━━━━━━━━┳━━━━━━━━┳━━━━━━━┳━━━━━━━━┓  │\n",
       "│ ┃<span style=\"font-weight: bold\"> column_name         </span>┃<span style=\"font-weight: bold\"> NA  </span>┃<span style=\"font-weight: bold\"> NA %  </span>┃<span style=\"font-weight: bold\"> mean    </span>┃<span style=\"font-weight: bold\"> sd      </span>┃<span style=\"font-weight: bold\"> p0     </span>┃<span style=\"font-weight: bold\"> p25    </span>┃<span style=\"font-weight: bold\"> p50    </span>┃<span style=\"font-weight: bold\"> p75    </span>┃<span style=\"font-weight: bold\"> p100  </span>┃<span style=\"font-weight: bold\"> hist   </span>┃  │\n",
       "│ ┡━━━━━━━━━━━━━━━━━━━━━╇━━━━━╇━━━━━━━╇━━━━━━━━━╇━━━━━━━━━╇━━━━━━━━╇━━━━━━━━╇━━━━━━━━╇━━━━━━━━╇━━━━━━━╇━━━━━━━━┩  │\n",
       "│ │ <span style=\"color: #af87ff; text-decoration-color: #af87ff\">Area               </span> │ <span style=\"color: #008080; text-decoration-color: #008080\">  0</span> │ <span style=\"color: #008080; text-decoration-color: #008080\">    0</span> │ <span style=\"color: #008080; text-decoration-color: #008080\">  12670</span> │ <span style=\"color: #008080; text-decoration-color: #008080\">   1732</span> │ <span style=\"color: #008080; text-decoration-color: #008080\">  7551</span> │ <span style=\"color: #008080; text-decoration-color: #008080\"> 11370</span> │ <span style=\"color: #008080; text-decoration-color: #008080\"> 12420</span> │ <span style=\"color: #008080; text-decoration-color: #008080\"> 13950</span> │ <span style=\"color: #008080; text-decoration-color: #008080\">18910</span> │ <span style=\"color: #008000; text-decoration-color: #008000\"> ▅▇▅▂ </span> │  │\n",
       "│ │ <span style=\"color: #af87ff; text-decoration-color: #af87ff\">Perimeter          </span> │ <span style=\"color: #008080; text-decoration-color: #008080\">  0</span> │ <span style=\"color: #008080; text-decoration-color: #008080\">    0</span> │ <span style=\"color: #008080; text-decoration-color: #008080\">  454.2</span> │ <span style=\"color: #008080; text-decoration-color: #008080\">   35.6</span> │ <span style=\"color: #008080; text-decoration-color: #008080\"> 359.1</span> │ <span style=\"color: #008080; text-decoration-color: #008080\"> 426.1</span> │ <span style=\"color: #008080; text-decoration-color: #008080\"> 448.9</span> │ <span style=\"color: #008080; text-decoration-color: #008080\"> 483.7</span> │ <span style=\"color: #008080; text-decoration-color: #008080\">548.4</span> │ <span style=\"color: #008000; text-decoration-color: #008000\"> ▅▇▅▅▁</span> │  │\n",
       "│ │ <span style=\"color: #af87ff; text-decoration-color: #af87ff\">Major_Axis_Length  </span> │ <span style=\"color: #008080; text-decoration-color: #008080\">  0</span> │ <span style=\"color: #008080; text-decoration-color: #008080\">    0</span> │ <span style=\"color: #008080; text-decoration-color: #008080\">  188.8</span> │ <span style=\"color: #008080; text-decoration-color: #008080\">  17.45</span> │ <span style=\"color: #008080; text-decoration-color: #008080\"> 145.3</span> │ <span style=\"color: #008080; text-decoration-color: #008080\"> 174.4</span> │ <span style=\"color: #008080; text-decoration-color: #008080\"> 185.8</span> │ <span style=\"color: #008080; text-decoration-color: #008080\"> 203.6</span> │ <span style=\"color: #008080; text-decoration-color: #008080\">  239</span> │ <span style=\"color: #008000; text-decoration-color: #008000\">▁▇▇▇▅ </span> │  │\n",
       "│ │ <span style=\"color: #af87ff; text-decoration-color: #af87ff\">Minor_Axis_Length  </span> │ <span style=\"color: #008080; text-decoration-color: #008080\">  0</span> │ <span style=\"color: #008080; text-decoration-color: #008080\">    0</span> │ <span style=\"color: #008080; text-decoration-color: #008080\">  86.31</span> │ <span style=\"color: #008080; text-decoration-color: #008080\">   5.73</span> │ <span style=\"color: #008080; text-decoration-color: #008080\"> 59.53</span> │ <span style=\"color: #008080; text-decoration-color: #008080\"> 82.73</span> │ <span style=\"color: #008080; text-decoration-color: #008080\"> 86.43</span> │ <span style=\"color: #008080; text-decoration-color: #008080\"> 90.14</span> │ <span style=\"color: #008080; text-decoration-color: #008080\">107.5</span> │ <span style=\"color: #008000; text-decoration-color: #008000\"> ▁▃▇▂ </span> │  │\n",
       "│ │ <span style=\"color: #af87ff; text-decoration-color: #af87ff\">Eccentricity       </span> │ <span style=\"color: #008080; text-decoration-color: #008080\">  0</span> │ <span style=\"color: #008080; text-decoration-color: #008080\">    0</span> │ <span style=\"color: #008080; text-decoration-color: #008080\"> 0.8869</span> │ <span style=\"color: #008080; text-decoration-color: #008080\">0.02082</span> │ <span style=\"color: #008080; text-decoration-color: #008080\">0.7772</span> │ <span style=\"color: #008080; text-decoration-color: #008080\">0.8724</span> │ <span style=\"color: #008080; text-decoration-color: #008080\">0.8891</span> │ <span style=\"color: #008080; text-decoration-color: #008080\">0.9026</span> │ <span style=\"color: #008080; text-decoration-color: #008080\">0.948</span> │ <span style=\"color: #008000; text-decoration-color: #008000\">  ▂▇▇▁</span> │  │\n",
       "│ │ <span style=\"color: #af87ff; text-decoration-color: #af87ff\">Convex_Area        </span> │ <span style=\"color: #008080; text-decoration-color: #008080\">  0</span> │ <span style=\"color: #008080; text-decoration-color: #008080\">    0</span> │ <span style=\"color: #008080; text-decoration-color: #008080\">  12950</span> │ <span style=\"color: #008080; text-decoration-color: #008080\">   1777</span> │ <span style=\"color: #008080; text-decoration-color: #008080\">  7723</span> │ <span style=\"color: #008080; text-decoration-color: #008080\"> 11630</span> │ <span style=\"color: #008080; text-decoration-color: #008080\"> 12710</span> │ <span style=\"color: #008080; text-decoration-color: #008080\"> 14280</span> │ <span style=\"color: #008080; text-decoration-color: #008080\">19100</span> │ <span style=\"color: #008000; text-decoration-color: #008000\"> ▅▇▅▂ </span> │  │\n",
       "│ │ <span style=\"color: #af87ff; text-decoration-color: #af87ff\">Extent             </span> │ <span style=\"color: #008080; text-decoration-color: #008080\">  0</span> │ <span style=\"color: #008080; text-decoration-color: #008080\">    0</span> │ <span style=\"color: #008080; text-decoration-color: #008080\"> 0.6619</span> │ <span style=\"color: #008080; text-decoration-color: #008080\">0.07724</span> │ <span style=\"color: #008080; text-decoration-color: #008080\">0.4974</span> │ <span style=\"color: #008080; text-decoration-color: #008080\">0.5989</span> │ <span style=\"color: #008080; text-decoration-color: #008080\">0.6454</span> │ <span style=\"color: #008080; text-decoration-color: #008080\">0.7266</span> │ <span style=\"color: #008080; text-decoration-color: #008080\">0.861</span> │ <span style=\"color: #008000; text-decoration-color: #008000\">▁▇▆▅▅▁</span> │  │\n",
       "│ │ <span style=\"color: #af87ff; text-decoration-color: #af87ff\">Class              </span> │ <span style=\"color: #008080; text-decoration-color: #008080\">  0</span> │ <span style=\"color: #008080; text-decoration-color: #008080\">    0</span> │ <span style=\"color: #008080; text-decoration-color: #008080\"> 0.5722</span> │ <span style=\"color: #008080; text-decoration-color: #008080\"> 0.4948</span> │ <span style=\"color: #008080; text-decoration-color: #008080\">     0</span> │ <span style=\"color: #008080; text-decoration-color: #008080\">     0</span> │ <span style=\"color: #008080; text-decoration-color: #008080\">     1</span> │ <span style=\"color: #008080; text-decoration-color: #008080\">     1</span> │ <span style=\"color: #008080; text-decoration-color: #008080\">    1</span> │ <span style=\"color: #008000; text-decoration-color: #008000\">▆    ▇</span> │  │\n",
       "│ └─────────────────────┴─────┴───────┴─────────┴─────────┴────────┴────────┴────────┴────────┴───────┴────────┘  │\n",
       "╰────────────────────────────────────────────────────── End ──────────────────────────────────────────────────────╯\n",
       "</pre>\n"
      ]
     },
     "metadata": {},
     "output_type": "display_data"
    }
   ],
   "execution_count": 23
  },
  {
   "metadata": {},
   "cell_type": "markdown",
   "source": [
    "Al usar skim, podemos observar que:\n",
    "- No existen valores nulos\n",
    "- Los rangos de las variables son distintos, por lo que se deberá estandarizar.\n",
    "- Las variables son numéricas, por lo que no es necesario realizar más transformaciones por el momento."
   ],
   "id": "eb6de2f288f6fb7c"
  },
  {
   "metadata": {},
   "cell_type": "markdown",
   "source": [
    "## 2. Seleccione las variables que utilizará para realizar la modelación, y con ello determine el modelo a utilizar. Realice la modelación correspondiente y reporte métricas de desempeño del modelo.\n",
    "### 2.1 Selección de variables mediante análisis de variabilidad con ANOVA"
   ],
   "id": "545c72b1bc93b8d3"
  },
  {
   "metadata": {
    "ExecuteTime": {
     "end_time": "2024-12-14T19:37:37.313517Z",
     "start_time": "2024-12-14T19:37:37.226011Z"
    }
   },
   "cell_type": "code",
   "source": [
    "X = df.drop(columns='Class')\n",
    "y = df['Class']\n",
    "f_classif(X, y)\n",
    "\n",
    "anova = pd.DataFrame({'Variable': X.columns, 'F': f_classif(X, y)[0], 'p-value': f_classif(X, y)[1]})\n",
    "anova.sort_values(by='F', ascending=False)"
   ],
   "id": "ae3bce385fb6477d",
   "outputs": [
    {
     "data": {
      "text/plain": [
       "            Variable            F        p-value\n",
       "2  Major_Axis_Length  8292.132060   0.000000e+00\n",
       "1          Perimeter  7089.384674   0.000000e+00\n",
       "5        Convex_Area  4908.672315   0.000000e+00\n",
       "0               Area  4790.119949   0.000000e+00\n",
       "4       Eccentricity  2021.961901   0.000000e+00\n",
       "3  Minor_Axis_Length   605.345502  3.556885e-124\n",
       "6             Extent    53.519198   3.106619e-13"
      ],
      "text/html": [
       "<div>\n",
       "<style scoped>\n",
       "    .dataframe tbody tr th:only-of-type {\n",
       "        vertical-align: middle;\n",
       "    }\n",
       "\n",
       "    .dataframe tbody tr th {\n",
       "        vertical-align: top;\n",
       "    }\n",
       "\n",
       "    .dataframe thead th {\n",
       "        text-align: right;\n",
       "    }\n",
       "</style>\n",
       "<table border=\"1\" class=\"dataframe\">\n",
       "  <thead>\n",
       "    <tr style=\"text-align: right;\">\n",
       "      <th></th>\n",
       "      <th>Variable</th>\n",
       "      <th>F</th>\n",
       "      <th>p-value</th>\n",
       "    </tr>\n",
       "  </thead>\n",
       "  <tbody>\n",
       "    <tr>\n",
       "      <th>2</th>\n",
       "      <td>Major_Axis_Length</td>\n",
       "      <td>8292.132060</td>\n",
       "      <td>0.000000e+00</td>\n",
       "    </tr>\n",
       "    <tr>\n",
       "      <th>1</th>\n",
       "      <td>Perimeter</td>\n",
       "      <td>7089.384674</td>\n",
       "      <td>0.000000e+00</td>\n",
       "    </tr>\n",
       "    <tr>\n",
       "      <th>5</th>\n",
       "      <td>Convex_Area</td>\n",
       "      <td>4908.672315</td>\n",
       "      <td>0.000000e+00</td>\n",
       "    </tr>\n",
       "    <tr>\n",
       "      <th>0</th>\n",
       "      <td>Area</td>\n",
       "      <td>4790.119949</td>\n",
       "      <td>0.000000e+00</td>\n",
       "    </tr>\n",
       "    <tr>\n",
       "      <th>4</th>\n",
       "      <td>Eccentricity</td>\n",
       "      <td>2021.961901</td>\n",
       "      <td>0.000000e+00</td>\n",
       "    </tr>\n",
       "    <tr>\n",
       "      <th>3</th>\n",
       "      <td>Minor_Axis_Length</td>\n",
       "      <td>605.345502</td>\n",
       "      <td>3.556885e-124</td>\n",
       "    </tr>\n",
       "    <tr>\n",
       "      <th>6</th>\n",
       "      <td>Extent</td>\n",
       "      <td>53.519198</td>\n",
       "      <td>3.106619e-13</td>\n",
       "    </tr>\n",
       "  </tbody>\n",
       "</table>\n",
       "</div>"
      ]
     },
     "execution_count": 28,
     "metadata": {},
     "output_type": "execute_result"
    }
   ],
   "execution_count": 28
  },
  {
   "metadata": {},
   "cell_type": "markdown",
   "source": [
    "Al realizar un análisis de varianza, podemos observar que las variables:\n",
    "- Major_Axis_Length\n",
    "- Perimeter\n",
    "- Convex_Area\n",
    "- Area\n",
    "- Eccentricity\n",
    "\n",
    "Son las variables más significativas para el modelo. Se trabajará con estas variables."
   ],
   "id": "2c13e307adc7ad2a"
  },
  {
   "metadata": {
    "ExecuteTime": {
     "end_time": "2024-12-14T19:43:24.594254Z",
     "start_time": "2024-12-14T19:43:24.575834Z"
    }
   },
   "cell_type": "code",
   "source": "X_selected = X[['Major_Axis_Length', 'Perimeter', 'Convex_Area', 'Area', 'Eccentricity']]",
   "id": "e983af89778e90da",
   "outputs": [],
   "execution_count": 30
  },
  {
   "metadata": {},
   "cell_type": "markdown",
   "source": [
    "### 2.2 Modelación\n",
    "#### 2.2.1 División de datos"
   ],
   "id": "8160e4acb6b790ac"
  },
  {
   "metadata": {
    "ExecuteTime": {
     "end_time": "2024-12-14T19:52:19.266140Z",
     "start_time": "2024-12-14T19:52:19.236115Z"
    }
   },
   "cell_type": "code",
   "source": "X_train, X_test, y_train, y_test = train_test_split(X_selected, y, test_size=0.2, random_state=2024)",
   "id": "d0735d9cf307ecd5",
   "outputs": [],
   "execution_count": 34
  },
  {
   "metadata": {},
   "cell_type": "markdown",
   "source": "#### 2.2.2 Escalamiento de datos",
   "id": "3e77ca24db1de82c"
  },
  {
   "metadata": {
    "ExecuteTime": {
     "end_time": "2024-12-14T19:59:53.004225Z",
     "start_time": "2024-12-14T19:59:52.992351Z"
    }
   },
   "cell_type": "code",
   "source": [
    "scaler = StandardScaler()\n",
    "X_train = scaler.fit_transform(X_train)\n",
    "X_test = scaler.transform(X_test)"
   ],
   "id": "f606a467ee495228",
   "outputs": [],
   "execution_count": 42
  },
  {
   "metadata": {},
   "cell_type": "markdown",
   "source": "#### 2.2.2 Entrenamiento y evaluación de modelos",
   "id": "380f912364584cd"
  },
  {
   "metadata": {},
   "cell_type": "markdown",
   "source": "Lista de modelos de clasificación a evaluar:",
   "id": "3024bd843f11e2f"
  },
  {
   "metadata": {
    "ExecuteTime": {
     "end_time": "2024-12-14T20:04:40.301645Z",
     "start_time": "2024-12-14T20:04:40.283143Z"
    }
   },
   "cell_type": "code",
   "source": [
    "modelos = {\n",
    "    \"Logistic Regression\": LogisticRegression(),\n",
    "    \"SVM\": SVC(),\n",
    "    \"KNN\": KNeighborsClassifier(),\n",
    "    \"Naive Bayes\": GaussianNB(),\n",
    "    \"Gradient Boosting\": GradientBoostingClassifier(),\n",
    "    \"AdaBoost\": AdaBoostClassifier(algorithm='SAMME'),\n",
    "    \"XGBoost\": XGBClassifier(),\n",
    "}\n",
    "\n"
   ],
   "id": "ab0482fb4fea14f1",
   "outputs": [],
   "execution_count": 45
  },
  {
   "metadata": {},
   "cell_type": "markdown",
   "source": "Entrenar y evaluar modelos:",
   "id": "6e32ff4414ab8cb4"
  },
  {
   "metadata": {
    "ExecuteTime": {
     "end_time": "2024-12-14T20:04:42.186182Z",
     "start_time": "2024-12-14T20:04:41.279641Z"
    }
   },
   "cell_type": "code",
   "source": [
    "# Entrenar y evaluar cada modelo\n",
    "for nombre, modelo in modelos.items():\n",
    "    modelo.fit(X_train, y_train)\n",
    "    y_pred = modelo.predict(X_test)\n",
    "    print(f\"Model: {nombre}\")\n",
    "    print(classification_report(y_test, y_pred))\n",
    "    print(\"-\" * 60)"
   ],
   "id": "1a2d43ed0884891f",
   "outputs": [
    {
     "name": "stdout",
     "output_type": "stream",
     "text": [
      "Model: Logistic Regression\n",
      "              precision    recall  f1-score   support\n",
      "\n",
      "           0       0.89      0.91      0.90       317\n",
      "           1       0.93      0.92      0.93       445\n",
      "\n",
      "    accuracy                           0.91       762\n",
      "   macro avg       0.91      0.91      0.91       762\n",
      "weighted avg       0.91      0.91      0.91       762\n",
      "\n",
      "------------------------------------------------------------\n",
      "Model: SVM\n",
      "              precision    recall  f1-score   support\n",
      "\n",
      "           0       0.90      0.90      0.90       317\n",
      "           1       0.93      0.93      0.93       445\n",
      "\n",
      "    accuracy                           0.92       762\n",
      "   macro avg       0.92      0.91      0.91       762\n",
      "weighted avg       0.92      0.92      0.92       762\n",
      "\n",
      "------------------------------------------------------------\n",
      "Model: KNN\n",
      "              precision    recall  f1-score   support\n",
      "\n",
      "           0       0.88      0.88      0.88       317\n",
      "           1       0.92      0.92      0.92       445\n",
      "\n",
      "    accuracy                           0.90       762\n",
      "   macro avg       0.90      0.90      0.90       762\n",
      "weighted avg       0.90      0.90      0.90       762\n",
      "\n",
      "------------------------------------------------------------\n",
      "Model: Naive Bayes\n",
      "              precision    recall  f1-score   support\n",
      "\n",
      "           0       0.89      0.90      0.89       317\n",
      "           1       0.93      0.92      0.92       445\n",
      "\n",
      "    accuracy                           0.91       762\n",
      "   macro avg       0.91      0.91      0.91       762\n",
      "weighted avg       0.91      0.91      0.91       762\n",
      "\n",
      "------------------------------------------------------------\n",
      "Model: Gradient Boosting\n",
      "              precision    recall  f1-score   support\n",
      "\n",
      "           0       0.89      0.89      0.89       317\n",
      "           1       0.92      0.92      0.92       445\n",
      "\n",
      "    accuracy                           0.91       762\n",
      "   macro avg       0.90      0.90      0.90       762\n",
      "weighted avg       0.91      0.91      0.91       762\n",
      "\n",
      "------------------------------------------------------------\n",
      "Model: AdaBoost\n",
      "              precision    recall  f1-score   support\n",
      "\n",
      "           0       0.90      0.90      0.90       317\n",
      "           1       0.93      0.93      0.93       445\n",
      "\n",
      "    accuracy                           0.91       762\n",
      "   macro avg       0.91      0.91      0.91       762\n",
      "weighted avg       0.91      0.91      0.91       762\n",
      "\n",
      "------------------------------------------------------------\n",
      "Model: XGBoost\n",
      "              precision    recall  f1-score   support\n",
      "\n",
      "           0       0.89      0.87      0.88       317\n",
      "           1       0.91      0.92      0.92       445\n",
      "\n",
      "    accuracy                           0.90       762\n",
      "   macro avg       0.90      0.90      0.90       762\n",
      "weighted avg       0.90      0.90      0.90       762\n",
      "\n",
      "------------------------------------------------------------\n"
     ]
    }
   ],
   "execution_count": 46
  },
  {
   "metadata": {},
   "cell_type": "markdown",
   "source": "## 3.Realice una optimización de hiper-parámetros para obtener un mejor desempeño del modelo. Para este punto, las métricas de desempeño reportadas en el punto anterior deben mejorar.",
   "id": "6de570793f4f24fc"
  },
  {
   "metadata": {},
   "cell_type": "markdown",
   "source": "## 4.Entregue un reporte de métricas de su modelo final, matriz de confusión y conclusiones sobre lo obtenido. ¿Cree que su modelo es un buen modelo? Comente.",
   "id": "db36e2e1b0269e8c"
  }
 ],
 "metadata": {
  "kernelspec": {
   "display_name": "Python 3",
   "language": "python",
   "name": "python3"
  },
  "language_info": {
   "codemirror_mode": {
    "name": "ipython",
    "version": 2
   },
   "file_extension": ".py",
   "mimetype": "text/x-python",
   "name": "python",
   "nbconvert_exporter": "python",
   "pygments_lexer": "ipython2",
   "version": "2.7.6"
  }
 },
 "nbformat": 4,
 "nbformat_minor": 5
}
