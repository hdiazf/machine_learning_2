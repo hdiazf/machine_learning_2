{
 "cells": [
  {
   "cell_type": "markdown",
   "id": "a68c5a37c112af44",
   "metadata": {},
   "source": [
    "Autores:\n",
    "- Hernán Francisco Díaz Farías\n",
    "- María Angélica Parra Mendoza\n",
    "- Loreto Constanza Zavala Gaete"
   ]
  },
  {
   "cell_type": "markdown",
   "id": "c9f84ed3b2c8ad93",
   "metadata": {},
   "source": [
    "# Tarea 1\n",
    "### Realice una exploración de datos para ver que datos existen, cuales de ellos entregan información relevante para el problema y cuales no, eliminación (si corresponde) de datos nulos y duplicados, entre otros.\n",
    "\n",
    "#### Librerías a utilizar"
   ]
  },
  {
   "cell_type": "code",
   "id": "de9b4b7ee2664230",
   "metadata": {
    "ExecuteTime": {
     "end_time": "2024-11-29T21:26:17.974163Z",
     "start_time": "2024-11-29T21:26:17.960133Z"
    }
   },
   "source": [
    "import pandas as pd\n",
    "import numpy as np\n",
    "from sklearn.cluster import KMeans\n",
    "from sklearn import preprocessing\n",
    "import matplotlib.pyplot as plt\n",
    "#from kmodes.kmodes import KModes\n",
    "from kmodes.kprototypes import KPrototypes\n"
   ],
   "outputs": [],
   "execution_count": 418
  },
  {
   "cell_type": "markdown",
   "id": "884fc16032fca45a",
   "metadata": {},
   "source": [
    "#### Cargar el archivo csv"
   ]
  },
  {
   "cell_type": "code",
   "id": "9e22f094af59b480",
   "metadata": {
    "ExecuteTime": {
     "end_time": "2024-11-29T21:26:19.032814Z",
     "start_time": "2024-11-29T21:26:18.004708Z"
    }
   },
   "source": [
    "# Cargar el archivo csv\n",
    "df = (\n",
    "    pd.read_csv(\n",
    "        '../data/apartments_for_rent_classified_100K.csv',\n",
    "        encoding='ISO-8859-1',\n",
    "        sep=';',\n",
    "        low_memory=False # Para evitar warnings de dtype\n",
    "        )\n",
    "    )"
   ],
   "outputs": [],
   "execution_count": 419
  },
  {
   "cell_type": "markdown",
   "id": "b027c12a4faf1020",
   "metadata": {},
   "source": [
    "#### Visualización de los datos"
   ]
  },
  {
   "cell_type": "code",
   "id": "255178aa83bfbaab",
   "metadata": {
    "ExecuteTime": {
     "end_time": "2024-11-29T21:26:19.063636Z",
     "start_time": "2024-11-29T21:26:19.040326Z"
    }
   },
   "source": [
    "df.head()"
   ],
   "outputs": [
    {
     "data": {
      "text/plain": [
       "           id                category                            title  \\\n",
       "0  5668640009  housing/rent/apartment       One BR 507 & 509 Esplanade   \n",
       "1  5668639818  housing/rent/apartment      Three BR 146 Lochview Drive   \n",
       "2  5668639686  housing/rent/apartment  Three BR 3101 Morningside Drive   \n",
       "3  5668639659  housing/rent/apartment            Two BR 209 Aegean Way   \n",
       "4  5668639374  housing/rent/apartment         One BR 4805 Marquette NE   \n",
       "\n",
       "                                                body amenities bathrooms  \\\n",
       "0  This unit is located at 507 & 509 Esplanade, R...       NaN         1   \n",
       "1  This unit is located at 146 Lochview Drive, Ne...       NaN       1.5   \n",
       "2  This unit is located at 3101 Morningside Drive...       NaN         2   \n",
       "3  This unit is located at 209 Aegean Way, Vacavi...       NaN         1   \n",
       "4  This unit is located at 4805 Marquette NE, Alb...       NaN         1   \n",
       "\n",
       "  bedrooms currency fee  has_photo  ... price_display  price_type square_feet  \\\n",
       "0        1      USD  No  Thumbnail  ...         $2,20     Monthly         542   \n",
       "1        3      USD  No  Thumbnail  ...         $1,25     Monthly        1500   \n",
       "2        3      USD  No  Thumbnail  ...         $1,40     Monthly        1650   \n",
       "3        2      USD  No  Thumbnail  ...         $1,60     Monthly         820   \n",
       "4        1      USD  No  Thumbnail  ...          $975     Monthly         624   \n",
       "\n",
       "               address       cityname state latitude   longitude     source  \\\n",
       "0   507  509 Esplanade  Redondo Beach    CA  338.520  -1.183.759  RentLingo   \n",
       "1      146 Lochview Dr   Newport News    VA  370.867    -764.941  RentLingo   \n",
       "2  3101 Morningside Dr        Raleigh    NC  358.230    -786.438  RentLingo   \n",
       "3       209 Aegean Way      Vacaville    CA  383.622  -1.219.712  RentLingo   \n",
       "4    4805 Marquette NE    Albuquerque    NM  351.038  -1.066.110  RentLingo   \n",
       "\n",
       "           time  \n",
       "0  1.577360e+09  \n",
       "1  1.577360e+09  \n",
       "2  1.577360e+09  \n",
       "3  1.577360e+09  \n",
       "4  1.577360e+09  \n",
       "\n",
       "[5 rows x 22 columns]"
      ],
      "text/html": [
       "<div>\n",
       "<style scoped>\n",
       "    .dataframe tbody tr th:only-of-type {\n",
       "        vertical-align: middle;\n",
       "    }\n",
       "\n",
       "    .dataframe tbody tr th {\n",
       "        vertical-align: top;\n",
       "    }\n",
       "\n",
       "    .dataframe thead th {\n",
       "        text-align: right;\n",
       "    }\n",
       "</style>\n",
       "<table border=\"1\" class=\"dataframe\">\n",
       "  <thead>\n",
       "    <tr style=\"text-align: right;\">\n",
       "      <th></th>\n",
       "      <th>id</th>\n",
       "      <th>category</th>\n",
       "      <th>title</th>\n",
       "      <th>body</th>\n",
       "      <th>amenities</th>\n",
       "      <th>bathrooms</th>\n",
       "      <th>bedrooms</th>\n",
       "      <th>currency</th>\n",
       "      <th>fee</th>\n",
       "      <th>has_photo</th>\n",
       "      <th>...</th>\n",
       "      <th>price_display</th>\n",
       "      <th>price_type</th>\n",
       "      <th>square_feet</th>\n",
       "      <th>address</th>\n",
       "      <th>cityname</th>\n",
       "      <th>state</th>\n",
       "      <th>latitude</th>\n",
       "      <th>longitude</th>\n",
       "      <th>source</th>\n",
       "      <th>time</th>\n",
       "    </tr>\n",
       "  </thead>\n",
       "  <tbody>\n",
       "    <tr>\n",
       "      <th>0</th>\n",
       "      <td>5668640009</td>\n",
       "      <td>housing/rent/apartment</td>\n",
       "      <td>One BR 507 &amp; 509 Esplanade</td>\n",
       "      <td>This unit is located at 507 &amp; 509 Esplanade, R...</td>\n",
       "      <td>NaN</td>\n",
       "      <td>1</td>\n",
       "      <td>1</td>\n",
       "      <td>USD</td>\n",
       "      <td>No</td>\n",
       "      <td>Thumbnail</td>\n",
       "      <td>...</td>\n",
       "      <td>$2,20</td>\n",
       "      <td>Monthly</td>\n",
       "      <td>542</td>\n",
       "      <td>507  509 Esplanade</td>\n",
       "      <td>Redondo Beach</td>\n",
       "      <td>CA</td>\n",
       "      <td>338.520</td>\n",
       "      <td>-1.183.759</td>\n",
       "      <td>RentLingo</td>\n",
       "      <td>1.577360e+09</td>\n",
       "    </tr>\n",
       "    <tr>\n",
       "      <th>1</th>\n",
       "      <td>5668639818</td>\n",
       "      <td>housing/rent/apartment</td>\n",
       "      <td>Three BR 146 Lochview Drive</td>\n",
       "      <td>This unit is located at 146 Lochview Drive, Ne...</td>\n",
       "      <td>NaN</td>\n",
       "      <td>1.5</td>\n",
       "      <td>3</td>\n",
       "      <td>USD</td>\n",
       "      <td>No</td>\n",
       "      <td>Thumbnail</td>\n",
       "      <td>...</td>\n",
       "      <td>$1,25</td>\n",
       "      <td>Monthly</td>\n",
       "      <td>1500</td>\n",
       "      <td>146 Lochview Dr</td>\n",
       "      <td>Newport News</td>\n",
       "      <td>VA</td>\n",
       "      <td>370.867</td>\n",
       "      <td>-764.941</td>\n",
       "      <td>RentLingo</td>\n",
       "      <td>1.577360e+09</td>\n",
       "    </tr>\n",
       "    <tr>\n",
       "      <th>2</th>\n",
       "      <td>5668639686</td>\n",
       "      <td>housing/rent/apartment</td>\n",
       "      <td>Three BR 3101 Morningside Drive</td>\n",
       "      <td>This unit is located at 3101 Morningside Drive...</td>\n",
       "      <td>NaN</td>\n",
       "      <td>2</td>\n",
       "      <td>3</td>\n",
       "      <td>USD</td>\n",
       "      <td>No</td>\n",
       "      <td>Thumbnail</td>\n",
       "      <td>...</td>\n",
       "      <td>$1,40</td>\n",
       "      <td>Monthly</td>\n",
       "      <td>1650</td>\n",
       "      <td>3101 Morningside Dr</td>\n",
       "      <td>Raleigh</td>\n",
       "      <td>NC</td>\n",
       "      <td>358.230</td>\n",
       "      <td>-786.438</td>\n",
       "      <td>RentLingo</td>\n",
       "      <td>1.577360e+09</td>\n",
       "    </tr>\n",
       "    <tr>\n",
       "      <th>3</th>\n",
       "      <td>5668639659</td>\n",
       "      <td>housing/rent/apartment</td>\n",
       "      <td>Two BR 209 Aegean Way</td>\n",
       "      <td>This unit is located at 209 Aegean Way, Vacavi...</td>\n",
       "      <td>NaN</td>\n",
       "      <td>1</td>\n",
       "      <td>2</td>\n",
       "      <td>USD</td>\n",
       "      <td>No</td>\n",
       "      <td>Thumbnail</td>\n",
       "      <td>...</td>\n",
       "      <td>$1,60</td>\n",
       "      <td>Monthly</td>\n",
       "      <td>820</td>\n",
       "      <td>209 Aegean Way</td>\n",
       "      <td>Vacaville</td>\n",
       "      <td>CA</td>\n",
       "      <td>383.622</td>\n",
       "      <td>-1.219.712</td>\n",
       "      <td>RentLingo</td>\n",
       "      <td>1.577360e+09</td>\n",
       "    </tr>\n",
       "    <tr>\n",
       "      <th>4</th>\n",
       "      <td>5668639374</td>\n",
       "      <td>housing/rent/apartment</td>\n",
       "      <td>One BR 4805 Marquette NE</td>\n",
       "      <td>This unit is located at 4805 Marquette NE, Alb...</td>\n",
       "      <td>NaN</td>\n",
       "      <td>1</td>\n",
       "      <td>1</td>\n",
       "      <td>USD</td>\n",
       "      <td>No</td>\n",
       "      <td>Thumbnail</td>\n",
       "      <td>...</td>\n",
       "      <td>$975</td>\n",
       "      <td>Monthly</td>\n",
       "      <td>624</td>\n",
       "      <td>4805 Marquette NE</td>\n",
       "      <td>Albuquerque</td>\n",
       "      <td>NM</td>\n",
       "      <td>351.038</td>\n",
       "      <td>-1.066.110</td>\n",
       "      <td>RentLingo</td>\n",
       "      <td>1.577360e+09</td>\n",
       "    </tr>\n",
       "  </tbody>\n",
       "</table>\n",
       "<p>5 rows × 22 columns</p>\n",
       "</div>"
      ]
     },
     "execution_count": 420,
     "metadata": {},
     "output_type": "execute_result"
    }
   ],
   "execution_count": 420
  },
  {
   "cell_type": "code",
   "id": "27b242aac89e4f2",
   "metadata": {
    "ExecuteTime": {
     "end_time": "2024-11-29T21:26:19.110163Z",
     "start_time": "2024-11-29T21:26:19.091666Z"
    }
   },
   "source": [
    "df.dtypes"
   ],
   "outputs": [
    {
     "data": {
      "text/plain": [
       "id                object\n",
       "category          object\n",
       "title             object\n",
       "body              object\n",
       "amenities         object\n",
       "bathrooms         object\n",
       "bedrooms          object\n",
       "currency          object\n",
       "fee               object\n",
       "has_photo         object\n",
       "pets_allowed      object\n",
       "price            float64\n",
       "price_display     object\n",
       "price_type        object\n",
       "square_feet       object\n",
       "address           object\n",
       "cityname          object\n",
       "state             object\n",
       "latitude         float64\n",
       "longitude         object\n",
       "source            object\n",
       "time             float64\n",
       "dtype: object"
      ]
     },
     "execution_count": 421,
     "metadata": {},
     "output_type": "execute_result"
    }
   ],
   "execution_count": 421
  },
  {
   "cell_type": "markdown",
   "id": "dc6d1252efae376d",
   "metadata": {},
   "source": [
    "Los campos tipo object representan campos que pueden contener registros nulos o errores de escritura. Se revisará el campo **id** para empezar."
   ]
  },
  {
   "cell_type": "code",
   "id": "2c68a4e74146c50d",
   "metadata": {
    "ExecuteTime": {
     "end_time": "2024-11-29T21:26:19.203609Z",
     "start_time": "2024-11-29T21:26:19.186076Z"
    }
   },
   "source": [
    "df['id'].isnull().sum()"
   ],
   "outputs": [
    {
     "data": {
      "text/plain": [
       "np.int64(0)"
      ]
     },
     "execution_count": 422,
     "metadata": {},
     "output_type": "execute_result"
    }
   ],
   "execution_count": 422
  },
  {
   "cell_type": "markdown",
   "id": "8d6a2a2a1361038c",
   "metadata": {},
   "source": [
    "Creamos una función para revisar si el campo **id** es numérico o no."
   ]
  },
  {
   "cell_type": "code",
   "id": "c076fb956a8815a",
   "metadata": {
    "ExecuteTime": {
     "end_time": "2024-11-29T21:26:19.265685Z",
     "start_time": "2024-11-29T21:26:19.240147Z"
    }
   },
   "source": [
    "def check_id(id):\n",
    "    try:\n",
    "        int(id)\n",
    "        return True\n",
    "    except:\n",
    "        return False\n",
    "\n",
    "numericos = df['id'].apply(check_id).sum()\n",
    "no_numericos = df['id'].shape[0] - numericos\n",
    "print(f'Numericos: {numericos}, No numéricos: {no_numericos}')\n"
   ],
   "outputs": [
    {
     "name": "stdout",
     "output_type": "stream",
     "text": [
      "Numericos: 99823, No numéricos: 3\n"
     ]
    }
   ],
   "execution_count": 423
  },
  {
   "cell_type": "markdown",
   "id": "c734bd63417e88b8",
   "metadata": {},
   "source": [
    "Se observa que hay 3 registros que no son numéricos. Se revisarán estos registros."
   ]
  },
  {
   "cell_type": "code",
   "id": "cc416c565413bc21",
   "metadata": {
    "ExecuteTime": {
     "end_time": "2024-11-29T21:26:19.328328Z",
     "start_time": "2024-11-29T21:26:19.286228Z"
    }
   },
   "source": [
    "df[~df['id'].apply(check_id)]"
   ],
   "outputs": [
    {
     "data": {
      "text/plain": [
       "                                                      id            category  \\\n",
       "8808   ange of on-site community amenities. Coming so...                 Gym   \n",
       "33780  xpansive rooftop entertainment deck and many p...  Parking,Patio/Deck   \n",
       "75947  ellite,Clubhouse,Dishwasher,Garbage Disposal,G...                   2   \n",
       "\n",
       "      title body amenities  bathrooms   bedrooms   currency    fee has_photo  \\\n",
       "8808      1    1       USD         No  Thumbnail  Cats,Dogs   1380     $1,38   \n",
       "33780     1    1       USD         No  Thumbnail        NaN   2150     $2,15   \n",
       "75947     2  USD        No  Thumbnail  Cats,Dogs       1019  $1,02   Monthly   \n",
       "\n",
       "       ... price_display   price_type square_feet   address      cityname  \\\n",
       "8808   ...           NaN     Lawrence          NJ   402.659      -746.959   \n",
       "33780  ...           NaN  Los Angeles          CA   340.432    -1.182.509   \n",
       "75947  ...       Henrico           VA     376.249  -774.948  RentDigs.com   \n",
       "\n",
       "              state      latitude longitude  source time  \n",
       "8808   RentDigs.com  1.568782e+09       NaN     NaN  NaN  \n",
       "33780  RentDigs.com  1.568745e+09       NaN     NaN  NaN  \n",
       "75947    1550831790           NaN       NaN     NaN  NaN  \n",
       "\n",
       "[3 rows x 22 columns]"
      ],
      "text/html": [
       "<div>\n",
       "<style scoped>\n",
       "    .dataframe tbody tr th:only-of-type {\n",
       "        vertical-align: middle;\n",
       "    }\n",
       "\n",
       "    .dataframe tbody tr th {\n",
       "        vertical-align: top;\n",
       "    }\n",
       "\n",
       "    .dataframe thead th {\n",
       "        text-align: right;\n",
       "    }\n",
       "</style>\n",
       "<table border=\"1\" class=\"dataframe\">\n",
       "  <thead>\n",
       "    <tr style=\"text-align: right;\">\n",
       "      <th></th>\n",
       "      <th>id</th>\n",
       "      <th>category</th>\n",
       "      <th>title</th>\n",
       "      <th>body</th>\n",
       "      <th>amenities</th>\n",
       "      <th>bathrooms</th>\n",
       "      <th>bedrooms</th>\n",
       "      <th>currency</th>\n",
       "      <th>fee</th>\n",
       "      <th>has_photo</th>\n",
       "      <th>...</th>\n",
       "      <th>price_display</th>\n",
       "      <th>price_type</th>\n",
       "      <th>square_feet</th>\n",
       "      <th>address</th>\n",
       "      <th>cityname</th>\n",
       "      <th>state</th>\n",
       "      <th>latitude</th>\n",
       "      <th>longitude</th>\n",
       "      <th>source</th>\n",
       "      <th>time</th>\n",
       "    </tr>\n",
       "  </thead>\n",
       "  <tbody>\n",
       "    <tr>\n",
       "      <th>8808</th>\n",
       "      <td>ange of on-site community amenities. Coming so...</td>\n",
       "      <td>Gym</td>\n",
       "      <td>1</td>\n",
       "      <td>1</td>\n",
       "      <td>USD</td>\n",
       "      <td>No</td>\n",
       "      <td>Thumbnail</td>\n",
       "      <td>Cats,Dogs</td>\n",
       "      <td>1380</td>\n",
       "      <td>$1,38</td>\n",
       "      <td>...</td>\n",
       "      <td>NaN</td>\n",
       "      <td>Lawrence</td>\n",
       "      <td>NJ</td>\n",
       "      <td>402.659</td>\n",
       "      <td>-746.959</td>\n",
       "      <td>RentDigs.com</td>\n",
       "      <td>1.568782e+09</td>\n",
       "      <td>NaN</td>\n",
       "      <td>NaN</td>\n",
       "      <td>NaN</td>\n",
       "    </tr>\n",
       "    <tr>\n",
       "      <th>33780</th>\n",
       "      <td>xpansive rooftop entertainment deck and many p...</td>\n",
       "      <td>Parking,Patio/Deck</td>\n",
       "      <td>1</td>\n",
       "      <td>1</td>\n",
       "      <td>USD</td>\n",
       "      <td>No</td>\n",
       "      <td>Thumbnail</td>\n",
       "      <td>NaN</td>\n",
       "      <td>2150</td>\n",
       "      <td>$2,15</td>\n",
       "      <td>...</td>\n",
       "      <td>NaN</td>\n",
       "      <td>Los Angeles</td>\n",
       "      <td>CA</td>\n",
       "      <td>340.432</td>\n",
       "      <td>-1.182.509</td>\n",
       "      <td>RentDigs.com</td>\n",
       "      <td>1.568745e+09</td>\n",
       "      <td>NaN</td>\n",
       "      <td>NaN</td>\n",
       "      <td>NaN</td>\n",
       "    </tr>\n",
       "    <tr>\n",
       "      <th>75947</th>\n",
       "      <td>ellite,Clubhouse,Dishwasher,Garbage Disposal,G...</td>\n",
       "      <td>2</td>\n",
       "      <td>2</td>\n",
       "      <td>USD</td>\n",
       "      <td>No</td>\n",
       "      <td>Thumbnail</td>\n",
       "      <td>Cats,Dogs</td>\n",
       "      <td>1019</td>\n",
       "      <td>$1,02</td>\n",
       "      <td>Monthly</td>\n",
       "      <td>...</td>\n",
       "      <td>Henrico</td>\n",
       "      <td>VA</td>\n",
       "      <td>376.249</td>\n",
       "      <td>-774.948</td>\n",
       "      <td>RentDigs.com</td>\n",
       "      <td>1550831790</td>\n",
       "      <td>NaN</td>\n",
       "      <td>NaN</td>\n",
       "      <td>NaN</td>\n",
       "      <td>NaN</td>\n",
       "    </tr>\n",
       "  </tbody>\n",
       "</table>\n",
       "<p>3 rows × 22 columns</p>\n",
       "</div>"
      ]
     },
     "execution_count": 424,
     "metadata": {},
     "output_type": "execute_result"
    }
   ],
   "execution_count": 424
  },
  {
   "cell_type": "markdown",
   "id": "44134d659d5b3b15",
   "metadata": {},
   "source": [
    "Se procederá a eliminar estos registros."
   ]
  },
  {
   "cell_type": "code",
   "id": "c6b745e359f40ad9",
   "metadata": {
    "ExecuteTime": {
     "end_time": "2024-11-29T21:26:19.390446Z",
     "start_time": "2024-11-29T21:26:19.350397Z"
    }
   },
   "source": [
    "df = df[df['id'].apply(check_id)]"
   ],
   "outputs": [],
   "execution_count": 425
  },
  {
   "cell_type": "markdown",
   "id": "b5d3d51831d98de0",
   "metadata": {},
   "source": [
    "Se convierte el campo **id** a tipo numérico."
   ]
  },
  {
   "cell_type": "code",
   "id": "2df64775851e160c",
   "metadata": {
    "ExecuteTime": {
     "end_time": "2024-11-29T21:26:19.468347Z",
     "start_time": "2024-11-29T21:26:19.451822Z"
    }
   },
   "source": [
    "# df['id'] = df['id'].astype(int)"
   ],
   "outputs": [],
   "execution_count": 426
  },
  {
   "cell_type": "markdown",
   "id": "31b514036c918f89",
   "metadata": {},
   "source": []
  },
  {
   "cell_type": "code",
   "id": "10fa36810d2565ea",
   "metadata": {
    "ExecuteTime": {
     "end_time": "2024-11-29T21:26:19.794372Z",
     "start_time": "2024-11-29T21:26:19.488874Z"
    }
   },
   "source": [
    "# Revisar si hay valores duplicados\n",
    "df[df.duplicated()]"
   ],
   "outputs": [
    {
     "data": {
      "text/plain": [
       "               id                category  \\\n",
       "42261  5508806580  housing/rent/apartment   \n",
       "42262  5508806428  housing/rent/apartment   \n",
       "42263  5508806391  housing/rent/apartment   \n",
       "42264  5508806299  housing/rent/apartment   \n",
       "42265  5508806233  housing/rent/apartment   \n",
       "...           ...                     ...   \n",
       "83577  5197839500  housing/rent/apartment   \n",
       "83578  5197836604  housing/rent/apartment   \n",
       "83579  5197834189  housing/rent/apartment   \n",
       "83580  5197828852  housing/rent/apartment   \n",
       "83581  5197828778  housing/rent/apartment   \n",
       "\n",
       "                                                   title  \\\n",
       "42261  Las Vegas, prime location Two BR, Apartment. P...   \n",
       "42262                          Northglenn Value. Pet OK!   \n",
       "42263  Apartment in move in condition in District Hei...   \n",
       "42264  District Heights, prime location Two BR, Apart...   \n",
       "42265                            Spacious One BR, One BA   \n",
       "...                                                  ...   \n",
       "83577  Apartment, Studio, 400 sq. ft. - in a great area.   \n",
       "83578  offers the lifestyle you deserve in the center...   \n",
       "83579                 Attractive Two BR, Two BA. Pet OK!   \n",
       "83580  The Best of the Best in the City of Tempe! Sav...   \n",
       "83581  Two BA - $1,862/mo - Apartment - in a great ar...   \n",
       "\n",
       "                                                    body  \\\n",
       "42261  Live in the middle of it all! South is a pet f...   \n",
       "42262  Square footage: 738 square ft, unit number: 06...   \n",
       "42263  Capital Courts has something for everyone. Loc...   \n",
       "42264  Income Requirement: Must have 2. 5x the rent i...   \n",
       "42265  Square footage: 680 sq-ft, unit number: 122. P...   \n",
       "...                                                  ...   \n",
       "83577  Apartment for rent in Ruckersville. Dogs Dogs ...   \n",
       "83578  Our pet friendly one, 2 and 3 beds apartment h...   \n",
       "83579  Square footage: 1055 square feet, unit number:...   \n",
       "83580  In the heart of vibrant Tempe near Arizona Sta...   \n",
       "83581  In the heart of vibrant Tempe near Arizona Sta...   \n",
       "\n",
       "                                       amenities bathrooms bedrooms currency  \\\n",
       "42261                           Gym,Parking,Pool         2        2      USD   \n",
       "42262                   Gym,Parking,Pool,Storage         1        1      USD   \n",
       "42263                 AC,Parking,Playground,Pool       1.5        3      USD   \n",
       "42264                                    Parking         1        2      USD   \n",
       "42265  Basketball,Gym,Patio/Deck,Playground,Pool         1        1      USD   \n",
       "...                                          ...       ...      ...      ...   \n",
       "83577                                        NaN         1        0      USD   \n",
       "83578                                        NaN         2        2      USD   \n",
       "83579                           Gym,Parking,Pool         2        2      USD   \n",
       "83580                           Gym,Parking,Pool         2        3      USD   \n",
       "83581                           Gym,Parking,Pool         2        3      USD   \n",
       "\n",
       "      fee has_photo  ... price_display  price_type square_feet address  \\\n",
       "42261  No       Yes  ...         $1,34     Monthly        1084     NaN   \n",
       "42262  No       Yes  ...         $1,33     Monthly         738     NaN   \n",
       "42263  No       Yes  ...         $1,32     Monthly         943     NaN   \n",
       "42264  No       Yes  ...         $1,35     Monthly         931     NaN   \n",
       "42265  No       Yes  ...         $1,26     Monthly         680     NaN   \n",
       "...    ..       ...  ...           ...         ...         ...     ...   \n",
       "83577  No        No  ...          $725     Monthly         400     NaN   \n",
       "83578  No       Yes  ...         $1,24     Monthly        1051     NaN   \n",
       "83579  No       Yes  ...         $1,48     Monthly        1055     NaN   \n",
       "83580  No       Yes  ...         $1,88     Monthly        1261     NaN   \n",
       "83581  No       Yes  ...         $1,86     Monthly        1261     NaN   \n",
       "\n",
       "               cityname state latitude   longitude        source          time  \n",
       "42261         Las Vegas    NV  361.536  -1.151.965  RentDigs.com  1.568754e+09  \n",
       "42262        Northglenn    CO  398.999  -1.049.442  RentDigs.com  1.568754e+09  \n",
       "42263  District Heights    MD  388.516    -768.871  RentDigs.com  1.568754e+09  \n",
       "42264  District Heights    MD  388.516    -768.871  RentDigs.com  1.568754e+09  \n",
       "42265            Denver    CO  398.999  -1.049.442  RentDigs.com  1.568754e+09  \n",
       "...                 ...   ...      ...         ...           ...           ...  \n",
       "83577      Ruckersville    VA  382.203    -783.844  RentDigs.com  1.550824e+09  \n",
       "83578         Charlotte    NC  353.201    -807.409  RentDigs.com  1.550824e+09  \n",
       "83579             Tempe    AZ  333.924  -1.119.265  RentDigs.com  1.550824e+09  \n",
       "83580             Tempe    AZ  333.924  -1.119.265  RentDigs.com  1.550823e+09  \n",
       "83581             Tempe    AZ  333.924  -1.119.265  RentDigs.com  1.550823e+09  \n",
       "\n",
       "[84 rows x 22 columns]"
      ],
      "text/html": [
       "<div>\n",
       "<style scoped>\n",
       "    .dataframe tbody tr th:only-of-type {\n",
       "        vertical-align: middle;\n",
       "    }\n",
       "\n",
       "    .dataframe tbody tr th {\n",
       "        vertical-align: top;\n",
       "    }\n",
       "\n",
       "    .dataframe thead th {\n",
       "        text-align: right;\n",
       "    }\n",
       "</style>\n",
       "<table border=\"1\" class=\"dataframe\">\n",
       "  <thead>\n",
       "    <tr style=\"text-align: right;\">\n",
       "      <th></th>\n",
       "      <th>id</th>\n",
       "      <th>category</th>\n",
       "      <th>title</th>\n",
       "      <th>body</th>\n",
       "      <th>amenities</th>\n",
       "      <th>bathrooms</th>\n",
       "      <th>bedrooms</th>\n",
       "      <th>currency</th>\n",
       "      <th>fee</th>\n",
       "      <th>has_photo</th>\n",
       "      <th>...</th>\n",
       "      <th>price_display</th>\n",
       "      <th>price_type</th>\n",
       "      <th>square_feet</th>\n",
       "      <th>address</th>\n",
       "      <th>cityname</th>\n",
       "      <th>state</th>\n",
       "      <th>latitude</th>\n",
       "      <th>longitude</th>\n",
       "      <th>source</th>\n",
       "      <th>time</th>\n",
       "    </tr>\n",
       "  </thead>\n",
       "  <tbody>\n",
       "    <tr>\n",
       "      <th>42261</th>\n",
       "      <td>5508806580</td>\n",
       "      <td>housing/rent/apartment</td>\n",
       "      <td>Las Vegas, prime location Two BR, Apartment. P...</td>\n",
       "      <td>Live in the middle of it all! South is a pet f...</td>\n",
       "      <td>Gym,Parking,Pool</td>\n",
       "      <td>2</td>\n",
       "      <td>2</td>\n",
       "      <td>USD</td>\n",
       "      <td>No</td>\n",
       "      <td>Yes</td>\n",
       "      <td>...</td>\n",
       "      <td>$1,34</td>\n",
       "      <td>Monthly</td>\n",
       "      <td>1084</td>\n",
       "      <td>NaN</td>\n",
       "      <td>Las Vegas</td>\n",
       "      <td>NV</td>\n",
       "      <td>361.536</td>\n",
       "      <td>-1.151.965</td>\n",
       "      <td>RentDigs.com</td>\n",
       "      <td>1.568754e+09</td>\n",
       "    </tr>\n",
       "    <tr>\n",
       "      <th>42262</th>\n",
       "      <td>5508806428</td>\n",
       "      <td>housing/rent/apartment</td>\n",
       "      <td>Northglenn Value. Pet OK!</td>\n",
       "      <td>Square footage: 738 square ft, unit number: 06...</td>\n",
       "      <td>Gym,Parking,Pool,Storage</td>\n",
       "      <td>1</td>\n",
       "      <td>1</td>\n",
       "      <td>USD</td>\n",
       "      <td>No</td>\n",
       "      <td>Yes</td>\n",
       "      <td>...</td>\n",
       "      <td>$1,33</td>\n",
       "      <td>Monthly</td>\n",
       "      <td>738</td>\n",
       "      <td>NaN</td>\n",
       "      <td>Northglenn</td>\n",
       "      <td>CO</td>\n",
       "      <td>398.999</td>\n",
       "      <td>-1.049.442</td>\n",
       "      <td>RentDigs.com</td>\n",
       "      <td>1.568754e+09</td>\n",
       "    </tr>\n",
       "    <tr>\n",
       "      <th>42263</th>\n",
       "      <td>5508806391</td>\n",
       "      <td>housing/rent/apartment</td>\n",
       "      <td>Apartment in move in condition in District Hei...</td>\n",
       "      <td>Capital Courts has something for everyone. Loc...</td>\n",
       "      <td>AC,Parking,Playground,Pool</td>\n",
       "      <td>1.5</td>\n",
       "      <td>3</td>\n",
       "      <td>USD</td>\n",
       "      <td>No</td>\n",
       "      <td>Yes</td>\n",
       "      <td>...</td>\n",
       "      <td>$1,32</td>\n",
       "      <td>Monthly</td>\n",
       "      <td>943</td>\n",
       "      <td>NaN</td>\n",
       "      <td>District Heights</td>\n",
       "      <td>MD</td>\n",
       "      <td>388.516</td>\n",
       "      <td>-768.871</td>\n",
       "      <td>RentDigs.com</td>\n",
       "      <td>1.568754e+09</td>\n",
       "    </tr>\n",
       "    <tr>\n",
       "      <th>42264</th>\n",
       "      <td>5508806299</td>\n",
       "      <td>housing/rent/apartment</td>\n",
       "      <td>District Heights, prime location Two BR, Apart...</td>\n",
       "      <td>Income Requirement: Must have 2. 5x the rent i...</td>\n",
       "      <td>Parking</td>\n",
       "      <td>1</td>\n",
       "      <td>2</td>\n",
       "      <td>USD</td>\n",
       "      <td>No</td>\n",
       "      <td>Yes</td>\n",
       "      <td>...</td>\n",
       "      <td>$1,35</td>\n",
       "      <td>Monthly</td>\n",
       "      <td>931</td>\n",
       "      <td>NaN</td>\n",
       "      <td>District Heights</td>\n",
       "      <td>MD</td>\n",
       "      <td>388.516</td>\n",
       "      <td>-768.871</td>\n",
       "      <td>RentDigs.com</td>\n",
       "      <td>1.568754e+09</td>\n",
       "    </tr>\n",
       "    <tr>\n",
       "      <th>42265</th>\n",
       "      <td>5508806233</td>\n",
       "      <td>housing/rent/apartment</td>\n",
       "      <td>Spacious One BR, One BA</td>\n",
       "      <td>Square footage: 680 sq-ft, unit number: 122. P...</td>\n",
       "      <td>Basketball,Gym,Patio/Deck,Playground,Pool</td>\n",
       "      <td>1</td>\n",
       "      <td>1</td>\n",
       "      <td>USD</td>\n",
       "      <td>No</td>\n",
       "      <td>Yes</td>\n",
       "      <td>...</td>\n",
       "      <td>$1,26</td>\n",
       "      <td>Monthly</td>\n",
       "      <td>680</td>\n",
       "      <td>NaN</td>\n",
       "      <td>Denver</td>\n",
       "      <td>CO</td>\n",
       "      <td>398.999</td>\n",
       "      <td>-1.049.442</td>\n",
       "      <td>RentDigs.com</td>\n",
       "      <td>1.568754e+09</td>\n",
       "    </tr>\n",
       "    <tr>\n",
       "      <th>...</th>\n",
       "      <td>...</td>\n",
       "      <td>...</td>\n",
       "      <td>...</td>\n",
       "      <td>...</td>\n",
       "      <td>...</td>\n",
       "      <td>...</td>\n",
       "      <td>...</td>\n",
       "      <td>...</td>\n",
       "      <td>...</td>\n",
       "      <td>...</td>\n",
       "      <td>...</td>\n",
       "      <td>...</td>\n",
       "      <td>...</td>\n",
       "      <td>...</td>\n",
       "      <td>...</td>\n",
       "      <td>...</td>\n",
       "      <td>...</td>\n",
       "      <td>...</td>\n",
       "      <td>...</td>\n",
       "      <td>...</td>\n",
       "      <td>...</td>\n",
       "    </tr>\n",
       "    <tr>\n",
       "      <th>83577</th>\n",
       "      <td>5197839500</td>\n",
       "      <td>housing/rent/apartment</td>\n",
       "      <td>Apartment, Studio, 400 sq. ft. - in a great area.</td>\n",
       "      <td>Apartment for rent in Ruckersville. Dogs Dogs ...</td>\n",
       "      <td>NaN</td>\n",
       "      <td>1</td>\n",
       "      <td>0</td>\n",
       "      <td>USD</td>\n",
       "      <td>No</td>\n",
       "      <td>No</td>\n",
       "      <td>...</td>\n",
       "      <td>$725</td>\n",
       "      <td>Monthly</td>\n",
       "      <td>400</td>\n",
       "      <td>NaN</td>\n",
       "      <td>Ruckersville</td>\n",
       "      <td>VA</td>\n",
       "      <td>382.203</td>\n",
       "      <td>-783.844</td>\n",
       "      <td>RentDigs.com</td>\n",
       "      <td>1.550824e+09</td>\n",
       "    </tr>\n",
       "    <tr>\n",
       "      <th>83578</th>\n",
       "      <td>5197836604</td>\n",
       "      <td>housing/rent/apartment</td>\n",
       "      <td>offers the lifestyle you deserve in the center...</td>\n",
       "      <td>Our pet friendly one, 2 and 3 beds apartment h...</td>\n",
       "      <td>NaN</td>\n",
       "      <td>2</td>\n",
       "      <td>2</td>\n",
       "      <td>USD</td>\n",
       "      <td>No</td>\n",
       "      <td>Yes</td>\n",
       "      <td>...</td>\n",
       "      <td>$1,24</td>\n",
       "      <td>Monthly</td>\n",
       "      <td>1051</td>\n",
       "      <td>NaN</td>\n",
       "      <td>Charlotte</td>\n",
       "      <td>NC</td>\n",
       "      <td>353.201</td>\n",
       "      <td>-807.409</td>\n",
       "      <td>RentDigs.com</td>\n",
       "      <td>1.550824e+09</td>\n",
       "    </tr>\n",
       "    <tr>\n",
       "      <th>83579</th>\n",
       "      <td>5197834189</td>\n",
       "      <td>housing/rent/apartment</td>\n",
       "      <td>Attractive Two BR, Two BA. Pet OK!</td>\n",
       "      <td>Square footage: 1055 square feet, unit number:...</td>\n",
       "      <td>Gym,Parking,Pool</td>\n",
       "      <td>2</td>\n",
       "      <td>2</td>\n",
       "      <td>USD</td>\n",
       "      <td>No</td>\n",
       "      <td>Yes</td>\n",
       "      <td>...</td>\n",
       "      <td>$1,48</td>\n",
       "      <td>Monthly</td>\n",
       "      <td>1055</td>\n",
       "      <td>NaN</td>\n",
       "      <td>Tempe</td>\n",
       "      <td>AZ</td>\n",
       "      <td>333.924</td>\n",
       "      <td>-1.119.265</td>\n",
       "      <td>RentDigs.com</td>\n",
       "      <td>1.550824e+09</td>\n",
       "    </tr>\n",
       "    <tr>\n",
       "      <th>83580</th>\n",
       "      <td>5197828852</td>\n",
       "      <td>housing/rent/apartment</td>\n",
       "      <td>The Best of the Best in the City of Tempe! Sav...</td>\n",
       "      <td>In the heart of vibrant Tempe near Arizona Sta...</td>\n",
       "      <td>Gym,Parking,Pool</td>\n",
       "      <td>2</td>\n",
       "      <td>3</td>\n",
       "      <td>USD</td>\n",
       "      <td>No</td>\n",
       "      <td>Yes</td>\n",
       "      <td>...</td>\n",
       "      <td>$1,88</td>\n",
       "      <td>Monthly</td>\n",
       "      <td>1261</td>\n",
       "      <td>NaN</td>\n",
       "      <td>Tempe</td>\n",
       "      <td>AZ</td>\n",
       "      <td>333.924</td>\n",
       "      <td>-1.119.265</td>\n",
       "      <td>RentDigs.com</td>\n",
       "      <td>1.550823e+09</td>\n",
       "    </tr>\n",
       "    <tr>\n",
       "      <th>83581</th>\n",
       "      <td>5197828778</td>\n",
       "      <td>housing/rent/apartment</td>\n",
       "      <td>Two BA - $1,862/mo - Apartment - in a great ar...</td>\n",
       "      <td>In the heart of vibrant Tempe near Arizona Sta...</td>\n",
       "      <td>Gym,Parking,Pool</td>\n",
       "      <td>2</td>\n",
       "      <td>3</td>\n",
       "      <td>USD</td>\n",
       "      <td>No</td>\n",
       "      <td>Yes</td>\n",
       "      <td>...</td>\n",
       "      <td>$1,86</td>\n",
       "      <td>Monthly</td>\n",
       "      <td>1261</td>\n",
       "      <td>NaN</td>\n",
       "      <td>Tempe</td>\n",
       "      <td>AZ</td>\n",
       "      <td>333.924</td>\n",
       "      <td>-1.119.265</td>\n",
       "      <td>RentDigs.com</td>\n",
       "      <td>1.550823e+09</td>\n",
       "    </tr>\n",
       "  </tbody>\n",
       "</table>\n",
       "<p>84 rows × 22 columns</p>\n",
       "</div>"
      ]
     },
     "execution_count": 427,
     "metadata": {},
     "output_type": "execute_result"
    }
   ],
   "execution_count": 427
  },
  {
   "cell_type": "code",
   "id": "ee8f2f8c",
   "metadata": {
    "ExecuteTime": {
     "end_time": "2024-11-29T21:26:20.104578Z",
     "start_time": "2024-11-29T21:26:19.817157Z"
    }
   },
   "source": [
    "df.duplicated().sum()"
   ],
   "outputs": [
    {
     "data": {
      "text/plain": [
       "np.int64(84)"
      ]
     },
     "execution_count": 428,
     "metadata": {},
     "output_type": "execute_result"
    }
   ],
   "execution_count": 428
  },
  {
   "cell_type": "code",
   "id": "02e389af",
   "metadata": {
    "ExecuteTime": {
     "end_time": "2024-11-29T21:26:20.679288Z",
     "start_time": "2024-11-29T21:26:20.111397Z"
    }
   },
   "source": [
    "df = df.drop_duplicates()\n",
    "df.duplicated().sum()"
   ],
   "outputs": [
    {
     "data": {
      "text/plain": [
       "np.int64(0)"
      ]
     },
     "execution_count": 429,
     "metadata": {},
     "output_type": "execute_result"
    }
   ],
   "execution_count": 429
  },
  {
   "cell_type": "code",
   "id": "95eb37bd",
   "metadata": {
    "ExecuteTime": {
     "end_time": "2024-11-29T21:26:20.694880Z",
     "start_time": "2024-11-29T21:26:20.685297Z"
    }
   },
   "source": [
    "df['category'].unique()"
   ],
   "outputs": [
    {
     "data": {
      "text/plain": [
       "array(['housing/rent/apartment', 'housing/rent/home',\n",
       "       'housing/rent/short_term', 'housing/rent', 'housing/rent/condo',\n",
       "       'housing/rent/other', 'housing/rent/commercial/retail'],\n",
       "      dtype=object)"
      ]
     },
     "execution_count": 430,
     "metadata": {},
     "output_type": "execute_result"
    }
   ],
   "execution_count": 430
  },
  {
   "cell_type": "code",
   "id": "9468dc00",
   "metadata": {
    "ExecuteTime": {
     "end_time": "2024-11-29T21:26:20.740832Z",
     "start_time": "2024-11-29T21:26:20.700888Z"
    }
   },
   "source": [
    "df = df[df['category'] == 'housing/rent/apartment']"
   ],
   "outputs": [],
   "execution_count": 431
  },
  {
   "cell_type": "code",
   "id": "2232d655",
   "metadata": {
    "ExecuteTime": {
     "end_time": "2024-11-29T21:26:20.802741Z",
     "start_time": "2024-11-29T21:26:20.746843Z"
    }
   },
   "source": [
    "df.count()"
   ],
   "outputs": [
    {
     "data": {
      "text/plain": [
       "id               99678\n",
       "category         99678\n",
       "title            99678\n",
       "body             99678\n",
       "amenities        83613\n",
       "bathrooms        99613\n",
       "bedrooms         99551\n",
       "currency         99675\n",
       "fee              99675\n",
       "has_photo        99675\n",
       "pets_allowed     39149\n",
       "price            99674\n",
       "price_display    99674\n",
       "price_type       99675\n",
       "square_feet      99675\n",
       "address           7939\n",
       "cityname         99373\n",
       "state            99373\n",
       "latitude         99650\n",
       "longitude        99650\n",
       "source           99675\n",
       "time             99675\n",
       "dtype: int64"
      ]
     },
     "execution_count": 432,
     "metadata": {},
     "output_type": "execute_result"
    }
   ],
   "execution_count": 432
  },
  {
   "cell_type": "code",
   "id": "e0f4c395",
   "metadata": {
    "ExecuteTime": {
     "end_time": "2024-11-29T21:26:20.880277Z",
     "start_time": "2024-11-29T21:26:20.819720Z"
    }
   },
   "source": [
    "df.isnull().sum()"
   ],
   "outputs": [
    {
     "data": {
      "text/plain": [
       "id                   0\n",
       "category             0\n",
       "title                0\n",
       "body                 0\n",
       "amenities        16065\n",
       "bathrooms           65\n",
       "bedrooms           127\n",
       "currency             3\n",
       "fee                  3\n",
       "has_photo            3\n",
       "pets_allowed     60529\n",
       "price                4\n",
       "price_display        4\n",
       "price_type           3\n",
       "square_feet          3\n",
       "address          91739\n",
       "cityname           305\n",
       "state              305\n",
       "latitude            28\n",
       "longitude           28\n",
       "source               3\n",
       "time                 3\n",
       "dtype: int64"
      ]
     },
     "execution_count": 433,
     "metadata": {},
     "output_type": "execute_result"
    }
   ],
   "execution_count": 433
  },
  {
   "cell_type": "code",
   "id": "064e3e88",
   "metadata": {
    "ExecuteTime": {
     "end_time": "2024-11-29T21:26:20.911420Z",
     "start_time": "2024-11-29T21:26:20.890885Z"
    }
   },
   "source": [
    "df = df.filter(items=['bathrooms','bedrooms', 'pets_allowed', 'price', 'price_type', 'square_feet', 'cityname'], axis=1)"
   ],
   "outputs": [],
   "execution_count": 434
  },
  {
   "cell_type": "code",
   "id": "ad82a0fa",
   "metadata": {
    "ExecuteTime": {
     "end_time": "2024-11-29T21:26:20.942594Z",
     "start_time": "2024-11-29T21:26:20.919460Z"
    }
   },
   "source": [
    "df.count()"
   ],
   "outputs": [
    {
     "data": {
      "text/plain": [
       "bathrooms       99613\n",
       "bedrooms        99551\n",
       "pets_allowed    39149\n",
       "price           99674\n",
       "price_type      99675\n",
       "square_feet     99675\n",
       "cityname        99373\n",
       "dtype: int64"
      ]
     },
     "execution_count": 435,
     "metadata": {},
     "output_type": "execute_result"
    }
   ],
   "execution_count": 435
  },
  {
   "cell_type": "code",
   "id": "732eab3c",
   "metadata": {
    "ExecuteTime": {
     "end_time": "2024-11-29T21:26:20.989185Z",
     "start_time": "2024-11-29T21:26:20.963154Z"
    }
   },
   "source": [
    "df.isnull().sum()"
   ],
   "outputs": [
    {
     "data": {
      "text/plain": [
       "bathrooms          65\n",
       "bedrooms          127\n",
       "pets_allowed    60529\n",
       "price               4\n",
       "price_type          3\n",
       "square_feet         3\n",
       "cityname          305\n",
       "dtype: int64"
      ]
     },
     "execution_count": 436,
     "metadata": {},
     "output_type": "execute_result"
    }
   ],
   "execution_count": 436
  },
  {
   "cell_type": "code",
   "id": "6dc4d3ac",
   "metadata": {
    "ExecuteTime": {
     "end_time": "2024-11-29T21:26:21.051291Z",
     "start_time": "2024-11-29T21:26:21.014761Z"
    }
   },
   "source": [
    "df = df.dropna(subset=['bathrooms', 'bedrooms','price', 'cityname'])\n",
    "df.isnull().sum()"
   ],
   "outputs": [
    {
     "data": {
      "text/plain": [
       "bathrooms           0\n",
       "bedrooms            0\n",
       "pets_allowed    60216\n",
       "price               0\n",
       "price_type          0\n",
       "square_feet         0\n",
       "cityname            0\n",
       "dtype: int64"
      ]
     },
     "execution_count": 437,
     "metadata": {},
     "output_type": "execute_result"
    }
   ],
   "execution_count": 437
  },
  {
   "cell_type": "code",
   "id": "c5449f3d",
   "metadata": {
    "ExecuteTime": {
     "end_time": "2024-11-29T21:26:21.082542Z",
     "start_time": "2024-11-29T21:26:21.067317Z"
    }
   },
   "source": [
    "#df['pets_allowed'] = df['pets_allowed'].fillna(value=None)\n",
    "#df['pets_allowed'] = df['pets_allowed'].apply(lambda x:None if pd.isnull(x) else x)\n",
    "df['pets_allowed'].value_counts()"
   ],
   "outputs": [
    {
     "data": {
      "text/plain": [
       "pets_allowed\n",
       "Cats,Dogs         37011\n",
       "Cats               1837\n",
       "Dogs                126\n",
       "Cats,Dogs,None        1\n",
       "Name: count, dtype: int64"
      ]
     },
     "execution_count": 438,
     "metadata": {},
     "output_type": "execute_result"
    }
   ],
   "execution_count": 438
  },
  {
   "cell_type": "code",
   "id": "a5e325ba",
   "metadata": {
    "ExecuteTime": {
     "end_time": "2024-11-29T21:26:21.175675Z",
     "start_time": "2024-11-29T21:26:21.137622Z"
    }
   },
   "source": [
    "# Fill nan values with \"No\"\n",
    "df['pets_allowed'] = df['pets_allowed'].fillna('No')\n",
    "df['pets_allowed'] = df['pets_allowed'].replace(\"Cats,Dogs,None\", \"Cats,Dogs\")\n",
    "df['pets_allowed'] = df['pets_allowed'].apply(lambda x: 'Si' if x in ['Cats', 'Dogs', 'Cats,Dogs'] else 'No')\n",
    "df['pets_allowed'].value_counts().sum()"
   ],
   "outputs": [
    {
     "data": {
      "text/plain": [
       "np.int64(99191)"
      ]
     },
     "execution_count": 439,
     "metadata": {},
     "output_type": "execute_result"
    }
   ],
   "execution_count": 439
  },
  {
   "cell_type": "code",
   "id": "50614b92",
   "metadata": {
    "ExecuteTime": {
     "end_time": "2024-11-29T21:26:21.206726Z",
     "start_time": "2024-11-29T21:26:21.187187Z"
    }
   },
   "source": [
    "df.isnull().sum()"
   ],
   "outputs": [
    {
     "data": {
      "text/plain": [
       "bathrooms       0\n",
       "bedrooms        0\n",
       "pets_allowed    0\n",
       "price           0\n",
       "price_type      0\n",
       "square_feet     0\n",
       "cityname        0\n",
       "dtype: int64"
      ]
     },
     "execution_count": 440,
     "metadata": {},
     "output_type": "execute_result"
    }
   ],
   "execution_count": 440
  },
  {
   "cell_type": "code",
   "id": "48767164",
   "metadata": {
    "ExecuteTime": {
     "end_time": "2024-11-29T21:26:21.238265Z",
     "start_time": "2024-11-29T21:26:21.226251Z"
    }
   },
   "source": [
    "df['price_type'].value_counts()"
   ],
   "outputs": [
    {
     "data": {
      "text/plain": [
       "price_type\n",
       "Monthly    99188\n",
       "Weekly         3\n",
       "Name: count, dtype: int64"
      ]
     },
     "execution_count": 441,
     "metadata": {},
     "output_type": "execute_result"
    }
   ],
   "execution_count": 441
  },
  {
   "cell_type": "code",
   "id": "d3b45e87",
   "metadata": {
    "ExecuteTime": {
     "end_time": "2024-11-29T21:26:21.300355Z",
     "start_time": "2024-11-29T21:26:21.269800Z"
    }
   },
   "source": [
    "df = df[df['price_type'] == 'Monthly']\n",
    "df['price_type'].value_counts()"
   ],
   "outputs": [
    {
     "data": {
      "text/plain": [
       "price_type\n",
       "Monthly    99188\n",
       "Name: count, dtype: int64"
      ]
     },
     "execution_count": 442,
     "metadata": {},
     "output_type": "execute_result"
    }
   ],
   "execution_count": 442
  },
  {
   "cell_type": "code",
   "id": "4386acb5",
   "metadata": {
    "ExecuteTime": {
     "end_time": "2024-11-29T21:26:21.331343Z",
     "start_time": "2024-11-29T21:26:21.311412Z"
    }
   },
   "source": [
    "df = df.drop(['price_type'], axis=1)"
   ],
   "outputs": [],
   "execution_count": 443
  },
  {
   "cell_type": "code",
   "id": "6c6df723",
   "metadata": {
    "ExecuteTime": {
     "end_time": "2024-11-29T21:26:21.362431Z",
     "start_time": "2024-11-29T21:26:21.349380Z"
    }
   },
   "source": [
    "df['bathrooms'].unique()"
   ],
   "outputs": [
    {
     "data": {
      "text/plain": [
       "array(['1', '1.5', '2', '2.5', '3', '3.5', '4', '7', '4.5', '5', '8',\n",
       "       '8.5', '6', '5.5', '9', '7.5'], dtype=object)"
      ]
     },
     "execution_count": 444,
     "metadata": {},
     "output_type": "execute_result"
    }
   ],
   "execution_count": 444
  },
  {
   "cell_type": "code",
   "id": "8ee43bc8",
   "metadata": {
    "ExecuteTime": {
     "end_time": "2024-11-29T21:26:21.393296Z",
     "start_time": "2024-11-29T21:26:21.375262Z"
    }
   },
   "source": [
    "df['bedrooms'].unique()"
   ],
   "outputs": [
    {
     "data": {
      "text/plain": [
       "array(['1', '3', '2', '4', '0', '5', '7', '8', '6', '9'], dtype=object)"
      ]
     },
     "execution_count": 445,
     "metadata": {},
     "output_type": "execute_result"
    }
   ],
   "execution_count": 445
  },
  {
   "cell_type": "code",
   "id": "95c1269d",
   "metadata": {
    "ExecuteTime": {
     "end_time": "2024-11-29T21:26:21.424349Z",
     "start_time": "2024-11-29T21:26:21.404311Z"
    }
   },
   "source": [
    "df.info()"
   ],
   "outputs": [
    {
     "name": "stdout",
     "output_type": "stream",
     "text": [
      "<class 'pandas.core.frame.DataFrame'>\n",
      "Index: 99188 entries, 0 to 99825\n",
      "Data columns (total 6 columns):\n",
      " #   Column        Non-Null Count  Dtype  \n",
      "---  ------        --------------  -----  \n",
      " 0   bathrooms     99188 non-null  object \n",
      " 1   bedrooms      99188 non-null  object \n",
      " 2   pets_allowed  99188 non-null  object \n",
      " 3   price         99188 non-null  float64\n",
      " 4   square_feet   99188 non-null  object \n",
      " 5   cityname      99188 non-null  object \n",
      "dtypes: float64(1), object(5)\n",
      "memory usage: 5.3+ MB\n"
     ]
    }
   ],
   "execution_count": 446
  },
  {
   "cell_type": "code",
   "id": "13d3d84e",
   "metadata": {
    "ExecuteTime": {
     "end_time": "2024-11-29T21:26:21.470843Z",
     "start_time": "2024-11-29T21:26:21.435416Z"
    }
   },
   "source": [
    "df['bathrooms'] = df['bathrooms'].astype(float)\n",
    "df['bedrooms'] = df['bedrooms'].astype(float)\n",
    "df['square_feet'] = df['square_feet'].astype(float)"
   ],
   "outputs": [],
   "execution_count": 447
  },
  {
   "cell_type": "code",
   "id": "80d5b98c",
   "metadata": {
    "ExecuteTime": {
     "end_time": "2024-11-29T21:26:21.502417Z",
     "start_time": "2024-11-29T21:26:21.475857Z"
    }
   },
   "source": [
    "df.info()"
   ],
   "outputs": [
    {
     "name": "stdout",
     "output_type": "stream",
     "text": [
      "<class 'pandas.core.frame.DataFrame'>\n",
      "Index: 99188 entries, 0 to 99825\n",
      "Data columns (total 6 columns):\n",
      " #   Column        Non-Null Count  Dtype  \n",
      "---  ------        --------------  -----  \n",
      " 0   bathrooms     99188 non-null  float64\n",
      " 1   bedrooms      99188 non-null  float64\n",
      " 2   pets_allowed  99188 non-null  object \n",
      " 3   price         99188 non-null  float64\n",
      " 4   square_feet   99188 non-null  float64\n",
      " 5   cityname      99188 non-null  object \n",
      "dtypes: float64(4), object(2)\n",
      "memory usage: 5.3+ MB\n"
     ]
    }
   ],
   "execution_count": 448
  },
  {
   "cell_type": "code",
   "id": "422118d3",
   "metadata": {
    "ExecuteTime": {
     "end_time": "2024-11-29T21:26:21.517955Z",
     "start_time": "2024-11-29T21:26:21.507925Z"
    }
   },
   "source": [
    "df['bathrooms'].unique()"
   ],
   "outputs": [
    {
     "data": {
      "text/plain": [
       "array([1. , 1.5, 2. , 2.5, 3. , 3.5, 4. , 7. , 4.5, 5. , 8. , 8.5, 6. ,\n",
       "       5.5, 9. , 7.5])"
      ]
     },
     "execution_count": 449,
     "metadata": {},
     "output_type": "execute_result"
    }
   ],
   "execution_count": 449
  },
  {
   "cell_type": "code",
   "id": "e4c2af17",
   "metadata": {
    "ExecuteTime": {
     "end_time": "2024-11-29T21:26:21.533491Z",
     "start_time": "2024-11-29T21:26:21.526473Z"
    }
   },
   "source": [
    "df['bedrooms'].unique()"
   ],
   "outputs": [
    {
     "data": {
      "text/plain": [
       "array([1., 3., 2., 4., 0., 5., 7., 8., 6., 9.])"
      ]
     },
     "execution_count": 450,
     "metadata": {},
     "output_type": "execute_result"
    }
   ],
   "execution_count": 450
  },
  {
   "cell_type": "code",
   "id": "4a61e1fa",
   "metadata": {
    "ExecuteTime": {
     "end_time": "2024-11-29T21:26:21.564549Z",
     "start_time": "2024-11-29T21:26:21.551521Z"
    }
   },
   "source": [
    "df.head()"
   ],
   "outputs": [
    {
     "data": {
      "text/plain": [
       "   bathrooms  bedrooms pets_allowed   price  square_feet       cityname\n",
       "0        1.0       1.0           Si  2195.0        542.0  Redondo Beach\n",
       "1        1.5       3.0           Si  1250.0       1500.0   Newport News\n",
       "2        2.0       3.0           No  1395.0       1650.0        Raleigh\n",
       "3        1.0       2.0           Si  1600.0        820.0      Vacaville\n",
       "4        1.0       1.0           Si   975.0        624.0    Albuquerque"
      ],
      "text/html": [
       "<div>\n",
       "<style scoped>\n",
       "    .dataframe tbody tr th:only-of-type {\n",
       "        vertical-align: middle;\n",
       "    }\n",
       "\n",
       "    .dataframe tbody tr th {\n",
       "        vertical-align: top;\n",
       "    }\n",
       "\n",
       "    .dataframe thead th {\n",
       "        text-align: right;\n",
       "    }\n",
       "</style>\n",
       "<table border=\"1\" class=\"dataframe\">\n",
       "  <thead>\n",
       "    <tr style=\"text-align: right;\">\n",
       "      <th></th>\n",
       "      <th>bathrooms</th>\n",
       "      <th>bedrooms</th>\n",
       "      <th>pets_allowed</th>\n",
       "      <th>price</th>\n",
       "      <th>square_feet</th>\n",
       "      <th>cityname</th>\n",
       "    </tr>\n",
       "  </thead>\n",
       "  <tbody>\n",
       "    <tr>\n",
       "      <th>0</th>\n",
       "      <td>1.0</td>\n",
       "      <td>1.0</td>\n",
       "      <td>Si</td>\n",
       "      <td>2195.0</td>\n",
       "      <td>542.0</td>\n",
       "      <td>Redondo Beach</td>\n",
       "    </tr>\n",
       "    <tr>\n",
       "      <th>1</th>\n",
       "      <td>1.5</td>\n",
       "      <td>3.0</td>\n",
       "      <td>Si</td>\n",
       "      <td>1250.0</td>\n",
       "      <td>1500.0</td>\n",
       "      <td>Newport News</td>\n",
       "    </tr>\n",
       "    <tr>\n",
       "      <th>2</th>\n",
       "      <td>2.0</td>\n",
       "      <td>3.0</td>\n",
       "      <td>No</td>\n",
       "      <td>1395.0</td>\n",
       "      <td>1650.0</td>\n",
       "      <td>Raleigh</td>\n",
       "    </tr>\n",
       "    <tr>\n",
       "      <th>3</th>\n",
       "      <td>1.0</td>\n",
       "      <td>2.0</td>\n",
       "      <td>Si</td>\n",
       "      <td>1600.0</td>\n",
       "      <td>820.0</td>\n",
       "      <td>Vacaville</td>\n",
       "    </tr>\n",
       "    <tr>\n",
       "      <th>4</th>\n",
       "      <td>1.0</td>\n",
       "      <td>1.0</td>\n",
       "      <td>Si</td>\n",
       "      <td>975.0</td>\n",
       "      <td>624.0</td>\n",
       "      <td>Albuquerque</td>\n",
       "    </tr>\n",
       "  </tbody>\n",
       "</table>\n",
       "</div>"
      ]
     },
     "execution_count": 451,
     "metadata": {},
     "output_type": "execute_result"
    }
   ],
   "execution_count": 451
  },
  {
   "cell_type": "code",
   "id": "60ce3380",
   "metadata": {
    "ExecuteTime": {
     "end_time": "2024-11-29T21:26:21.611099Z",
     "start_time": "2024-11-29T21:26:21.599995Z"
    }
   },
   "source": [
    "df_cuanti = df.drop(['cityname', 'pets_allowed'],axis=1)\n",
    "df_categ = df[['pets_allowed', 'cityname']]"
   ],
   "outputs": [],
   "execution_count": 452
  },
  {
   "cell_type": "code",
   "id": "478b4ec2",
   "metadata": {
    "ExecuteTime": {
     "end_time": "2024-11-29T21:26:21.689187Z",
     "start_time": "2024-11-29T21:26:21.671668Z"
    }
   },
   "source": [
    "df_cuanti.corr()"
   ],
   "outputs": [
    {
     "data": {
      "text/plain": [
       "             bathrooms  bedrooms     price  square_feet\n",
       "bathrooms     1.000000  0.679971  0.330594     0.716414\n",
       "bedrooms      0.679971  1.000000  0.237600     0.701188\n",
       "price         0.330594  0.237600  1.000000     0.413263\n",
       "square_feet   0.716414  0.701188  0.413263     1.000000"
      ],
      "text/html": [
       "<div>\n",
       "<style scoped>\n",
       "    .dataframe tbody tr th:only-of-type {\n",
       "        vertical-align: middle;\n",
       "    }\n",
       "\n",
       "    .dataframe tbody tr th {\n",
       "        vertical-align: top;\n",
       "    }\n",
       "\n",
       "    .dataframe thead th {\n",
       "        text-align: right;\n",
       "    }\n",
       "</style>\n",
       "<table border=\"1\" class=\"dataframe\">\n",
       "  <thead>\n",
       "    <tr style=\"text-align: right;\">\n",
       "      <th></th>\n",
       "      <th>bathrooms</th>\n",
       "      <th>bedrooms</th>\n",
       "      <th>price</th>\n",
       "      <th>square_feet</th>\n",
       "    </tr>\n",
       "  </thead>\n",
       "  <tbody>\n",
       "    <tr>\n",
       "      <th>bathrooms</th>\n",
       "      <td>1.000000</td>\n",
       "      <td>0.679971</td>\n",
       "      <td>0.330594</td>\n",
       "      <td>0.716414</td>\n",
       "    </tr>\n",
       "    <tr>\n",
       "      <th>bedrooms</th>\n",
       "      <td>0.679971</td>\n",
       "      <td>1.000000</td>\n",
       "      <td>0.237600</td>\n",
       "      <td>0.701188</td>\n",
       "    </tr>\n",
       "    <tr>\n",
       "      <th>price</th>\n",
       "      <td>0.330594</td>\n",
       "      <td>0.237600</td>\n",
       "      <td>1.000000</td>\n",
       "      <td>0.413263</td>\n",
       "    </tr>\n",
       "    <tr>\n",
       "      <th>square_feet</th>\n",
       "      <td>0.716414</td>\n",
       "      <td>0.701188</td>\n",
       "      <td>0.413263</td>\n",
       "      <td>1.000000</td>\n",
       "    </tr>\n",
       "  </tbody>\n",
       "</table>\n",
       "</div>"
      ]
     },
     "execution_count": 453,
     "metadata": {},
     "output_type": "execute_result"
    }
   ],
   "execution_count": 453
  },
  {
   "metadata": {
    "ExecuteTime": {
     "end_time": "2024-11-29T21:26:21.720102Z",
     "start_time": "2024-11-29T21:26:21.708096Z"
    }
   },
   "cell_type": "code",
   "source": "",
   "id": "f369c03948fc62d1",
   "outputs": [],
   "execution_count": null
  },
  {
   "cell_type": "code",
   "id": "cc01f23c",
   "metadata": {
    "ExecuteTime": {
     "end_time": "2024-11-29T21:26:21.813729Z",
     "start_time": "2024-11-29T21:26:21.786684Z"
    }
   },
   "source": [
    "stand_fn = preprocessing.StandardScaler() #Tambien se puede usar el minmaxscaler\n",
    "scaled_df = pd.DataFrame(stand_fn.fit_transform(df_cuanti), columns = df_cuanti.columns)\n",
    "scaled_df"
   ],
   "outputs": [
    {
     "data": {
      "text/plain": [
       "       bathrooms  bedrooms     price  square_feet\n",
       "0      -0.815010 -0.973238  0.745063    -1.133772\n",
       "1       0.099057  1.699008 -0.306837     1.489969\n",
       "2       1.013125  1.699008 -0.145435     1.900785\n",
       "3      -0.815010  0.362885  0.082755    -0.372394\n",
       "4      -0.815010 -0.973238 -0.612946    -0.909193\n",
       "...          ...       ...       ...          ...\n",
       "99183  -0.815010 -0.973238 -0.830005    -0.961230\n",
       "99184   1.013125  0.362885 -0.793272    -0.095778\n",
       "99185  -0.815010 -0.973238 -0.223353    -0.837985\n",
       "99186  -0.815010 -0.973238 -0.661923    -0.698308\n",
       "99187   0.099057  0.362885  0.077190    -0.153292\n",
       "\n",
       "[99188 rows x 4 columns]"
      ],
      "text/html": [
       "<div>\n",
       "<style scoped>\n",
       "    .dataframe tbody tr th:only-of-type {\n",
       "        vertical-align: middle;\n",
       "    }\n",
       "\n",
       "    .dataframe tbody tr th {\n",
       "        vertical-align: top;\n",
       "    }\n",
       "\n",
       "    .dataframe thead th {\n",
       "        text-align: right;\n",
       "    }\n",
       "</style>\n",
       "<table border=\"1\" class=\"dataframe\">\n",
       "  <thead>\n",
       "    <tr style=\"text-align: right;\">\n",
       "      <th></th>\n",
       "      <th>bathrooms</th>\n",
       "      <th>bedrooms</th>\n",
       "      <th>price</th>\n",
       "      <th>square_feet</th>\n",
       "    </tr>\n",
       "  </thead>\n",
       "  <tbody>\n",
       "    <tr>\n",
       "      <th>0</th>\n",
       "      <td>-0.815010</td>\n",
       "      <td>-0.973238</td>\n",
       "      <td>0.745063</td>\n",
       "      <td>-1.133772</td>\n",
       "    </tr>\n",
       "    <tr>\n",
       "      <th>1</th>\n",
       "      <td>0.099057</td>\n",
       "      <td>1.699008</td>\n",
       "      <td>-0.306837</td>\n",
       "      <td>1.489969</td>\n",
       "    </tr>\n",
       "    <tr>\n",
       "      <th>2</th>\n",
       "      <td>1.013125</td>\n",
       "      <td>1.699008</td>\n",
       "      <td>-0.145435</td>\n",
       "      <td>1.900785</td>\n",
       "    </tr>\n",
       "    <tr>\n",
       "      <th>3</th>\n",
       "      <td>-0.815010</td>\n",
       "      <td>0.362885</td>\n",
       "      <td>0.082755</td>\n",
       "      <td>-0.372394</td>\n",
       "    </tr>\n",
       "    <tr>\n",
       "      <th>4</th>\n",
       "      <td>-0.815010</td>\n",
       "      <td>-0.973238</td>\n",
       "      <td>-0.612946</td>\n",
       "      <td>-0.909193</td>\n",
       "    </tr>\n",
       "    <tr>\n",
       "      <th>...</th>\n",
       "      <td>...</td>\n",
       "      <td>...</td>\n",
       "      <td>...</td>\n",
       "      <td>...</td>\n",
       "    </tr>\n",
       "    <tr>\n",
       "      <th>99183</th>\n",
       "      <td>-0.815010</td>\n",
       "      <td>-0.973238</td>\n",
       "      <td>-0.830005</td>\n",
       "      <td>-0.961230</td>\n",
       "    </tr>\n",
       "    <tr>\n",
       "      <th>99184</th>\n",
       "      <td>1.013125</td>\n",
       "      <td>0.362885</td>\n",
       "      <td>-0.793272</td>\n",
       "      <td>-0.095778</td>\n",
       "    </tr>\n",
       "    <tr>\n",
       "      <th>99185</th>\n",
       "      <td>-0.815010</td>\n",
       "      <td>-0.973238</td>\n",
       "      <td>-0.223353</td>\n",
       "      <td>-0.837985</td>\n",
       "    </tr>\n",
       "    <tr>\n",
       "      <th>99186</th>\n",
       "      <td>-0.815010</td>\n",
       "      <td>-0.973238</td>\n",
       "      <td>-0.661923</td>\n",
       "      <td>-0.698308</td>\n",
       "    </tr>\n",
       "    <tr>\n",
       "      <th>99187</th>\n",
       "      <td>0.099057</td>\n",
       "      <td>0.362885</td>\n",
       "      <td>0.077190</td>\n",
       "      <td>-0.153292</td>\n",
       "    </tr>\n",
       "  </tbody>\n",
       "</table>\n",
       "<p>99188 rows × 4 columns</p>\n",
       "</div>"
      ]
     },
     "execution_count": 454,
     "metadata": {},
     "output_type": "execute_result"
    }
   ],
   "execution_count": 454
  },
  {
   "metadata": {
    "ExecuteTime": {
     "end_time": "2024-11-29T21:26:21.844778Z",
     "start_time": "2024-11-29T21:26:21.836769Z"
    }
   },
   "cell_type": "code",
   "source": "df_categ['pets_allowed'].value_counts()",
   "id": "b074ab5255bb85a8",
   "outputs": [
    {
     "data": {
      "text/plain": [
       "pets_allowed\n",
       "No    60214\n",
       "Si    38974\n",
       "Name: count, dtype: int64"
      ]
     },
     "execution_count": 455,
     "metadata": {},
     "output_type": "execute_result"
    }
   ],
   "execution_count": 455
  },
  {
   "cell_type": "code",
   "id": "bd1a83dc",
   "metadata": {
    "ExecuteTime": {
     "end_time": "2024-11-29T21:26:21.922847Z",
     "start_time": "2024-11-29T21:26:21.891325Z"
    }
   },
   "source": [
    "# df_ajustado = pd.concat([scaled_df,df_categ], axis=1)\n",
    "df_ajustado = scaled_df.join(df_categ, on = df_cuanti.index)\n",
    "df_ajustado.shape[0]"
   ],
   "outputs": [
    {
     "data": {
      "text/plain": [
       "99188"
      ]
     },
     "execution_count": 456,
     "metadata": {},
     "output_type": "execute_result"
    }
   ],
   "execution_count": 456
  },
  {
   "metadata": {
    "ExecuteTime": {
     "end_time": "2024-11-29T21:26:22.000466Z",
     "start_time": "2024-11-29T21:26:21.980926Z"
    }
   },
   "cell_type": "code",
   "source": "df_ajustado.isnull().sum()",
   "id": "af11fe654857b1f2",
   "outputs": [
    {
     "data": {
      "text/plain": [
       "key_0           0\n",
       "bathrooms       0\n",
       "bedrooms        0\n",
       "price           0\n",
       "square_feet     0\n",
       "pets_allowed    0\n",
       "cityname        0\n",
       "dtype: int64"
      ]
     },
     "execution_count": 457,
     "metadata": {},
     "output_type": "execute_result"
    }
   ],
   "execution_count": 457
  },
  {
   "cell_type": "code",
   "id": "462b8fa8",
   "metadata": {
    "ExecuteTime": {
     "end_time": "2024-11-29T21:26:22.031515Z",
     "start_time": "2024-11-29T21:26:22.018490Z"
    }
   },
   "source": "df_ajustado[df_ajustado.isnull().any(axis=1)]",
   "outputs": [
    {
     "data": {
      "text/plain": [
       "Empty DataFrame\n",
       "Columns: [key_0, bathrooms, bedrooms, price, square_feet, pets_allowed, cityname]\n",
       "Index: []"
      ],
      "text/html": [
       "<div>\n",
       "<style scoped>\n",
       "    .dataframe tbody tr th:only-of-type {\n",
       "        vertical-align: middle;\n",
       "    }\n",
       "\n",
       "    .dataframe tbody tr th {\n",
       "        vertical-align: top;\n",
       "    }\n",
       "\n",
       "    .dataframe thead th {\n",
       "        text-align: right;\n",
       "    }\n",
       "</style>\n",
       "<table border=\"1\" class=\"dataframe\">\n",
       "  <thead>\n",
       "    <tr style=\"text-align: right;\">\n",
       "      <th></th>\n",
       "      <th>key_0</th>\n",
       "      <th>bathrooms</th>\n",
       "      <th>bedrooms</th>\n",
       "      <th>price</th>\n",
       "      <th>square_feet</th>\n",
       "      <th>pets_allowed</th>\n",
       "      <th>cityname</th>\n",
       "    </tr>\n",
       "  </thead>\n",
       "  <tbody>\n",
       "  </tbody>\n",
       "</table>\n",
       "</div>"
      ]
     },
     "execution_count": 458,
     "metadata": {},
     "output_type": "execute_result"
    }
   ],
   "execution_count": 458
  },
  {
   "cell_type": "code",
   "id": "1c0005aa",
   "metadata": {
    "ExecuteTime": {
     "end_time": "2024-11-29T21:26:22.093637Z",
     "start_time": "2024-11-29T21:26:22.067090Z"
    }
   },
   "source": [
    "filas_con_nulos = df_ajustado[df_ajustado.isnull().any(axis=1)]\n",
    "filas_con_nulos"
   ],
   "outputs": [
    {
     "data": {
      "text/plain": [
       "Empty DataFrame\n",
       "Columns: [key_0, bathrooms, bedrooms, price, square_feet, pets_allowed, cityname]\n",
       "Index: []"
      ],
      "text/html": [
       "<div>\n",
       "<style scoped>\n",
       "    .dataframe tbody tr th:only-of-type {\n",
       "        vertical-align: middle;\n",
       "    }\n",
       "\n",
       "    .dataframe tbody tr th {\n",
       "        vertical-align: top;\n",
       "    }\n",
       "\n",
       "    .dataframe thead th {\n",
       "        text-align: right;\n",
       "    }\n",
       "</style>\n",
       "<table border=\"1\" class=\"dataframe\">\n",
       "  <thead>\n",
       "    <tr style=\"text-align: right;\">\n",
       "      <th></th>\n",
       "      <th>key_0</th>\n",
       "      <th>bathrooms</th>\n",
       "      <th>bedrooms</th>\n",
       "      <th>price</th>\n",
       "      <th>square_feet</th>\n",
       "      <th>pets_allowed</th>\n",
       "      <th>cityname</th>\n",
       "    </tr>\n",
       "  </thead>\n",
       "  <tbody>\n",
       "  </tbody>\n",
       "</table>\n",
       "</div>"
      ]
     },
     "execution_count": 459,
     "metadata": {},
     "output_type": "execute_result"
    }
   ],
   "execution_count": 459
  },
  {
   "cell_type": "code",
   "id": "a18f6112",
   "metadata": {
    "ExecuteTime": {
     "end_time": "2024-11-29T21:26:22.186727Z",
     "start_time": "2024-11-29T21:26:22.164172Z"
    }
   },
   "source": [
    "df_ajustado_2 = scaled_df.join(df_categ)\n",
    "df_ajustado_2.head()"
   ],
   "outputs": [
    {
     "data": {
      "text/plain": [
       "   bathrooms  bedrooms     price  square_feet pets_allowed       cityname\n",
       "0  -0.815010 -0.973238  0.745063    -1.133772           Si  Redondo Beach\n",
       "1   0.099057  1.699008 -0.306837     1.489969           Si   Newport News\n",
       "2   1.013125  1.699008 -0.145435     1.900785           No        Raleigh\n",
       "3  -0.815010  0.362885  0.082755    -0.372394           Si      Vacaville\n",
       "4  -0.815010 -0.973238 -0.612946    -0.909193           Si    Albuquerque"
      ],
      "text/html": [
       "<div>\n",
       "<style scoped>\n",
       "    .dataframe tbody tr th:only-of-type {\n",
       "        vertical-align: middle;\n",
       "    }\n",
       "\n",
       "    .dataframe tbody tr th {\n",
       "        vertical-align: top;\n",
       "    }\n",
       "\n",
       "    .dataframe thead th {\n",
       "        text-align: right;\n",
       "    }\n",
       "</style>\n",
       "<table border=\"1\" class=\"dataframe\">\n",
       "  <thead>\n",
       "    <tr style=\"text-align: right;\">\n",
       "      <th></th>\n",
       "      <th>bathrooms</th>\n",
       "      <th>bedrooms</th>\n",
       "      <th>price</th>\n",
       "      <th>square_feet</th>\n",
       "      <th>pets_allowed</th>\n",
       "      <th>cityname</th>\n",
       "    </tr>\n",
       "  </thead>\n",
       "  <tbody>\n",
       "    <tr>\n",
       "      <th>0</th>\n",
       "      <td>-0.815010</td>\n",
       "      <td>-0.973238</td>\n",
       "      <td>0.745063</td>\n",
       "      <td>-1.133772</td>\n",
       "      <td>Si</td>\n",
       "      <td>Redondo Beach</td>\n",
       "    </tr>\n",
       "    <tr>\n",
       "      <th>1</th>\n",
       "      <td>0.099057</td>\n",
       "      <td>1.699008</td>\n",
       "      <td>-0.306837</td>\n",
       "      <td>1.489969</td>\n",
       "      <td>Si</td>\n",
       "      <td>Newport News</td>\n",
       "    </tr>\n",
       "    <tr>\n",
       "      <th>2</th>\n",
       "      <td>1.013125</td>\n",
       "      <td>1.699008</td>\n",
       "      <td>-0.145435</td>\n",
       "      <td>1.900785</td>\n",
       "      <td>No</td>\n",
       "      <td>Raleigh</td>\n",
       "    </tr>\n",
       "    <tr>\n",
       "      <th>3</th>\n",
       "      <td>-0.815010</td>\n",
       "      <td>0.362885</td>\n",
       "      <td>0.082755</td>\n",
       "      <td>-0.372394</td>\n",
       "      <td>Si</td>\n",
       "      <td>Vacaville</td>\n",
       "    </tr>\n",
       "    <tr>\n",
       "      <th>4</th>\n",
       "      <td>-0.815010</td>\n",
       "      <td>-0.973238</td>\n",
       "      <td>-0.612946</td>\n",
       "      <td>-0.909193</td>\n",
       "      <td>Si</td>\n",
       "      <td>Albuquerque</td>\n",
       "    </tr>\n",
       "  </tbody>\n",
       "</table>\n",
       "</div>"
      ]
     },
     "execution_count": 460,
     "metadata": {},
     "output_type": "execute_result"
    }
   ],
   "execution_count": 460
  },
  {
   "cell_type": "code",
   "id": "2743c70d",
   "metadata": {
    "ExecuteTime": {
     "end_time": "2024-11-29T21:26:22.280348Z",
     "start_time": "2024-11-29T21:26:22.257823Z"
    }
   },
   "source": [
    "df_ajustado_2.isnull().sum()"
   ],
   "outputs": [
    {
     "data": {
      "text/plain": [
       "bathrooms         0\n",
       "bedrooms          0\n",
       "price             0\n",
       "square_feet       0\n",
       "pets_allowed    637\n",
       "cityname        637\n",
       "dtype: int64"
      ]
     },
     "execution_count": 461,
     "metadata": {},
     "output_type": "execute_result"
    }
   ],
   "execution_count": 461
  },
  {
   "cell_type": "code",
   "id": "e38ce79d",
   "metadata": {
    "ExecuteTime": {
     "end_time": "2024-11-29T21:26:22.373936Z",
     "start_time": "2024-11-29T21:26:22.360392Z"
    }
   },
   "source": [
    "filas_con_nulos_2 = df_ajustado_2[df_ajustado_2.isnull().any(axis=1)]\n",
    "filas_con_nulos_2"
   ],
   "outputs": [
    {
     "data": {
      "text/plain": [
       "       bathrooms  bedrooms     price  square_feet pets_allowed cityname\n",
       "790     2.841261  1.699008  8.876416     3.763148          NaN      NaN\n",
       "930    -0.815010 -0.973238 -0.813308    -0.701046          NaN      NaN\n",
       "1109    1.013125  0.362885  1.808094     0.942215          NaN      NaN\n",
       "1364   -0.815010 -0.973238 -0.279009    -0.216284          NaN      NaN\n",
       "1613   -0.815010 -0.973238 -0.306837    -0.323096          NaN      NaN\n",
       "...          ...       ...       ...          ...          ...      ...\n",
       "93681   1.013125  0.362885 -0.368059     0.514967          NaN      NaN\n",
       "97166   1.013125  0.362885 -0.562855    -0.125905          NaN      NaN\n",
       "97185   1.013125  1.699008  0.861940     0.668338          NaN      NaN\n",
       "98277  -0.815010 -0.973238 -1.121642    -0.805120          NaN      NaN\n",
       "99037  -0.815010 -0.973238 -0.752086    -1.226890          NaN      NaN\n",
       "\n",
       "[637 rows x 6 columns]"
      ],
      "text/html": [
       "<div>\n",
       "<style scoped>\n",
       "    .dataframe tbody tr th:only-of-type {\n",
       "        vertical-align: middle;\n",
       "    }\n",
       "\n",
       "    .dataframe tbody tr th {\n",
       "        vertical-align: top;\n",
       "    }\n",
       "\n",
       "    .dataframe thead th {\n",
       "        text-align: right;\n",
       "    }\n",
       "</style>\n",
       "<table border=\"1\" class=\"dataframe\">\n",
       "  <thead>\n",
       "    <tr style=\"text-align: right;\">\n",
       "      <th></th>\n",
       "      <th>bathrooms</th>\n",
       "      <th>bedrooms</th>\n",
       "      <th>price</th>\n",
       "      <th>square_feet</th>\n",
       "      <th>pets_allowed</th>\n",
       "      <th>cityname</th>\n",
       "    </tr>\n",
       "  </thead>\n",
       "  <tbody>\n",
       "    <tr>\n",
       "      <th>790</th>\n",
       "      <td>2.841261</td>\n",
       "      <td>1.699008</td>\n",
       "      <td>8.876416</td>\n",
       "      <td>3.763148</td>\n",
       "      <td>NaN</td>\n",
       "      <td>NaN</td>\n",
       "    </tr>\n",
       "    <tr>\n",
       "      <th>930</th>\n",
       "      <td>-0.815010</td>\n",
       "      <td>-0.973238</td>\n",
       "      <td>-0.813308</td>\n",
       "      <td>-0.701046</td>\n",
       "      <td>NaN</td>\n",
       "      <td>NaN</td>\n",
       "    </tr>\n",
       "    <tr>\n",
       "      <th>1109</th>\n",
       "      <td>1.013125</td>\n",
       "      <td>0.362885</td>\n",
       "      <td>1.808094</td>\n",
       "      <td>0.942215</td>\n",
       "      <td>NaN</td>\n",
       "      <td>NaN</td>\n",
       "    </tr>\n",
       "    <tr>\n",
       "      <th>1364</th>\n",
       "      <td>-0.815010</td>\n",
       "      <td>-0.973238</td>\n",
       "      <td>-0.279009</td>\n",
       "      <td>-0.216284</td>\n",
       "      <td>NaN</td>\n",
       "      <td>NaN</td>\n",
       "    </tr>\n",
       "    <tr>\n",
       "      <th>1613</th>\n",
       "      <td>-0.815010</td>\n",
       "      <td>-0.973238</td>\n",
       "      <td>-0.306837</td>\n",
       "      <td>-0.323096</td>\n",
       "      <td>NaN</td>\n",
       "      <td>NaN</td>\n",
       "    </tr>\n",
       "    <tr>\n",
       "      <th>...</th>\n",
       "      <td>...</td>\n",
       "      <td>...</td>\n",
       "      <td>...</td>\n",
       "      <td>...</td>\n",
       "      <td>...</td>\n",
       "      <td>...</td>\n",
       "    </tr>\n",
       "    <tr>\n",
       "      <th>93681</th>\n",
       "      <td>1.013125</td>\n",
       "      <td>0.362885</td>\n",
       "      <td>-0.368059</td>\n",
       "      <td>0.514967</td>\n",
       "      <td>NaN</td>\n",
       "      <td>NaN</td>\n",
       "    </tr>\n",
       "    <tr>\n",
       "      <th>97166</th>\n",
       "      <td>1.013125</td>\n",
       "      <td>0.362885</td>\n",
       "      <td>-0.562855</td>\n",
       "      <td>-0.125905</td>\n",
       "      <td>NaN</td>\n",
       "      <td>NaN</td>\n",
       "    </tr>\n",
       "    <tr>\n",
       "      <th>97185</th>\n",
       "      <td>1.013125</td>\n",
       "      <td>1.699008</td>\n",
       "      <td>0.861940</td>\n",
       "      <td>0.668338</td>\n",
       "      <td>NaN</td>\n",
       "      <td>NaN</td>\n",
       "    </tr>\n",
       "    <tr>\n",
       "      <th>98277</th>\n",
       "      <td>-0.815010</td>\n",
       "      <td>-0.973238</td>\n",
       "      <td>-1.121642</td>\n",
       "      <td>-0.805120</td>\n",
       "      <td>NaN</td>\n",
       "      <td>NaN</td>\n",
       "    </tr>\n",
       "    <tr>\n",
       "      <th>99037</th>\n",
       "      <td>-0.815010</td>\n",
       "      <td>-0.973238</td>\n",
       "      <td>-0.752086</td>\n",
       "      <td>-1.226890</td>\n",
       "      <td>NaN</td>\n",
       "      <td>NaN</td>\n",
       "    </tr>\n",
       "  </tbody>\n",
       "</table>\n",
       "<p>637 rows × 6 columns</p>\n",
       "</div>"
      ]
     },
     "execution_count": 462,
     "metadata": {},
     "output_type": "execute_result"
    }
   ],
   "execution_count": 462
  },
  {
   "cell_type": "code",
   "id": "3518cc43",
   "metadata": {
    "ExecuteTime": {
     "end_time": "2024-11-29T21:26:22.466680Z",
     "start_time": "2024-11-29T21:26:22.445142Z"
    }
   },
   "source": [
    "#Es sólo para seguir avanzando\n",
    "df_ajustado = df_ajustado.dropna()\n",
    "df_ajustado.isnull().sum()"
   ],
   "outputs": [
    {
     "data": {
      "text/plain": [
       "key_0           0\n",
       "bathrooms       0\n",
       "bedrooms        0\n",
       "price           0\n",
       "square_feet     0\n",
       "pets_allowed    0\n",
       "cityname        0\n",
       "dtype: int64"
      ]
     },
     "execution_count": 463,
     "metadata": {},
     "output_type": "execute_result"
    }
   ],
   "execution_count": 463
  },
  {
   "metadata": {
    "ExecuteTime": {
     "end_time": "2024-11-29T21:26:22.591436Z",
     "start_time": "2024-11-29T21:26:22.550823Z"
    }
   },
   "cell_type": "code",
   "source": [
    "# Apply OneHotEncoder and convert the result to a DataFrame\n",
    "encoder = preprocessing.OneHotEncoder(drop='first')\n",
    "encoded_data = encoder.fit_transform(df_ajustado[['pets_allowed']]).toarray()\n",
    "\n",
    "# Create a DataFrame with appropriate column names\n",
    "encoded_df = pd.DataFrame(encoded_data, columns=encoder.get_feature_names_out(['pets_allowed']))\n",
    "\n",
    "encoded_df = encoded_df.join(df_ajustado.drop(['pets_allowed'], axis=1))\n",
    "encoded_df.head()"
   ],
   "id": "4974dd7d6edc79c3",
   "outputs": [
    {
     "data": {
      "text/plain": [
       "   pets_allowed_Si  key_0  bathrooms  bedrooms     price  square_feet  \\\n",
       "0              1.0      0  -0.815010 -0.973238  0.745063    -1.133772   \n",
       "1              1.0      1   0.099057  1.699008 -0.306837     1.489969   \n",
       "2              0.0      2   1.013125  1.699008 -0.145435     1.900785   \n",
       "3              1.0      3  -0.815010  0.362885  0.082755    -0.372394   \n",
       "4              1.0      4  -0.815010 -0.973238 -0.612946    -0.909193   \n",
       "\n",
       "        cityname  \n",
       "0  Redondo Beach  \n",
       "1   Newport News  \n",
       "2        Raleigh  \n",
       "3      Vacaville  \n",
       "4    Albuquerque  "
      ],
      "text/html": [
       "<div>\n",
       "<style scoped>\n",
       "    .dataframe tbody tr th:only-of-type {\n",
       "        vertical-align: middle;\n",
       "    }\n",
       "\n",
       "    .dataframe tbody tr th {\n",
       "        vertical-align: top;\n",
       "    }\n",
       "\n",
       "    .dataframe thead th {\n",
       "        text-align: right;\n",
       "    }\n",
       "</style>\n",
       "<table border=\"1\" class=\"dataframe\">\n",
       "  <thead>\n",
       "    <tr style=\"text-align: right;\">\n",
       "      <th></th>\n",
       "      <th>pets_allowed_Si</th>\n",
       "      <th>key_0</th>\n",
       "      <th>bathrooms</th>\n",
       "      <th>bedrooms</th>\n",
       "      <th>price</th>\n",
       "      <th>square_feet</th>\n",
       "      <th>cityname</th>\n",
       "    </tr>\n",
       "  </thead>\n",
       "  <tbody>\n",
       "    <tr>\n",
       "      <th>0</th>\n",
       "      <td>1.0</td>\n",
       "      <td>0</td>\n",
       "      <td>-0.815010</td>\n",
       "      <td>-0.973238</td>\n",
       "      <td>0.745063</td>\n",
       "      <td>-1.133772</td>\n",
       "      <td>Redondo Beach</td>\n",
       "    </tr>\n",
       "    <tr>\n",
       "      <th>1</th>\n",
       "      <td>1.0</td>\n",
       "      <td>1</td>\n",
       "      <td>0.099057</td>\n",
       "      <td>1.699008</td>\n",
       "      <td>-0.306837</td>\n",
       "      <td>1.489969</td>\n",
       "      <td>Newport News</td>\n",
       "    </tr>\n",
       "    <tr>\n",
       "      <th>2</th>\n",
       "      <td>0.0</td>\n",
       "      <td>2</td>\n",
       "      <td>1.013125</td>\n",
       "      <td>1.699008</td>\n",
       "      <td>-0.145435</td>\n",
       "      <td>1.900785</td>\n",
       "      <td>Raleigh</td>\n",
       "    </tr>\n",
       "    <tr>\n",
       "      <th>3</th>\n",
       "      <td>1.0</td>\n",
       "      <td>3</td>\n",
       "      <td>-0.815010</td>\n",
       "      <td>0.362885</td>\n",
       "      <td>0.082755</td>\n",
       "      <td>-0.372394</td>\n",
       "      <td>Vacaville</td>\n",
       "    </tr>\n",
       "    <tr>\n",
       "      <th>4</th>\n",
       "      <td>1.0</td>\n",
       "      <td>4</td>\n",
       "      <td>-0.815010</td>\n",
       "      <td>-0.973238</td>\n",
       "      <td>-0.612946</td>\n",
       "      <td>-0.909193</td>\n",
       "      <td>Albuquerque</td>\n",
       "    </tr>\n",
       "  </tbody>\n",
       "</table>\n",
       "</div>"
      ]
     },
     "execution_count": 464,
     "metadata": {},
     "output_type": "execute_result"
    }
   ],
   "execution_count": 464
  },
  {
   "metadata": {
    "ExecuteTime": {
     "end_time": "2024-11-29T21:26:22.638108Z",
     "start_time": "2024-11-29T21:26:22.626576Z"
    }
   },
   "cell_type": "code",
   "source": "encoded_df.drop(['cityname','key_0'], axis=1, inplace=True)",
   "id": "877a6aad43821db",
   "outputs": [],
   "execution_count": 465
  },
  {
   "cell_type": "code",
   "id": "f072041d",
   "metadata": {
    "ExecuteTime": {
     "end_time": "2024-11-29T21:29:53.290983Z",
     "start_time": "2024-11-29T21:26:22.691193Z"
    }
   },
   "source": [
    "distortions = []\n",
    "K = range(1,4)\n",
    "for k in K:\n",
    "    KPrototypesModel = KPrototypes(n_clusters=k, n_jobs=-1)\n",
    "    KPrototypesModel.fit(encoded_df, categorical = [0])\n",
    "    distortions.append(KPrototypesModel.cost_)"
   ],
   "outputs": [],
   "execution_count": 466
  },
  {
   "cell_type": "code",
   "id": "88acbfd0",
   "metadata": {
    "ExecuteTime": {
     "end_time": "2024-11-29T21:29:53.446281Z",
     "start_time": "2024-11-29T21:29:53.305509Z"
    }
   },
   "source": [
    "plt.figure(figsize=(16,8))\n",
    "plt.plot(K, distortions, 'bx-')\n",
    "plt.xlabel('k')\n",
    "plt.ylabel('WSS Error')\n",
    "plt.title('The Elbow Method showing the optimal k')\n",
    "plt.show()"
   ],
   "outputs": [
    {
     "data": {
      "text/plain": [
       "<Figure size 1600x800 with 1 Axes>"
      ],
      "image/png": "[encoded data removed]"
     },
     "metadata": {},
     "output_type": "display_data"
    }
   ],
   "execution_count": 467
  },
  {
   "cell_type": "code",
   "id": "527edd52",
   "metadata": {
    "ExecuteTime": {
     "end_time": "2024-11-29T21:31:17.284478Z",
     "start_time": "2024-11-29T21:30:25.252530Z"
    }
   },
   "source": [
    "kprototype_model = KPrototypes(n_clusters = 2, random_state=2023, n_jobs=-1)\n",
    "kprototype_model.fit(encoded_df, categorical = [0])"
   ],
   "outputs": [
    {
     "data": {
      "text/plain": [
       "KPrototypes(gamma=np.float64(0.5), n_clusters=2, n_jobs=-1, random_state=2023)"
      ],
      "text/html": [
       "<style>#sk-container-id-1 {\n",
       "  /* Definition of color scheme common for light and dark mode */\n",
       "  --sklearn-color-text: black;\n",
       "  --sklearn-color-line: gray;\n",
       "  /* Definition of color scheme for unfitted estimators */\n",
       "  --sklearn-color-unfitted-level-0: #fff5e6;\n",
       "  --sklearn-color-unfitted-level-1: #f6e4d2;\n",
       "  --sklearn-color-unfitted-level-2: #ffe0b3;\n",
       "  --sklearn-color-unfitted-level-3: chocolate;\n",
       "  /* Definition of color scheme for fitted estimators */\n",
       "  --sklearn-color-fitted-level-0: #f0f8ff;\n",
       "  --sklearn-color-fitted-level-1: #d4ebff;\n",
       "  --sklearn-color-fitted-level-2: #b3dbfd;\n",
       "  --sklearn-color-fitted-level-3: cornflowerblue;\n",
       "\n",
       "  /* Specific color for light theme */\n",
       "  --sklearn-color-text-on-default-background: var(--sg-text-color, var(--theme-code-foreground, var(--jp-content-font-color1, black)));\n",
       "  --sklearn-color-background: var(--sg-background-color, var(--theme-background, var(--jp-layout-color0, white)));\n",
       "  --sklearn-color-border-box: var(--sg-text-color, var(--theme-code-foreground, var(--jp-content-font-color1, black)));\n",
       "  --sklearn-color-icon: #696969;\n",
       "\n",
       "  @media (prefers-color-scheme: dark) {\n",
       "    /* Redefinition of color scheme for dark theme */\n",
       "    --sklearn-color-text-on-default-background: var(--sg-text-color, var(--theme-code-foreground, var(--jp-content-font-color1, white)));\n",
       "    --sklearn-color-background: var(--sg-background-color, var(--theme-background, var(--jp-layout-color0, #111)));\n",
       "    --sklearn-color-border-box: var(--sg-text-color, var(--theme-code-foreground, var(--jp-content-font-color1, white)));\n",
       "    --sklearn-color-icon: #878787;\n",
       "  }\n",
       "}\n",
       "\n",
       "#sk-container-id-1 {\n",
       "  color: var(--sklearn-color-text);\n",
       "}\n",
       "\n",
       "#sk-container-id-1 pre {\n",
       "  padding: 0;\n",
       "}\n",
       "\n",
       "#sk-container-id-1 input.sk-hidden--visually {\n",
       "  border: 0;\n",
       "  clip: rect(1px 1px 1px 1px);\n",
       "  clip: rect(1px, 1px, 1px, 1px);\n",
       "  height: 1px;\n",
       "  margin: -1px;\n",
       "  overflow: hidden;\n",
       "  padding: 0;\n",
       "  position: absolute;\n",
       "  width: 1px;\n",
       "}\n",
       "\n",
       "#sk-container-id-1 div.sk-dashed-wrapped {\n",
       "  border: 1px dashed var(--sklearn-color-line);\n",
       "  margin: 0 0.4em 0.5em 0.4em;\n",
       "  box-sizing: border-box;\n",
       "  padding-bottom: 0.4em;\n",
       "  background-color: var(--sklearn-color-background);\n",
       "}\n",
       "\n",
       "#sk-container-id-1 div.sk-container {\n",
       "  /* jupyter's `normalize.less` sets `[hidden] { display: none; }`\n",
       "     but bootstrap.min.css set `[hidden] { display: none !important; }`\n",
       "     so we also need the `!important` here to be able to override the\n",
       "     default hidden behavior on the sphinx rendered scikit-learn.org.\n",
       "     See: https://github.com/scikit-learn/scikit-learn/issues/21755 */\n",
       "  display: inline-block !important;\n",
       "  position: relative;\n",
       "}\n",
       "\n",
       "#sk-container-id-1 div.sk-text-repr-fallback {\n",
       "  display: none;\n",
       "}\n",
       "\n",
       "div.sk-parallel-item,\n",
       "div.sk-serial,\n",
       "div.sk-item {\n",
       "  /* draw centered vertical line to link estimators */\n",
       "  background-image: linear-gradient(var(--sklearn-color-text-on-default-background), var(--sklearn-color-text-on-default-background));\n",
       "  background-size: 2px 100%;\n",
       "  background-repeat: no-repeat;\n",
       "  background-position: center center;\n",
       "}\n",
       "\n",
       "/* Parallel-specific style estimator block */\n",
       "\n",
       "#sk-container-id-1 div.sk-parallel-item::after {\n",
       "  content: \"\";\n",
       "  width: 100%;\n",
       "  border-bottom: 2px solid var(--sklearn-color-text-on-default-background);\n",
       "  flex-grow: 1;\n",
       "}\n",
       "\n",
       "#sk-container-id-1 div.sk-parallel {\n",
       "  display: flex;\n",
       "  align-items: stretch;\n",
       "  justify-content: center;\n",
       "  background-color: var(--sklearn-color-background);\n",
       "  position: relative;\n",
       "}\n",
       "\n",
       "#sk-container-id-1 div.sk-parallel-item {\n",
       "  display: flex;\n",
       "  flex-direction: column;\n",
       "}\n",
       "\n",
       "#sk-container-id-1 div.sk-parallel-item:first-child::after {\n",
       "  align-self: flex-end;\n",
       "  width: 50%;\n",
       "}\n",
       "\n",
       "#sk-container-id-1 div.sk-parallel-item:last-child::after {\n",
       "  align-self: flex-start;\n",
       "  width: 50%;\n",
       "}\n",
       "\n",
       "#sk-container-id-1 div.sk-parallel-item:only-child::after {\n",
       "  width: 0;\n",
       "}\n",
       "\n",
       "/* Serial-specific style estimator block */\n",
       "\n",
       "#sk-container-id-1 div.sk-serial {\n",
       "  display: flex;\n",
       "  flex-direction: column;\n",
       "  align-items: center;\n",
       "  background-color: var(--sklearn-color-background);\n",
       "  padding-right: 1em;\n",
       "  padding-left: 1em;\n",
       "}\n",
       "\n",
       "\n",
       "/* Toggleable style: style used for estimator/Pipeline/ColumnTransformer box that is\n",
       "clickable and can be expanded/collapsed.\n",
       "- Pipeline and ColumnTransformer use this feature and define the default style\n",
       "- Estimators will overwrite some part of the style using the `sk-estimator` class\n",
       "*/\n",
       "\n",
       "/* Pipeline and ColumnTransformer style (default) */\n",
       "\n",
       "#sk-container-id-1 div.sk-toggleable {\n",
       "  /* Default theme specific background. It is overwritten whether we have a\n",
       "  specific estimator or a Pipeline/ColumnTransformer */\n",
       "  background-color: var(--sklearn-color-background);\n",
       "}\n",
       "\n",
       "/* Toggleable label */\n",
       "#sk-container-id-1 label.sk-toggleable__label {\n",
       "  cursor: pointer;\n",
       "  display: block;\n",
       "  width: 100%;\n",
       "  margin-bottom: 0;\n",
       "  padding: 0.5em;\n",
       "  box-sizing: border-box;\n",
       "  text-align: center;\n",
       "}\n",
       "\n",
       "#sk-container-id-1 label.sk-toggleable__label-arrow:before {\n",
       "  /* Arrow on the left of the label */\n",
       "  content: \"▸\";\n",
       "  float: left;\n",
       "  margin-right: 0.25em;\n",
       "  color: var(--sklearn-color-icon);\n",
       "}\n",
       "\n",
       "#sk-container-id-1 label.sk-toggleable__label-arrow:hover:before {\n",
       "  color: var(--sklearn-color-text);\n",
       "}\n",
       "\n",
       "/* Toggleable content - dropdown */\n",
       "\n",
       "#sk-container-id-1 div.sk-toggleable__content {\n",
       "  max-height: 0;\n",
       "  max-width: 0;\n",
       "  overflow: hidden;\n",
       "  text-align: left;\n",
       "  /* unfitted */\n",
       "  background-color: var(--sklearn-color-unfitted-level-0);\n",
       "}\n",
       "\n",
       "#sk-container-id-1 div.sk-toggleable__content.fitted {\n",
       "  /* fitted */\n",
       "  background-color: var(--sklearn-color-fitted-level-0);\n",
       "}\n",
       "\n",
       "#sk-container-id-1 div.sk-toggleable__content pre {\n",
       "  margin: 0.2em;\n",
       "  border-radius: 0.25em;\n",
       "  color: var(--sklearn-color-text);\n",
       "  /* unfitted */\n",
       "  background-color: var(--sklearn-color-unfitted-level-0);\n",
       "}\n",
       "\n",
       "#sk-container-id-1 div.sk-toggleable__content.fitted pre {\n",
       "  /* unfitted */\n",
       "  background-color: var(--sklearn-color-fitted-level-0);\n",
       "}\n",
       "\n",
       "#sk-container-id-1 input.sk-toggleable__control:checked~div.sk-toggleable__content {\n",
       "  /* Expand drop-down */\n",
       "  max-height: 200px;\n",
       "  max-width: 100%;\n",
       "  overflow: auto;\n",
       "}\n",
       "\n",
       "#sk-container-id-1 input.sk-toggleable__control:checked~label.sk-toggleable__label-arrow:before {\n",
       "  content: \"▾\";\n",
       "}\n",
       "\n",
       "/* Pipeline/ColumnTransformer-specific style */\n",
       "\n",
       "#sk-container-id-1 div.sk-label input.sk-toggleable__control:checked~label.sk-toggleable__label {\n",
       "  color: var(--sklearn-color-text);\n",
       "  background-color: var(--sklearn-color-unfitted-level-2);\n",
       "}\n",
       "\n",
       "#sk-container-id-1 div.sk-label.fitted input.sk-toggleable__control:checked~label.sk-toggleable__label {\n",
       "  background-color: var(--sklearn-color-fitted-level-2);\n",
       "}\n",
       "\n",
       "/* Estimator-specific style */\n",
       "\n",
       "/* Colorize estimator box */\n",
       "#sk-container-id-1 div.sk-estimator input.sk-toggleable__control:checked~label.sk-toggleable__label {\n",
       "  /* unfitted */\n",
       "  background-color: var(--sklearn-color-unfitted-level-2);\n",
       "}\n",
       "\n",
       "#sk-container-id-1 div.sk-estimator.fitted input.sk-toggleable__control:checked~label.sk-toggleable__label {\n",
       "  /* fitted */\n",
       "  background-color: var(--sklearn-color-fitted-level-2);\n",
       "}\n",
       "\n",
       "#sk-container-id-1 div.sk-label label.sk-toggleable__label,\n",
       "#sk-container-id-1 div.sk-label label {\n",
       "  /* The background is the default theme color */\n",
       "  color: var(--sklearn-color-text-on-default-background);\n",
       "}\n",
       "\n",
       "/* On hover, darken the color of the background */\n",
       "#sk-container-id-1 div.sk-label:hover label.sk-toggleable__label {\n",
       "  color: var(--sklearn-color-text);\n",
       "  background-color: var(--sklearn-color-unfitted-level-2);\n",
       "}\n",
       "\n",
       "/* Label box, darken color on hover, fitted */\n",
       "#sk-container-id-1 div.sk-label.fitted:hover label.sk-toggleable__label.fitted {\n",
       "  color: var(--sklearn-color-text);\n",
       "  background-color: var(--sklearn-color-fitted-level-2);\n",
       "}\n",
       "\n",
       "/* Estimator label */\n",
       "\n",
       "#sk-container-id-1 div.sk-label label {\n",
       "  font-family: monospace;\n",
       "  font-weight: bold;\n",
       "  display: inline-block;\n",
       "  line-height: 1.2em;\n",
       "}\n",
       "\n",
       "#sk-container-id-1 div.sk-label-container {\n",
       "  text-align: center;\n",
       "}\n",
       "\n",
       "/* Estimator-specific */\n",
       "#sk-container-id-1 div.sk-estimator {\n",
       "  font-family: monospace;\n",
       "  border: 1px dotted var(--sklearn-color-border-box);\n",
       "  border-radius: 0.25em;\n",
       "  box-sizing: border-box;\n",
       "  margin-bottom: 0.5em;\n",
       "  /* unfitted */\n",
       "  background-color: var(--sklearn-color-unfitted-level-0);\n",
       "}\n",
       "\n",
       "#sk-container-id-1 div.sk-estimator.fitted {\n",
       "  /* fitted */\n",
       "  background-color: var(--sklearn-color-fitted-level-0);\n",
       "}\n",
       "\n",
       "/* on hover */\n",
       "#sk-container-id-1 div.sk-estimator:hover {\n",
       "  /* unfitted */\n",
       "  background-color: var(--sklearn-color-unfitted-level-2);\n",
       "}\n",
       "\n",
       "#sk-container-id-1 div.sk-estimator.fitted:hover {\n",
       "  /* fitted */\n",
       "  background-color: var(--sklearn-color-fitted-level-2);\n",
       "}\n",
       "\n",
       "/* Specification for estimator info (e.g. \"i\" and \"?\") */\n",
       "\n",
       "/* Common style for \"i\" and \"?\" */\n",
       "\n",
       ".sk-estimator-doc-link,\n",
       "a:link.sk-estimator-doc-link,\n",
       "a:visited.sk-estimator-doc-link {\n",
       "  float: right;\n",
       "  font-size: smaller;\n",
       "  line-height: 1em;\n",
       "  font-family: monospace;\n",
       "  background-color: var(--sklearn-color-background);\n",
       "  border-radius: 1em;\n",
       "  height: 1em;\n",
       "  width: 1em;\n",
       "  text-decoration: none !important;\n",
       "  margin-left: 1ex;\n",
       "  /* unfitted */\n",
       "  border: var(--sklearn-color-unfitted-level-1) 1pt solid;\n",
       "  color: var(--sklearn-color-unfitted-level-1);\n",
       "}\n",
       "\n",
       ".sk-estimator-doc-link.fitted,\n",
       "a:link.sk-estimator-doc-link.fitted,\n",
       "a:visited.sk-estimator-doc-link.fitted {\n",
       "  /* fitted */\n",
       "  border: var(--sklearn-color-fitted-level-1) 1pt solid;\n",
       "  color: var(--sklearn-color-fitted-level-1);\n",
       "}\n",
       "\n",
       "/* On hover */\n",
       "div.sk-estimator:hover .sk-estimator-doc-link:hover,\n",
       ".sk-estimator-doc-link:hover,\n",
       "div.sk-label-container:hover .sk-estimator-doc-link:hover,\n",
       ".sk-estimator-doc-link:hover {\n",
       "  /* unfitted */\n",
       "  background-color: var(--sklearn-color-unfitted-level-3);\n",
       "  color: var(--sklearn-color-background);\n",
       "  text-decoration: none;\n",
       "}\n",
       "\n",
       "div.sk-estimator.fitted:hover .sk-estimator-doc-link.fitted:hover,\n",
       ".sk-estimator-doc-link.fitted:hover,\n",
       "div.sk-label-container:hover .sk-estimator-doc-link.fitted:hover,\n",
       ".sk-estimator-doc-link.fitted:hover {\n",
       "  /* fitted */\n",
       "  background-color: var(--sklearn-color-fitted-level-3);\n",
       "  color: var(--sklearn-color-background);\n",
       "  text-decoration: none;\n",
       "}\n",
       "\n",
       "/* Span, style for the box shown on hovering the info icon */\n",
       ".sk-estimator-doc-link span {\n",
       "  display: none;\n",
       "  z-index: 9999;\n",
       "  position: relative;\n",
       "  font-weight: normal;\n",
       "  right: .2ex;\n",
       "  padding: .5ex;\n",
       "  margin: .5ex;\n",
       "  width: min-content;\n",
       "  min-width: 20ex;\n",
       "  max-width: 50ex;\n",
       "  color: var(--sklearn-color-text);\n",
       "  box-shadow: 2pt 2pt 4pt #999;\n",
       "  /* unfitted */\n",
       "  background: var(--sklearn-color-unfitted-level-0);\n",
       "  border: .5pt solid var(--sklearn-color-unfitted-level-3);\n",
       "}\n",
       "\n",
       ".sk-estimator-doc-link.fitted span {\n",
       "  /* fitted */\n",
       "  background: var(--sklearn-color-fitted-level-0);\n",
       "  border: var(--sklearn-color-fitted-level-3);\n",
       "}\n",
       "\n",
       ".sk-estimator-doc-link:hover span {\n",
       "  display: block;\n",
       "}\n",
       "\n",
       "/* \"?\"-specific style due to the `<a>` HTML tag */\n",
       "\n",
       "#sk-container-id-1 a.estimator_doc_link {\n",
       "  float: right;\n",
       "  font-size: 1rem;\n",
       "  line-height: 1em;\n",
       "  font-family: monospace;\n",
       "  background-color: var(--sklearn-color-background);\n",
       "  border-radius: 1rem;\n",
       "  height: 1rem;\n",
       "  width: 1rem;\n",
       "  text-decoration: none;\n",
       "  /* unfitted */\n",
       "  color: var(--sklearn-color-unfitted-level-1);\n",
       "  border: var(--sklearn-color-unfitted-level-1) 1pt solid;\n",
       "}\n",
       "\n",
       "#sk-container-id-1 a.estimator_doc_link.fitted {\n",
       "  /* fitted */\n",
       "  border: var(--sklearn-color-fitted-level-1) 1pt solid;\n",
       "  color: var(--sklearn-color-fitted-level-1);\n",
       "}\n",
       "\n",
       "/* On hover */\n",
       "#sk-container-id-1 a.estimator_doc_link:hover {\n",
       "  /* unfitted */\n",
       "  background-color: var(--sklearn-color-unfitted-level-3);\n",
       "  color: var(--sklearn-color-background);\n",
       "  text-decoration: none;\n",
       "}\n",
       "\n",
       "#sk-container-id-1 a.estimator_doc_link.fitted:hover {\n",
       "  /* fitted */\n",
       "  background-color: var(--sklearn-color-fitted-level-3);\n",
       "}\n",
       "</style><div id=\"sk-container-id-1\" class=\"sk-top-container\"><div class=\"sk-text-repr-fallback\"><pre>KPrototypes(gamma=np.float64(0.5), n_clusters=2, n_jobs=-1, random_state=2023)</pre><b>In a Jupyter environment, please rerun this cell to show the HTML representation or trust the notebook. <br />On GitHub, the HTML representation is unable to render, please try loading this page with nbviewer.org.</b></div><div class=\"sk-container\" hidden><div class=\"sk-item\"><div class=\"sk-estimator fitted sk-toggleable\"><input class=\"sk-toggleable__control sk-hidden--visually\" id=\"sk-estimator-id-1\" type=\"checkbox\" checked><label for=\"sk-estimator-id-1\" class=\"sk-toggleable__label fitted sk-toggleable__label-arrow fitted\">&nbsp;KPrototypes<span class=\"sk-estimator-doc-link fitted\">i<span>Fitted</span></span></label><div class=\"sk-toggleable__content fitted\"><pre>KPrototypes(gamma=np.float64(0.5), n_clusters=2, n_jobs=-1, random_state=2023)</pre></div> </div></div></div></div>"
      ]
     },
     "execution_count": 468,
     "metadata": {},
     "output_type": "execute_result"
    }
   ],
   "execution_count": 468
  },
  {
   "cell_type": "code",
   "id": "2d4078fe",
   "metadata": {
    "ExecuteTime": {
     "end_time": "2024-11-29T21:31:30.547726Z",
     "start_time": "2024-11-29T21:31:28.390777Z"
    }
   },
   "source": [
    "cluster_labels = kprototype_model.predict(encoded_df, categorical = [0])\n",
    "cluster_labels"
   ],
   "outputs": [
    {
     "data": {
      "text/plain": [
       "array([0, 1, 1, ..., 0, 0, 1], dtype=uint16)"
      ]
     },
     "execution_count": 469,
     "metadata": {},
     "output_type": "execute_result"
    }
   ],
   "execution_count": 469
  },
  {
   "cell_type": "code",
   "id": "5ceb56e0",
   "metadata": {
    "ExecuteTime": {
     "end_time": "2024-11-29T21:33:24.329199Z",
     "start_time": "2024-11-29T21:33:24.313159Z"
    }
   },
   "source": [
    "encoded_df['cluster'] = cluster_labels\n",
    "encoded_df.head()"
   ],
   "outputs": [
    {
     "data": {
      "text/plain": [
       "   pets_allowed_Si  bathrooms  bedrooms     price  square_feet  cluster\n",
       "0              1.0  -0.815010 -0.973238  0.745063    -1.133772        0\n",
       "1              1.0   0.099057  1.699008 -0.306837     1.489969        1\n",
       "2              0.0   1.013125  1.699008 -0.145435     1.900785        1\n",
       "3              1.0  -0.815010  0.362885  0.082755    -0.372394        0\n",
       "4              1.0  -0.815010 -0.973238 -0.612946    -0.909193        0"
      ],
      "text/html": [
       "<div>\n",
       "<style scoped>\n",
       "    .dataframe tbody tr th:only-of-type {\n",
       "        vertical-align: middle;\n",
       "    }\n",
       "\n",
       "    .dataframe tbody tr th {\n",
       "        vertical-align: top;\n",
       "    }\n",
       "\n",
       "    .dataframe thead th {\n",
       "        text-align: right;\n",
       "    }\n",
       "</style>\n",
       "<table border=\"1\" class=\"dataframe\">\n",
       "  <thead>\n",
       "    <tr style=\"text-align: right;\">\n",
       "      <th></th>\n",
       "      <th>pets_allowed_Si</th>\n",
       "      <th>bathrooms</th>\n",
       "      <th>bedrooms</th>\n",
       "      <th>price</th>\n",
       "      <th>square_feet</th>\n",
       "      <th>cluster</th>\n",
       "    </tr>\n",
       "  </thead>\n",
       "  <tbody>\n",
       "    <tr>\n",
       "      <th>0</th>\n",
       "      <td>1.0</td>\n",
       "      <td>-0.815010</td>\n",
       "      <td>-0.973238</td>\n",
       "      <td>0.745063</td>\n",
       "      <td>-1.133772</td>\n",
       "      <td>0</td>\n",
       "    </tr>\n",
       "    <tr>\n",
       "      <th>1</th>\n",
       "      <td>1.0</td>\n",
       "      <td>0.099057</td>\n",
       "      <td>1.699008</td>\n",
       "      <td>-0.306837</td>\n",
       "      <td>1.489969</td>\n",
       "      <td>1</td>\n",
       "    </tr>\n",
       "    <tr>\n",
       "      <th>2</th>\n",
       "      <td>0.0</td>\n",
       "      <td>1.013125</td>\n",
       "      <td>1.699008</td>\n",
       "      <td>-0.145435</td>\n",
       "      <td>1.900785</td>\n",
       "      <td>1</td>\n",
       "    </tr>\n",
       "    <tr>\n",
       "      <th>3</th>\n",
       "      <td>1.0</td>\n",
       "      <td>-0.815010</td>\n",
       "      <td>0.362885</td>\n",
       "      <td>0.082755</td>\n",
       "      <td>-0.372394</td>\n",
       "      <td>0</td>\n",
       "    </tr>\n",
       "    <tr>\n",
       "      <th>4</th>\n",
       "      <td>1.0</td>\n",
       "      <td>-0.815010</td>\n",
       "      <td>-0.973238</td>\n",
       "      <td>-0.612946</td>\n",
       "      <td>-0.909193</td>\n",
       "      <td>0</td>\n",
       "    </tr>\n",
       "  </tbody>\n",
       "</table>\n",
       "</div>"
      ]
     },
     "execution_count": 474,
     "metadata": {},
     "output_type": "execute_result"
    }
   ],
   "execution_count": 474
  },
  {
   "cell_type": "code",
   "id": "a550a51d",
   "metadata": {
    "ExecuteTime": {
     "end_time": "2024-11-29T21:32:41.559402Z",
     "start_time": "2024-11-29T21:32:41.545375Z"
    }
   },
   "source": "pd.DataFrame(kprototype_model.cluster_centroids_,columns = encoded_df.columns)",
   "outputs": [
    {
     "data": {
      "text/plain": [
       "   pets_allowed_Si  bathrooms  bedrooms     price  square_feet\n",
       "0        -0.790264  -0.609123 -0.231152 -0.560815          0.0\n",
       "1         1.023021   0.788529  0.299233  0.725992          0.0"
      ],
      "text/html": [
       "<div>\n",
       "<style scoped>\n",
       "    .dataframe tbody tr th:only-of-type {\n",
       "        vertical-align: middle;\n",
       "    }\n",
       "\n",
       "    .dataframe tbody tr th {\n",
       "        vertical-align: top;\n",
       "    }\n",
       "\n",
       "    .dataframe thead th {\n",
       "        text-align: right;\n",
       "    }\n",
       "</style>\n",
       "<table border=\"1\" class=\"dataframe\">\n",
       "  <thead>\n",
       "    <tr style=\"text-align: right;\">\n",
       "      <th></th>\n",
       "      <th>pets_allowed_Si</th>\n",
       "      <th>bathrooms</th>\n",
       "      <th>bedrooms</th>\n",
       "      <th>price</th>\n",
       "      <th>square_feet</th>\n",
       "    </tr>\n",
       "  </thead>\n",
       "  <tbody>\n",
       "    <tr>\n",
       "      <th>0</th>\n",
       "      <td>-0.790264</td>\n",
       "      <td>-0.609123</td>\n",
       "      <td>-0.231152</td>\n",
       "      <td>-0.560815</td>\n",
       "      <td>0.0</td>\n",
       "    </tr>\n",
       "    <tr>\n",
       "      <th>1</th>\n",
       "      <td>1.023021</td>\n",
       "      <td>0.788529</td>\n",
       "      <td>0.299233</td>\n",
       "      <td>0.725992</td>\n",
       "      <td>0.0</td>\n",
       "    </tr>\n",
       "  </tbody>\n",
       "</table>\n",
       "</div>"
      ]
     },
     "execution_count": 472,
     "metadata": {},
     "output_type": "execute_result"
    }
   ],
   "execution_count": 472
  },
  {
   "metadata": {
    "ExecuteTime": {
     "end_time": "2024-11-29T22:04:06.209202Z",
     "start_time": "2024-11-29T22:04:06.202183Z"
    }
   },
   "cell_type": "code",
   "source": "df['pets_allowed'].head()",
   "id": "193de0961c65cb6b",
   "outputs": [
    {
     "data": {
      "text/plain": [
       "0    Si\n",
       "1    Si\n",
       "2    No\n",
       "3    Si\n",
       "4    Si\n",
       "Name: pets_allowed, dtype: object"
      ]
     },
     "execution_count": 494,
     "metadata": {},
     "output_type": "execute_result"
    }
   ],
   "execution_count": 494
  },
  {
   "cell_type": "code",
   "id": "fd92f663",
   "metadata": {
    "ExecuteTime": {
     "end_time": "2024-11-29T22:04:28.220435Z",
     "start_time": "2024-11-29T22:04:28.179347Z"
    }
   },
   "source": [
    "df_cuanti['cluster'] = cluster_labels\n",
    "df_cuanti['pets_allowed'] = df['pets_allowed'].apply(lambda x: 1 if x == 'Si' else 0)\n",
    "centers_kprototypes = df_cuanti.groupby(['cluster']).aggregate('mean').reset_index()\n",
    "centers_kprototypes"
   ],
   "outputs": [
    {
     "data": {
      "text/plain": [
       "   cluster  bathrooms  bedrooms        price  square_feet  pets_allowed\n",
       "0        0   1.013536  1.272516  1317.994192   751.202502      0.397748\n",
       "1        1   2.005413  2.318567  1794.478047  1221.050893      0.386694"
      ],
      "text/html": [
       "<div>\n",
       "<style scoped>\n",
       "    .dataframe tbody tr th:only-of-type {\n",
       "        vertical-align: middle;\n",
       "    }\n",
       "\n",
       "    .dataframe tbody tr th {\n",
       "        vertical-align: top;\n",
       "    }\n",
       "\n",
       "    .dataframe thead th {\n",
       "        text-align: right;\n",
       "    }\n",
       "</style>\n",
       "<table border=\"1\" class=\"dataframe\">\n",
       "  <thead>\n",
       "    <tr style=\"text-align: right;\">\n",
       "      <th></th>\n",
       "      <th>cluster</th>\n",
       "      <th>bathrooms</th>\n",
       "      <th>bedrooms</th>\n",
       "      <th>price</th>\n",
       "      <th>square_feet</th>\n",
       "      <th>pets_allowed</th>\n",
       "    </tr>\n",
       "  </thead>\n",
       "  <tbody>\n",
       "    <tr>\n",
       "      <th>0</th>\n",
       "      <td>0</td>\n",
       "      <td>1.013536</td>\n",
       "      <td>1.272516</td>\n",
       "      <td>1317.994192</td>\n",
       "      <td>751.202502</td>\n",
       "      <td>0.397748</td>\n",
       "    </tr>\n",
       "    <tr>\n",
       "      <th>1</th>\n",
       "      <td>1</td>\n",
       "      <td>2.005413</td>\n",
       "      <td>2.318567</td>\n",
       "      <td>1794.478047</td>\n",
       "      <td>1221.050893</td>\n",
       "      <td>0.386694</td>\n",
       "    </tr>\n",
       "  </tbody>\n",
       "</table>\n",
       "</div>"
      ]
     },
     "execution_count": 495,
     "metadata": {},
     "output_type": "execute_result"
    }
   ],
   "execution_count": 495
  },
  {
   "metadata": {
    "ExecuteTime": {
     "end_time": "2024-11-29T22:27:24.618227Z",
     "start_time": "2024-11-29T22:27:24.589177Z"
    }
   },
   "cell_type": "code",
   "source": [
    "# Gráficos de las variables\n",
    "df_sin_outliers = df_cuanti[(df_cuanti['bathrooms'] < 3) and (df_cuanti['square_feet'] < 4000)]\n",
    "from mpl_toolkits.mplot3d import Axes3D\n",
    "fig = plt.figure(figsize=(16,8))\n",
    "ax = fig.add_subplot(111, projection='3d')\n",
    "ax.scatter( df_sin_outliers.square_feet, df_sin_outliers.bathrooms,df_sin_outliers.price, c=df_sin_outliers['cluster'], s=50, cmap='viridis')\n",
    "ax.scatter(centers_kprototypes['square_feet'], centers_kprototypes['bathrooms'], centers_kprototypes['price'], c='red', s=200, alpha=0.5)\n",
    "ax.set_xlabel('square_feet')\n",
    "ax.set_ylabel('bathrooms')\n",
    "ax.set_zlabel('price')\n",
    "plt.show()"
   ],
   "id": "668df5147ab03b7",
   "outputs": [
    {
     "ename": "ValueError",
     "evalue": "The truth value of a Series is ambiguous. Use a.empty, a.bool(), a.item(), a.any() or a.all().",
     "output_type": "error",
     "traceback": [
      "\u001B[1;31m---------------------------------------------------------------------------\u001B[0m",
      "\u001B[1;31mValueError\u001B[0m                                Traceback (most recent call last)",
      "\u001B[1;32m~\\AppData\\Local\\Temp\\ipykernel_11048\\3131728801.py\u001B[0m in \u001B[0;36m?\u001B[1;34m()\u001B[0m\n\u001B[0;32m      1\u001B[0m \u001B[1;31m# Gráficos de las variables\u001B[0m\u001B[1;33m\u001B[0m\u001B[1;33m\u001B[0m\u001B[0m\n\u001B[1;32m----> 2\u001B[1;33m \u001B[0mdf_sin_outliers\u001B[0m \u001B[1;33m=\u001B[0m \u001B[0mdf_cuanti\u001B[0m\u001B[1;33m[\u001B[0m\u001B[1;33m(\u001B[0m\u001B[0mdf_cuanti\u001B[0m\u001B[1;33m[\u001B[0m\u001B[1;34m'bathrooms'\u001B[0m\u001B[1;33m]\u001B[0m \u001B[1;33m<\u001B[0m \u001B[1;36m3\u001B[0m\u001B[1;33m)\u001B[0m \u001B[1;32mand\u001B[0m \u001B[1;33m(\u001B[0m\u001B[0mdf_cuanti\u001B[0m\u001B[1;33m[\u001B[0m\u001B[1;34m'square_feet'\u001B[0m\u001B[1;33m]\u001B[0m \u001B[1;33m<\u001B[0m \u001B[1;36m4000\u001B[0m\u001B[1;33m)\u001B[0m\u001B[1;33m]\u001B[0m\u001B[1;33m\u001B[0m\u001B[1;33m\u001B[0m\u001B[0m\n\u001B[0m\u001B[0;32m      3\u001B[0m \u001B[1;32mfrom\u001B[0m \u001B[0mmpl_toolkits\u001B[0m\u001B[1;33m.\u001B[0m\u001B[0mmplot3d\u001B[0m \u001B[1;32mimport\u001B[0m \u001B[0mAxes3D\u001B[0m\u001B[1;33m\u001B[0m\u001B[1;33m\u001B[0m\u001B[0m\n\u001B[0;32m      4\u001B[0m \u001B[0mfig\u001B[0m \u001B[1;33m=\u001B[0m \u001B[0mplt\u001B[0m\u001B[1;33m.\u001B[0m\u001B[0mfigure\u001B[0m\u001B[1;33m(\u001B[0m\u001B[0mfigsize\u001B[0m\u001B[1;33m=\u001B[0m\u001B[1;33m(\u001B[0m\u001B[1;36m16\u001B[0m\u001B[1;33m,\u001B[0m\u001B[1;36m8\u001B[0m\u001B[1;33m)\u001B[0m\u001B[1;33m)\u001B[0m\u001B[1;33m\u001B[0m\u001B[1;33m\u001B[0m\u001B[0m\n\u001B[0;32m      5\u001B[0m \u001B[0max\u001B[0m \u001B[1;33m=\u001B[0m \u001B[0mfig\u001B[0m\u001B[1;33m.\u001B[0m\u001B[0madd_subplot\u001B[0m\u001B[1;33m(\u001B[0m\u001B[1;36m111\u001B[0m\u001B[1;33m,\u001B[0m \u001B[0mprojection\u001B[0m\u001B[1;33m=\u001B[0m\u001B[1;34m'3d'\u001B[0m\u001B[1;33m)\u001B[0m\u001B[1;33m\u001B[0m\u001B[1;33m\u001B[0m\u001B[0m\n",
      "\u001B[1;32mG:\\pythonProject\\machine_learning_2\\.venv\\lib\\site-packages\\pandas\\core\\generic.py\u001B[0m in \u001B[0;36m?\u001B[1;34m(self)\u001B[0m\n\u001B[0;32m   1575\u001B[0m     \u001B[1;33m@\u001B[0m\u001B[0mfinal\u001B[0m\u001B[1;33m\u001B[0m\u001B[1;33m\u001B[0m\u001B[0m\n\u001B[0;32m   1576\u001B[0m     \u001B[1;32mdef\u001B[0m \u001B[0m__nonzero__\u001B[0m\u001B[1;33m(\u001B[0m\u001B[0mself\u001B[0m\u001B[1;33m)\u001B[0m \u001B[1;33m->\u001B[0m \u001B[0mNoReturn\u001B[0m\u001B[1;33m:\u001B[0m\u001B[1;33m\u001B[0m\u001B[1;33m\u001B[0m\u001B[0m\n\u001B[1;32m-> 1577\u001B[1;33m         raise ValueError(\n\u001B[0m\u001B[0;32m   1578\u001B[0m             \u001B[1;34mf\"The truth value of a {type(self).__name__} is ambiguous. \"\u001B[0m\u001B[1;33m\u001B[0m\u001B[1;33m\u001B[0m\u001B[0m\n\u001B[0;32m   1579\u001B[0m             \u001B[1;34m\"Use a.empty, a.bool(), a.item(), a.any() or a.all().\"\u001B[0m\u001B[1;33m\u001B[0m\u001B[1;33m\u001B[0m\u001B[0m\n\u001B[0;32m   1580\u001B[0m         )\n",
      "\u001B[1;31mValueError\u001B[0m: The truth value of a Series is ambiguous. Use a.empty, a.bool(), a.item(), a.any() or a.all()."
     ]
    }
   ],
   "execution_count": 513
  },
  {
   "metadata": {
    "ExecuteTime": {
     "end_time": "2024-11-29T22:11:36.527570Z",
     "start_time": "2024-11-29T22:11:35.948598Z"
    }
   },
   "cell_type": "code",
   "source": [
    "# Gráficos de las variables\n",
    "for i in range(0, len(centers_kprototypes.columns)):\n",
    "    plt.figure(figsize=(16,8))\n",
    "    plt.scatter(centers_kprototypes['cluster'], centers_kprototypes.iloc[:,i])\n",
    "    plt.xlabel('Cluster')\n",
    "    plt.ylabel(centers_kprototypes.columns[i])\n",
    "    plt.show()"
   ],
   "id": "e92305a9f8f337d7",
   "outputs": [
    {
     "data": {
      "text/plain": [
       "<Figure size 1600x800 with 1 Axes>"
      ],
      "image/png": "[encoded data removed]"
     },
     "metadata": {},
     "output_type": "display_data"
    },
    {
     "data": {
      "text/plain": [
       "<Figure size 1600x800 with 1 Axes>"
      ],
      "image/png": "[encoded data removed]"
     },
     "metadata": {},
     "output_type": "display_data"
    },
    {
     "data": {
      "text/plain": [
       "<Figure size 1600x800 with 1 Axes>"
      ],
      "image/png": "[encoded data removed]"
     },
     "metadata": {},
     "output_type": "display_data"
    },
    {
     "data": {
      "text/plain": [
       "<Figure size 1600x800 with 1 Axes>"
      ],
      "image/png": "[encoded data removed]"
     },
     "metadata": {},
     "output_type": "display_data"
    },
    {
     "data": {
      "text/plain": [
       "<Figure size 1600x800 with 1 Axes>"
      ],
      "image/png": "[encoded data removed]"
     },
     "metadata": {},
     "output_type": "display_data"
    },
    {
     "data": {
      "text/plain": [
       "<Figure size 1600x800 with 1 Axes>"
      ],
      "image/png": "[encoded data removed]"
     },
     "metadata": {},
     "output_type": "display_data"
    }
   ],
   "execution_count": 498
  }
 ],
 "metadata": {
  "kernelspec": {
   "display_name": "ML2",
   "language": "python",
   "name": "python3"
  },
  "language_info": {
   "codemirror_mode": {
    "name": "ipython",
    "version": 3
   },
   "file_extension": ".py",
   "mimetype": "text/x-python",
   "name": "python",
   "nbconvert_exporter": "python",
   "pygments_lexer": "ipython3",
   "version": "3.12.2"
  }
 },
 "nbformat": 4,
 "nbformat_minor": 5
}
