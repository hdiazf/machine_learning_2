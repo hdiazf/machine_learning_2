{
 "cells": [
  {
   "cell_type": "markdown",
   "id": "a68c5a37c112af44",
   "metadata": {},
   "source": [
    "Autores:\n",
    "- Hernán Francisco Díaz Farías\n",
    "- María Angélica Parra Mendoza\n",
    "- Loreto Constanza Zavala Gaete"
   ]
  },
  {
   "cell_type": "markdown",
   "id": "c9f84ed3b2c8ad93",
   "metadata": {},
   "source": [
    "# Tarea 1\n",
    "### Realice una exploración de datos para ver que datos existen, cuales de ellos entregan información relevante para el problema y cuales no, eliminación (si corresponde) de datos nulos y duplicados, entre otros.\n",
    "\n",
    "#### Librerías a utilizar"
   ]
  },
  {
   "cell_type": "code",
   "execution_count": 1,
   "id": "de9b4b7ee2664230",
   "metadata": {
    "ExecuteTime": {
     "end_time": "2024-11-26T01:47:39.770412Z",
     "start_time": "2024-11-26T01:47:39.760797Z"
    }
   },
   "outputs": [],
   "source": [
    "import pandas as pd\n",
    "import numpy as np\n",
    "from sklearn.cluster import KMeans\n",
    "from sklearn import preprocessing\n",
    "import matplotlib.pyplot as plt\n",
    "#from kmodes.kmodes import KModes\n",
    "from kmodes.kprototypes import KPrototypes\n",
    "from fcmeans import FCM"
   ]
  },
  {
   "cell_type": "markdown",
   "id": "884fc16032fca45a",
   "metadata": {},
   "source": [
    "#### Cargar el archivo csv"
   ]
  },
  {
   "cell_type": "code",
   "execution_count": 2,
   "id": "9e22f094af59b480",
   "metadata": {
    "ExecuteTime": {
     "end_time": "2024-11-26T01:56:27.922158Z",
     "start_time": "2024-11-26T01:56:26.874833Z"
    }
   },
   "outputs": [],
   "source": [
    "# Cargar el archivo csv\n",
    "df = (\n",
    "    pd.read_csv(\n",
    "        '../data/apartments_for_rent_classified_100K.csv',\n",
    "        encoding='ISO-8859-1',\n",
    "        sep=';',\n",
    "        low_memory=False # Para evitar warnings de dtype\n",
    "        )\n",
    "    )"
   ]
  },
  {
   "cell_type": "markdown",
   "id": "b027c12a4faf1020",
   "metadata": {},
   "source": [
    "#### Visualización de los datos"
   ]
  },
  {
   "cell_type": "code",
   "execution_count": 3,
   "id": "255178aa83bfbaab",
   "metadata": {
    "ExecuteTime": {
     "end_time": "2024-11-26T02:07:03.683806Z",
     "start_time": "2024-11-26T02:07:03.658808Z"
    }
   },
   "outputs": [
    {
     "data": {
      "text/html": [
       "<div>\n",
       "<style scoped>\n",
       "    .dataframe tbody tr th:only-of-type {\n",
       "        vertical-align: middle;\n",
       "    }\n",
       "\n",
       "    .dataframe tbody tr th {\n",
       "        vertical-align: top;\n",
       "    }\n",
       "\n",
       "    .dataframe thead th {\n",
       "        text-align: right;\n",
       "    }\n",
       "</style>\n",
       "<table border=\"1\" class=\"dataframe\">\n",
       "  <thead>\n",
       "    <tr style=\"text-align: right;\">\n",
       "      <th></th>\n",
       "      <th>id</th>\n",
       "      <th>category</th>\n",
       "      <th>title</th>\n",
       "      <th>body</th>\n",
       "      <th>amenities</th>\n",
       "      <th>bathrooms</th>\n",
       "      <th>bedrooms</th>\n",
       "      <th>currency</th>\n",
       "      <th>fee</th>\n",
       "      <th>has_photo</th>\n",
       "      <th>...</th>\n",
       "      <th>price_display</th>\n",
       "      <th>price_type</th>\n",
       "      <th>square_feet</th>\n",
       "      <th>address</th>\n",
       "      <th>cityname</th>\n",
       "      <th>state</th>\n",
       "      <th>latitude</th>\n",
       "      <th>longitude</th>\n",
       "      <th>source</th>\n",
       "      <th>time</th>\n",
       "    </tr>\n",
       "  </thead>\n",
       "  <tbody>\n",
       "    <tr>\n",
       "      <th>0</th>\n",
       "      <td>5668640009</td>\n",
       "      <td>housing/rent/apartment</td>\n",
       "      <td>One BR 507 &amp; 509 Esplanade</td>\n",
       "      <td>This unit is located at 507 &amp; 509 Esplanade, R...</td>\n",
       "      <td>NaN</td>\n",
       "      <td>1</td>\n",
       "      <td>1</td>\n",
       "      <td>USD</td>\n",
       "      <td>No</td>\n",
       "      <td>Thumbnail</td>\n",
       "      <td>...</td>\n",
       "      <td>$2,20</td>\n",
       "      <td>Monthly</td>\n",
       "      <td>542</td>\n",
       "      <td>507  509 Esplanade</td>\n",
       "      <td>Redondo Beach</td>\n",
       "      <td>CA</td>\n",
       "      <td>338.520</td>\n",
       "      <td>-1.183.759</td>\n",
       "      <td>RentLingo</td>\n",
       "      <td>1.577360e+09</td>\n",
       "    </tr>\n",
       "    <tr>\n",
       "      <th>1</th>\n",
       "      <td>5668639818</td>\n",
       "      <td>housing/rent/apartment</td>\n",
       "      <td>Three BR 146 Lochview Drive</td>\n",
       "      <td>This unit is located at 146 Lochview Drive, Ne...</td>\n",
       "      <td>NaN</td>\n",
       "      <td>1.5</td>\n",
       "      <td>3</td>\n",
       "      <td>USD</td>\n",
       "      <td>No</td>\n",
       "      <td>Thumbnail</td>\n",
       "      <td>...</td>\n",
       "      <td>$1,25</td>\n",
       "      <td>Monthly</td>\n",
       "      <td>1500</td>\n",
       "      <td>146 Lochview Dr</td>\n",
       "      <td>Newport News</td>\n",
       "      <td>VA</td>\n",
       "      <td>370.867</td>\n",
       "      <td>-764.941</td>\n",
       "      <td>RentLingo</td>\n",
       "      <td>1.577360e+09</td>\n",
       "    </tr>\n",
       "    <tr>\n",
       "      <th>2</th>\n",
       "      <td>5668639686</td>\n",
       "      <td>housing/rent/apartment</td>\n",
       "      <td>Three BR 3101 Morningside Drive</td>\n",
       "      <td>This unit is located at 3101 Morningside Drive...</td>\n",
       "      <td>NaN</td>\n",
       "      <td>2</td>\n",
       "      <td>3</td>\n",
       "      <td>USD</td>\n",
       "      <td>No</td>\n",
       "      <td>Thumbnail</td>\n",
       "      <td>...</td>\n",
       "      <td>$1,40</td>\n",
       "      <td>Monthly</td>\n",
       "      <td>1650</td>\n",
       "      <td>3101 Morningside Dr</td>\n",
       "      <td>Raleigh</td>\n",
       "      <td>NC</td>\n",
       "      <td>358.230</td>\n",
       "      <td>-786.438</td>\n",
       "      <td>RentLingo</td>\n",
       "      <td>1.577360e+09</td>\n",
       "    </tr>\n",
       "    <tr>\n",
       "      <th>3</th>\n",
       "      <td>5668639659</td>\n",
       "      <td>housing/rent/apartment</td>\n",
       "      <td>Two BR 209 Aegean Way</td>\n",
       "      <td>This unit is located at 209 Aegean Way, Vacavi...</td>\n",
       "      <td>NaN</td>\n",
       "      <td>1</td>\n",
       "      <td>2</td>\n",
       "      <td>USD</td>\n",
       "      <td>No</td>\n",
       "      <td>Thumbnail</td>\n",
       "      <td>...</td>\n",
       "      <td>$1,60</td>\n",
       "      <td>Monthly</td>\n",
       "      <td>820</td>\n",
       "      <td>209 Aegean Way</td>\n",
       "      <td>Vacaville</td>\n",
       "      <td>CA</td>\n",
       "      <td>383.622</td>\n",
       "      <td>-1.219.712</td>\n",
       "      <td>RentLingo</td>\n",
       "      <td>1.577360e+09</td>\n",
       "    </tr>\n",
       "    <tr>\n",
       "      <th>4</th>\n",
       "      <td>5668639374</td>\n",
       "      <td>housing/rent/apartment</td>\n",
       "      <td>One BR 4805 Marquette NE</td>\n",
       "      <td>This unit is located at 4805 Marquette NE, Alb...</td>\n",
       "      <td>NaN</td>\n",
       "      <td>1</td>\n",
       "      <td>1</td>\n",
       "      <td>USD</td>\n",
       "      <td>No</td>\n",
       "      <td>Thumbnail</td>\n",
       "      <td>...</td>\n",
       "      <td>$975</td>\n",
       "      <td>Monthly</td>\n",
       "      <td>624</td>\n",
       "      <td>4805 Marquette NE</td>\n",
       "      <td>Albuquerque</td>\n",
       "      <td>NM</td>\n",
       "      <td>351.038</td>\n",
       "      <td>-1.066.110</td>\n",
       "      <td>RentLingo</td>\n",
       "      <td>1.577360e+09</td>\n",
       "    </tr>\n",
       "  </tbody>\n",
       "</table>\n",
       "<p>5 rows × 22 columns</p>\n",
       "</div>"
      ],
      "text/plain": [
       "           id                category                            title  \\\n",
       "0  5668640009  housing/rent/apartment       One BR 507 & 509 Esplanade   \n",
       "1  5668639818  housing/rent/apartment      Three BR 146 Lochview Drive   \n",
       "2  5668639686  housing/rent/apartment  Three BR 3101 Morningside Drive   \n",
       "3  5668639659  housing/rent/apartment            Two BR 209 Aegean Way   \n",
       "4  5668639374  housing/rent/apartment         One BR 4805 Marquette NE   \n",
       "\n",
       "                                                body amenities bathrooms  \\\n",
       "0  This unit is located at 507 & 509 Esplanade, R...       NaN         1   \n",
       "1  This unit is located at 146 Lochview Drive, Ne...       NaN       1.5   \n",
       "2  This unit is located at 3101 Morningside Drive...       NaN         2   \n",
       "3  This unit is located at 209 Aegean Way, Vacavi...       NaN         1   \n",
       "4  This unit is located at 4805 Marquette NE, Alb...       NaN         1   \n",
       "\n",
       "  bedrooms currency fee  has_photo  ... price_display  price_type square_feet  \\\n",
       "0        1      USD  No  Thumbnail  ...         $2,20     Monthly         542   \n",
       "1        3      USD  No  Thumbnail  ...         $1,25     Monthly        1500   \n",
       "2        3      USD  No  Thumbnail  ...         $1,40     Monthly        1650   \n",
       "3        2      USD  No  Thumbnail  ...         $1,60     Monthly         820   \n",
       "4        1      USD  No  Thumbnail  ...          $975     Monthly         624   \n",
       "\n",
       "               address       cityname state latitude   longitude     source  \\\n",
       "0   507  509 Esplanade  Redondo Beach    CA  338.520  -1.183.759  RentLingo   \n",
       "1      146 Lochview Dr   Newport News    VA  370.867    -764.941  RentLingo   \n",
       "2  3101 Morningside Dr        Raleigh    NC  358.230    -786.438  RentLingo   \n",
       "3       209 Aegean Way      Vacaville    CA  383.622  -1.219.712  RentLingo   \n",
       "4    4805 Marquette NE    Albuquerque    NM  351.038  -1.066.110  RentLingo   \n",
       "\n",
       "           time  \n",
       "0  1.577360e+09  \n",
       "1  1.577360e+09  \n",
       "2  1.577360e+09  \n",
       "3  1.577360e+09  \n",
       "4  1.577360e+09  \n",
       "\n",
       "[5 rows x 22 columns]"
      ]
     },
     "execution_count": 3,
     "metadata": {},
     "output_type": "execute_result"
    }
   ],
   "source": [
    "df.head()"
   ]
  },
  {
   "cell_type": "code",
   "execution_count": 4,
   "id": "27b242aac89e4f2",
   "metadata": {
    "ExecuteTime": {
     "end_time": "2024-11-26T01:59:03.588060Z",
     "start_time": "2024-11-26T01:59:03.576562Z"
    }
   },
   "outputs": [
    {
     "data": {
      "text/plain": [
       "id                object\n",
       "category          object\n",
       "title             object\n",
       "body              object\n",
       "amenities         object\n",
       "bathrooms         object\n",
       "bedrooms          object\n",
       "currency          object\n",
       "fee               object\n",
       "has_photo         object\n",
       "pets_allowed      object\n",
       "price            float64\n",
       "price_display     object\n",
       "price_type        object\n",
       "square_feet       object\n",
       "address           object\n",
       "cityname          object\n",
       "state             object\n",
       "latitude         float64\n",
       "longitude         object\n",
       "source            object\n",
       "time             float64\n",
       "dtype: object"
      ]
     },
     "execution_count": 4,
     "metadata": {},
     "output_type": "execute_result"
    }
   ],
   "source": [
    "df.dtypes"
   ]
  },
  {
   "cell_type": "markdown",
   "id": "dc6d1252efae376d",
   "metadata": {},
   "source": [
    "Los campos tipo object representan campos que pueden contener registros nulos o errores de escritura. Se revisará el campo **id** para empezar."
   ]
  },
  {
   "cell_type": "code",
   "execution_count": 5,
   "id": "2c68a4e74146c50d",
   "metadata": {
    "ExecuteTime": {
     "end_time": "2024-11-26T02:00:43.222190Z",
     "start_time": "2024-11-26T02:00:43.211520Z"
    }
   },
   "outputs": [
    {
     "data": {
      "text/plain": [
       "0"
      ]
     },
     "execution_count": 5,
     "metadata": {},
     "output_type": "execute_result"
    }
   ],
   "source": [
    "df['id'].isnull().sum()"
   ]
  },
  {
   "cell_type": "markdown",
   "id": "8d6a2a2a1361038c",
   "metadata": {},
   "source": [
    "Creamos una función para revisar si el campo **id** es numérico o no."
   ]
  },
  {
   "cell_type": "code",
   "execution_count": 6,
   "id": "c076fb956a8815a",
   "metadata": {
    "ExecuteTime": {
     "end_time": "2024-11-26T02:03:28.377910Z",
     "start_time": "2024-11-26T02:03:28.353405Z"
    }
   },
   "outputs": [
    {
     "name": "stdout",
     "output_type": "stream",
     "text": [
      "Numericos: 99823, No numéricos: 3\n"
     ]
    }
   ],
   "source": [
    "def check_id(id):\n",
    "    try:\n",
    "        int(id)\n",
    "        return True\n",
    "    except:\n",
    "        return False\n",
    "\n",
    "numericos = df['id'].apply(check_id).sum()\n",
    "no_numericos = df['id'].shape[0] - numericos\n",
    "print(f'Numericos: {numericos}, No numéricos: {no_numericos}')\n"
   ]
  },
  {
   "cell_type": "markdown",
   "id": "c734bd63417e88b8",
   "metadata": {},
   "source": [
    "Se observa que hay 3 registros que no son numéricos. Se revisarán estos registros."
   ]
  },
  {
   "cell_type": "code",
   "execution_count": 7,
   "id": "cc416c565413bc21",
   "metadata": {
    "ExecuteTime": {
     "end_time": "2024-11-26T02:03:53.256586Z",
     "start_time": "2024-11-26T02:03:53.212086Z"
    }
   },
   "outputs": [
    {
     "data": {
      "text/html": [
       "<div>\n",
       "<style scoped>\n",
       "    .dataframe tbody tr th:only-of-type {\n",
       "        vertical-align: middle;\n",
       "    }\n",
       "\n",
       "    .dataframe tbody tr th {\n",
       "        vertical-align: top;\n",
       "    }\n",
       "\n",
       "    .dataframe thead th {\n",
       "        text-align: right;\n",
       "    }\n",
       "</style>\n",
       "<table border=\"1\" class=\"dataframe\">\n",
       "  <thead>\n",
       "    <tr style=\"text-align: right;\">\n",
       "      <th></th>\n",
       "      <th>id</th>\n",
       "      <th>category</th>\n",
       "      <th>title</th>\n",
       "      <th>body</th>\n",
       "      <th>amenities</th>\n",
       "      <th>bathrooms</th>\n",
       "      <th>bedrooms</th>\n",
       "      <th>currency</th>\n",
       "      <th>fee</th>\n",
       "      <th>has_photo</th>\n",
       "      <th>...</th>\n",
       "      <th>price_display</th>\n",
       "      <th>price_type</th>\n",
       "      <th>square_feet</th>\n",
       "      <th>address</th>\n",
       "      <th>cityname</th>\n",
       "      <th>state</th>\n",
       "      <th>latitude</th>\n",
       "      <th>longitude</th>\n",
       "      <th>source</th>\n",
       "      <th>time</th>\n",
       "    </tr>\n",
       "  </thead>\n",
       "  <tbody>\n",
       "    <tr>\n",
       "      <th>8808</th>\n",
       "      <td>ange of on-site community amenities. Coming so...</td>\n",
       "      <td>Gym</td>\n",
       "      <td>1</td>\n",
       "      <td>1</td>\n",
       "      <td>USD</td>\n",
       "      <td>No</td>\n",
       "      <td>Thumbnail</td>\n",
       "      <td>Cats,Dogs</td>\n",
       "      <td>1380</td>\n",
       "      <td>$1,38</td>\n",
       "      <td>...</td>\n",
       "      <td>NaN</td>\n",
       "      <td>Lawrence</td>\n",
       "      <td>NJ</td>\n",
       "      <td>402.659</td>\n",
       "      <td>-746.959</td>\n",
       "      <td>RentDigs.com</td>\n",
       "      <td>1.568782e+09</td>\n",
       "      <td>NaN</td>\n",
       "      <td>NaN</td>\n",
       "      <td>NaN</td>\n",
       "    </tr>\n",
       "    <tr>\n",
       "      <th>33780</th>\n",
       "      <td>xpansive rooftop entertainment deck and many p...</td>\n",
       "      <td>Parking,Patio/Deck</td>\n",
       "      <td>1</td>\n",
       "      <td>1</td>\n",
       "      <td>USD</td>\n",
       "      <td>No</td>\n",
       "      <td>Thumbnail</td>\n",
       "      <td>NaN</td>\n",
       "      <td>2150</td>\n",
       "      <td>$2,15</td>\n",
       "      <td>...</td>\n",
       "      <td>NaN</td>\n",
       "      <td>Los Angeles</td>\n",
       "      <td>CA</td>\n",
       "      <td>340.432</td>\n",
       "      <td>-1.182.509</td>\n",
       "      <td>RentDigs.com</td>\n",
       "      <td>1.568745e+09</td>\n",
       "      <td>NaN</td>\n",
       "      <td>NaN</td>\n",
       "      <td>NaN</td>\n",
       "    </tr>\n",
       "    <tr>\n",
       "      <th>75947</th>\n",
       "      <td>ellite,Clubhouse,Dishwasher,Garbage Disposal,G...</td>\n",
       "      <td>2</td>\n",
       "      <td>2</td>\n",
       "      <td>USD</td>\n",
       "      <td>No</td>\n",
       "      <td>Thumbnail</td>\n",
       "      <td>Cats,Dogs</td>\n",
       "      <td>1019</td>\n",
       "      <td>$1,02</td>\n",
       "      <td>Monthly</td>\n",
       "      <td>...</td>\n",
       "      <td>Henrico</td>\n",
       "      <td>VA</td>\n",
       "      <td>376.249</td>\n",
       "      <td>-774.948</td>\n",
       "      <td>RentDigs.com</td>\n",
       "      <td>1550831790</td>\n",
       "      <td>NaN</td>\n",
       "      <td>NaN</td>\n",
       "      <td>NaN</td>\n",
       "      <td>NaN</td>\n",
       "    </tr>\n",
       "  </tbody>\n",
       "</table>\n",
       "<p>3 rows × 22 columns</p>\n",
       "</div>"
      ],
      "text/plain": [
       "                                                      id            category  \\\n",
       "8808   ange of on-site community amenities. Coming so...                 Gym   \n",
       "33780  xpansive rooftop entertainment deck and many p...  Parking,Patio/Deck   \n",
       "75947  ellite,Clubhouse,Dishwasher,Garbage Disposal,G...                   2   \n",
       "\n",
       "      title body amenities  bathrooms   bedrooms   currency    fee has_photo  \\\n",
       "8808      1    1       USD         No  Thumbnail  Cats,Dogs   1380     $1,38   \n",
       "33780     1    1       USD         No  Thumbnail        NaN   2150     $2,15   \n",
       "75947     2  USD        No  Thumbnail  Cats,Dogs       1019  $1,02   Monthly   \n",
       "\n",
       "       ... price_display   price_type square_feet   address      cityname  \\\n",
       "8808   ...           NaN     Lawrence          NJ   402.659      -746.959   \n",
       "33780  ...           NaN  Los Angeles          CA   340.432    -1.182.509   \n",
       "75947  ...       Henrico           VA     376.249  -774.948  RentDigs.com   \n",
       "\n",
       "              state      latitude longitude  source time  \n",
       "8808   RentDigs.com  1.568782e+09       NaN     NaN  NaN  \n",
       "33780  RentDigs.com  1.568745e+09       NaN     NaN  NaN  \n",
       "75947    1550831790           NaN       NaN     NaN  NaN  \n",
       "\n",
       "[3 rows x 22 columns]"
      ]
     },
     "execution_count": 7,
     "metadata": {},
     "output_type": "execute_result"
    }
   ],
   "source": [
    "df[~df['id'].apply(check_id)]"
   ]
  },
  {
   "cell_type": "markdown",
   "id": "44134d659d5b3b15",
   "metadata": {},
   "source": [
    "Se procederá a eliminar estos registros."
   ]
  },
  {
   "cell_type": "code",
   "execution_count": 8,
   "id": "c6b745e359f40ad9",
   "metadata": {},
   "outputs": [],
   "source": [
    "df = df[df['id'].apply(check_id)]"
   ]
  },
  {
   "cell_type": "markdown",
   "id": "b5d3d51831d98de0",
   "metadata": {},
   "source": [
    "Se convierte el campo **id** a tipo numérico."
   ]
  },
  {
   "cell_type": "code",
   "execution_count": 9,
   "id": "2df64775851e160c",
   "metadata": {
    "ExecuteTime": {
     "end_time": "2024-11-26T02:06:12.277950Z",
     "start_time": "2024-11-26T02:06:12.263952Z"
    }
   },
   "outputs": [],
   "source": [
    "# df['id'] = df['id'].astype(int)"
   ]
  },
  {
   "cell_type": "markdown",
   "id": "31b514036c918f89",
   "metadata": {},
   "source": []
  },
  {
   "cell_type": "code",
   "execution_count": 10,
   "id": "10fa36810d2565ea",
   "metadata": {
    "ExecuteTime": {
     "end_time": "2024-11-26T02:01:58.950163Z",
     "start_time": "2024-11-26T02:01:58.616615Z"
    }
   },
   "outputs": [
    {
     "data": {
      "text/html": [
       "<div>\n",
       "<style scoped>\n",
       "    .dataframe tbody tr th:only-of-type {\n",
       "        vertical-align: middle;\n",
       "    }\n",
       "\n",
       "    .dataframe tbody tr th {\n",
       "        vertical-align: top;\n",
       "    }\n",
       "\n",
       "    .dataframe thead th {\n",
       "        text-align: right;\n",
       "    }\n",
       "</style>\n",
       "<table border=\"1\" class=\"dataframe\">\n",
       "  <thead>\n",
       "    <tr style=\"text-align: right;\">\n",
       "      <th></th>\n",
       "      <th>id</th>\n",
       "      <th>category</th>\n",
       "      <th>title</th>\n",
       "      <th>body</th>\n",
       "      <th>amenities</th>\n",
       "      <th>bathrooms</th>\n",
       "      <th>bedrooms</th>\n",
       "      <th>currency</th>\n",
       "      <th>fee</th>\n",
       "      <th>has_photo</th>\n",
       "      <th>...</th>\n",
       "      <th>price_display</th>\n",
       "      <th>price_type</th>\n",
       "      <th>square_feet</th>\n",
       "      <th>address</th>\n",
       "      <th>cityname</th>\n",
       "      <th>state</th>\n",
       "      <th>latitude</th>\n",
       "      <th>longitude</th>\n",
       "      <th>source</th>\n",
       "      <th>time</th>\n",
       "    </tr>\n",
       "  </thead>\n",
       "  <tbody>\n",
       "    <tr>\n",
       "      <th>42261</th>\n",
       "      <td>5508806580</td>\n",
       "      <td>housing/rent/apartment</td>\n",
       "      <td>Las Vegas, prime location Two BR, Apartment. P...</td>\n",
       "      <td>Live in the middle of it all! South is a pet f...</td>\n",
       "      <td>Gym,Parking,Pool</td>\n",
       "      <td>2</td>\n",
       "      <td>2</td>\n",
       "      <td>USD</td>\n",
       "      <td>No</td>\n",
       "      <td>Yes</td>\n",
       "      <td>...</td>\n",
       "      <td>$1,34</td>\n",
       "      <td>Monthly</td>\n",
       "      <td>1084</td>\n",
       "      <td>NaN</td>\n",
       "      <td>Las Vegas</td>\n",
       "      <td>NV</td>\n",
       "      <td>361.536</td>\n",
       "      <td>-1.151.965</td>\n",
       "      <td>RentDigs.com</td>\n",
       "      <td>1.568754e+09</td>\n",
       "    </tr>\n",
       "    <tr>\n",
       "      <th>42262</th>\n",
       "      <td>5508806428</td>\n",
       "      <td>housing/rent/apartment</td>\n",
       "      <td>Northglenn Value. Pet OK!</td>\n",
       "      <td>Square footage: 738 square ft, unit number: 06...</td>\n",
       "      <td>Gym,Parking,Pool,Storage</td>\n",
       "      <td>1</td>\n",
       "      <td>1</td>\n",
       "      <td>USD</td>\n",
       "      <td>No</td>\n",
       "      <td>Yes</td>\n",
       "      <td>...</td>\n",
       "      <td>$1,33</td>\n",
       "      <td>Monthly</td>\n",
       "      <td>738</td>\n",
       "      <td>NaN</td>\n",
       "      <td>Northglenn</td>\n",
       "      <td>CO</td>\n",
       "      <td>398.999</td>\n",
       "      <td>-1.049.442</td>\n",
       "      <td>RentDigs.com</td>\n",
       "      <td>1.568754e+09</td>\n",
       "    </tr>\n",
       "    <tr>\n",
       "      <th>42263</th>\n",
       "      <td>5508806391</td>\n",
       "      <td>housing/rent/apartment</td>\n",
       "      <td>Apartment in move in condition in District Hei...</td>\n",
       "      <td>Capital Courts has something for everyone. Loc...</td>\n",
       "      <td>AC,Parking,Playground,Pool</td>\n",
       "      <td>1.5</td>\n",
       "      <td>3</td>\n",
       "      <td>USD</td>\n",
       "      <td>No</td>\n",
       "      <td>Yes</td>\n",
       "      <td>...</td>\n",
       "      <td>$1,32</td>\n",
       "      <td>Monthly</td>\n",
       "      <td>943</td>\n",
       "      <td>NaN</td>\n",
       "      <td>District Heights</td>\n",
       "      <td>MD</td>\n",
       "      <td>388.516</td>\n",
       "      <td>-768.871</td>\n",
       "      <td>RentDigs.com</td>\n",
       "      <td>1.568754e+09</td>\n",
       "    </tr>\n",
       "    <tr>\n",
       "      <th>42264</th>\n",
       "      <td>5508806299</td>\n",
       "      <td>housing/rent/apartment</td>\n",
       "      <td>District Heights, prime location Two BR, Apart...</td>\n",
       "      <td>Income Requirement: Must have 2. 5x the rent i...</td>\n",
       "      <td>Parking</td>\n",
       "      <td>1</td>\n",
       "      <td>2</td>\n",
       "      <td>USD</td>\n",
       "      <td>No</td>\n",
       "      <td>Yes</td>\n",
       "      <td>...</td>\n",
       "      <td>$1,35</td>\n",
       "      <td>Monthly</td>\n",
       "      <td>931</td>\n",
       "      <td>NaN</td>\n",
       "      <td>District Heights</td>\n",
       "      <td>MD</td>\n",
       "      <td>388.516</td>\n",
       "      <td>-768.871</td>\n",
       "      <td>RentDigs.com</td>\n",
       "      <td>1.568754e+09</td>\n",
       "    </tr>\n",
       "    <tr>\n",
       "      <th>42265</th>\n",
       "      <td>5508806233</td>\n",
       "      <td>housing/rent/apartment</td>\n",
       "      <td>Spacious One BR, One BA</td>\n",
       "      <td>Square footage: 680 sq-ft, unit number: 122. P...</td>\n",
       "      <td>Basketball,Gym,Patio/Deck,Playground,Pool</td>\n",
       "      <td>1</td>\n",
       "      <td>1</td>\n",
       "      <td>USD</td>\n",
       "      <td>No</td>\n",
       "      <td>Yes</td>\n",
       "      <td>...</td>\n",
       "      <td>$1,26</td>\n",
       "      <td>Monthly</td>\n",
       "      <td>680</td>\n",
       "      <td>NaN</td>\n",
       "      <td>Denver</td>\n",
       "      <td>CO</td>\n",
       "      <td>398.999</td>\n",
       "      <td>-1.049.442</td>\n",
       "      <td>RentDigs.com</td>\n",
       "      <td>1.568754e+09</td>\n",
       "    </tr>\n",
       "    <tr>\n",
       "      <th>...</th>\n",
       "      <td>...</td>\n",
       "      <td>...</td>\n",
       "      <td>...</td>\n",
       "      <td>...</td>\n",
       "      <td>...</td>\n",
       "      <td>...</td>\n",
       "      <td>...</td>\n",
       "      <td>...</td>\n",
       "      <td>...</td>\n",
       "      <td>...</td>\n",
       "      <td>...</td>\n",
       "      <td>...</td>\n",
       "      <td>...</td>\n",
       "      <td>...</td>\n",
       "      <td>...</td>\n",
       "      <td>...</td>\n",
       "      <td>...</td>\n",
       "      <td>...</td>\n",
       "      <td>...</td>\n",
       "      <td>...</td>\n",
       "      <td>...</td>\n",
       "    </tr>\n",
       "    <tr>\n",
       "      <th>83577</th>\n",
       "      <td>5197839500</td>\n",
       "      <td>housing/rent/apartment</td>\n",
       "      <td>Apartment, Studio, 400 sq. ft. - in a great area.</td>\n",
       "      <td>Apartment for rent in Ruckersville. Dogs Dogs ...</td>\n",
       "      <td>NaN</td>\n",
       "      <td>1</td>\n",
       "      <td>0</td>\n",
       "      <td>USD</td>\n",
       "      <td>No</td>\n",
       "      <td>No</td>\n",
       "      <td>...</td>\n",
       "      <td>$725</td>\n",
       "      <td>Monthly</td>\n",
       "      <td>400</td>\n",
       "      <td>NaN</td>\n",
       "      <td>Ruckersville</td>\n",
       "      <td>VA</td>\n",
       "      <td>382.203</td>\n",
       "      <td>-783.844</td>\n",
       "      <td>RentDigs.com</td>\n",
       "      <td>1.550824e+09</td>\n",
       "    </tr>\n",
       "    <tr>\n",
       "      <th>83578</th>\n",
       "      <td>5197836604</td>\n",
       "      <td>housing/rent/apartment</td>\n",
       "      <td>offers the lifestyle you deserve in the center...</td>\n",
       "      <td>Our pet friendly one, 2 and 3 beds apartment h...</td>\n",
       "      <td>NaN</td>\n",
       "      <td>2</td>\n",
       "      <td>2</td>\n",
       "      <td>USD</td>\n",
       "      <td>No</td>\n",
       "      <td>Yes</td>\n",
       "      <td>...</td>\n",
       "      <td>$1,24</td>\n",
       "      <td>Monthly</td>\n",
       "      <td>1051</td>\n",
       "      <td>NaN</td>\n",
       "      <td>Charlotte</td>\n",
       "      <td>NC</td>\n",
       "      <td>353.201</td>\n",
       "      <td>-807.409</td>\n",
       "      <td>RentDigs.com</td>\n",
       "      <td>1.550824e+09</td>\n",
       "    </tr>\n",
       "    <tr>\n",
       "      <th>83579</th>\n",
       "      <td>5197834189</td>\n",
       "      <td>housing/rent/apartment</td>\n",
       "      <td>Attractive Two BR, Two BA. Pet OK!</td>\n",
       "      <td>Square footage: 1055 square feet, unit number:...</td>\n",
       "      <td>Gym,Parking,Pool</td>\n",
       "      <td>2</td>\n",
       "      <td>2</td>\n",
       "      <td>USD</td>\n",
       "      <td>No</td>\n",
       "      <td>Yes</td>\n",
       "      <td>...</td>\n",
       "      <td>$1,48</td>\n",
       "      <td>Monthly</td>\n",
       "      <td>1055</td>\n",
       "      <td>NaN</td>\n",
       "      <td>Tempe</td>\n",
       "      <td>AZ</td>\n",
       "      <td>333.924</td>\n",
       "      <td>-1.119.265</td>\n",
       "      <td>RentDigs.com</td>\n",
       "      <td>1.550824e+09</td>\n",
       "    </tr>\n",
       "    <tr>\n",
       "      <th>83580</th>\n",
       "      <td>5197828852</td>\n",
       "      <td>housing/rent/apartment</td>\n",
       "      <td>The Best of the Best in the City of Tempe! Sav...</td>\n",
       "      <td>In the heart of vibrant Tempe near Arizona Sta...</td>\n",
       "      <td>Gym,Parking,Pool</td>\n",
       "      <td>2</td>\n",
       "      <td>3</td>\n",
       "      <td>USD</td>\n",
       "      <td>No</td>\n",
       "      <td>Yes</td>\n",
       "      <td>...</td>\n",
       "      <td>$1,88</td>\n",
       "      <td>Monthly</td>\n",
       "      <td>1261</td>\n",
       "      <td>NaN</td>\n",
       "      <td>Tempe</td>\n",
       "      <td>AZ</td>\n",
       "      <td>333.924</td>\n",
       "      <td>-1.119.265</td>\n",
       "      <td>RentDigs.com</td>\n",
       "      <td>1.550823e+09</td>\n",
       "    </tr>\n",
       "    <tr>\n",
       "      <th>83581</th>\n",
       "      <td>5197828778</td>\n",
       "      <td>housing/rent/apartment</td>\n",
       "      <td>Two BA - $1,862/mo - Apartment - in a great ar...</td>\n",
       "      <td>In the heart of vibrant Tempe near Arizona Sta...</td>\n",
       "      <td>Gym,Parking,Pool</td>\n",
       "      <td>2</td>\n",
       "      <td>3</td>\n",
       "      <td>USD</td>\n",
       "      <td>No</td>\n",
       "      <td>Yes</td>\n",
       "      <td>...</td>\n",
       "      <td>$1,86</td>\n",
       "      <td>Monthly</td>\n",
       "      <td>1261</td>\n",
       "      <td>NaN</td>\n",
       "      <td>Tempe</td>\n",
       "      <td>AZ</td>\n",
       "      <td>333.924</td>\n",
       "      <td>-1.119.265</td>\n",
       "      <td>RentDigs.com</td>\n",
       "      <td>1.550823e+09</td>\n",
       "    </tr>\n",
       "  </tbody>\n",
       "</table>\n",
       "<p>84 rows × 22 columns</p>\n",
       "</div>"
      ],
      "text/plain": [
       "               id                category  \\\n",
       "42261  5508806580  housing/rent/apartment   \n",
       "42262  5508806428  housing/rent/apartment   \n",
       "42263  5508806391  housing/rent/apartment   \n",
       "42264  5508806299  housing/rent/apartment   \n",
       "42265  5508806233  housing/rent/apartment   \n",
       "...           ...                     ...   \n",
       "83577  5197839500  housing/rent/apartment   \n",
       "83578  5197836604  housing/rent/apartment   \n",
       "83579  5197834189  housing/rent/apartment   \n",
       "83580  5197828852  housing/rent/apartment   \n",
       "83581  5197828778  housing/rent/apartment   \n",
       "\n",
       "                                                   title  \\\n",
       "42261  Las Vegas, prime location Two BR, Apartment. P...   \n",
       "42262                          Northglenn Value. Pet OK!   \n",
       "42263  Apartment in move in condition in District Hei...   \n",
       "42264  District Heights, prime location Two BR, Apart...   \n",
       "42265                            Spacious One BR, One BA   \n",
       "...                                                  ...   \n",
       "83577  Apartment, Studio, 400 sq. ft. - in a great area.   \n",
       "83578  offers the lifestyle you deserve in the center...   \n",
       "83579                 Attractive Two BR, Two BA. Pet OK!   \n",
       "83580  The Best of the Best in the City of Tempe! Sav...   \n",
       "83581  Two BA - $1,862/mo - Apartment - in a great ar...   \n",
       "\n",
       "                                                    body  \\\n",
       "42261  Live in the middle of it all! South is a pet f...   \n",
       "42262  Square footage: 738 square ft, unit number: 06...   \n",
       "42263  Capital Courts has something for everyone. Loc...   \n",
       "42264  Income Requirement: Must have 2. 5x the rent i...   \n",
       "42265  Square footage: 680 sq-ft, unit number: 122. P...   \n",
       "...                                                  ...   \n",
       "83577  Apartment for rent in Ruckersville. Dogs Dogs ...   \n",
       "83578  Our pet friendly one, 2 and 3 beds apartment h...   \n",
       "83579  Square footage: 1055 square feet, unit number:...   \n",
       "83580  In the heart of vibrant Tempe near Arizona Sta...   \n",
       "83581  In the heart of vibrant Tempe near Arizona Sta...   \n",
       "\n",
       "                                       amenities bathrooms bedrooms currency  \\\n",
       "42261                           Gym,Parking,Pool         2        2      USD   \n",
       "42262                   Gym,Parking,Pool,Storage         1        1      USD   \n",
       "42263                 AC,Parking,Playground,Pool       1.5        3      USD   \n",
       "42264                                    Parking         1        2      USD   \n",
       "42265  Basketball,Gym,Patio/Deck,Playground,Pool         1        1      USD   \n",
       "...                                          ...       ...      ...      ...   \n",
       "83577                                        NaN         1        0      USD   \n",
       "83578                                        NaN         2        2      USD   \n",
       "83579                           Gym,Parking,Pool         2        2      USD   \n",
       "83580                           Gym,Parking,Pool         2        3      USD   \n",
       "83581                           Gym,Parking,Pool         2        3      USD   \n",
       "\n",
       "      fee has_photo  ... price_display  price_type square_feet address  \\\n",
       "42261  No       Yes  ...         $1,34     Monthly        1084     NaN   \n",
       "42262  No       Yes  ...         $1,33     Monthly         738     NaN   \n",
       "42263  No       Yes  ...         $1,32     Monthly         943     NaN   \n",
       "42264  No       Yes  ...         $1,35     Monthly         931     NaN   \n",
       "42265  No       Yes  ...         $1,26     Monthly         680     NaN   \n",
       "...    ..       ...  ...           ...         ...         ...     ...   \n",
       "83577  No        No  ...          $725     Monthly         400     NaN   \n",
       "83578  No       Yes  ...         $1,24     Monthly        1051     NaN   \n",
       "83579  No       Yes  ...         $1,48     Monthly        1055     NaN   \n",
       "83580  No       Yes  ...         $1,88     Monthly        1261     NaN   \n",
       "83581  No       Yes  ...         $1,86     Monthly        1261     NaN   \n",
       "\n",
       "               cityname state latitude   longitude        source          time  \n",
       "42261         Las Vegas    NV  361.536  -1.151.965  RentDigs.com  1.568754e+09  \n",
       "42262        Northglenn    CO  398.999  -1.049.442  RentDigs.com  1.568754e+09  \n",
       "42263  District Heights    MD  388.516    -768.871  RentDigs.com  1.568754e+09  \n",
       "42264  District Heights    MD  388.516    -768.871  RentDigs.com  1.568754e+09  \n",
       "42265            Denver    CO  398.999  -1.049.442  RentDigs.com  1.568754e+09  \n",
       "...                 ...   ...      ...         ...           ...           ...  \n",
       "83577      Ruckersville    VA  382.203    -783.844  RentDigs.com  1.550824e+09  \n",
       "83578         Charlotte    NC  353.201    -807.409  RentDigs.com  1.550824e+09  \n",
       "83579             Tempe    AZ  333.924  -1.119.265  RentDigs.com  1.550824e+09  \n",
       "83580             Tempe    AZ  333.924  -1.119.265  RentDigs.com  1.550823e+09  \n",
       "83581             Tempe    AZ  333.924  -1.119.265  RentDigs.com  1.550823e+09  \n",
       "\n",
       "[84 rows x 22 columns]"
      ]
     },
     "execution_count": 10,
     "metadata": {},
     "output_type": "execute_result"
    }
   ],
   "source": [
    "# Revisar si hay valores duplicados\n",
    "df[df.duplicated()]"
   ]
  },
  {
   "cell_type": "code",
   "execution_count": 11,
   "id": "ee8f2f8c",
   "metadata": {},
   "outputs": [
    {
     "data": {
      "text/plain": [
       "84"
      ]
     },
     "execution_count": 11,
     "metadata": {},
     "output_type": "execute_result"
    }
   ],
   "source": [
    "df.duplicated().sum()"
   ]
  },
  {
   "cell_type": "code",
   "execution_count": 12,
   "id": "02e389af",
   "metadata": {},
   "outputs": [
    {
     "data": {
      "text/plain": [
       "0"
      ]
     },
     "execution_count": 12,
     "metadata": {},
     "output_type": "execute_result"
    }
   ],
   "source": [
    "df = df.drop_duplicates()\n",
    "df.duplicated().sum()"
   ]
  },
  {
   "cell_type": "code",
   "execution_count": 13,
   "id": "95eb37bd",
   "metadata": {},
   "outputs": [
    {
     "data": {
      "text/plain": [
       "array(['housing/rent/apartment', 'housing/rent/home',\n",
       "       'housing/rent/short_term', 'housing/rent', 'housing/rent/condo',\n",
       "       'housing/rent/other', 'housing/rent/commercial/retail'],\n",
       "      dtype=object)"
      ]
     },
     "execution_count": 13,
     "metadata": {},
     "output_type": "execute_result"
    }
   ],
   "source": [
    "df['category'].unique()"
   ]
  },
  {
   "cell_type": "code",
   "execution_count": 14,
   "id": "9468dc00",
   "metadata": {},
   "outputs": [],
   "source": [
    "df = df[df['category'] == 'housing/rent/apartment']"
   ]
  },
  {
   "cell_type": "code",
   "execution_count": 15,
   "id": "2232d655",
   "metadata": {},
   "outputs": [
    {
     "data": {
      "text/plain": [
       "id               99678\n",
       "category         99678\n",
       "title            99678\n",
       "body             99678\n",
       "amenities        83613\n",
       "bathrooms        99613\n",
       "bedrooms         99551\n",
       "currency         99675\n",
       "fee              99675\n",
       "has_photo        99675\n",
       "pets_allowed     39149\n",
       "price            99674\n",
       "price_display    99674\n",
       "price_type       99675\n",
       "square_feet      99675\n",
       "address           7939\n",
       "cityname         99373\n",
       "state            99373\n",
       "latitude         99650\n",
       "longitude        99650\n",
       "source           99675\n",
       "time             99675\n",
       "dtype: int64"
      ]
     },
     "execution_count": 15,
     "metadata": {},
     "output_type": "execute_result"
    }
   ],
   "source": [
    "df.count()"
   ]
  },
  {
   "cell_type": "code",
   "execution_count": 16,
   "id": "e0f4c395",
   "metadata": {},
   "outputs": [
    {
     "data": {
      "text/plain": [
       "id                   0\n",
       "category             0\n",
       "title                0\n",
       "body                 0\n",
       "amenities        16065\n",
       "bathrooms           65\n",
       "bedrooms           127\n",
       "currency             3\n",
       "fee                  3\n",
       "has_photo            3\n",
       "pets_allowed     60529\n",
       "price                4\n",
       "price_display        4\n",
       "price_type           3\n",
       "square_feet          3\n",
       "address          91739\n",
       "cityname           305\n",
       "state              305\n",
       "latitude            28\n",
       "longitude           28\n",
       "source               3\n",
       "time                 3\n",
       "dtype: int64"
      ]
     },
     "execution_count": 16,
     "metadata": {},
     "output_type": "execute_result"
    }
   ],
   "source": [
    "df.isnull().sum()"
   ]
  },
  {
   "cell_type": "code",
   "execution_count": 17,
   "id": "064e3e88",
   "metadata": {},
   "outputs": [],
   "source": [
    "df = df.filter(items=['bathrooms','bedrooms', 'pets_allowed', 'price', 'price_type', 'square_feet', 'cityname'], axis=1)"
   ]
  },
  {
   "cell_type": "code",
   "execution_count": 18,
   "id": "ad82a0fa",
   "metadata": {},
   "outputs": [
    {
     "data": {
      "text/plain": [
       "bathrooms       99613\n",
       "bedrooms        99551\n",
       "pets_allowed    39149\n",
       "price           99674\n",
       "price_type      99675\n",
       "square_feet     99675\n",
       "cityname        99373\n",
       "dtype: int64"
      ]
     },
     "execution_count": 18,
     "metadata": {},
     "output_type": "execute_result"
    }
   ],
   "source": [
    "df.count()"
   ]
  },
  {
   "cell_type": "code",
   "execution_count": 19,
   "id": "732eab3c",
   "metadata": {},
   "outputs": [
    {
     "data": {
      "text/plain": [
       "bathrooms          65\n",
       "bedrooms          127\n",
       "pets_allowed    60529\n",
       "price               4\n",
       "price_type          3\n",
       "square_feet         3\n",
       "cityname          305\n",
       "dtype: int64"
      ]
     },
     "execution_count": 19,
     "metadata": {},
     "output_type": "execute_result"
    }
   ],
   "source": [
    "df.isnull().sum()"
   ]
  },
  {
   "cell_type": "code",
   "execution_count": 20,
   "id": "6dc4d3ac",
   "metadata": {},
   "outputs": [
    {
     "data": {
      "text/plain": [
       "bathrooms           0\n",
       "bedrooms            0\n",
       "pets_allowed    60216\n",
       "price               0\n",
       "price_type          0\n",
       "square_feet         0\n",
       "cityname            0\n",
       "dtype: int64"
      ]
     },
     "execution_count": 20,
     "metadata": {},
     "output_type": "execute_result"
    }
   ],
   "source": [
    "df = df.dropna(subset=['bathrooms', 'bedrooms','price', 'cityname'])\n",
    "df.isnull().sum()"
   ]
  },
  {
   "cell_type": "code",
   "execution_count": 21,
   "id": "c5449f3d",
   "metadata": {},
   "outputs": [],
   "source": [
    "#df['pets_allowed'] = df['pets_allowed'].fillna(value=None)\n",
    "#df['pets_allowed'] = df['pets_allowed'].apply(lambda x:None if pd.isnull(x) else x)"
   ]
  },
  {
   "cell_type": "code",
   "execution_count": 22,
   "id": "a5e325ba",
   "metadata": {},
   "outputs": [],
   "source": [
    "if df['pets_allowed'].isin(['Cats' or 'Dogs' or 'Cats,Dogs']).any():\n",
    "    df['pets_allowed'] = 1\n",
    "else: df['pets_allowed'] = 0"
   ]
  },
  {
   "cell_type": "code",
   "execution_count": 23,
   "id": "50614b92",
   "metadata": {},
   "outputs": [
    {
     "data": {
      "text/plain": [
       "bathrooms       0\n",
       "bedrooms        0\n",
       "pets_allowed    0\n",
       "price           0\n",
       "price_type      0\n",
       "square_feet     0\n",
       "cityname        0\n",
       "dtype: int64"
      ]
     },
     "execution_count": 23,
     "metadata": {},
     "output_type": "execute_result"
    }
   ],
   "source": [
    "df.isnull().sum()"
   ]
  },
  {
   "cell_type": "code",
   "execution_count": 24,
   "id": "48767164",
   "metadata": {},
   "outputs": [
    {
     "data": {
      "text/plain": [
       "price_type\n",
       "Monthly    99188\n",
       "Weekly         3\n",
       "Name: count, dtype: int64"
      ]
     },
     "execution_count": 24,
     "metadata": {},
     "output_type": "execute_result"
    }
   ],
   "source": [
    "df['price_type'].value_counts()"
   ]
  },
  {
   "cell_type": "code",
   "execution_count": 25,
   "id": "d3b45e87",
   "metadata": {},
   "outputs": [
    {
     "data": {
      "text/plain": [
       "price_type\n",
       "Monthly    99188\n",
       "Name: count, dtype: int64"
      ]
     },
     "execution_count": 25,
     "metadata": {},
     "output_type": "execute_result"
    }
   ],
   "source": [
    "df = df[df['price_type'] == 'Monthly']\n",
    "df['price_type'].value_counts()"
   ]
  },
  {
   "cell_type": "code",
   "execution_count": 26,
   "id": "4386acb5",
   "metadata": {},
   "outputs": [],
   "source": [
    "df = df.drop(['price_type'], axis=1)"
   ]
  },
  {
   "cell_type": "code",
   "execution_count": 27,
   "id": "6c6df723",
   "metadata": {},
   "outputs": [
    {
     "data": {
      "text/plain": [
       "array(['1', '1.5', '2', '2.5', '3', '3.5', '4', '7', '4.5', '5', '8',\n",
       "       '8.5', '6', '5.5', '9', '7.5'], dtype=object)"
      ]
     },
     "execution_count": 27,
     "metadata": {},
     "output_type": "execute_result"
    }
   ],
   "source": [
    "df['bathrooms'].unique()"
   ]
  },
  {
   "cell_type": "code",
   "execution_count": 28,
   "id": "8ee43bc8",
   "metadata": {},
   "outputs": [
    {
     "data": {
      "text/plain": [
       "array(['1', '3', '2', '4', '0', '5', '7', '8', '6', '9'], dtype=object)"
      ]
     },
     "execution_count": 28,
     "metadata": {},
     "output_type": "execute_result"
    }
   ],
   "source": [
    "df['bedrooms'].unique()"
   ]
  },
  {
   "cell_type": "code",
   "execution_count": 29,
   "id": "95c1269d",
   "metadata": {},
   "outputs": [
    {
     "name": "stdout",
     "output_type": "stream",
     "text": [
      "<class 'pandas.core.frame.DataFrame'>\n",
      "Index: 99188 entries, 0 to 99825\n",
      "Data columns (total 6 columns):\n",
      " #   Column        Non-Null Count  Dtype  \n",
      "---  ------        --------------  -----  \n",
      " 0   bathrooms     99188 non-null  object \n",
      " 1   bedrooms      99188 non-null  object \n",
      " 2   pets_allowed  99188 non-null  int64  \n",
      " 3   price         99188 non-null  float64\n",
      " 4   square_feet   99188 non-null  object \n",
      " 5   cityname      99188 non-null  object \n",
      "dtypes: float64(1), int64(1), object(4)\n",
      "memory usage: 5.3+ MB\n"
     ]
    }
   ],
   "source": [
    "df.info()"
   ]
  },
  {
   "cell_type": "code",
   "execution_count": 30,
   "id": "13d3d84e",
   "metadata": {},
   "outputs": [],
   "source": [
    "df['bathrooms'] = df['bathrooms'].astype(float)\n",
    "df['bedrooms'] = df['bedrooms'].astype(float)\n",
    "df['square_feet'] = df['square_feet'].astype(float)"
   ]
  },
  {
   "cell_type": "code",
   "execution_count": 31,
   "id": "80d5b98c",
   "metadata": {},
   "outputs": [
    {
     "name": "stdout",
     "output_type": "stream",
     "text": [
      "<class 'pandas.core.frame.DataFrame'>\n",
      "Index: 99188 entries, 0 to 99825\n",
      "Data columns (total 6 columns):\n",
      " #   Column        Non-Null Count  Dtype  \n",
      "---  ------        --------------  -----  \n",
      " 0   bathrooms     99188 non-null  float64\n",
      " 1   bedrooms      99188 non-null  float64\n",
      " 2   pets_allowed  99188 non-null  int64  \n",
      " 3   price         99188 non-null  float64\n",
      " 4   square_feet   99188 non-null  float64\n",
      " 5   cityname      99188 non-null  object \n",
      "dtypes: float64(4), int64(1), object(1)\n",
      "memory usage: 5.3+ MB\n"
     ]
    }
   ],
   "source": [
    "df.info()"
   ]
  },
  {
   "cell_type": "code",
   "execution_count": 32,
   "id": "422118d3",
   "metadata": {},
   "outputs": [
    {
     "data": {
      "text/plain": [
       "array([1. , 1.5, 2. , 2.5, 3. , 3.5, 4. , 7. , 4.5, 5. , 8. , 8.5, 6. ,\n",
       "       5.5, 9. , 7.5])"
      ]
     },
     "execution_count": 32,
     "metadata": {},
     "output_type": "execute_result"
    }
   ],
   "source": [
    "df['bathrooms'].unique()"
   ]
  },
  {
   "cell_type": "code",
   "execution_count": 33,
   "id": "e4c2af17",
   "metadata": {},
   "outputs": [
    {
     "data": {
      "text/plain": [
       "array([1., 3., 2., 4., 0., 5., 7., 8., 6., 9.])"
      ]
     },
     "execution_count": 33,
     "metadata": {},
     "output_type": "execute_result"
    }
   ],
   "source": [
    "df['bedrooms'].unique()"
   ]
  },
  {
   "cell_type": "code",
   "execution_count": 34,
   "id": "4a61e1fa",
   "metadata": {},
   "outputs": [
    {
     "data": {
      "text/html": [
       "<div>\n",
       "<style scoped>\n",
       "    .dataframe tbody tr th:only-of-type {\n",
       "        vertical-align: middle;\n",
       "    }\n",
       "\n",
       "    .dataframe tbody tr th {\n",
       "        vertical-align: top;\n",
       "    }\n",
       "\n",
       "    .dataframe thead th {\n",
       "        text-align: right;\n",
       "    }\n",
       "</style>\n",
       "<table border=\"1\" class=\"dataframe\">\n",
       "  <thead>\n",
       "    <tr style=\"text-align: right;\">\n",
       "      <th></th>\n",
       "      <th>bathrooms</th>\n",
       "      <th>bedrooms</th>\n",
       "      <th>pets_allowed</th>\n",
       "      <th>price</th>\n",
       "      <th>square_feet</th>\n",
       "      <th>cityname</th>\n",
       "    </tr>\n",
       "  </thead>\n",
       "  <tbody>\n",
       "    <tr>\n",
       "      <th>0</th>\n",
       "      <td>1.0</td>\n",
       "      <td>1.0</td>\n",
       "      <td>1</td>\n",
       "      <td>2195.0</td>\n",
       "      <td>542.0</td>\n",
       "      <td>Redondo Beach</td>\n",
       "    </tr>\n",
       "    <tr>\n",
       "      <th>1</th>\n",
       "      <td>1.5</td>\n",
       "      <td>3.0</td>\n",
       "      <td>1</td>\n",
       "      <td>1250.0</td>\n",
       "      <td>1500.0</td>\n",
       "      <td>Newport News</td>\n",
       "    </tr>\n",
       "    <tr>\n",
       "      <th>2</th>\n",
       "      <td>2.0</td>\n",
       "      <td>3.0</td>\n",
       "      <td>1</td>\n",
       "      <td>1395.0</td>\n",
       "      <td>1650.0</td>\n",
       "      <td>Raleigh</td>\n",
       "    </tr>\n",
       "    <tr>\n",
       "      <th>3</th>\n",
       "      <td>1.0</td>\n",
       "      <td>2.0</td>\n",
       "      <td>1</td>\n",
       "      <td>1600.0</td>\n",
       "      <td>820.0</td>\n",
       "      <td>Vacaville</td>\n",
       "    </tr>\n",
       "    <tr>\n",
       "      <th>4</th>\n",
       "      <td>1.0</td>\n",
       "      <td>1.0</td>\n",
       "      <td>1</td>\n",
       "      <td>975.0</td>\n",
       "      <td>624.0</td>\n",
       "      <td>Albuquerque</td>\n",
       "    </tr>\n",
       "  </tbody>\n",
       "</table>\n",
       "</div>"
      ],
      "text/plain": [
       "   bathrooms  bedrooms  pets_allowed   price  square_feet       cityname\n",
       "0        1.0       1.0             1  2195.0        542.0  Redondo Beach\n",
       "1        1.5       3.0             1  1250.0       1500.0   Newport News\n",
       "2        2.0       3.0             1  1395.0       1650.0        Raleigh\n",
       "3        1.0       2.0             1  1600.0        820.0      Vacaville\n",
       "4        1.0       1.0             1   975.0        624.0    Albuquerque"
      ]
     },
     "execution_count": 34,
     "metadata": {},
     "output_type": "execute_result"
    }
   ],
   "source": [
    "df.head()"
   ]
  },
  {
   "cell_type": "code",
   "execution_count": 35,
   "id": "60ce3380",
   "metadata": {},
   "outputs": [],
   "source": [
    "df_cuanti = df.drop(['cityname', 'pets_allowed'],axis=1)\n",
    "df_categ = df[['pets_allowed', 'cityname']]"
   ]
  },
  {
   "cell_type": "code",
   "execution_count": 36,
   "id": "478b4ec2",
   "metadata": {},
   "outputs": [
    {
     "data": {
      "text/html": [
       "<div>\n",
       "<style scoped>\n",
       "    .dataframe tbody tr th:only-of-type {\n",
       "        vertical-align: middle;\n",
       "    }\n",
       "\n",
       "    .dataframe tbody tr th {\n",
       "        vertical-align: top;\n",
       "    }\n",
       "\n",
       "    .dataframe thead th {\n",
       "        text-align: right;\n",
       "    }\n",
       "</style>\n",
       "<table border=\"1\" class=\"dataframe\">\n",
       "  <thead>\n",
       "    <tr style=\"text-align: right;\">\n",
       "      <th></th>\n",
       "      <th>bathrooms</th>\n",
       "      <th>bedrooms</th>\n",
       "      <th>price</th>\n",
       "      <th>square_feet</th>\n",
       "    </tr>\n",
       "  </thead>\n",
       "  <tbody>\n",
       "    <tr>\n",
       "      <th>bathrooms</th>\n",
       "      <td>1.000000</td>\n",
       "      <td>0.679971</td>\n",
       "      <td>0.330594</td>\n",
       "      <td>0.716414</td>\n",
       "    </tr>\n",
       "    <tr>\n",
       "      <th>bedrooms</th>\n",
       "      <td>0.679971</td>\n",
       "      <td>1.000000</td>\n",
       "      <td>0.237600</td>\n",
       "      <td>0.701188</td>\n",
       "    </tr>\n",
       "    <tr>\n",
       "      <th>price</th>\n",
       "      <td>0.330594</td>\n",
       "      <td>0.237600</td>\n",
       "      <td>1.000000</td>\n",
       "      <td>0.413263</td>\n",
       "    </tr>\n",
       "    <tr>\n",
       "      <th>square_feet</th>\n",
       "      <td>0.716414</td>\n",
       "      <td>0.701188</td>\n",
       "      <td>0.413263</td>\n",
       "      <td>1.000000</td>\n",
       "    </tr>\n",
       "  </tbody>\n",
       "</table>\n",
       "</div>"
      ],
      "text/plain": [
       "             bathrooms  bedrooms     price  square_feet\n",
       "bathrooms     1.000000  0.679971  0.330594     0.716414\n",
       "bedrooms      0.679971  1.000000  0.237600     0.701188\n",
       "price         0.330594  0.237600  1.000000     0.413263\n",
       "square_feet   0.716414  0.701188  0.413263     1.000000"
      ]
     },
     "execution_count": 36,
     "metadata": {},
     "output_type": "execute_result"
    }
   ],
   "source": [
    "df_cuanti.corr()"
   ]
  },
  {
   "cell_type": "code",
   "execution_count": 37,
   "id": "cc01f23c",
   "metadata": {},
   "outputs": [
    {
     "data": {
      "text/html": [
       "<div>\n",
       "<style scoped>\n",
       "    .dataframe tbody tr th:only-of-type {\n",
       "        vertical-align: middle;\n",
       "    }\n",
       "\n",
       "    .dataframe tbody tr th {\n",
       "        vertical-align: top;\n",
       "    }\n",
       "\n",
       "    .dataframe thead th {\n",
       "        text-align: right;\n",
       "    }\n",
       "</style>\n",
       "<table border=\"1\" class=\"dataframe\">\n",
       "  <thead>\n",
       "    <tr style=\"text-align: right;\">\n",
       "      <th></th>\n",
       "      <th>bathrooms</th>\n",
       "      <th>bedrooms</th>\n",
       "      <th>price</th>\n",
       "      <th>square_feet</th>\n",
       "    </tr>\n",
       "  </thead>\n",
       "  <tbody>\n",
       "    <tr>\n",
       "      <th>0</th>\n",
       "      <td>-0.815010</td>\n",
       "      <td>-0.973238</td>\n",
       "      <td>0.745063</td>\n",
       "      <td>-1.133772</td>\n",
       "    </tr>\n",
       "    <tr>\n",
       "      <th>1</th>\n",
       "      <td>0.099057</td>\n",
       "      <td>1.699008</td>\n",
       "      <td>-0.306837</td>\n",
       "      <td>1.489969</td>\n",
       "    </tr>\n",
       "    <tr>\n",
       "      <th>2</th>\n",
       "      <td>1.013125</td>\n",
       "      <td>1.699008</td>\n",
       "      <td>-0.145435</td>\n",
       "      <td>1.900785</td>\n",
       "    </tr>\n",
       "    <tr>\n",
       "      <th>3</th>\n",
       "      <td>-0.815010</td>\n",
       "      <td>0.362885</td>\n",
       "      <td>0.082755</td>\n",
       "      <td>-0.372394</td>\n",
       "    </tr>\n",
       "    <tr>\n",
       "      <th>4</th>\n",
       "      <td>-0.815010</td>\n",
       "      <td>-0.973238</td>\n",
       "      <td>-0.612946</td>\n",
       "      <td>-0.909193</td>\n",
       "    </tr>\n",
       "  </tbody>\n",
       "</table>\n",
       "</div>"
      ],
      "text/plain": [
       "   bathrooms  bedrooms     price  square_feet\n",
       "0  -0.815010 -0.973238  0.745063    -1.133772\n",
       "1   0.099057  1.699008 -0.306837     1.489969\n",
       "2   1.013125  1.699008 -0.145435     1.900785\n",
       "3  -0.815010  0.362885  0.082755    -0.372394\n",
       "4  -0.815010 -0.973238 -0.612946    -0.909193"
      ]
     },
     "execution_count": 37,
     "metadata": {},
     "output_type": "execute_result"
    }
   ],
   "source": [
    "stand_fn = preprocessing.StandardScaler() #Tambien se puede usar el minmaxscaler\n",
    "scaled_df = pd.DataFrame(stand_fn.fit_transform(df_cuanti), columns = df_cuanti.columns)\n",
    "scaled_df.head(5)"
   ]
  },
  {
   "cell_type": "code",
   "execution_count": 38,
   "id": "bd1a83dc",
   "metadata": {},
   "outputs": [
    {
     "data": {
      "text/html": [
       "<div>\n",
       "<style scoped>\n",
       "    .dataframe tbody tr th:only-of-type {\n",
       "        vertical-align: middle;\n",
       "    }\n",
       "\n",
       "    .dataframe tbody tr th {\n",
       "        vertical-align: top;\n",
       "    }\n",
       "\n",
       "    .dataframe thead th {\n",
       "        text-align: right;\n",
       "    }\n",
       "</style>\n",
       "<table border=\"1\" class=\"dataframe\">\n",
       "  <thead>\n",
       "    <tr style=\"text-align: right;\">\n",
       "      <th></th>\n",
       "      <th>bathrooms</th>\n",
       "      <th>bedrooms</th>\n",
       "      <th>price</th>\n",
       "      <th>square_feet</th>\n",
       "      <th>pets_allowed</th>\n",
       "      <th>cityname</th>\n",
       "    </tr>\n",
       "  </thead>\n",
       "  <tbody>\n",
       "    <tr>\n",
       "      <th>0</th>\n",
       "      <td>-0.815010</td>\n",
       "      <td>-0.973238</td>\n",
       "      <td>0.745063</td>\n",
       "      <td>-1.133772</td>\n",
       "      <td>1.0</td>\n",
       "      <td>Redondo Beach</td>\n",
       "    </tr>\n",
       "    <tr>\n",
       "      <th>1</th>\n",
       "      <td>0.099057</td>\n",
       "      <td>1.699008</td>\n",
       "      <td>-0.306837</td>\n",
       "      <td>1.489969</td>\n",
       "      <td>1.0</td>\n",
       "      <td>Newport News</td>\n",
       "    </tr>\n",
       "    <tr>\n",
       "      <th>2</th>\n",
       "      <td>1.013125</td>\n",
       "      <td>1.699008</td>\n",
       "      <td>-0.145435</td>\n",
       "      <td>1.900785</td>\n",
       "      <td>1.0</td>\n",
       "      <td>Raleigh</td>\n",
       "    </tr>\n",
       "    <tr>\n",
       "      <th>3</th>\n",
       "      <td>-0.815010</td>\n",
       "      <td>0.362885</td>\n",
       "      <td>0.082755</td>\n",
       "      <td>-0.372394</td>\n",
       "      <td>1.0</td>\n",
       "      <td>Vacaville</td>\n",
       "    </tr>\n",
       "    <tr>\n",
       "      <th>4</th>\n",
       "      <td>-0.815010</td>\n",
       "      <td>-0.973238</td>\n",
       "      <td>-0.612946</td>\n",
       "      <td>-0.909193</td>\n",
       "      <td>1.0</td>\n",
       "      <td>Albuquerque</td>\n",
       "    </tr>\n",
       "  </tbody>\n",
       "</table>\n",
       "</div>"
      ],
      "text/plain": [
       "   bathrooms  bedrooms     price  square_feet  pets_allowed       cityname\n",
       "0  -0.815010 -0.973238  0.745063    -1.133772           1.0  Redondo Beach\n",
       "1   0.099057  1.699008 -0.306837     1.489969           1.0   Newport News\n",
       "2   1.013125  1.699008 -0.145435     1.900785           1.0        Raleigh\n",
       "3  -0.815010  0.362885  0.082755    -0.372394           1.0      Vacaville\n",
       "4  -0.815010 -0.973238 -0.612946    -0.909193           1.0    Albuquerque"
      ]
     },
     "execution_count": 38,
     "metadata": {},
     "output_type": "execute_result"
    }
   ],
   "source": [
    "df_ajustado = pd.concat([scaled_df,df_categ], axis=1)\n",
    "df_ajustado.head()"
   ]
  },
  {
   "cell_type": "code",
   "execution_count": 39,
   "id": "462b8fa8",
   "metadata": {},
   "outputs": [
    {
     "data": {
      "text/plain": [
       "bathrooms       637\n",
       "bedrooms        637\n",
       "price           637\n",
       "square_feet     637\n",
       "pets_allowed    637\n",
       "cityname        637\n",
       "dtype: int64"
      ]
     },
     "execution_count": 39,
     "metadata": {},
     "output_type": "execute_result"
    }
   ],
   "source": [
    "df_ajustado.isnull().sum()"
   ]
  },
  {
   "cell_type": "code",
   "execution_count": 40,
   "id": "1c0005aa",
   "metadata": {},
   "outputs": [
    {
     "data": {
      "text/html": [
       "<div>\n",
       "<style scoped>\n",
       "    .dataframe tbody tr th:only-of-type {\n",
       "        vertical-align: middle;\n",
       "    }\n",
       "\n",
       "    .dataframe tbody tr th {\n",
       "        vertical-align: top;\n",
       "    }\n",
       "\n",
       "    .dataframe thead th {\n",
       "        text-align: right;\n",
       "    }\n",
       "</style>\n",
       "<table border=\"1\" class=\"dataframe\">\n",
       "  <thead>\n",
       "    <tr style=\"text-align: right;\">\n",
       "      <th></th>\n",
       "      <th>bathrooms</th>\n",
       "      <th>bedrooms</th>\n",
       "      <th>price</th>\n",
       "      <th>square_feet</th>\n",
       "      <th>pets_allowed</th>\n",
       "      <th>cityname</th>\n",
       "    </tr>\n",
       "  </thead>\n",
       "  <tbody>\n",
       "    <tr>\n",
       "      <th>790</th>\n",
       "      <td>2.841261</td>\n",
       "      <td>1.699008</td>\n",
       "      <td>8.876416</td>\n",
       "      <td>3.763148</td>\n",
       "      <td>NaN</td>\n",
       "      <td>NaN</td>\n",
       "    </tr>\n",
       "    <tr>\n",
       "      <th>930</th>\n",
       "      <td>-0.815010</td>\n",
       "      <td>-0.973238</td>\n",
       "      <td>-0.813308</td>\n",
       "      <td>-0.701046</td>\n",
       "      <td>NaN</td>\n",
       "      <td>NaN</td>\n",
       "    </tr>\n",
       "    <tr>\n",
       "      <th>1109</th>\n",
       "      <td>1.013125</td>\n",
       "      <td>0.362885</td>\n",
       "      <td>1.808094</td>\n",
       "      <td>0.942215</td>\n",
       "      <td>NaN</td>\n",
       "      <td>NaN</td>\n",
       "    </tr>\n",
       "    <tr>\n",
       "      <th>1364</th>\n",
       "      <td>-0.815010</td>\n",
       "      <td>-0.973238</td>\n",
       "      <td>-0.279009</td>\n",
       "      <td>-0.216284</td>\n",
       "      <td>NaN</td>\n",
       "      <td>NaN</td>\n",
       "    </tr>\n",
       "    <tr>\n",
       "      <th>1613</th>\n",
       "      <td>-0.815010</td>\n",
       "      <td>-0.973238</td>\n",
       "      <td>-0.306837</td>\n",
       "      <td>-0.323096</td>\n",
       "      <td>NaN</td>\n",
       "      <td>NaN</td>\n",
       "    </tr>\n",
       "    <tr>\n",
       "      <th>...</th>\n",
       "      <td>...</td>\n",
       "      <td>...</td>\n",
       "      <td>...</td>\n",
       "      <td>...</td>\n",
       "      <td>...</td>\n",
       "      <td>...</td>\n",
       "    </tr>\n",
       "    <tr>\n",
       "      <th>99821</th>\n",
       "      <td>NaN</td>\n",
       "      <td>NaN</td>\n",
       "      <td>NaN</td>\n",
       "      <td>NaN</td>\n",
       "      <td>1.0</td>\n",
       "      <td>Houston</td>\n",
       "    </tr>\n",
       "    <tr>\n",
       "      <th>99822</th>\n",
       "      <td>NaN</td>\n",
       "      <td>NaN</td>\n",
       "      <td>NaN</td>\n",
       "      <td>NaN</td>\n",
       "      <td>1.0</td>\n",
       "      <td>Jacksonville</td>\n",
       "    </tr>\n",
       "    <tr>\n",
       "      <th>99823</th>\n",
       "      <td>NaN</td>\n",
       "      <td>NaN</td>\n",
       "      <td>NaN</td>\n",
       "      <td>NaN</td>\n",
       "      <td>1.0</td>\n",
       "      <td>San Diego</td>\n",
       "    </tr>\n",
       "    <tr>\n",
       "      <th>99824</th>\n",
       "      <td>NaN</td>\n",
       "      <td>NaN</td>\n",
       "      <td>NaN</td>\n",
       "      <td>NaN</td>\n",
       "      <td>1.0</td>\n",
       "      <td>Huntersville</td>\n",
       "    </tr>\n",
       "    <tr>\n",
       "      <th>99825</th>\n",
       "      <td>NaN</td>\n",
       "      <td>NaN</td>\n",
       "      <td>NaN</td>\n",
       "      <td>NaN</td>\n",
       "      <td>1.0</td>\n",
       "      <td>San Diego</td>\n",
       "    </tr>\n",
       "  </tbody>\n",
       "</table>\n",
       "<p>1274 rows × 6 columns</p>\n",
       "</div>"
      ],
      "text/plain": [
       "       bathrooms  bedrooms     price  square_feet  pets_allowed      cityname\n",
       "790     2.841261  1.699008  8.876416     3.763148           NaN           NaN\n",
       "930    -0.815010 -0.973238 -0.813308    -0.701046           NaN           NaN\n",
       "1109    1.013125  0.362885  1.808094     0.942215           NaN           NaN\n",
       "1364   -0.815010 -0.973238 -0.279009    -0.216284           NaN           NaN\n",
       "1613   -0.815010 -0.973238 -0.306837    -0.323096           NaN           NaN\n",
       "...          ...       ...       ...          ...           ...           ...\n",
       "99821        NaN       NaN       NaN          NaN           1.0       Houston\n",
       "99822        NaN       NaN       NaN          NaN           1.0  Jacksonville\n",
       "99823        NaN       NaN       NaN          NaN           1.0     San Diego\n",
       "99824        NaN       NaN       NaN          NaN           1.0  Huntersville\n",
       "99825        NaN       NaN       NaN          NaN           1.0     San Diego\n",
       "\n",
       "[1274 rows x 6 columns]"
      ]
     },
     "execution_count": 40,
     "metadata": {},
     "output_type": "execute_result"
    }
   ],
   "source": [
    "filas_con_nulos = df_ajustado[df_ajustado.isnull().any(axis=1)]\n",
    "filas_con_nulos"
   ]
  },
  {
   "cell_type": "code",
   "execution_count": 41,
   "id": "a18f6112",
   "metadata": {},
   "outputs": [
    {
     "data": {
      "text/html": [
       "<div>\n",
       "<style scoped>\n",
       "    .dataframe tbody tr th:only-of-type {\n",
       "        vertical-align: middle;\n",
       "    }\n",
       "\n",
       "    .dataframe tbody tr th {\n",
       "        vertical-align: top;\n",
       "    }\n",
       "\n",
       "    .dataframe thead th {\n",
       "        text-align: right;\n",
       "    }\n",
       "</style>\n",
       "<table border=\"1\" class=\"dataframe\">\n",
       "  <thead>\n",
       "    <tr style=\"text-align: right;\">\n",
       "      <th></th>\n",
       "      <th>bathrooms</th>\n",
       "      <th>bedrooms</th>\n",
       "      <th>price</th>\n",
       "      <th>square_feet</th>\n",
       "      <th>pets_allowed</th>\n",
       "      <th>cityname</th>\n",
       "    </tr>\n",
       "  </thead>\n",
       "  <tbody>\n",
       "    <tr>\n",
       "      <th>0</th>\n",
       "      <td>-0.815010</td>\n",
       "      <td>-0.973238</td>\n",
       "      <td>0.745063</td>\n",
       "      <td>-1.133772</td>\n",
       "      <td>1.0</td>\n",
       "      <td>Redondo Beach</td>\n",
       "    </tr>\n",
       "    <tr>\n",
       "      <th>1</th>\n",
       "      <td>0.099057</td>\n",
       "      <td>1.699008</td>\n",
       "      <td>-0.306837</td>\n",
       "      <td>1.489969</td>\n",
       "      <td>1.0</td>\n",
       "      <td>Newport News</td>\n",
       "    </tr>\n",
       "    <tr>\n",
       "      <th>2</th>\n",
       "      <td>1.013125</td>\n",
       "      <td>1.699008</td>\n",
       "      <td>-0.145435</td>\n",
       "      <td>1.900785</td>\n",
       "      <td>1.0</td>\n",
       "      <td>Raleigh</td>\n",
       "    </tr>\n",
       "    <tr>\n",
       "      <th>3</th>\n",
       "      <td>-0.815010</td>\n",
       "      <td>0.362885</td>\n",
       "      <td>0.082755</td>\n",
       "      <td>-0.372394</td>\n",
       "      <td>1.0</td>\n",
       "      <td>Vacaville</td>\n",
       "    </tr>\n",
       "    <tr>\n",
       "      <th>4</th>\n",
       "      <td>-0.815010</td>\n",
       "      <td>-0.973238</td>\n",
       "      <td>-0.612946</td>\n",
       "      <td>-0.909193</td>\n",
       "      <td>1.0</td>\n",
       "      <td>Albuquerque</td>\n",
       "    </tr>\n",
       "  </tbody>\n",
       "</table>\n",
       "</div>"
      ],
      "text/plain": [
       "   bathrooms  bedrooms     price  square_feet  pets_allowed       cityname\n",
       "0  -0.815010 -0.973238  0.745063    -1.133772           1.0  Redondo Beach\n",
       "1   0.099057  1.699008 -0.306837     1.489969           1.0   Newport News\n",
       "2   1.013125  1.699008 -0.145435     1.900785           1.0        Raleigh\n",
       "3  -0.815010  0.362885  0.082755    -0.372394           1.0      Vacaville\n",
       "4  -0.815010 -0.973238 -0.612946    -0.909193           1.0    Albuquerque"
      ]
     },
     "execution_count": 41,
     "metadata": {},
     "output_type": "execute_result"
    }
   ],
   "source": [
    "df_ajustado_2 = scaled_df.join(df_categ)\n",
    "df_ajustado_2.head()"
   ]
  },
  {
   "cell_type": "code",
   "execution_count": 42,
   "id": "2743c70d",
   "metadata": {},
   "outputs": [
    {
     "data": {
      "text/plain": [
       "bathrooms         0\n",
       "bedrooms          0\n",
       "price             0\n",
       "square_feet       0\n",
       "pets_allowed    637\n",
       "cityname        637\n",
       "dtype: int64"
      ]
     },
     "execution_count": 42,
     "metadata": {},
     "output_type": "execute_result"
    }
   ],
   "source": [
    "df_ajustado_2.isnull().sum()"
   ]
  },
  {
   "cell_type": "code",
   "execution_count": 43,
   "id": "e38ce79d",
   "metadata": {},
   "outputs": [
    {
     "data": {
      "text/html": [
       "<div>\n",
       "<style scoped>\n",
       "    .dataframe tbody tr th:only-of-type {\n",
       "        vertical-align: middle;\n",
       "    }\n",
       "\n",
       "    .dataframe tbody tr th {\n",
       "        vertical-align: top;\n",
       "    }\n",
       "\n",
       "    .dataframe thead th {\n",
       "        text-align: right;\n",
       "    }\n",
       "</style>\n",
       "<table border=\"1\" class=\"dataframe\">\n",
       "  <thead>\n",
       "    <tr style=\"text-align: right;\">\n",
       "      <th></th>\n",
       "      <th>bathrooms</th>\n",
       "      <th>bedrooms</th>\n",
       "      <th>price</th>\n",
       "      <th>square_feet</th>\n",
       "      <th>pets_allowed</th>\n",
       "      <th>cityname</th>\n",
       "    </tr>\n",
       "  </thead>\n",
       "  <tbody>\n",
       "    <tr>\n",
       "      <th>790</th>\n",
       "      <td>2.841261</td>\n",
       "      <td>1.699008</td>\n",
       "      <td>8.876416</td>\n",
       "      <td>3.763148</td>\n",
       "      <td>NaN</td>\n",
       "      <td>NaN</td>\n",
       "    </tr>\n",
       "    <tr>\n",
       "      <th>930</th>\n",
       "      <td>-0.815010</td>\n",
       "      <td>-0.973238</td>\n",
       "      <td>-0.813308</td>\n",
       "      <td>-0.701046</td>\n",
       "      <td>NaN</td>\n",
       "      <td>NaN</td>\n",
       "    </tr>\n",
       "    <tr>\n",
       "      <th>1109</th>\n",
       "      <td>1.013125</td>\n",
       "      <td>0.362885</td>\n",
       "      <td>1.808094</td>\n",
       "      <td>0.942215</td>\n",
       "      <td>NaN</td>\n",
       "      <td>NaN</td>\n",
       "    </tr>\n",
       "    <tr>\n",
       "      <th>1364</th>\n",
       "      <td>-0.815010</td>\n",
       "      <td>-0.973238</td>\n",
       "      <td>-0.279009</td>\n",
       "      <td>-0.216284</td>\n",
       "      <td>NaN</td>\n",
       "      <td>NaN</td>\n",
       "    </tr>\n",
       "    <tr>\n",
       "      <th>1613</th>\n",
       "      <td>-0.815010</td>\n",
       "      <td>-0.973238</td>\n",
       "      <td>-0.306837</td>\n",
       "      <td>-0.323096</td>\n",
       "      <td>NaN</td>\n",
       "      <td>NaN</td>\n",
       "    </tr>\n",
       "    <tr>\n",
       "      <th>...</th>\n",
       "      <td>...</td>\n",
       "      <td>...</td>\n",
       "      <td>...</td>\n",
       "      <td>...</td>\n",
       "      <td>...</td>\n",
       "      <td>...</td>\n",
       "    </tr>\n",
       "    <tr>\n",
       "      <th>93681</th>\n",
       "      <td>1.013125</td>\n",
       "      <td>0.362885</td>\n",
       "      <td>-0.368059</td>\n",
       "      <td>0.514967</td>\n",
       "      <td>NaN</td>\n",
       "      <td>NaN</td>\n",
       "    </tr>\n",
       "    <tr>\n",
       "      <th>97166</th>\n",
       "      <td>1.013125</td>\n",
       "      <td>0.362885</td>\n",
       "      <td>-0.562855</td>\n",
       "      <td>-0.125905</td>\n",
       "      <td>NaN</td>\n",
       "      <td>NaN</td>\n",
       "    </tr>\n",
       "    <tr>\n",
       "      <th>97185</th>\n",
       "      <td>1.013125</td>\n",
       "      <td>1.699008</td>\n",
       "      <td>0.861940</td>\n",
       "      <td>0.668338</td>\n",
       "      <td>NaN</td>\n",
       "      <td>NaN</td>\n",
       "    </tr>\n",
       "    <tr>\n",
       "      <th>98277</th>\n",
       "      <td>-0.815010</td>\n",
       "      <td>-0.973238</td>\n",
       "      <td>-1.121642</td>\n",
       "      <td>-0.805120</td>\n",
       "      <td>NaN</td>\n",
       "      <td>NaN</td>\n",
       "    </tr>\n",
       "    <tr>\n",
       "      <th>99037</th>\n",
       "      <td>-0.815010</td>\n",
       "      <td>-0.973238</td>\n",
       "      <td>-0.752086</td>\n",
       "      <td>-1.226890</td>\n",
       "      <td>NaN</td>\n",
       "      <td>NaN</td>\n",
       "    </tr>\n",
       "  </tbody>\n",
       "</table>\n",
       "<p>637 rows × 6 columns</p>\n",
       "</div>"
      ],
      "text/plain": [
       "       bathrooms  bedrooms     price  square_feet  pets_allowed cityname\n",
       "790     2.841261  1.699008  8.876416     3.763148           NaN      NaN\n",
       "930    -0.815010 -0.973238 -0.813308    -0.701046           NaN      NaN\n",
       "1109    1.013125  0.362885  1.808094     0.942215           NaN      NaN\n",
       "1364   -0.815010 -0.973238 -0.279009    -0.216284           NaN      NaN\n",
       "1613   -0.815010 -0.973238 -0.306837    -0.323096           NaN      NaN\n",
       "...          ...       ...       ...          ...           ...      ...\n",
       "93681   1.013125  0.362885 -0.368059     0.514967           NaN      NaN\n",
       "97166   1.013125  0.362885 -0.562855    -0.125905           NaN      NaN\n",
       "97185   1.013125  1.699008  0.861940     0.668338           NaN      NaN\n",
       "98277  -0.815010 -0.973238 -1.121642    -0.805120           NaN      NaN\n",
       "99037  -0.815010 -0.973238 -0.752086    -1.226890           NaN      NaN\n",
       "\n",
       "[637 rows x 6 columns]"
      ]
     },
     "execution_count": 43,
     "metadata": {},
     "output_type": "execute_result"
    }
   ],
   "source": [
    "filas_con_nulos_2 = df_ajustado_2[df_ajustado_2.isnull().any(axis=1)]\n",
    "filas_con_nulos_2"
   ]
  },
  {
   "cell_type": "code",
   "execution_count": 44,
   "id": "3518cc43",
   "metadata": {},
   "outputs": [
    {
     "data": {
      "text/plain": [
       "bathrooms       0\n",
       "bedrooms        0\n",
       "price           0\n",
       "square_feet     0\n",
       "pets_allowed    0\n",
       "cityname        0\n",
       "dtype: int64"
      ]
     },
     "execution_count": 44,
     "metadata": {},
     "output_type": "execute_result"
    }
   ],
   "source": [
    "#Es sólo para seguir avanzando\n",
    "df_ajustado = df_ajustado.dropna()\n",
    "df_ajustado.isnull().sum()"
   ]
  },
  {
   "cell_type": "code",
   "execution_count": null,
   "id": "f072041d",
   "metadata": {},
   "outputs": [],
   "source": [
    "distortions = []\n",
    "K = range(1,16)\n",
    "for k in K:\n",
    "    KPrototypesModel = KPrototypes(n_clusters=k)\n",
    "    KPrototypesModel.fit(df_ajustado, categorical = [4,5])\n",
    "    distortions.append(KPrototypesModel.cost_)"
   ]
  },
  {
   "cell_type": "code",
   "execution_count": null,
   "id": "88acbfd0",
   "metadata": {},
   "outputs": [],
   "source": [
    "plt.figure(figsize=(16,8))\n",
    "plt.plot(K, distortions, 'bx-')\n",
    "plt.xlabel('k')\n",
    "plt.ylabel('WSS Error')\n",
    "plt.title('The Elbow Method showing the optimal k')\n",
    "plt.show()"
   ]
  },
  {
   "cell_type": "code",
   "execution_count": null,
   "id": "527edd52",
   "metadata": {},
   "outputs": [],
   "source": [
    "kprototype_model = KPrototypes(n_clusters = 3,random_state=2023)\n",
    "kprototype_model.fit(df_ajustado, categorical = [4,5])"
   ]
  },
  {
   "cell_type": "code",
   "execution_count": null,
   "id": "2d4078fe",
   "metadata": {},
   "outputs": [],
   "source": [
    "cluster_labels = kprototype_model.predict(df_ajustado, categorical = [4,5])\n",
    "cluster_labels"
   ]
  },
  {
   "cell_type": "code",
   "execution_count": null,
   "id": "5ceb56e0",
   "metadata": {},
   "outputs": [],
   "source": [
    "df['cluster'] = cluster_labels\n",
    "df.head()"
   ]
  },
  {
   "cell_type": "code",
   "execution_count": null,
   "id": "a550a51d",
   "metadata": {},
   "outputs": [],
   "source": [
    "pd.DataFrame(kprototype_model.cluster_centroids_,columns = df_ajustado.columns)"
   ]
  },
  {
   "cell_type": "code",
   "execution_count": null,
   "id": "fd92f663",
   "metadata": {},
   "outputs": [],
   "source": [
    "centers_kmeans = df.groupby(['cluster']).aggregate('mean').reset_index()\n",
    "centers_kmeans"
   ]
  }
 ],
 "metadata": {
  "kernelspec": {
   "display_name": "ML2",
   "language": "python",
   "name": "python3"
  },
  "language_info": {
   "codemirror_mode": {
    "name": "ipython",
    "version": 3
   },
   "file_extension": ".py",
   "mimetype": "text/x-python",
   "name": "python",
   "nbconvert_exporter": "python",
   "pygments_lexer": "ipython3",
   "version": "3.12.2"
  }
 },
 "nbformat": 4,
 "nbformat_minor": 5
}
